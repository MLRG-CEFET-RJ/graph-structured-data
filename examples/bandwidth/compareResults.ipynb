{
 "cells": [
  {
   "cell_type": "code",
   "execution_count": 36,
   "metadata": {},
   "outputs": [],
   "source": [
    "import torch\n",
    "import torch.nn as nn\n",
    "import pickle\n",
    "from torch.utils.data import DataLoader\n",
    "import networkx as nx\n",
    "import numpy as np\n",
    "from networkx.utils import reverse_cuthill_mckee_ordering\n",
    "import pandas as pd"
   ]
  },
  {
   "cell_type": "code",
   "execution_count": 37,
   "metadata": {},
   "outputs": [],
   "source": [
    "# NUMBER_NODES = 10\n",
    "# NUMBER_NODES = 9\n",
    "NUMBER_NODES = 7\n",
    "\n",
    "device = \"cuda\" if torch.cuda.is_available() else \"cpu\""
   ]
  },
  {
   "cell_type": "code",
   "execution_count": null,
   "metadata": {},
   "outputs": [],
   "source": []
  },
  {
   "cell_type": "code",
   "execution_count": 38,
   "metadata": {},
   "outputs": [],
   "source": [
    "class DNN(nn.Module):\n",
    "    def __init__(self):\n",
    "        super(NeuralNetwork, self).__init__()\n",
    "        self.fc1 = nn.Linear(NUMBER_NODES * NUMBER_NODES, 200)\n",
    "        self.fc2 = nn.Linear(200, NUMBER_NODES)\n",
    "\n",
    "    def forward(self, x):\n",
    "        x = torch.relu(self.fc1(x))\n",
    "        x = self.fc2(x)\n",
    "        return x"
   ]
  },
  {
   "cell_type": "code",
   "execution_count": 39,
   "metadata": {},
   "outputs": [],
   "source": [
    "# model = NeuralNetwork().to(device)\n",
    "# model.load_state_dict(torch.load(\"model.pth\"))"
   ]
  },
  {
   "cell_type": "code",
   "execution_count": 40,
   "metadata": {},
   "outputs": [],
   "source": [
    "with open('test_data.pickle', 'rb') as f:\n",
    "    test_data = pickle.load(f)\n",
    "test_dataloader = DataLoader(test_data, batch_size=16, shuffle=True)"
   ]
  },
  {
   "cell_type": "code",
   "execution_count": 41,
   "metadata": {},
   "outputs": [],
   "source": [
    "def getBandWidth(G):\n",
    "    L = nx.laplacian_matrix(G) # Laplacian Matrix L = Degree matrix - Adjacency matrix\n",
    "    x, y = np.nonzero(L)\n",
    "    if not G.edges:\n",
    "        return 0\n",
    "    return (x-y).max()\n",
    "\n",
    "def getCuthillMckeeBand(Graph):\n",
    "    Graph = nx.Graph(Graph)\n",
    "    rcm = list(reverse_cuthill_mckee_ordering(Graph))\n",
    "    L = nx.laplacian_matrix(Graph, nodelist=rcm)\n",
    "    x, y = np.nonzero(L)\n",
    "    return (x-y).max()\n",
    "\n",
    "def get_bandwidth_nn_output(Graph, nodelist):\n",
    "    print(nodelist)\n",
    "    Graph = nx.Graph(Graph)\n",
    "    L = nx.laplacian_matrix(Graph, nodelist=nodelist)\n",
    "    x, y = np.nonzero(L)\n",
    "    return (x-y).max()\n",
    "\n",
    "def getGraph(upperTriangleAdjMatrix):\n",
    "    dense_adj = np.zeros((NUMBER_NODES, NUMBER_NODES))\n",
    "    dense_adj = np.zeros((NUMBER_NODES, NUMBER_NODES))\n",
    "    k = 0\n",
    "    for i in range(NUMBER_NODES):\n",
    "        for j in range(NUMBER_NODES):\n",
    "            if i == j:\n",
    "                continue\n",
    "            elif i < j:\n",
    "                dense_adj[i][j] = upperTriangleAdjMatrix[k]\n",
    "                k += 1\n",
    "            else:\n",
    "                dense_adj[i][j] = dense_adj[j][i]\n",
    "    return dense_adj\n"
   ]
  },
  {
   "cell_type": "code",
   "execution_count": 42,
   "metadata": {},
   "outputs": [
    {
     "name": "stdout",
     "output_type": "stream",
     "text": [
      "FELIPE\n",
      "[[0. 0. 0. 0. 1. 0. 1.]\n",
      " [0. 0. 0. 1. 0. 0. 0.]\n",
      " [0. 0. 0. 1. 1. 1. 1.]\n",
      " [0. 1. 1. 0. 0. 0. 1.]\n",
      " [1. 0. 1. 0. 0. 1. 1.]\n",
      " [0. 0. 1. 0. 1. 0. 1.]\n",
      " [1. 0. 1. 1. 1. 1. 0.]]\n"
     ]
    }
   ],
   "source": [
    "df_compare = pd.DataFrame([], columns=['NN_Output', 'Optimal_band', 'Cuthill_Mckee_band'])\n",
    "\n",
    "# i = 0\n",
    "for batch in test_dataloader:\n",
    "  # if i <= 4:\n",
    "  #   i += 1\n",
    "  #   continue\n",
    "  for x, y in zip(batch[0], batch[1]):\n",
    "    Graph = getGraph(x)\n",
    "\n",
    "    print(\"FELIPE\")\n",
    "    print(Graph)\n",
    "\n",
    "    # x, y = x.to(device), y\n",
    "    # pred = model(x)\n",
    "    # np_true = y.numpy()\n",
    "    # np_pred = pred.cpu().detach().numpy()\n",
    "    # # print(\"==================\")\n",
    "    # # print(\"True\")\n",
    "    # # print(np_true)\n",
    "    # # print(\"Predicted\")\n",
    "    # # print(np_pred)\n",
    "    # np_pred_rounded = []\n",
    "    # for i in np_pred:\n",
    "    #   round = np.round(i)\n",
    "    #   if round not in np_pred_rounded:\n",
    "    #     np_pred_rounded.append(round)\n",
    "    #   else:\n",
    "    #     floor = np.floor(i)\n",
    "    #     if floor not in np_pred_rounded:\n",
    "    #       np_pred_rounded.append(floor)\n",
    "    #     else:\n",
    "    #       ceil = np.ceil(i)\n",
    "    #       np_pred_rounded.append(ceil)\n",
    "    # print(\"==================\")\n",
    "    # print(\"True\")\n",
    "    # print(np_true)\n",
    "    # print(\"Predicted\")\n",
    "    # print(np_pred_rounded)\n",
    "    break\n",
    "  break\n",
    "    # output_band = get_bandwidth_nn_output(Graph, np_pred)\n",
    "    # optimal_band = x[-1]\n",
    "    # rcm_band = getCuthillMckeeBand(Graph)\n",
    "    \n",
    "    # df = df.append({'NN_Output': output_band, 'Optimal_band': optimal_band, 'Cuthill_Mckee_band': rcm_band}, ignore_index=True)"
   ]
  },
  {
   "cell_type": "code",
   "execution_count": 43,
   "metadata": {},
   "outputs": [],
   "source": [
    "# df"
   ]
  }
 ],
 "metadata": {
  "interpreter": {
   "hash": "6c5b3efaa918d9f28db231eb82daaaf5f44447677f2df3439a28b7e91ebffcf4"
  },
  "kernelspec": {
   "display_name": "Python 3.9.6 64-bit",
   "language": "python",
   "name": "python3"
  },
  "language_info": {
   "codemirror_mode": {
    "name": "ipython",
    "version": 3
   },
   "file_extension": ".py",
   "mimetype": "text/x-python",
   "name": "python",
   "nbconvert_exporter": "python",
   "pygments_lexer": "ipython3",
   "version": "3.9.6"
  },
  "orig_nbformat": 4
 },
 "nbformat": 4,
 "nbformat_minor": 2
}
