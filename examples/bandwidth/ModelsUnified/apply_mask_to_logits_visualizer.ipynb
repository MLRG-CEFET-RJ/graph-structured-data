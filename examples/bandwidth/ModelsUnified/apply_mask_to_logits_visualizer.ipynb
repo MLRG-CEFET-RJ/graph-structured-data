{
 "cells": [
  {
   "cell_type": "code",
   "execution_count": 1,
   "metadata": {},
   "outputs": [],
   "source": [
    "import torch\n",
    "import numpy as np"
   ]
  },
  {
   "cell_type": "code",
   "execution_count": 2,
   "metadata": {},
   "outputs": [],
   "source": [
    "# in this example:\n",
    "# MAX_NUMBER_NODES = 4\n",
    "# MIN_NUMBER_NODES = 2\n",
    "# in the real dataset are 9 and 7, max and min respectively\n",
    "a = torch.tensor([[1,0,1,1], [1,1,0,0], [1,0,-1,-1]]).type(torch.long)"
   ]
  },
  {
   "cell_type": "code",
   "execution_count": 3,
   "metadata": {},
   "outputs": [],
   "source": [
    "def apply_mask_to_logits(logits, mask, idxs): \n",
    "  batch_size = logits.size(0)\n",
    "  clone_mask = mask.clone()\n",
    "\n",
    "  if idxs is not None:\n",
    "      clone_mask[[i for i in range(batch_size)], idxs.data] = 1\n",
    "      # logits[clone_mask] = -np.inf\n",
    "      logits[clone_mask] = -1000000000\n",
    "  return logits, clone_mask"
   ]
  },
  {
   "cell_type": "code",
   "execution_count": 4,
   "metadata": {},
   "outputs": [],
   "source": [
    "batch_size = a.shape[0]\n",
    "seq_len = a.shape[1]"
   ]
  },
  {
   "cell_type": "code",
   "execution_count": 5,
   "metadata": {},
   "outputs": [
    {
     "name": "stdout",
     "output_type": "stream",
     "text": [
      "Error shape mismatch\n",
      "shape mismatch: indexing tensors could not be broadcast together with shapes [3], [2]\n"
     ]
    }
   ],
   "source": [
    "# config 1:\n",
    "a = torch.tensor([[1,0,1,1], [1,1,0,0], [1,0,-1,-1]]).type(torch.long)\n",
    "mask = torch.zeros(batch_size, seq_len)\n",
    "idxs = torch.tensor([2,3])\n",
    "\n",
    "try:\n",
    "  apply_mask_to_logits(a, mask, idxs)\n",
    "except IndexError as e:\n",
    "  print('Error shape mismatch')\n",
    "  print(e)"
   ]
  },
  {
   "cell_type": "code",
   "execution_count": 6,
   "metadata": {},
   "outputs": [
    {
     "name": "stdout",
     "output_type": "stream",
     "text": [
      "torch.Size([3, 4])\n",
      "tensor([[          1, -1000000000,           1,           1],\n",
      "        [          1,           1, -1000000000,           0],\n",
      "        [          1,           0,          -1, -1000000000]])\n",
      "Meaningless result\n"
     ]
    },
    {
     "name": "stderr",
     "output_type": "stream",
     "text": [
      "C:\\Users\\Felipe\\AppData\\Local\\Temp\\ipykernel_5720\\3597876467.py:8: UserWarning: masked_fill_ received a mask with dtype torch.uint8, this behavior is now deprecated,please use a mask with dtype torch.bool instead. (Triggered internally at  ..\\aten\\src\\ATen\\native\\TensorAdvancedIndexing.cpp:1273.)\n",
      "  logits[clone_mask] = -1000000000\n"
     ]
    }
   ],
   "source": [
    "# config 2:\n",
    "a = torch.tensor([[1,0,1,1], [1,1,0,0], [1,0,-1,-1]]).type(torch.long)\n",
    "mask = torch.zeros(batch_size, seq_len).byte()\n",
    "idxs = torch.tensor([1,2,3])\n",
    "\n",
    "result, clone_mask = apply_mask_to_logits(a, mask, idxs)\n",
    "print(result.shape)\n",
    "print(result)\n",
    "print(\"Meaningless result\")"
   ]
  },
  {
   "cell_type": "code",
   "execution_count": 7,
   "metadata": {},
   "outputs": [
    {
     "name": "stdout",
     "output_type": "stream",
     "text": [
      "torch.Size([3, 4])\n",
      "tensor([[          1,           0, -1000000000,           1],\n",
      "        [          1,           1, -1000000000,           0],\n",
      "        [          1,           0, -1000000000,          -1]])\n",
      "Meaningless result\n"
     ]
    },
    {
     "name": "stderr",
     "output_type": "stream",
     "text": [
      "C:\\Users\\Felipe\\AppData\\Local\\Temp\\ipykernel_5720\\3597876467.py:8: UserWarning: masked_fill_ received a mask with dtype torch.uint8, this behavior is now deprecated,please use a mask with dtype torch.bool instead. (Triggered internally at  ..\\aten\\src\\ATen\\native\\TensorAdvancedIndexing.cpp:1273.)\n",
      "  logits[clone_mask] = -1000000000\n"
     ]
    }
   ],
   "source": [
    "# config 3:\n",
    "a = torch.tensor([[1,0,1,1], [1,1,0,0], [1,0, -1, -1]]).type(torch.long)\n",
    "mask = torch.zeros(batch_size, seq_len).byte()\n",
    "idxs = torch.tensor([2])\n",
    "\n",
    "result, clone_mask = apply_mask_to_logits(a, mask, idxs)\n",
    "print(result.shape)\n",
    "print(result)\n",
    "print(\"Meaningless result\")"
   ]
  },
  {
   "cell_type": "code",
   "execution_count": 8,
   "metadata": {},
   "outputs": [
    {
     "name": "stdout",
     "output_type": "stream",
     "text": [
      "torch.Size([6, 5])\n"
     ]
    },
    {
     "name": "stderr",
     "output_type": "stream",
     "text": [
      "C:\\Users\\Felipe\\AppData\\Local\\Temp\\ipykernel_5720\\447886108.py:19: UserWarning: masked_fill_ received a mask with dtype torch.uint8, this behavior is now deprecated,please use a mask with dtype torch.bool instead. (Triggered internally at  ..\\aten\\src\\ATen\\native\\TensorAdvancedIndexing.cpp:1273.)\n",
      "  logits[clone_mask] = -1000000000\n"
     ]
    },
    {
     "data": {
      "text/plain": [
       "tensor([[          1,           0,           1,           1,           1],\n",
       "        [          1,           1,           0,           0,           1],\n",
       "        [          1,           0,           1, -1000000000, -1000000000],\n",
       "        [          0,           1,           0,           1,           1],\n",
       "        [          0, -1000000000, -1000000000, -1000000000, -1000000000],\n",
       "        [          0,           1,           1, -1000000000, -1000000000]])"
      ]
     },
     "execution_count": 8,
     "metadata": {},
     "output_type": "execute_result"
    }
   ],
   "source": [
    "a = torch.tensor([[1,0,1,1,1], [1,1,0,0,1], [1,0,1,2,2], [0,1,0,1,1], [0,2,2,2,2], [0,1,1,2,2]]).type(torch.long)\n",
    "batch_size = a.shape[0]\n",
    "seq_len = a.shape[1]\n",
    "\n",
    "mask = torch.zeros(batch_size, seq_len).byte()\n",
    "idxs = [(2, 3), (4, 1), (5, 3)]\n",
    "\n",
    "# in the real dataset this value is currently 36 (9 nodes max) (2022-07-26)\n",
    "DATASET_SEQ_LEN = seq_len\n",
    "\n",
    "def apply_mask_to_logits_2(logits, mask, idxs): \n",
    "  clone_mask = mask.clone()\n",
    "\n",
    "  print(clone_mask.shape)\n",
    "\n",
    "  if idxs is not None:\n",
    "    for (idx, seq_len) in idxs:\n",
    "      clone_mask[idx, [range(seq_len, DATASET_SEQ_LEN)]] = 1\n",
    "    logits[clone_mask] = -1000000000\n",
    "  return logits, clone_mask\n",
    "    \n",
    "result, clone_mask = apply_mask_to_logits_2(a, mask, idxs)\n",
    "result\n",
    "\n",
    "\"\"\"\n",
    "Debugging the PointerNetwork.py, when the network gets a batch of length 2 with the first sample of 7 nodes\n",
    "and the second sample of 9 nodes, the apply_mask_to_logits function returns the following:\n",
    "\n",
    "tensor([[-0.1323, -0.1097,  0.0407,  0.0161,  0.1157,  0.1710,  0.1186,  0.0824,\n",
    "          0.1728,  0.1248,  0.1953,  0.1445,  0.1093,  0.1947,  0.2370,  0.1772,\n",
    "          0.1361,  0.1116,  0.0968,  0.0875,  0.0812,    -inf,    -inf,    -inf,\n",
    "            -inf,    -inf,    -inf,    -inf,    -inf,    -inf,    -inf,    -inf,\n",
    "            -inf,    -inf,    -inf,    -inf],\n",
    "        [-0.0518, -0.0309, -0.0167, -0.0057,  0.1380,  0.1084,  0.2001,  0.1577,\n",
    "          0.1287,  0.1132,  0.1047,  0.1000,  0.2137,  0.2690,  0.2130,  0.1775,\n",
    "          0.1569,  0.1451,  0.1378,  0.2435,  0.2024,  0.1740,  0.1589,  0.1500,\n",
    "          0.1444,  0.2489,  0.2090,  0.1805,  0.1651,  0.2599,  0.2194,  0.1892,\n",
    "          0.2717,  0.2295,  0.2902,  0.2432]], grad_fn=<AsStridedBackward0>)\n",
    "torch.Size([2, 36])\n",
    "\"\"\""
   ]
  },
  {
   "cell_type": "code",
   "execution_count": 11,
   "metadata": {},
   "outputs": [
    {
     "name": "stdout",
     "output_type": "stream",
     "text": [
      "torch.Size([6, 5])\n",
      "torch.Size([6, 5])\n",
      "torch.Size([6, 5])\n",
      "tensor([[          1,           0,           1,           1,           1],\n",
      "        [          1,           1,           0,           0,           1],\n",
      "        [          1,           0,           1, -1000000000, -1000000000],\n",
      "        [          0,           1,           0,           1,           1],\n",
      "        [          0, -1000000000, -1000000000, -1000000000, -1000000000],\n",
      "        [          0,           1,           1, -1000000000, -1000000000]])\n",
      "Meaningless result\n"
     ]
    },
    {
     "name": "stderr",
     "output_type": "stream",
     "text": [
      "C:\\Users\\Felipe\\AppData\\Local\\Temp\\ipykernel_5720\\447886108.py:19: UserWarning: masked_fill_ received a mask with dtype torch.uint8, this behavior is now deprecated,please use a mask with dtype torch.bool instead. (Triggered internally at  ..\\aten\\src\\ATen\\native\\TensorAdvancedIndexing.cpp:1273.)\n",
      "  logits[clone_mask] = -1000000000\n"
     ]
    }
   ],
   "source": [
    "# config 4:\n",
    "# in this example:\n",
    "# possible lenghts = [4, 2, 1]\n",
    "# MAX_NUMBER_NODES = 5\n",
    "# MIN_NUMBER_NODES = 1\n",
    "# mask is not -1, it is actually 2\n",
    "\n",
    "a = torch.tensor([[1,0,1,1,1], [1,1,0,0,1], [1,0,1,2,2], [0,1,0,1,1], [0,2,2,2,2], [0,1,1,2,2]]).type(torch.long)\n",
    "batch_size = a.shape[0]\n",
    "dataset_seq_len = a.shape[1]\n",
    "\n",
    "masks = (a == 2).nonzero()\n",
    "idxs = {}\n",
    "for (idx, seq_len) in masks:\n",
    "  idx = int(idx.cpu())\n",
    "  if idx not in idxs:\n",
    "    idxs[idx] = int(seq_len.cpu())\n",
    "idxs = idxs.items()\n",
    "\n",
    "if not len(idxs):\n",
    "  idxs = None\n",
    "\n",
    "mask = torch.zeros(batch_size, dataset_seq_len).bool()\n",
    "# use .bool instead of .byte because of a depreceated warning\n",
    "\n",
    "print(mask.shape)\n",
    "\n",
    "result, clone_mask = apply_mask_to_logits_2(a, mask, idxs)\n",
    "print(result.shape)\n",
    "print(result)\n",
    "print(\"Result with actual meaning\")"
   ]
  },
  {
   "cell_type": "code",
   "execution_count": null,
   "metadata": {},
   "outputs": [
    {
     "name": "stdout",
     "output_type": "stream",
     "text": [
      "torch.Size([2, 4, 32])\n",
      "torch.Size([2, 4, 32])\n",
      "IndexError\n",
      "index out of range in self\n",
      "IndexError2\n",
      "index out of range in self\n",
      "torch.Size([2, 5, 32])\n",
      "torch.Size([2, 5, 32])\n"
     ]
    }
   ],
   "source": [
    "# The problem with nn.Embedding\n",
    "\n",
    "a = torch.tensor([[1,1,1,0], [1,1,0,1]])\n",
    "embedding2 = torch.nn.Embedding(2, 32)\n",
    "embedding4 = torch.nn.Embedding(4, 32)\n",
    "print(embedding2(a).shape)\n",
    "print(embedding4(a).shape)\n",
    "\n",
    "a = torch.tensor([[1,1,1,0,0], [1,1,0,1,-1]])\n",
    "embedding2 = torch.nn.Embedding(3, 32)\n",
    "embedding4 = torch.nn.Embedding(5, 32)\n",
    "\n",
    "try:\n",
    "  print(embedding2(a).shape)\n",
    "except IndexError as e:\n",
    "  print('IndexError')\n",
    "  print(e)\n",
    "\n",
    "try:\n",
    "  print(embedding4(a).shape)\n",
    "except IndexError as e:\n",
    "  print('IndexError2')\n",
    "  print(e)\n",
    "\n",
    "a = torch.tensor([[1,1,1,0,2], [1,1,0,1,3]])\n",
    "embedding2 = torch.nn.Embedding(4, 32)\n",
    "embedding4 = torch.nn.Embedding(5, 32)\n",
    "print(embedding2(a).shape)\n",
    "print(embedding4(a).shape)"
   ]
  }
 ],
 "metadata": {
  "kernelspec": {
   "display_name": "Python 3.9.9 64-bit",
   "language": "python",
   "name": "python3"
  },
  "language_info": {
   "codemirror_mode": {
    "name": "ipython",
    "version": 3
   },
   "file_extension": ".py",
   "mimetype": "text/x-python",
   "name": "python",
   "nbconvert_exporter": "python",
   "pygments_lexer": "ipython3",
   "version": "3.9.9"
  },
  "orig_nbformat": 4,
  "vscode": {
   "interpreter": {
    "hash": "9eba946ae18c2fd52bd7ee0675653c9ba3cc2017ffd7c41149393a04d904615d"
   }
  }
 },
 "nbformat": 4,
 "nbformat_minor": 2
}
