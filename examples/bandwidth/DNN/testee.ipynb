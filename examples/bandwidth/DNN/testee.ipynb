{
 "cells": [
  {
   "cell_type": "code",
   "execution_count": 1,
   "metadata": {},
   "outputs": [],
   "source": [
    "import torch"
   ]
  },
  {
   "cell_type": "code",
   "execution_count": 10,
   "metadata": {},
   "outputs": [],
   "source": [
    "def loss_repeated_labels(output):\n",
    "      used_labels, counts = torch.unique(output, return_counts=True)\n",
    "      counts = counts.type(torch.DoubleTensor)\n",
    "      var = torch.var(counts, unbiased=False)\n",
    "      print(var)\n",
    "      print(counts)\n",
    "      print(output.shape)\n",
    "      print(counts.shape)\n",
    "      shapeDiff = (output.shape[0] - counts.shape[0])**2\n",
    "      print(shapeDiff)\n",
    "      print(((torch.ones(counts.shape[0]) - counts)**2).mean())\n",
    "      return var + shapeDiff"
   ]
  },
  {
   "cell_type": "code",
   "execution_count": 12,
   "metadata": {},
   "outputs": [
    {
     "name": "stdout",
     "output_type": "stream",
     "text": [
      "tensor(0., dtype=torch.float64)\n",
      "tensor([1., 1., 1., 1., 1., 1.], dtype=torch.float64)\n",
      "torch.Size([6])\n",
      "torch.Size([6])\n",
      "0\n",
      "tensor(0., dtype=torch.float64)\n"
     ]
    },
    {
     "data": {
      "text/plain": [
       "tensor(0., dtype=torch.float64)"
      ]
     },
     "execution_count": 12,
     "metadata": {},
     "output_type": "execute_result"
    }
   ],
   "source": [
    "a = torch.tensor([1., 1., 2., 2., 3., 4.]) # no segundo  1, soma 1 alteracao, no segundo 2, soma 1, ficando 2\n",
    "b = torch.tensor([0., 1., 2., 3., 4., 5.])\n",
    "loss_repeated_labels(b.round())"
   ]
  }
 ],
 "metadata": {
  "interpreter": {
   "hash": "9f17ea74e9a07f02efaa90ee1f47e0c923e4f633c8e0a68dd26777c24f53b763"
  },
  "kernelspec": {
   "display_name": "Python 3.9.9 64-bit",
   "language": "python",
   "name": "python3"
  },
  "language_info": {
   "codemirror_mode": {
    "name": "ipython",
    "version": 3
   },
   "file_extension": ".py",
   "mimetype": "text/x-python",
   "name": "python",
   "nbconvert_exporter": "python",
   "pygments_lexer": "ipython3",
   "version": "3.9.9"
  },
  "orig_nbformat": 4
 },
 "nbformat": 4,
 "nbformat_minor": 2
}
