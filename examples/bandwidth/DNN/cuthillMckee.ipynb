{
 "cells": [
  {
   "cell_type": "code",
   "execution_count": 1,
   "metadata": {},
   "outputs": [],
   "source": [
    "import os\n",
    "import pandas as pd\n",
    "import networkx as nx\n",
    "import numpy as np\n",
    "from networkx.utils import reverse_cuthill_mckee_ordering"
   ]
  },
  {
   "cell_type": "code",
   "execution_count": 2,
   "metadata": {},
   "outputs": [],
   "source": [
    "NUMBER_NODES = 9\n",
    "\n",
    "def load_data():\n",
    "    test_df = pd.read_csv(os.path.join('datasets', f'dataset_{NUMBER_NODES}_test.csv'))\n",
    "\n",
    "    featuresNumber = (NUMBER_NODES * NUMBER_NODES - NUMBER_NODES) // 2 \n",
    "    def get_tuple_tensor_dataset(row):\n",
    "        X = row[0 : featuresNumber].astype('int32')\n",
    "        Y = row[featuresNumber + 1: ].astype('int32') # Pula a banda otima na posicao 0\n",
    "        return X, Y\n",
    "\n",
    "    test_dataset = list(map(get_tuple_tensor_dataset, test_df.to_numpy()))\n",
    "\n",
    "    X = []\n",
    "    Y = []\n",
    "    for x, y in test_dataset:\n",
    "        X.append(x)\n",
    "        Y.append(y)\n",
    "    x_test = np.array(X)\n",
    "    y_test = np.array(Y)\n",
    "\n",
    "    return x_test, y_test"
   ]
  },
  {
   "cell_type": "code",
   "execution_count": 3,
   "metadata": {},
   "outputs": [],
   "source": [
    "x_test, y_test = load_data()"
   ]
  },
  {
   "cell_type": "code",
   "execution_count": 4,
   "metadata": {},
   "outputs": [],
   "source": [
    "def get_optimal_bandwidth_nodelist_adjacency_rcm(Graph):\n",
    "    rcm = list(reverse_cuthill_mckee_ordering(Graph))\n",
    "    A = nx.adjacency_matrix(Graph, nodelist=rcm)\n",
    "    L = nx.laplacian_matrix(nx.Graph(A))\n",
    "    x, y = np.nonzero(L)\n",
    "    return (x-y).max()"
   ]
  },
  {
   "cell_type": "code",
   "execution_count": 5,
   "metadata": {},
   "outputs": [],
   "source": [
    "def count_repeats(output):\n",
    "    counts = np.unique(np.round(output))\n",
    "    repeated = NUMBER_NODES - counts.shape[0]\n",
    "    return repeated\n",
    "\n",
    "def get_valid_pred(pred):\n",
    "    valid = np.ones(NUMBER_NODES)\n",
    "    labels = np.arange(0, NUMBER_NODES)\n",
    "    for i in labels:\n",
    "        min_value = np.amin(pred)\n",
    "        min_idx, = np.where(pred == min_value)\n",
    "        min_idx = min_idx[0]\n",
    "        pred[min_idx] = 100\n",
    "        valid[min_idx] = i\n",
    "    return valid\n",
    "    \n",
    "def getGraph(upperTriangleAdjMatrix):\n",
    "    dense_adj = np.zeros((NUMBER_NODES, NUMBER_NODES))\n",
    "    dense_adj = np.zeros((NUMBER_NODES, NUMBER_NODES))\n",
    "    k = 0\n",
    "    for i in range(NUMBER_NODES):\n",
    "        for j in range(NUMBER_NODES):\n",
    "            if i == j:\n",
    "                continue\n",
    "            elif i < j:\n",
    "                dense_adj[i][j] = upperTriangleAdjMatrix[k]\n",
    "                k += 1\n",
    "            else:\n",
    "                dense_adj[i][j] = dense_adj[j][i]\n",
    "    return dense_adj\n",
    "\n",
    "def get_bandwidth(Graph, nodelist=None):\n",
    "    if not Graph.edges:\n",
    "        return 0\n",
    "    if nodelist.all() != None:\n",
    "        L = nx.laplacian_matrix(Graph, nodelist=nodelist)\n",
    "    else:\n",
    "        L = nx.laplacian_matrix(Graph)\n",
    "    x, y = np.nonzero(L)\n",
    "    return (x-y).max()"
   ]
  },
  {
   "cell_type": "code",
   "execution_count": 6,
   "metadata": {},
   "outputs": [
    {
     "name": "stdout",
     "output_type": "stream",
     "text": [
      "Quantidade de rótulos repetidos, exemplo [1, 1, 1, 1, 1, 1, 1] conta como 6 -  0\n",
      "Quantidade de saídas com repetição, exemplo [1, 1, 1, 1, 1, 1, 1] conta como 1 -  0\n",
      "Test length -  16480\n",
      "Bandwidth mean\n",
      "7.7975728155339805\n",
      "Pred bandwidth mean\n",
      "4.775\n",
      "0.8954340760022591\n",
      "True bandwidth mean\n",
      "4.092839805825243\n"
     ]
    }
   ],
   "source": [
    "sumTest_original = 0\n",
    "sumTest_pred = []\n",
    "sumTest_true = 0\n",
    "\n",
    "count = 0\n",
    "cases_with_repetition = 0\n",
    "for i in range(len(x_test)):\n",
    "    graph = getGraph(x_test[i])\n",
    "    Graph = nx.Graph(graph)\n",
    "    output = np.array(list(reverse_cuthill_mckee_ordering(Graph)))\n",
    "\n",
    "    quantity_repeated = count_repeats(np.round(output))\n",
    "\n",
    "    # print('Pred: ', output)\n",
    "    # print('True: ', y_test[i])\n",
    "\n",
    "    if quantity_repeated != 0:\n",
    "        cases_with_repetition += 1\n",
    "\n",
    "    output = get_valid_pred(output)\n",
    "    # print('Pred valid: ', output)\n",
    "    count += quantity_repeated\n",
    "\n",
    "    original_band = get_bandwidth(Graph, np.array(None))\n",
    "    sumTest_original += original_band\n",
    "    pred_band = get_bandwidth(Graph, output)\n",
    "    sumTest_pred.append(pred_band)\n",
    "    true_band = get_bandwidth(Graph, y_test[i])\n",
    "    sumTest_true += true_band\n",
    "    # print(\"Bandwidth\")\n",
    "    # print(original_band)\n",
    "    # print(pred_band)\n",
    "    # print(true_band)\n",
    "print('Quantidade de rótulos repetidos, exemplo [1, 1, 1, 1, 1, 1, 1] conta como 6 - ', count)\n",
    "print('Quantidade de saídas com repetição, exemplo [1, 1, 1, 1, 1, 1, 1] conta como 1 - ', cases_with_repetition)\n",
    "test_length = x_test.shape[0]\n",
    "print('Test length - ', test_length)\n",
    "print(\"Bandwidth mean\")\n",
    "print(sumTest_original / test_length)\n",
    "print(\"Pred bandwidth mean\")\n",
    "print(np.mean(sumTest_pred))\n",
    "print(np.std(sumTest_pred))\n",
    "# print(sumTest_pred / test_length)\n",
    "print(\"True bandwidth mean\")\n",
    "print(sumTest_true / test_length)"
   ]
  }
 ],
 "metadata": {
  "interpreter": {
   "hash": "9f17ea74e9a07f02efaa90ee1f47e0c923e4f633c8e0a68dd26777c24f53b763"
  },
  "kernelspec": {
   "display_name": "Python 3.9.9 64-bit",
   "language": "python",
   "name": "python3"
  },
  "language_info": {
   "codemirror_mode": {
    "name": "ipython",
    "version": 3
   },
   "file_extension": ".py",
   "mimetype": "text/x-python",
   "name": "python",
   "nbconvert_exporter": "python",
   "pygments_lexer": "ipython3",
   "version": "3.9.9"
  },
  "orig_nbformat": 4
 },
 "nbformat": 4,
 "nbformat_minor": 2
}
