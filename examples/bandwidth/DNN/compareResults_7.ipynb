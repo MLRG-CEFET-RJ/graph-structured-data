{
 "cells": [
  {
   "cell_type": "code",
   "execution_count": 17,
   "metadata": {},
   "outputs": [],
   "source": [
    "import pandas as pd\n",
    "import numpy as np"
   ]
  },
  {
   "cell_type": "markdown",
   "metadata": {},
   "source": [
    "### Resultados do dataset de 7 vértices"
   ]
  },
  {
   "cell_type": "code",
   "execution_count": 18,
   "metadata": {},
   "outputs": [
    {
     "name": "stdout",
     "output_type": "stream",
     "text": [
      "Test length -  63\n"
     ]
    }
   ],
   "source": [
    "# configuração:\n",
    "# [\n",
    "#   original+-std,\n",
    "#   output+-std,\n",
    "#   otima+-std,\n",
    "#   total repetição,\n",
    "#   saidas com pelo menos 1 repetição,\n",
    "#   tempo médio de predição\n",
    "# ]\n",
    "\n",
    "print('Test length -  63')\n",
    "\n",
    "DecisionTreeClassifier = np.array([\n",
    "    [\n",
    "        f'{5.904761904761905:.2f}±{0.2935435239509036:.2f}',\n",
    "        f'{3.4444444444444446±0:.2f}±{0.9220022686639749:.2f}',\n",
    "        f'{3.1904761904761907:.2f}±{0.7095078297976829:.2f}',\n",
    "        f'{0}',\n",
    "        f'{0}',\n",
    "        f'{0.0043669163234650145:.4f}'\n",
    "    ]\n",
    "])\n",
    "\n",
    "CatBoostRegressor = np.array([\n",
    "    [\n",
    "        f'{5.904761904761905:.2f}±{0.2935435239509036:.2f}',\n",
    "        f'{4.73015873015873:.2f}±{0.9953279623232306:.2f}',\n",
    "        f'{3.1904761904761907:.2f}±{0.7095078297976829:.2f}',\n",
    "        f'{210}',\n",
    "        f'{62}',\n",
    "        f'{0.004174592002989754:.4f}'\n",
    "    ]\n",
    "])\n",
    "\n",
    "AdjMatrixCustomLossCNN = np.array([\n",
    "    [\n",
    "        f'{5.904761904761905:.2f}±{0.2935435239509036:.2f}',\n",
    "        f'{4.698412698412699:.2f}±{0.8662072158503016:.2f}',\n",
    "        f'{3.1904761904761907:.2f}±{0.7095078297976829:.2f}',\n",
    "        f'{258}',\n",
    "        f'{53}',\n",
    "        f'{0.0031414334736173115}'\n",
    "    ]\n",
    "])\n",
    "\n",
    "PytorchNeuralNetwork = np.array([\n",
    "    [\n",
    "        f'{5.904761904761905:.2f}±{0.2935435239509036:.2f}',\n",
    "        f'{5.190476190476191:.2f}±{0.8702698515474793:.2f}',\n",
    "        f'{3.1904761904761907:.2f}±{0.7095078297976829:.2f}',\n",
    "        f'{263}',\n",
    "        f'{63}',\n",
    "        f'{0.004814991875300332:.4f}'\n",
    "    ]\n",
    "    ESSE AQUI ESTA ERRADO\n",
    "])\n",
    "\n",
    "PointerNetwork = np.array([\n",
    "    [\n",
    "        f'{5.904761904761905:.2f}±{0.2935435239509036:.2f}',\n",
    "        f'{3.4126984126984126:.2f}±{0.8662072158503019:.2f}',\n",
    "        f'{3.1904761904761907:.2f}±{0.7095078297976829:.2f}',\n",
    "        f'{0}',\n",
    "        f'{0}',\n",
    "        f'{0.006523771891518245:.4f}'\n",
    "    ]\n",
    "    ESSE AQUI ESTA ERRADO\n",
    "])\n",
    "\n",
    "ReverseCuthillMckee = np.array([\n",
    "    [\n",
    "        f'{5.904761904761905:.2f}±{0.2935435239509036:.2f}',\n",
    "        f'{3.4126984126984126:.2f}±{0.8662072158503019:.2f}',\n",
    "        f'{3.1904761904761907:.2f}±{0.7095078297976829:.2f}',\n",
    "        f'{0}',\n",
    "        f'{0}',\n",
    "        f'{0.006523771891518245:.4f}'\n",
    "    ]\n",
    "])\n",
    "\n",
    "print('Test length -  63')\n",
    "\n",
    "data = np.concatenate(\n",
    "    (\n",
    "        DecisionTreeRegressor,\n",
    "        CatBoostRegressor,\n",
    "        NeuralDecisionTree,\n",
    "        NeuralDecisionForest,\n",
    "        PytorchNeuralNetwork,\n",
    "        ReverseCuthillMckee,\n",
    "        # AdjMatrixCustomLossCNN,\n",
    "    )\n",
    ")"
   ]
  },
  {
   "cell_type": "code",
   "execution_count": 19,
   "metadata": {},
   "outputs": [
    {
     "data": {
      "text/plain": [
       "(6, 6)"
      ]
     },
     "execution_count": 19,
     "metadata": {},
     "output_type": "execute_result"
    }
   ],
   "source": [
    "data.shape"
   ]
  },
  {
   "cell_type": "code",
   "execution_count": 20,
   "metadata": {},
   "outputs": [
    {
     "name": "stdout",
     "output_type": "stream",
     "text": [
      "--Resultados para 7 vértices--\n"
     ]
    },
    {
     "data": {
      "text/html": [
       "<div>\n",
       "<style scoped>\n",
       "    .dataframe tbody tr th:only-of-type {\n",
       "        vertical-align: middle;\n",
       "    }\n",
       "\n",
       "    .dataframe tbody tr th {\n",
       "        vertical-align: top;\n",
       "    }\n",
       "\n",
       "    .dataframe thead th {\n",
       "        text-align: right;\n",
       "    }\n",
       "</style>\n",
       "<table border=\"1\" class=\"dataframe\">\n",
       "  <thead>\n",
       "    <tr style=\"text-align: right;\">\n",
       "      <th></th>\n",
       "      <th>mean±std original bandwidth</th>\n",
       "      <th>mean±std predicted bandwidth</th>\n",
       "      <th>mean±std optimal bandwidth</th>\n",
       "      <th>Total repeated labels predicted</th>\n",
       "      <th>Total of predictions with at least one repetition</th>\n",
       "      <th>Predicition mean Time</th>\n",
       "    </tr>\n",
       "  </thead>\n",
       "  <tbody>\n",
       "    <tr>\n",
       "      <th>DecisionTreeRegressor</th>\n",
       "      <td>5.90±0.29</td>\n",
       "      <td>3.62±0.98</td>\n",
       "      <td>3.19±0.71</td>\n",
       "      <td>0</td>\n",
       "      <td>0</td>\n",
       "      <td>0.0059</td>\n",
       "    </tr>\n",
       "    <tr>\n",
       "      <th>CatBoostRegressor</th>\n",
       "      <td>5.90±0.29</td>\n",
       "      <td>4.73±1.00</td>\n",
       "      <td>3.19±0.71</td>\n",
       "      <td>210</td>\n",
       "      <td>62</td>\n",
       "      <td>0.0037</td>\n",
       "    </tr>\n",
       "    <tr>\n",
       "      <th>NeuralDecisionTree</th>\n",
       "      <td>5.90±0.29</td>\n",
       "      <td>4.63±0.80</td>\n",
       "      <td>3.19±0.71</td>\n",
       "      <td>237</td>\n",
       "      <td>63</td>\n",
       "      <td>0.0031</td>\n",
       "    </tr>\n",
       "    <tr>\n",
       "      <th>NeuralDecisionForest</th>\n",
       "      <td>5.90±0.29</td>\n",
       "      <td>4.98±0.85</td>\n",
       "      <td>3.19±0.71</td>\n",
       "      <td>129</td>\n",
       "      <td>63</td>\n",
       "      <td>0.0021</td>\n",
       "    </tr>\n",
       "    <tr>\n",
       "      <th>PytorchNeuralNetwork</th>\n",
       "      <td>5.90±0.29</td>\n",
       "      <td>5.19±0.87</td>\n",
       "      <td>3.19±0.71</td>\n",
       "      <td>136</td>\n",
       "      <td>59</td>\n",
       "      <td>0.0022</td>\n",
       "    </tr>\n",
       "    <tr>\n",
       "      <th>ReverseCuthillMckee</th>\n",
       "      <td>5.90±0.29</td>\n",
       "      <td>3.41±0.87</td>\n",
       "      <td>3.19±0.71</td>\n",
       "      <td>0</td>\n",
       "      <td>0</td>\n",
       "      <td>0.0044</td>\n",
       "    </tr>\n",
       "  </tbody>\n",
       "</table>\n",
       "</div>"
      ],
      "text/plain": [
       "                      mean±std original bandwidth  \\\n",
       "DecisionTreeRegressor                   5.90±0.29   \n",
       "CatBoostRegressor                       5.90±0.29   \n",
       "NeuralDecisionTree                      5.90±0.29   \n",
       "NeuralDecisionForest                    5.90±0.29   \n",
       "PytorchNeuralNetwork                    5.90±0.29   \n",
       "ReverseCuthillMckee                     5.90±0.29   \n",
       "\n",
       "                      mean±std predicted bandwidth mean±std optimal bandwidth  \\\n",
       "DecisionTreeRegressor                    3.62±0.98                  3.19±0.71   \n",
       "CatBoostRegressor                        4.73±1.00                  3.19±0.71   \n",
       "NeuralDecisionTree                       4.63±0.80                  3.19±0.71   \n",
       "NeuralDecisionForest                     4.98±0.85                  3.19±0.71   \n",
       "PytorchNeuralNetwork                     5.19±0.87                  3.19±0.71   \n",
       "ReverseCuthillMckee                      3.41±0.87                  3.19±0.71   \n",
       "\n",
       "                      Total repeated labels predicted  \\\n",
       "DecisionTreeRegressor                               0   \n",
       "CatBoostRegressor                                 210   \n",
       "NeuralDecisionTree                                237   \n",
       "NeuralDecisionForest                              129   \n",
       "PytorchNeuralNetwork                              136   \n",
       "ReverseCuthillMckee                                 0   \n",
       "\n",
       "                      Total of predictions with at least one repetition  \\\n",
       "DecisionTreeRegressor                                                 0   \n",
       "CatBoostRegressor                                                    62   \n",
       "NeuralDecisionTree                                                   63   \n",
       "NeuralDecisionForest                                                 63   \n",
       "PytorchNeuralNetwork                                                 59   \n",
       "ReverseCuthillMckee                                                   0   \n",
       "\n",
       "                      Predicition mean Time  \n",
       "DecisionTreeRegressor                0.0059  \n",
       "CatBoostRegressor                    0.0037  \n",
       "NeuralDecisionTree                   0.0031  \n",
       "NeuralDecisionForest                 0.0021  \n",
       "PytorchNeuralNetwork                 0.0022  \n",
       "ReverseCuthillMckee                  0.0044  "
      ]
     },
     "execution_count": 20,
     "metadata": {},
     "output_type": "execute_result"
    }
   ],
   "source": [
    "df = pd.DataFrame(\n",
    "    data,\n",
    "    index=[\n",
    "        'DecisionTreeRegressor',\n",
    "        'CatBoostRegressor',\n",
    "        'NeuralDecisionTree',\n",
    "        'NeuralDecisionForest',\n",
    "        'PytorchNeuralNetwork',\n",
    "        'ReverseCuthillMckee',\n",
    "        # 'AdjMatrixCustomLossCNN',\n",
    "    ],\n",
    "    columns=[\n",
    "        'original bandwidth',\n",
    "        'predicted bandwidth',\n",
    "        'optimal bandwidth',\n",
    "        'Repeated labels',\n",
    "        'Predictions with at least one repeated label',\n",
    "        'Predicition mean time'\n",
    "    ]\n",
    ")\n",
    "print(\"--Resultados para 7 vértices--\")\n",
    "df"
   ]
  },
  {
   "cell_type": "code",
   "execution_count": 21,
   "metadata": {},
   "outputs": [
    {
     "data": {
      "text/plain": [
       "'\\\\begin{tabular}{lllllll}\\n\\\\toprule\\n{} & mean±std original bandwidth & mean±std predicted bandwidth & mean±std optimal bandwidth & Total repeated labels predicted & Total of predictions with at least one repetition & Predicition mean Time \\\\\\\\\\n\\\\midrule\\nDecisionTreeRegressor &                   5.90±0.29 &                    3.62±0.98 &                  3.19±0.71 &                               0 &                                                 0 &                0.0059 \\\\\\\\\\nCatBoostRegressor     &                   5.90±0.29 &                    4.73±1.00 &                  3.19±0.71 &                             210 &                                                62 &                0.0037 \\\\\\\\\\nNeuralDecisionTree    &                   5.90±0.29 &                    4.63±0.80 &                  3.19±0.71 &                             237 &                                                63 &                0.0031 \\\\\\\\\\nNeuralDecisionForest  &                   5.90±0.29 &                    4.98±0.85 &                  3.19±0.71 &                             129 &                                                63 &                0.0021 \\\\\\\\\\nPytorchNeuralNetwork  &                   5.90±0.29 &                    5.19±0.87 &                  3.19±0.71 &                             136 &                                                59 &                0.0022 \\\\\\\\\\nReverseCuthillMckee   &                   5.90±0.29 &                    3.41±0.87 &                  3.19±0.71 &                               0 &                                                 0 &                0.0044 \\\\\\\\\\n\\\\bottomrule\\n\\\\end{tabular}\\n'"
      ]
     },
     "execution_count": 21,
     "metadata": {},
     "output_type": "execute_result"
    }
   ],
   "source": [
    "df.to_latex()"
   ]
  }
 ],
 "metadata": {
  "interpreter": {
   "hash": "9f17ea74e9a07f02efaa90ee1f47e0c923e4f633c8e0a68dd26777c24f53b763"
  },
  "kernelspec": {
   "display_name": "Python 3.9.9 64-bit",
   "language": "python",
   "name": "python3"
  },
  "language_info": {
   "codemirror_mode": {
    "name": "ipython",
    "version": 3
   },
   "file_extension": ".py",
   "mimetype": "text/x-python",
   "name": "python",
   "nbconvert_exporter": "python",
   "pygments_lexer": "ipython3",
   "version": "3.9.9"
  },
  "orig_nbformat": 4
 },
 "nbformat": 4,
 "nbformat_minor": 2
}
