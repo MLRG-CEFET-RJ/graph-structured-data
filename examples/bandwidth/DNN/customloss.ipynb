{
 "cells": [
  {
   "cell_type": "code",
   "execution_count": 106,
   "metadata": {},
   "outputs": [],
   "source": [
    "import torch\n",
    "import torch.nn as nn"
   ]
  },
  {
   "cell_type": "code",
   "execution_count": 107,
   "metadata": {},
   "outputs": [],
   "source": [
    "def loss_repeated_labels(roundedOutput):\n",
    "  used_labels, counts = torch.unique(roundedOutput, return_counts=True)\n",
    "  counts = counts.type(torch.DoubleTensor)\n",
    "  print(counts)\n",
    "  print(roundedOutput.shape)\n",
    "  print(counts.shape)\n",
    "  return torch.var(counts, unbiased=False) + (roundedOutput.shape[0] - counts.shape[0])**2"
   ]
  },
  {
   "cell_type": "code",
   "execution_count": 108,
   "metadata": {},
   "outputs": [
    {
     "name": "stdout",
     "output_type": "stream",
     "text": [
      "tensor([[0., 1., 1., 2., 2., 3., 1.],\n",
      "        [0., 1., 1., 2., 2., 3., 1.],\n",
      "        [0., 2., 3., 3., 1., 4., 5.],\n",
      "        [0., 2., 2., 3., 1., 4., 5.]], requires_grad=True)\n",
      "torch.float32\n",
      "tensor([4., 8., 7., 5., 2., 2.], dtype=torch.float64)\n",
      "torch.Size([4, 7])\n",
      "torch.Size([6])\n"
     ]
    }
   ],
   "source": [
    "y_pred = torch.tensor([\n",
    "  [0., 1., 1., 2., 2., 3., 1.],\n",
    "  [0., 1., 1., 2., 2., 3., 1.],\n",
    "  [0., 2., 3., 3., 1., 4., 5.],\n",
    "  [0., 2., 2., 3., 1., 4., 5.],\n",
    "])\n",
    "\n",
    "y_true = torch.tensor([\n",
    "  [0., 1., 2., 3., 4., 5., 6.],\n",
    "  [6., 5., 4., 3., 2., 1., 0.],\n",
    "  [1., 0., 2., 4., 6., 3., 5.],\n",
    "  [1., 2., 0., 3., 4., 6., 5.],\n",
    "])\n",
    "\n",
    "y_pred.requires_grad = True\n",
    "\n",
    "print(y_pred)\n",
    "print(y_pred.dtype)\n",
    "\n",
    "loss = loss_repeated_labels(y_pred)"
   ]
  },
  {
   "cell_type": "code",
   "execution_count": 109,
   "metadata": {},
   "outputs": [
    {
     "name": "stdout",
     "output_type": "stream",
     "text": [
      "tensor([4., 4., 4., 4., 4., 4., 4.], dtype=torch.float64)\n",
      "torch.Size([4, 7])\n",
      "torch.Size([7])\n"
     ]
    }
   ],
   "source": [
    "loss = loss_repeated_labels(y_true)"
   ]
  },
  {
   "cell_type": "code",
   "execution_count": 110,
   "metadata": {},
   "outputs": [
    {
     "name": "stdout",
     "output_type": "stream",
     "text": [
      "tensor([4., 8., 7., 5., 2., 2.])\n",
      "tensor([4., 4., 4., 4., 4., 4.])\n",
      "tensor([4., 8., 7., 5., 2., 2.])\n",
      "tensor([4., 4., 4., 4., 4., 4.])\n",
      "None\n",
      "None\n"
     ]
    }
   ],
   "source": [
    "mse = nn.MSELoss()\n",
    "\n",
    "def new_loss_repeated_labels(roundedOutput, use_var):\n",
    "  batch_size = roundedOutput.shape[0]\n",
    "\n",
    "  used_labels, counts = torch.unique(roundedOutput, return_counts=True)\n",
    "  counts = counts.type(torch.FloatTensor)\n",
    "\n",
    "  counts_shape = counts.shape[0]\n",
    "  print(counts)\n",
    "\n",
    "  optimalCounts = torch.ones(counts_shape) * batch_size\n",
    "  print(optimalCounts)\n",
    "\n",
    "  if use_var:\n",
    "    var_loss = torch.var(counts, unbiased=False)\n",
    "    return var_loss\n",
    "  else:\n",
    "    mse_loss = mse(counts, optimalCounts)\n",
    "    return mse_loss\n",
    "\n",
    "use_var = new_loss_repeated_labels(y_pred, use_var=True)\n",
    "use_mse = new_loss_repeated_labels(y_pred, use_var=False)\n",
    "\n",
    "mse_loss = ((y_pred - y_true)**2).mean()\n",
    "mse_loss2 = mse(y_pred, y_true)\n",
    "print((use_mse + mse_loss).backward())\n",
    "print((use_var + mse_loss2).backward())"
   ]
  },
  {
   "cell_type": "code",
   "execution_count": 111,
   "metadata": {},
   "outputs": [
    {
     "name": "stdout",
     "output_type": "stream",
     "text": [
      "tensor([4., 4., 4., 4., 4., 4., 4.])\n",
      "tensor([4., 4., 4., 4., 4., 4., 4.])\n",
      "tensor([4., 4., 4., 4., 4., 4., 4.])\n",
      "tensor([4., 4., 4., 4., 4., 4., 4.])\n"
     ]
    }
   ],
   "source": [
    "use_var = new_loss_repeated_labels(y_true, use_var=True)\n",
    "use_mse = new_loss_repeated_labels(y_true, use_var=False)"
   ]
  }
 ],
 "metadata": {
  "interpreter": {
   "hash": "9f17ea74e9a07f02efaa90ee1f47e0c923e4f633c8e0a68dd26777c24f53b763"
  },
  "kernelspec": {
   "display_name": "Python 3.9.9 64-bit",
   "language": "python",
   "name": "python3"
  },
  "language_info": {
   "codemirror_mode": {
    "name": "ipython",
    "version": 3
   },
   "file_extension": ".py",
   "mimetype": "text/x-python",
   "name": "python",
   "nbconvert_exporter": "python",
   "pygments_lexer": "ipython3",
   "version": "3.9.9"
  },
  "orig_nbformat": 4
 },
 "nbformat": 4,
 "nbformat_minor": 2
}
