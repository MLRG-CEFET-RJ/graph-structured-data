{
 "cells": [
  {
   "cell_type": "code",
   "execution_count": 135,
   "metadata": {},
   "outputs": [],
   "source": [
    "import numpy as np\n",
    "from sklearn.model_selection import KFold\n",
    "# https://machinelearningmastery.com/repeated-k-fold-cross-validation-with-python/\n",
    "# https://machinelearningmastery.com/how-to-configure-k-fold-cross-validation/\n",
    "# https://scikit-learn.org/stable/modules/generated/sklearn.model_selection.KFold.html"
   ]
  },
  {
   "cell_type": "code",
   "execution_count": 136,
   "metadata": {},
   "outputs": [],
   "source": [
    "data = np.array([0.1, 0.2, 0.3, 0.4, 0.5, 0.6])"
   ]
  },
  {
   "cell_type": "code",
   "execution_count": 137,
   "metadata": {},
   "outputs": [],
   "source": [
    "kfold = KFold(n_splits=3, shuffle=True, random_state=2652124)"
   ]
  },
  {
   "cell_type": "code",
   "execution_count": 138,
   "metadata": {},
   "outputs": [
    {
     "name": "stdout",
     "output_type": "stream",
     "text": [
      "train: [0 2 4 5], test: [1 3]\n",
      "train: [1 3 4 5], test: [0 2]\n",
      "train: [0 1 2 3], test: [4 5]\n"
     ]
    }
   ],
   "source": [
    "# enumerate splits\n",
    "for train, test in kfold.split(data):\n",
    "\tprint('train: %s, test: %s' % (train, test))"
   ]
  },
  {
   "cell_type": "markdown",
   "metadata": {},
   "source": [
    "The cross_val_score() function will be used to perform the evaluation, taking the dataset and cross-validation configuration and returning a list of scores calculated for each fold."
   ]
  },
  {
   "cell_type": "code",
   "execution_count": 139,
   "metadata": {},
   "outputs": [
    {
     "name": "stdout",
     "output_type": "stream",
     "text": [
      "Accuracy: 0.866 (0.047)\n",
      "Accuracy: 0.864 (0.039)\n"
     ]
    }
   ],
   "source": [
    "from numpy import mean\n",
    "from numpy import std\n",
    "from sklearn.datasets import make_classification\n",
    "from sklearn.model_selection import KFold\n",
    "from sklearn.model_selection import RepeatedKFold\n",
    "from sklearn.model_selection import LeaveOneOut\n",
    "from sklearn.model_selection import cross_val_score\n",
    "from sklearn.linear_model import LogisticRegression\n",
    "import matplotlib.pyplot as pyplot\n",
    "\n",
    "# create dataset\n",
    "X, y = make_classification(n_samples=1000, n_features=20, n_informative=15, n_redundant=5, random_state=1)\n",
    "# prepare the cross-validation procedure\n",
    "cv = KFold(n_splits=10, random_state=2652124, shuffle=True)\n",
    "repeated_cv = RepeatedKFold(n_splits=10, n_repeats=3, random_state=2652124)\n",
    "# create model\n",
    "model = LogisticRegression()\n",
    "# evaluate model\n",
    "scores = cross_val_score(model, X, y, scoring='accuracy', cv=cv, n_jobs=-1)\n",
    "repated_scores = cross_val_score(model, X, y, scoring='accuracy', cv=repeated_cv, n_jobs=-1)\n",
    "# report performance\n",
    "print('Accuracy: %.3f (%.3f)' % (mean(scores), std(scores)))\n",
    "print('Accuracy: %.3f (%.3f)' % (mean(repated_scores), std(repated_scores)))"
   ]
  },
  {
   "cell_type": "code",
   "execution_count": 140,
   "metadata": {},
   "outputs": [
    {
     "name": "stdout",
     "output_type": "stream",
     "text": [
      "Accuracy: 0.866 - 0.04694677837722202 - 0.015648926125740672\n"
     ]
    }
   ],
   "source": [
    "from sklearn.metrics import accuracy_score\n",
    "from scipy.stats import sem\n",
    "\n",
    "scores = []\n",
    "for train_index, test_index in cv.split(X):\n",
    "    # print(\"Train: \", len(train_index))\n",
    "    # print(\"Test: \", len(test_index))\n",
    "    X_train, X_test = X[train_index], X[test_index]\n",
    "    y_train, y_test = y[train_index], y[test_index]\n",
    "    model.fit(X_train, y_train)\n",
    "    pred = model.predict(X_test)\n",
    "    score = accuracy_score(y_test, pred)\n",
    "    scores.append(score)\n",
    "print(f'Accuracy: {mean(scores):.3f} - {std(scores):.3f} - {sem(scores):.3f}')"
   ]
  },
  {
   "cell_type": "code",
   "execution_count": 141,
   "metadata": {},
   "outputs": [
    {
     "name": "stdout",
     "output_type": "stream",
     "text": [
      "Accuracy: 0.866 (0.047)\n"
     ]
    }
   ],
   "source": [
    "scores = []\n",
    "for i in range(3):\n",
    "    cv = KFold(n_splits=10, random_state=2652124, shuffle=True)\n",
    "    for train_index, test_index in cv.split(X):\n",
    "        # print(\"Train: \", len(train_index))\n",
    "        # print(\"Test: \", len(test_index))\n",
    "        X_train, X_test = X[train_index], X[test_index]\n",
    "        y_train, y_test = y[train_index], y[test_index]\n",
    "        model.fit(X_train, y_train)\n",
    "        pred = model.predict(X_test)\n",
    "        score = accuracy_score(y_test, pred)\n",
    "        scores.append(score)\n",
    "print('Accuracy: %.3f (%.3f)' % (mean(scores), std(scores)))"
   ]
  },
  {
   "cell_type": "code",
   "execution_count": 142,
   "metadata": {},
   "outputs": [],
   "source": [
    "def get_dataset(n_samples=100):\n",
    "\tX, y = make_classification(n_samples=n_samples, n_features=20, n_informative=15, n_redundant=5, random_state=1)\n",
    "\treturn X, y\n",
    "def get_model():\n",
    "\tmodel = LogisticRegression()\n",
    "\treturn model"
   ]
  },
  {
   "cell_type": "code",
   "execution_count": 143,
   "metadata": {},
   "outputs": [],
   "source": [
    "# evaluate the model using a given test condition\n",
    "def evaluate_model(cv):\n",
    "\t# get the dataset\n",
    "\tX, y = get_dataset()\n",
    "\t# get the model\n",
    "\tmodel = get_model()\n",
    "\t# evaluate the model\n",
    "\tscores = cross_val_score(model, X, y, scoring='accuracy', cv=cv, n_jobs=-1)\n",
    "\t# return scores\n",
    "\treturn mean(scores), scores.min(), scores.max()"
   ]
  },
  {
   "cell_type": "code",
   "execution_count": 144,
   "metadata": {},
   "outputs": [
    {
     "name": "stdout",
     "output_type": "stream",
     "text": [
      "Ideal: 0.840\n"
     ]
    }
   ],
   "source": [
    "# calculate the ideal test condition\n",
    "ideal, _, _ = evaluate_model(LeaveOneOut())\n",
    "print('Ideal: %.3f' % ideal)"
   ]
  },
  {
   "cell_type": "code",
   "execution_count": 145,
   "metadata": {},
   "outputs": [
    {
     "name": "stdout",
     "output_type": "stream",
     "text": [
      "> folds=2, accuracy=0.750 (0.740,0.760)\n",
      "> folds=3, accuracy=0.810 (0.727,0.939)\n",
      "> folds=4, accuracy=0.800 (0.720,0.920)\n",
      "> folds=5, accuracy=0.790 (0.650,0.900)\n",
      "> folds=6, accuracy=0.803 (0.647,1.000)\n",
      "> folds=7, accuracy=0.792 (0.571,1.000)\n",
      "> folds=8, accuracy=0.791 (0.500,1.000)\n",
      "> folds=9, accuracy=0.790 (0.455,1.000)\n",
      "> folds=10, accuracy=0.800 (0.500,1.000)\n",
      "> folds=11, accuracy=0.831 (0.556,1.000)\n",
      "> folds=12, accuracy=0.840 (0.500,1.000)\n",
      "> folds=13, accuracy=0.826 (0.375,1.000)\n",
      "> folds=14, accuracy=0.820 (0.429,1.000)\n",
      "> folds=15, accuracy=0.827 (0.429,1.000)\n",
      "> folds=16, accuracy=0.821 (0.333,1.000)\n",
      "> folds=17, accuracy=0.841 (0.500,1.000)\n",
      "> folds=18, accuracy=0.846 (0.500,1.000)\n",
      "> folds=19, accuracy=0.832 (0.400,1.000)\n",
      "> folds=20, accuracy=0.820 (0.400,1.000)\n",
      "> folds=21, accuracy=0.826 (0.400,1.000)\n",
      "> folds=22, accuracy=0.830 (0.400,1.000)\n",
      "> folds=23, accuracy=0.830 (0.250,1.000)\n",
      "> folds=24, accuracy=0.833 (0.250,1.000)\n",
      "> folds=25, accuracy=0.830 (0.250,1.000)\n",
      "> folds=26, accuracy=0.833 (0.250,1.000)\n",
      "> folds=27, accuracy=0.840 (0.250,1.000)\n",
      "> folds=28, accuracy=0.845 (0.250,1.000)\n",
      "> folds=29, accuracy=0.833 (0.333,1.000)\n",
      "> folds=30, accuracy=0.819 (0.333,1.000)\n"
     ]
    }
   ],
   "source": [
    "folds = range(2,31)\n",
    "# record mean and min/max of each set of results\n",
    "means, mins, maxs = list(),list(),list()\n",
    "# evaluate each k value\n",
    "for k in folds:\n",
    "\t# define the test condition\n",
    "\tcv = KFold(n_splits=k, shuffle=True, random_state=2652124)\n",
    "\t# evaluate k value\n",
    "\tk_mean, k_min, k_max = evaluate_model(cv)\n",
    "\t# report performance\n",
    "\tprint('> folds=%d, accuracy=%.3f (%.3f,%.3f)' % (k, k_mean, k_min, k_max))\n",
    "\t# store mean accuracy\n",
    "\tmeans.append(k_mean)\n",
    "\t# store min and max relative to the mean\n",
    "\tmins.append(k_mean - k_min)\n",
    "\tmaxs.append(k_max - k_mean)"
   ]
  },
  {
   "cell_type": "code",
   "execution_count": 146,
   "metadata": {},
   "outputs": [
    {
     "data": {
      "image/png": "[encoded data removed]",
      "text/plain": [
       "<Figure size 432x288 with 1 Axes>"
      ]
     },
     "metadata": {
      "needs_background": "light"
     },
     "output_type": "display_data"
    }
   ],
   "source": [
    "...\n",
    "# line plot of k mean values with min/max error bars\n",
    "pyplot.errorbar(folds, means, yerr=[mins, maxs], fmt='o')\n",
    "# plot the ideal case in a separate color\n",
    "pyplot.plot(folds, [ideal for _ in range(len(folds))], color='r')\n",
    "# show the plot\n",
    "pyplot.show()"
   ]
  },
  {
   "cell_type": "code",
   "execution_count": 147,
   "metadata": {},
   "outputs": [
    {
     "name": "stdout",
     "output_type": "stream",
     "text": [
      ">1 mean=0.8660 se=0.016\n",
      ">2 mean=0.8650 se=0.009\n",
      ">3 mean=0.8640 se=0.007\n",
      ">4 mean=0.8640 se=0.007\n",
      ">5 mean=0.8636 se=0.006\n",
      ">6 mean=0.8648 se=0.005\n",
      ">7 mean=0.8650 se=0.005\n",
      ">8 mean=0.8650 se=0.004\n",
      ">9 mean=0.8652 se=0.004\n",
      ">10 mean=0.8655 se=0.004\n",
      ">11 mean=0.8654 se=0.003\n",
      ">12 mean=0.8651 se=0.003\n",
      ">13 mean=0.8651 se=0.003\n",
      ">14 mean=0.8651 se=0.003\n",
      ">15 mean=0.8650 se=0.003\n"
     ]
    },
    {
     "data": {
      "image/png": "[encoded data removed]",
      "text/plain": [
       "<Figure size 432x288 with 1 Axes>"
      ]
     },
     "metadata": {
      "needs_background": "light"
     },
     "output_type": "display_data"
    }
   ],
   "source": [
    "# evaluate a model with a given number of repeats\n",
    "def evaluate_model(X, y, repeats):\n",
    "\t# prepare the cross-validation procedure\n",
    "\tcv = RepeatedKFold(n_splits=10, n_repeats=repeats, random_state=2652124)\n",
    "\t# create model\n",
    "\tmodel = LogisticRegression()\n",
    "\t# evaluate model\n",
    "\tscores = cross_val_score(model, X, y, scoring='accuracy', cv=cv, n_jobs=-1)\n",
    "\treturn scores\n",
    " \n",
    "# create dataset\n",
    "X, y = make_classification(n_samples=1000, n_features=20, n_informative=15, n_redundant=5, random_state=1)\n",
    "# configurations to test\n",
    "repeats = range(1,16)\n",
    "results = list()\n",
    "for r in repeats:\n",
    "\t# evaluate using a given number of repeats\n",
    "\tscores = evaluate_model(X, y, r)\n",
    "\t# summarize\n",
    "\tprint('>%d mean=%.4f se=%.3f' % (r, mean(scores), sem(scores)))\n",
    "\t# store\n",
    "\tresults.append(scores)\n",
    "# plot the results\n",
    "pyplot.boxplot(results, labels=[str(r) for r in repeats], showmeans=True)\n",
    "pyplot.show()"
   ]
  }
 ],
 "metadata": {
  "interpreter": {
   "hash": "9f17ea74e9a07f02efaa90ee1f47e0c923e4f633c8e0a68dd26777c24f53b763"
  },
  "kernelspec": {
   "display_name": "Python 3.9.9 64-bit",
   "language": "python",
   "name": "python3"
  },
  "language_info": {
   "codemirror_mode": {
    "name": "ipython",
    "version": 3
   },
   "file_extension": ".py",
   "mimetype": "text/x-python",
   "name": "python",
   "nbconvert_exporter": "python",
   "pygments_lexer": "ipython3",
   "version": "3.9.9"
  },
  "orig_nbformat": 4
 },
 "nbformat": 4,
 "nbformat_minor": 2
}
