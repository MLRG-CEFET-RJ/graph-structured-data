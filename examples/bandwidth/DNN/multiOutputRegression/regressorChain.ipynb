{
 "cells": [
  {
   "cell_type": "code",
   "execution_count": 1,
   "metadata": {},
   "outputs": [],
   "source": [
    "from numpy import mean\n",
    "from numpy import std\n",
    "import numpy as np\n",
    "import os\n",
    "import pandas as pd\n",
    "from numpy import absolute\n",
    "from sklearn.datasets import make_regression\n",
    "from sklearn.model_selection import cross_val_score\n",
    "from sklearn.model_selection import RepeatedKFold\n",
    "from sklearn.multioutput import RegressorChain\n",
    "from sklearn.svm import LinearSVR"
   ]
  },
  {
   "cell_type": "code",
   "execution_count": 2,
   "metadata": {},
   "outputs": [],
   "source": [
    "NUMBER_NODES = 7\n",
    "\n",
    "def load_data():\n",
    "    train_df = pd.read_csv(os.path.join('..', 'datasets', f'dataset_{NUMBER_NODES}_train.csv'))\n",
    "    val_df = pd.read_csv(os.path.join('..', 'datasets', f'dataset_{NUMBER_NODES}_val.csv'))\n",
    "    test_df = pd.read_csv(os.path.join('..', 'datasets', f'dataset_{NUMBER_NODES}_test.csv'))\n",
    "\n",
    "    featuresNumber = (NUMBER_NODES * NUMBER_NODES - NUMBER_NODES) // 2 \n",
    "    def get_tuple_tensor_dataset(row):\n",
    "        X = row[0 : featuresNumber].astype('float32')\n",
    "        Y = row[featuresNumber + 1: ].astype('float32') # Inclui a banda otima na posicao 0\n",
    "        return X, Y\n",
    "\n",
    "    train_dataset = list(map(get_tuple_tensor_dataset, train_df.to_numpy()))\n",
    "    val_dataset = list(map(get_tuple_tensor_dataset, val_df.to_numpy()))\n",
    "    test_dataset = list(map(get_tuple_tensor_dataset, test_df.to_numpy()))\n",
    "\n",
    "    X = []\n",
    "    Y = []\n",
    "    for x, y in train_dataset:\n",
    "        X.append(x)\n",
    "        Y.append(y)\n",
    "    x_train = np.array(X, dtype=object)\n",
    "    y_train = np.array(Y, dtype=object)\n",
    "\n",
    "    X = []\n",
    "    Y = []\n",
    "    for x, y in test_dataset:\n",
    "        X.append(x)\n",
    "        Y.append(y)\n",
    "    x_test = np.array(X, dtype=object)\n",
    "    y_test = np.array(Y, dtype=object)\n",
    "\n",
    "\n",
    "    return x_train, y_train, np.array(val_dataset, dtype=object), x_test, y_test"
   ]
  },
  {
   "cell_type": "code",
   "execution_count": 3,
   "metadata": {},
   "outputs": [],
   "source": [
    "x, y, val, x_t, y_t = load_data()"
   ]
  },
  {
   "cell_type": "code",
   "execution_count": 4,
   "metadata": {},
   "outputs": [
    {
     "name": "stdout",
     "output_type": "stream",
     "text": [
      "MAE: 1.578 (0.090)\n"
     ]
    },
    {
     "data": {
      "text/plain": [
       "DecisionTreeRegressor()"
      ]
     },
     "execution_count": 4,
     "metadata": {},
     "output_type": "execute_result"
    }
   ],
   "source": [
    "from sklearn.tree import DecisionTreeRegressor\n",
    "from sklearn.neighbors import KNeighborsRegressor\n",
    "from sklearn.linear_model import LinearRegression\n",
    "from sklearn.ensemble import RandomForestRegressor\n",
    "from sklearn.ensemble import GradientBoostingRegressor\n",
    "from sklearn.linear_model import LogisticRegression\n",
    "from sklearn.tree import DecisionTreeClassifier\n",
    "\n",
    "# define base model\n",
    "# model = DecisionTreeRegressor()\n",
    "model = DecisionTreeRegressor()\n",
    "# define the evaluation procedure\n",
    "cv = RepeatedKFold(n_splits=10, n_repeats=3, random_state=1)\n",
    "# evaluate the model and collect the scores\n",
    "n_scores = cross_val_score(model, x, y, scoring='neg_mean_absolute_error', cv=cv, n_jobs=-1)\n",
    "# force the scores to be positive\n",
    "n_scores = absolute(n_scores)\n",
    "# summarize performance\n",
    "print('MAE: %.3f (%.3f)' % (mean(n_scores), std(n_scores)))\n",
    "\n",
    "# define the chained multioutput wrapper model\n",
    "# wrapper = RegressorChain(model)\n",
    "\n",
    "model.fit(x, y)"
   ]
  },
  {
   "cell_type": "code",
   "execution_count": 12,
   "metadata": {},
   "outputs": [],
   "source": [
    "import networkx as nx\n",
    "\n",
    "def getGraph(upperTriangleAdjMatrix):\n",
    "    dense_adj = np.zeros((NUMBER_NODES, NUMBER_NODES))\n",
    "    dense_adj = np.zeros((NUMBER_NODES, NUMBER_NODES))\n",
    "    k = 0\n",
    "    for i in range(NUMBER_NODES):\n",
    "        for j in range(NUMBER_NODES):\n",
    "            if i == j:\n",
    "                continue\n",
    "            elif i < j:\n",
    "                dense_adj[i][j] = upperTriangleAdjMatrix[k]\n",
    "                k += 1\n",
    "            else:\n",
    "                dense_adj[i][j] = dense_adj[j][i]\n",
    "    return dense_adj\n",
    "\n",
    "def get_bandwidth(Graph, nodelist):\n",
    "    Graph = nx.Graph(Graph)\n",
    "    if not Graph.edges:\n",
    "        return 0\n",
    "    if nodelist:\n",
    "        L = nx.laplacian_matrix(Graph, nodelist=nodelist)\n",
    "    else:\n",
    "        L = nx.laplacian_matrix(Graph)\n",
    "    x, y = np.nonzero(L)\n",
    "    return (x-y).max()"
   ]
  },
  {
   "cell_type": "code",
   "execution_count": 13,
   "metadata": {},
   "outputs": [
    {
     "data": {
      "text/plain": [
       "(63, 21)"
      ]
     },
     "execution_count": 13,
     "metadata": {},
     "output_type": "execute_result"
    }
   ],
   "source": [
    "x_t.shape"
   ]
  },
  {
   "cell_type": "code",
   "execution_count": 15,
   "metadata": {},
   "outputs": [
    {
     "name": "stdout",
     "output_type": "stream",
     "text": [
      "Pred\n",
      "[5. 1. 6. 0. 4. 2. 3.]\n",
      "True\n",
      "[1.0 5.0 6.0 0.0 3.0 2.0 4.0]\n",
      "6\n"
     ]
    },
    {
     "ename": "ValueError",
     "evalue": "The truth value of an array with more than one element is ambiguous. Use a.any() or a.all()",
     "output_type": "error",
     "traceback": [
      "\u001b[1;31m---------------------------------------------------------------------------\u001b[0m",
      "\u001b[1;31mValueError\u001b[0m                                Traceback (most recent call last)",
      "Input \u001b[1;32mIn [15]\u001b[0m, in \u001b[0;36m<module>\u001b[1;34m\u001b[0m\n\u001b[0;32m     16\u001b[0m sumTest_original \u001b[38;5;241m+\u001b[39m\u001b[38;5;241m=\u001b[39m original_band\n\u001b[0;32m     17\u001b[0m \u001b[38;5;28mprint\u001b[39m(original_band)\n\u001b[1;32m---> 18\u001b[0m pred_band \u001b[38;5;241m=\u001b[39m \u001b[43mget_bandwidth\u001b[49m\u001b[43m(\u001b[49m\u001b[43mgraph\u001b[49m\u001b[43m,\u001b[49m\u001b[43m \u001b[49m\u001b[43mpred\u001b[49m\u001b[43m[\u001b[49m\u001b[43mi\u001b[49m\u001b[43m]\u001b[49m\u001b[43m)\u001b[49m\n\u001b[0;32m     19\u001b[0m sumTest_pred \u001b[38;5;241m+\u001b[39m\u001b[38;5;241m=\u001b[39m pred_band\n\u001b[0;32m     20\u001b[0m true_band \u001b[38;5;241m=\u001b[39m get_bandwidth(graph, y_t[i])\n",
      "Input \u001b[1;32mIn [12]\u001b[0m, in \u001b[0;36mget_bandwidth\u001b[1;34m(Graph, nodelist)\u001b[0m\n\u001b[0;32m     20\u001b[0m \u001b[38;5;28;01mif\u001b[39;00m \u001b[38;5;129;01mnot\u001b[39;00m Graph\u001b[38;5;241m.\u001b[39medges:\n\u001b[0;32m     21\u001b[0m     \u001b[38;5;28;01mreturn\u001b[39;00m \u001b[38;5;241m0\u001b[39m\n\u001b[1;32m---> 22\u001b[0m \u001b[38;5;28;01mif\u001b[39;00m nodelist:\n\u001b[0;32m     23\u001b[0m     L \u001b[38;5;241m=\u001b[39m nx\u001b[38;5;241m.\u001b[39mlaplacian_matrix(Graph, nodelist\u001b[38;5;241m=\u001b[39mnodelist)\n\u001b[0;32m     24\u001b[0m \u001b[38;5;28;01melse\u001b[39;00m:\n",
      "\u001b[1;31mValueError\u001b[0m: The truth value of an array with more than one element is ambiguous. Use a.any() or a.all()"
     ]
    }
   ],
   "source": [
    "pred = model.predict(x_t)\n",
    "# summarize the prediction\n",
    "\n",
    "sumTest_pred = 0\n",
    "sumTest_true = 0\n",
    "sumTest_original = 0\n",
    "for i in range(len(pred)):\n",
    "    graph = getGraph(x_t[i])\n",
    "    \n",
    "    print(\"Pred\")\n",
    "    print(pred[i])\n",
    "    print(\"True\")\n",
    "    print(y_t[i])\n",
    "    \n",
    "    original_band = get_bandwidth(graph, None)\n",
    "    sumTest_original += original_band\n",
    "    print(original_band)\n",
    "    pred_band = get_bandwidth(graph, pred[i])\n",
    "    sumTest_pred += pred_band\n",
    "    true_band = get_bandwidth(graph, y_t[i])\n",
    "    sumTest_true += true_band\n",
    "    print(\"Bandwidth\")\n",
    "    print(pred_band)\n",
    "    print(true_band)"
   ]
  },
  {
   "cell_type": "code",
   "execution_count": null,
   "metadata": {},
   "outputs": [
    {
     "name": "stdout",
     "output_type": "stream",
     "text": [
      "Pred bandwidth mean\n",
      "3.6984126984126986\n",
      "True bandwidth mean\n",
      "3.1904761904761907\n"
     ]
    }
   ],
   "source": [
    "print(\"Bandwidth mean\")\n",
    "print(sum_original / pred.shape[0])\n",
    "print(\"Pred bandwidth mean\")\n",
    "print(sumTest_pred / pred.shape[0])\n",
    "print(\"True bandwidth mean\")\n",
    "print(sumTest_true / pred.shape[0])"
   ]
  },
  {
   "cell_type": "code",
   "execution_count": null,
   "metadata": {},
   "outputs": [],
   "source": [
    "def count_repeats(output):\n",
    "    true_shape = NUMBER_NODES\n",
    "    counts = np.unique(np.round(output))\n",
    "    repeated = true_shape - counts.shape[0]\n",
    "    return repeated\n"
   ]
  },
  {
   "cell_type": "code",
   "execution_count": null,
   "metadata": {},
   "outputs": [
    {
     "data": {
      "text/plain": [
       "array([5., 1., 6., 0., 4., 2., 3.])"
      ]
     },
     "execution_count": 10,
     "metadata": {},
     "output_type": "execute_result"
    }
   ],
   "source": [
    "a = pred[0]\n",
    "a"
   ]
  },
  {
   "cell_type": "code",
   "execution_count": null,
   "metadata": {},
   "outputs": [
    {
     "name": "stdout",
     "output_type": "stream",
     "text": [
      "0\n"
     ]
    }
   ],
   "source": [
    "count = 0\n",
    "for i in pred:\n",
    "    count += count_repeats(i)\n",
    "print(count)"
   ]
  },
  {
   "cell_type": "markdown",
   "metadata": {},
   "source": [
    "# Notes\n",
    "\n",
    "## No Chained Multioutput Regression\n",
    "- Only DecisionTreeRegressor, counted repeats: 0\n",
    "- Only LinearRegression, counted repeats: 238\n",
    "- Only KNeighborsRegressor, counted repeats: I couldn't get the output (infinite loading)\n",
    "\n",
    "## Chained Multioutput Regression\n",
    "\n",
    "- DecisionTreeRegressor, counted repeats: 26, 30\n",
    "- LinearRegression, counted repeats: 238\n",
    "- KNeighborsRegressor, counted repeats: 119\n",
    "- SVM, actually support vector regression: 213\n",
    "\n",
    "## No Chained Multioutput Regression but treating eache output independently (wrong)\n",
    "- SVM, actually support vector regression: 194\n",
    "- KNeighborsRegressor, counted repeats: I couldn't get the output (infinite loading)\n",
    "- LinearRegression, counted repeats: 238\n",
    "- DecisionTreeRegressor, counted repeats: 116\n",
    "\n",
    "### https://machinelearningmastery.com/multi-output-regression-models-with-python/\n",
    "\n",
    "#### Essa abordagens eu testei:\n",
    "https://machinelearningmastery.com/multi-label-classification-with-deep-learning/\n",
    "(sigmoid no final, e binary_crossentropy como loss)\n",
    "\n",
    "https://machinelearningmastery.com/how-to-develop-a-convolutional-neural-network-to-classify-satellite-photos-of-the-amazon-rainforest/"
   ]
  }
 ],
 "metadata": {
  "interpreter": {
   "hash": "9f17ea74e9a07f02efaa90ee1f47e0c923e4f633c8e0a68dd26777c24f53b763"
  },
  "kernelspec": {
   "display_name": "Python 3.9.9 64-bit",
   "language": "python",
   "name": "python3"
  },
  "language_info": {
   "codemirror_mode": {
    "name": "ipython",
    "version": 3
   },
   "file_extension": ".py",
   "mimetype": "text/x-python",
   "name": "python",
   "nbconvert_exporter": "python",
   "pygments_lexer": "ipython3",
   "version": "3.9.9"
  },
  "orig_nbformat": 4
 },
 "nbformat": 4,
 "nbformat_minor": 2
}
