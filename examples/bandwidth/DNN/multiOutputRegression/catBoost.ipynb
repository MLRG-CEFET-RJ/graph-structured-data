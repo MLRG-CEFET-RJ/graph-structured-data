{
 "cells": [
  {
   "cell_type": "code",
   "execution_count": 10,
   "metadata": {},
   "outputs": [],
   "source": [
    "# gradient boosting\n",
    "import os\n",
    "import pandas as pd\n",
    "import numpy as np\n",
    "import catboost\n",
    "from catboost import CatBoostRegressor\n",
    "import networkx as nx\n",
    "\n",
    "# https://catboost.ai/en/docs/concepts/tutorials\n",
    "# https://youtu.be/usdEWSDisS0"
   ]
  },
  {
   "cell_type": "code",
   "execution_count": 11,
   "metadata": {},
   "outputs": [],
   "source": [
    "NUMBER_NODES = 9\n",
    "\n",
    "def load_data():\n",
    "    train_df = pd.read_csv(os.path.join('..', 'datasets', f'dataset_{NUMBER_NODES}_train.csv'))\n",
    "    val_df = pd.read_csv(os.path.join('..', 'datasets', f'dataset_{NUMBER_NODES}_val.csv'))\n",
    "    test_df = pd.read_csv(os.path.join('..', 'datasets', f'dataset_{NUMBER_NODES}_test.csv'))\n",
    "\n",
    "    featuresNumber = (NUMBER_NODES * NUMBER_NODES - NUMBER_NODES) // 2 \n",
    "    def get_tuple_tensor_dataset(row):\n",
    "        X = row[0 : featuresNumber].astype('int32')\n",
    "        Y = row[featuresNumber + 1: ].astype('int32') # Inclui a banda otima na posicao 0\n",
    "        return X, Y\n",
    "\n",
    "    train_dataset = list(map(get_tuple_tensor_dataset, train_df.to_numpy()))\n",
    "    val_dataset = list(map(get_tuple_tensor_dataset, val_df.to_numpy()))\n",
    "    test_dataset = list(map(get_tuple_tensor_dataset, test_df.to_numpy()))\n",
    "\n",
    "    X = []\n",
    "    Y = []\n",
    "    for x, y in train_dataset:\n",
    "        X.append(x)\n",
    "        Y.append(y)\n",
    "    x_train = np.array(X)\n",
    "    y_train = np.array(Y)\n",
    "\n",
    "    X = []\n",
    "    Y = []\n",
    "    for x, y in test_dataset:\n",
    "        X.append(x)\n",
    "        Y.append(y)\n",
    "    x_test = np.array(X)\n",
    "    y_test = np.array(Y)\n",
    "\n",
    "    X = []\n",
    "    Y = []\n",
    "    for x, y in val_dataset:\n",
    "        X.append(x)\n",
    "        Y.append(y)\n",
    "    x_val = np.array(X)\n",
    "    y_val = np.array(Y)\n",
    "\n",
    "    x_train = np.concatenate((x_train, x_val))\n",
    "    y_train = np.concatenate((y_train, y_val))\n",
    "\n",
    "\n",
    "    return x_train, y_train, x_test, y_test"
   ]
  },
  {
   "cell_type": "code",
   "execution_count": 12,
   "metadata": {},
   "outputs": [],
   "source": [
    "x_train, y_train, x_test, y_test = load_data()"
   ]
  },
  {
   "cell_type": "code",
   "execution_count": 13,
   "metadata": {},
   "outputs": [
    {
     "name": "stdout",
     "output_type": "stream",
     "text": [
      "[0, 1, 2, 3, 4, 5, 6, 7, 8, 9, 10, 11, 12, 13, 14, 15, 16, 17, 18, 19, 20, 21, 22, 23, 24, 25, 26, 27, 28, 29, 30, 31, 32, 33, 34, 35]\n"
     ]
    }
   ],
   "source": [
    "cat_features = list(range(0, x_test.shape[1]))\n",
    "print(cat_features)"
   ]
  },
  {
   "cell_type": "code",
   "execution_count": 14,
   "metadata": {},
   "outputs": [
    {
     "data": {
      "application/vnd.jupyter.widget-view+json": {
       "model_id": "5f7ee4da37ec478b86ce6316cf96732c",
       "version_major": 2,
       "version_minor": 0
      },
      "text/plain": [
       "MetricVisualizer(layout=Layout(align_self='stretch', height='500px'))"
      ]
     },
     "metadata": {},
     "output_type": "display_data"
    },
    {
     "name": "stdout",
     "output_type": "stream",
     "text": [
      "0:\tlearn: 7.1096370\ttest: 7.1083527\tbest: 7.1083527 (0)\ttotal: 248ms\tremaining: 4m 7s\n",
      "100:\tlearn: 6.8727177\ttest: 6.8750000\tbest: 6.8750000 (100)\ttotal: 25.5s\tremaining: 3m 46s\n",
      "200:\tlearn: 6.7799744\ttest: 6.7873605\tbest: 6.7873605 (200)\ttotal: 49.7s\tremaining: 3m 17s\n",
      "300:\tlearn: 6.7219209\ttest: 6.7334753\tbest: 6.7334753 (300)\ttotal: 1m 15s\tremaining: 2m 55s\n",
      "400:\tlearn: 6.6799716\ttest: 6.6946155\tbest: 6.6946155 (400)\ttotal: 1m 39s\tremaining: 2m 29s\n",
      "500:\tlearn: 6.6455095\ttest: 6.6633350\tbest: 6.6633350 (500)\ttotal: 2m 5s\tremaining: 2m 4s\n",
      "600:\tlearn: 6.6169507\ttest: 6.6376475\tbest: 6.6376475 (600)\ttotal: 2m 27s\tremaining: 1m 37s\n",
      "700:\tlearn: 6.5927756\ttest: 6.6162984\tbest: 6.6162984 (700)\ttotal: 2m 51s\tremaining: 1m 13s\n",
      "800:\tlearn: 6.5717673\ttest: 6.5981994\tbest: 6.5981994 (800)\ttotal: 3m 10s\tremaining: 47.4s\n",
      "900:\tlearn: 6.5536446\ttest: 6.5830679\tbest: 6.5830679 (900)\ttotal: 3m 27s\tremaining: 22.8s\n",
      "999:\tlearn: 6.5369376\ttest: 6.5692003\tbest: 6.5692003 (999)\ttotal: 3m 43s\tremaining: 0us\n",
      "\n",
      "bestTest = 6.569200308\n",
      "bestIteration = 999\n",
      "\n"
     ]
    },
    {
     "data": {
      "text/plain": [
       "<catboost.core.CatBoostRegressor at 0x205d784f4f0>"
      ]
     },
     "execution_count": 14,
     "metadata": {},
     "output_type": "execute_result"
    }
   ],
   "source": [
    "model = CatBoostRegressor(objective='MultiRMSE', verbose=100)\n",
    "model.fit(x_train, y_train, eval_set=(x_test, y_test), cat_features=cat_features, plot=True)"
   ]
  },
  {
   "cell_type": "code",
   "execution_count": 15,
   "metadata": {},
   "outputs": [
    {
     "data": {
      "text/plain": [
       "1000"
      ]
     },
     "execution_count": 15,
     "metadata": {},
     "output_type": "execute_result"
    }
   ],
   "source": [
    "model.tree_count_"
   ]
  },
  {
   "cell_type": "code",
   "execution_count": 16,
   "metadata": {},
   "outputs": [],
   "source": [
    "def count_repeats(output):\n",
    "    counts = np.unique(np.round(output))\n",
    "    repeated = NUMBER_NODES - counts.shape[0]\n",
    "    return repeated\n",
    "\n",
    "def get_valid_pred(pred):\n",
    "    valid = np.ones(NUMBER_NODES)\n",
    "    labels = np.arange(0, NUMBER_NODES)\n",
    "    for i in labels:\n",
    "        min_value = np.amin(pred)\n",
    "        min_idx, = np.where(pred == min_value)\n",
    "        min_idx = min_idx[0]\n",
    "        pred[min_idx] = 100\n",
    "        valid[min_idx] = i\n",
    "    return valid\n",
    "    \n",
    "def get_bandwidth(Graph, nodelist):\n",
    "    Graph = nx.Graph(Graph)\n",
    "    if not Graph.edges:\n",
    "        return 0\n",
    "    if nodelist.all() != None:\n",
    "        L = nx.laplacian_matrix(Graph, nodelist=nodelist)\n",
    "    else:\n",
    "        L = nx.laplacian_matrix(Graph)\n",
    "    x, y = np.nonzero(L)\n",
    "    return (x-y).max()\n",
    "\n",
    "def getGraph(upperTriangleAdjMatrix):\n",
    "    dense_adj = np.zeros((NUMBER_NODES, NUMBER_NODES))\n",
    "    k = 0\n",
    "    for i in range(NUMBER_NODES):\n",
    "        for j in range(NUMBER_NODES):\n",
    "            if i == j:\n",
    "                continue\n",
    "            elif i < j:\n",
    "                dense_adj[i][j] = upperTriangleAdjMatrix[k]\n",
    "                k += 1\n",
    "            else:\n",
    "                dense_adj[i][j] = dense_adj[j][i]\n",
    "    return dense_adj"
   ]
  },
  {
   "cell_type": "code",
   "execution_count": 17,
   "metadata": {},
   "outputs": [],
   "source": [
    "import time\n",
    "\n",
    "pred = model.predict(x_test)\n",
    "\n",
    "sumTest_original = []\n",
    "sumTest_pred = []\n",
    "sumTest_true = []\n",
    "\n",
    "count = 0\n",
    "cases_with_repetition = 0\n",
    "\n",
    "start = time.time()\n",
    "for i in range(len(pred)):\n",
    "\n",
    "    output = pred[i]\n",
    "\n",
    "    quantity_repeated = count_repeats(np.round(output))\n",
    "    # print('Pred: ', output)\n",
    "    # print('True: ', y_test[i])\n",
    "    if quantity_repeated != 0:\n",
    "        cases_with_repetition += 1\n",
    "    output = get_valid_pred(output)\n",
    "    # print('Pred valid: ', output)\n",
    "    count += quantity_repeated\n",
    "\n",
    "    # print(\"Bandwidth\")\n",
    "    graph = getGraph(x_test[i])\n",
    "    original_band = get_bandwidth(graph, np.array(None))\n",
    "    sumTest_original.append(original_band)\n",
    "\n",
    "    pred_band = get_bandwidth(graph, output)\n",
    "    sumTest_pred.append(pred_band)\n",
    "\n",
    "    true_band = get_bandwidth(graph, y_test[i])\n",
    "    sumTest_true.append(true_band)\n",
    "    # print(\"Bandwidth\")\n",
    "    # print(original_band)\n",
    "    # print(pred_band)\n",
    "    # print(true_band)\n",
    "end = time.time()"
   ]
  },
  {
   "cell_type": "code",
   "execution_count": 18,
   "metadata": {},
   "outputs": [
    {
     "name": "stdout",
     "output_type": "stream",
     "text": [
      "Quantidade de rótulos repetidos, exemplo [1, 1, 1, 1, 1, 1, 1] conta como 6 -  78379\n",
      "Quantidade de saídas com repetição, exemplo [1, 1, 1, 1, 1, 1, 1] conta como 1 -  16480\n",
      "Test length -  16480\n",
      "Time -  0.0036504352121677214\n",
      "Bandwidth mean±std\n",
      "7.7975728155339805±0.4248574084483311\n",
      "Pred bandwidth mean±std\n",
      "6.423240291262136±1.0017853894582183\n",
      "True bandwidth mean±std\n",
      "4.092839805825243±0.6732562471584104\n"
     ]
    }
   ],
   "source": [
    "print('Quantidade de rótulos repetidos, exemplo [1, 1, 1, 1, 1, 1, 1] conta como 6 - ', count)\n",
    "print('Quantidade de saídas com repetição, exemplo [1, 1, 1, 1, 1, 1, 1] conta como 1 - ', cases_with_repetition)\n",
    "test_length = pred.shape[0]\n",
    "print('Test length - ', test_length)\n",
    "print('Time - ', (end - start)/test_length)\n",
    "print(\"Bandwidth mean±std\")\n",
    "print(f'{np.mean(sumTest_original)}±{np.std(sumTest_original)}')\n",
    "print(\"Pred bandwidth mean±std\")\n",
    "print(f'{np.mean(sumTest_pred)}±{np.std(sumTest_pred)}')\n",
    "print(\"True bandwidth mean±std\")\n",
    "print(f'{np.mean(sumTest_true)}±{np.std(sumTest_true)}')"
   ]
  }
 ],
 "metadata": {
  "interpreter": {
   "hash": "9f17ea74e9a07f02efaa90ee1f47e0c923e4f633c8e0a68dd26777c24f53b763"
  },
  "kernelspec": {
   "display_name": "Python 3.9.9 64-bit",
   "language": "python",
   "name": "python3"
  },
  "language_info": {
   "codemirror_mode": {
    "name": "ipython",
    "version": 3
   },
   "file_extension": ".py",
   "mimetype": "text/x-python",
   "name": "python",
   "nbconvert_exporter": "python",
   "pygments_lexer": "ipython3",
   "version": "3.9.9"
  },
  "orig_nbformat": 4
 },
 "nbformat": 4,
 "nbformat_minor": 2
}
