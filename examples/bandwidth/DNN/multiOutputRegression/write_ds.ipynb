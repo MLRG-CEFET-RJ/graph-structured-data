{
 "cells": [
  {
   "cell_type": "code",
   "execution_count": 1,
   "metadata": {},
   "outputs": [],
   "source": [
    "import pandas as pd\n",
    "import numpy as np\n",
    "import os"
   ]
  },
  {
   "cell_type": "code",
   "execution_count": 17,
   "metadata": {},
   "outputs": [],
   "source": [
    "NUMBER_NODES = 7\n",
    "\n",
    "def load_data():\n",
    "    train_df = pd.read_csv(os.path.join('..', 'datasets', f'dataset_{NUMBER_NODES}_train.csv'))\n",
    "    val_df = pd.read_csv(os.path.join('..', 'datasets', f'dataset_{NUMBER_NODES}_val.csv'))\n",
    "    test_df = pd.read_csv(os.path.join('..', 'datasets', f'dataset_{NUMBER_NODES}_test.csv'))\n",
    "\n",
    "    featuresNumber = (NUMBER_NODES * NUMBER_NODES - NUMBER_NODES) // 2 \n",
    "    def get_tuple_tensor_dataset(row):\n",
    "        X = row[0 : featuresNumber].astype('float32')\n",
    "        Y = row[featuresNumber + 1: ].astype('int32')\n",
    "        y_str = str(Y)\n",
    "        y_str = y_str.replace('[', '')\n",
    "        y_str = y_str.replace(']', '')\n",
    "        y_str = np.array([y_str.replace(' ', '')])\n",
    "        return np.concatenate((X, y_str))\n",
    "\n",
    "    train_dataset = np.array(list(map(get_tuple_tensor_dataset, train_df.to_numpy())))\n",
    "    val_dataset = np.array(list(map(get_tuple_tensor_dataset, val_df.to_numpy())))\n",
    "    test_dataset = np.array(list(map(get_tuple_tensor_dataset, test_df.to_numpy())))\n",
    "\n",
    "    columns = []\n",
    "    for i in range((NUMBER_NODES * NUMBER_NODES - NUMBER_NODES) // 2 ):\n",
    "        columns.append(f'xDigit_{i}')\n",
    "    columns.append('labelling')\n",
    "\n",
    "    data = pd.DataFrame(train_dataset, columns=tuple(columns))\n",
    "    print(data.head())\n",
    "    data.to_csv(f'./train_dataset.csv', index=False, line_terminator='\\n')\n",
    "\n",
    "    data = pd.DataFrame(val_dataset, columns=tuple(columns))\n",
    "    data.to_csv(f'./val_dataset.csv', index=False, line_terminator='\\n')\n",
    "\n",
    "    data = pd.DataFrame(test_dataset, columns=tuple(columns))\n",
    "    data.to_csv(f'./test_dataset.csv', index=False, line_terminator='\\n')"
   ]
  },
  {
   "cell_type": "code",
   "execution_count": 18,
   "metadata": {},
   "outputs": [
    {
     "name": "stdout",
     "output_type": "stream",
     "text": [
      "  xDigit_0 xDigit_1 xDigit_2 xDigit_3 xDigit_4 xDigit_5 xDigit_6 xDigit_7  \\\n",
      "0      0.0      1.0      0.0      1.0      1.0      1.0      0.0      1.0   \n",
      "1      0.0      0.0      0.0      1.0      0.0      1.0      0.0      0.0   \n",
      "2      0.0      0.0      1.0      1.0      1.0      1.0      0.0      0.0   \n",
      "3      0.0      0.0      1.0      1.0      1.0      1.0      0.0      1.0   \n",
      "4      0.0      0.0      1.0      0.0      1.0      1.0      0.0      0.0   \n",
      "\n",
      "  xDigit_8 xDigit_9  ... xDigit_12 xDigit_13 xDigit_14 xDigit_15 xDigit_16  \\\n",
      "0      1.0      0.0  ...       1.0       1.0       0.0       0.0       1.0   \n",
      "1      1.0      0.0  ...       0.0       1.0       1.0       0.0       1.0   \n",
      "2      1.0      1.0  ...       0.0       1.0       1.0       0.0       0.0   \n",
      "3      0.0      1.0  ...       1.0       1.0       0.0       0.0       1.0   \n",
      "4      1.0      1.0  ...       1.0       0.0       1.0       0.0       1.0   \n",
      "\n",
      "  xDigit_17 xDigit_18 xDigit_19 xDigit_20 labelling  \n",
      "0       1.0       0.0       1.0       1.0   1364502  \n",
      "1       1.0       1.0       0.0       0.0   0416532  \n",
      "2       1.0       1.0       0.0       1.0   3206541  \n",
      "3       1.0       0.0       1.0       1.0   1365042  \n",
      "4       1.0       1.0       1.0       0.0   3056142  \n",
      "\n",
      "[5 rows x 22 columns]\n"
     ]
    }
   ],
   "source": [
    "load_data()"
   ]
  }
 ],
 "metadata": {
  "interpreter": {
   "hash": "9f17ea74e9a07f02efaa90ee1f47e0c923e4f633c8e0a68dd26777c24f53b763"
  },
  "kernelspec": {
   "display_name": "Python 3.9.9 64-bit",
   "language": "python",
   "name": "python3"
  },
  "language_info": {
   "codemirror_mode": {
    "name": "ipython",
    "version": 3
   },
   "file_extension": ".py",
   "mimetype": "text/x-python",
   "name": "python",
   "nbconvert_exporter": "python",
   "pygments_lexer": "ipython3",
   "version": "3.9.9"
  },
  "orig_nbformat": 4
 },
 "nbformat": 4,
 "nbformat_minor": 2
}
