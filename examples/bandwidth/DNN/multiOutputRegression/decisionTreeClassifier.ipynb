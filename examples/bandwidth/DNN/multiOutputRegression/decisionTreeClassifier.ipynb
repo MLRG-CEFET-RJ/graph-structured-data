{
 "cells": [
  {
   "cell_type": "code",
   "execution_count": 39,
   "metadata": {},
   "outputs": [],
   "source": [
    "import numpy as np\n",
    "import os\n",
    "import pandas as pd\n",
    "from numpy import absolute\n",
    "from sklearn.datasets import make_regression\n",
    "from sklearn.model_selection import cross_val_score\n",
    "from sklearn.model_selection import RepeatedKFold\n",
    "from sklearn.multioutput import RegressorChain\n",
    "from sklearn.svm import LinearSVR\n",
    "import networkx as nx"
   ]
  },
  {
   "cell_type": "code",
   "execution_count": 40,
   "metadata": {},
   "outputs": [],
   "source": [
    "NUMBER_NODES = 7\n",
    "\n",
    "def load_data():\n",
    "    train_df = pd.read_csv(os.path.join('..', 'datasets', f'dataset_{NUMBER_NODES}_train.csv'))\n",
    "    val_df = pd.read_csv(os.path.join('..', 'datasets', f'dataset_{NUMBER_NODES}_val.csv'))\n",
    "    test_df = pd.read_csv(os.path.join('..', 'datasets', f'dataset_{NUMBER_NODES}_test.csv'))\n",
    "\n",
    "    featuresNumber = (NUMBER_NODES * NUMBER_NODES - NUMBER_NODES) // 2 \n",
    "    def get_tuple_tensor_dataset(row):\n",
    "        X = row[0 : featuresNumber].astype('float32')\n",
    "        Y = row[featuresNumber + 1: ].astype('float32') # Pula a banda otima na posicao 0\n",
    "        return X, Y\n",
    "\n",
    "    train_dataset = list(map(get_tuple_tensor_dataset, train_df.to_numpy()))\n",
    "    val_dataset = list(map(get_tuple_tensor_dataset, val_df.to_numpy()))\n",
    "    test_dataset = list(map(get_tuple_tensor_dataset, test_df.to_numpy()))\n",
    "\n",
    "    X = []\n",
    "    Y = []\n",
    "    for x, y in train_dataset:\n",
    "        X.append(x)\n",
    "        Y.append(y)\n",
    "    x_train = np.array(X)\n",
    "    y_train = np.array(Y)\n",
    "\n",
    "    X = []\n",
    "    Y = []\n",
    "    for x, y in test_dataset:\n",
    "        X.append(x)\n",
    "        Y.append(y)\n",
    "    x_test = np.array(X)\n",
    "    y_test = np.array(Y)\n",
    "\n",
    "    X = []\n",
    "    Y = []\n",
    "    for x, y in val_dataset:\n",
    "        X.append(x)\n",
    "        Y.append(y)\n",
    "    x_val = np.array(X)\n",
    "    y_val = np.array(Y)\n",
    "\n",
    "    x_train = np.concatenate((x_train, x_val))\n",
    "    y_train = np.concatenate((y_train, y_val))\n",
    "\n",
    "\n",
    "    return x_train, y_train, x_test, y_test"
   ]
  },
  {
   "cell_type": "code",
   "execution_count": 41,
   "metadata": {},
   "outputs": [],
   "source": [
    "x_train, y_train, x_test, y_test = load_data()"
   ]
  },
  {
   "cell_type": "code",
   "execution_count": 42,
   "metadata": {},
   "outputs": [],
   "source": [
    "from sklearn.tree import DecisionTreeRegressor # wrapped in MultiOutputRegressor = 6.553398058252427±1.2143711092842218 \n",
    "# NOT WRAPPED - 4.43367718446602±0.9514140333106413\n",
    "# NOT WRAPPED INT32 - 4.429793689320388±0.9513267210855783\n",
    "# from sklearn.neighbors import KNeighborsRegressor\n",
    "from sklearn.linear_model import LinearRegression # wrapped in MultiOutputRegressor = 6.263288834951457±0.9735142321834289\n",
    "# from sklearn.ensemble import RandomForestRegressor\n",
    "# from sklearn.ensemble import GradientBoostingRegressor\n",
    "# from sklearn.linear_model import LogisticRegression\n",
    "# from sklearn.tree import DecisionTreeClassifier\n",
    "# from sklearn.neural_network import MLPRegressor\n",
    "from sklearn.linear_model import Ridge\n",
    "from sklearn.multioutput import MultiOutputRegressor\n",
    "from sklearn.tree import DecisionTreeClassifier\n",
    "from sklearn.neighbors import KNeighborsClassifier\n",
    "from sklearn.neighbors import KNeighborsRegressor\n",
    "\n",
    "# model = MultiOutputRegressor(Ridge(random_state=123))\n",
    "model = DecisionTreeClassifier()\n",
    "# model = RegressorChain(DecisionTreeClassifier())\n",
    "# model = DecisionTreeClassifier()"
   ]
  },
  {
   "cell_type": "code",
   "execution_count": 43,
   "metadata": {},
   "outputs": [
    {
     "data": {
      "text/plain": [
       "DecisionTreeClassifier()"
      ]
     },
     "execution_count": 43,
     "metadata": {},
     "output_type": "execute_result"
    }
   ],
   "source": [
    "model.fit(x_train, y_train)"
   ]
  },
  {
   "cell_type": "code",
   "execution_count": 44,
   "metadata": {},
   "outputs": [
    {
     "data": {
      "text/plain": [
       "17"
      ]
     },
     "execution_count": 44,
     "metadata": {},
     "output_type": "execute_result"
    }
   ],
   "source": [
    "model.get_depth()"
   ]
  },
  {
   "cell_type": "code",
   "execution_count": 45,
   "metadata": {},
   "outputs": [],
   "source": [
    "# from sklearn import tree\n",
    "\n",
    "# text_representation = tree.export_text(model)\n",
    "# print(text_representation)"
   ]
  },
  {
   "cell_type": "code",
   "execution_count": 46,
   "metadata": {},
   "outputs": [],
   "source": [
    "# import matplotlib.pyplot as plt\n",
    "# # https://mljar.com/blog/visualize-decision-tree/\n",
    "\n",
    "# _ = tree.plot_tree(model, filled=True, max_depth=3)\n",
    "# # plt.title(\"Decision tree\")\n",
    "# # plt.savefig('dale.png')"
   ]
  },
  {
   "cell_type": "code",
   "execution_count": 47,
   "metadata": {},
   "outputs": [],
   "source": [
    "# import graphviz\n",
    "\n",
    "# import os\n",
    "# os.environ[\"PATH\"] += os.pathsep + 'C:/Program Files/Graphviz/bin/'\n",
    "\n",
    "# # DOT data,\n",
    "# dot_data = tree.export_graphviz(model, out_file=None, filled=True)\n",
    "\n",
    "# # Draw graph\n",
    "# graph = graphviz.Source(dot_data, format=\"png\") \n",
    "# graph.render(\"decision_tree_graphivz\")"
   ]
  },
  {
   "cell_type": "code",
   "execution_count": 48,
   "metadata": {},
   "outputs": [
    {
     "data": {
      "text/plain": [
       "'decision_tree_graphivz2_NEWEST.png'"
      ]
     },
     "execution_count": 48,
     "metadata": {},
     "output_type": "execute_result"
    }
   ],
   "source": [
    "# from dtreeviz.trees import dtreeviz\n",
    "# from sklearn import datasets\n",
    "# from sklearn import tree\n",
    "# import graphviz\n",
    "\n",
    "# # model1 = DecisionTreeRegressor()\n",
    "# model2 = DecisionTreeClassifier()\n",
    "# # model1.fit(x_train, y_train)\n",
    "# model2.fit(x_train, y_train)\n",
    "\n",
    "# # dotfile1 = tree.export_graphviz(model1, out_file=None, filled = True,  label='root', max_depth=3, impurity=True)\n",
    "# dotfile2 = tree.export_graphviz(model2, out_file=None, filled = True, label='root', max_depth=4, impurity=True)\n",
    "# # graph1 = graphviz.Source(dotfile1, format=\"png\") \n",
    "# # graph1.render(\"decision_tree_graphivz1_NEWEST\")\n",
    "# graph2 = graphviz.Source(dotfile2, format=\"png\") \n",
    "# graph2.render(\"decision_tree_graphivz2_NEWEST\")"
   ]
  },
  {
   "cell_type": "code",
   "execution_count": 49,
   "metadata": {},
   "outputs": [],
   "source": [
    "# model1"
   ]
  },
  {
   "cell_type": "code",
   "execution_count": 50,
   "metadata": {},
   "outputs": [],
   "source": [
    "# import matplotlib.pyplot as plt\n",
    "# from sklearn.datasets import make_friedman1\n",
    "# from sklearn.ensemble import GradientBoostingRegressor\n",
    "# from sklearn.inspection import PartialDependenceDisplay\n",
    "# X, y = make_friedman1()\n",
    "# clf = GradientBoostingRegressor(n_estimators=10).fit(X, y)\n",
    "# PartialDependenceDisplay.from_estimator(clf, X, [0, (0, 1)])\n",
    "\n",
    "# plt.show()"
   ]
  },
  {
   "cell_type": "code",
   "execution_count": 51,
   "metadata": {},
   "outputs": [],
   "source": [
    "# from sklearn.inspection import PartialDependenceDisplay\n",
    "# import matplotlib.pyplot as plt\n",
    "\n",
    "# PartialDependenceDisplay.from_estimator(model1, x_test, [9, (1)])\n",
    "# plt.show()"
   ]
  },
  {
   "cell_type": "code",
   "execution_count": 52,
   "metadata": {},
   "outputs": [
    {
     "data": {
      "text/plain": [
       "'\\n\\nfrom dtreeviz.trees import dtreeviz # remember to load the package\\n\\n# viz = dtreeviz(model, x_train, y_train)\\n# viz\\n\\nfrom sklearn import datasets\\n\\niris = datasets.load_iris()\\nX = iris.data\\ny = iris.target\\n\\nboston = datasets.load_boston()\\nX = boston.data\\ny = boston.target\\nprint(X.shape)\\nprint(y.shape)\\nprint(y)\\n\\n# model = DecisionTreeRegressor()\\nmodel = DecisionTreeClassifier()\\nmodel.fit(x_train, y_train)\\n\\nviz = dtreeviz(model, x_train, y_train)\\nviz\\n'"
      ]
     },
     "execution_count": 52,
     "metadata": {},
     "output_type": "execute_result"
    }
   ],
   "source": [
    "\"\"\"\n",
    "\n",
    "from dtreeviz.trees import dtreeviz # remember to load the package\n",
    "\n",
    "# viz = dtreeviz(model, x_train, y_train)\n",
    "# viz\n",
    "\n",
    "from sklearn import datasets\n",
    "\n",
    "iris = datasets.load_iris()\n",
    "X = iris.data\n",
    "y = iris.target\n",
    "\n",
    "boston = datasets.load_boston()\n",
    "X = boston.data\n",
    "y = boston.target\n",
    "print(X.shape)\n",
    "print(y.shape)\n",
    "print(y)\n",
    "\n",
    "# model = DecisionTreeRegressor()\n",
    "model = DecisionTreeClassifier()\n",
    "model.fit(x_train, y_train)\n",
    "\n",
    "viz = dtreeviz(model, x_train, y_train)\n",
    "viz\n",
    "\"\"\""
   ]
  },
  {
   "cell_type": "code",
   "execution_count": 53,
   "metadata": {},
   "outputs": [],
   "source": [
    "def count_repeats(output):\n",
    "    counts = np.unique(np.round(output))\n",
    "    repeated = NUMBER_NODES - counts.shape[0]\n",
    "    return repeated\n",
    "\n",
    "def get_valid_pred(pred):\n",
    "    valid = np.ones(NUMBER_NODES)\n",
    "    labels = np.arange(0, NUMBER_NODES)\n",
    "    for i in labels:\n",
    "        min_value = np.amin(pred)\n",
    "        min_idx, = np.where(pred == min_value)\n",
    "        min_idx = min_idx[0]\n",
    "        pred[min_idx] = 100\n",
    "        valid[min_idx] = i\n",
    "    return valid\n",
    "    \n",
    "def get_bandwidth(Graph, nodelist):\n",
    "    Graph = nx.Graph(Graph)\n",
    "    if not Graph.edges:\n",
    "        return 0\n",
    "    if nodelist.all() != None:\n",
    "        L = nx.laplacian_matrix(Graph, nodelist=nodelist)\n",
    "    else:\n",
    "        L = nx.laplacian_matrix(Graph)\n",
    "    x, y = np.nonzero(L)\n",
    "    return (x-y).max()\n",
    "\n",
    "def getGraph(upperTriangleAdjMatrix):\n",
    "    dense_adj = np.zeros((NUMBER_NODES, NUMBER_NODES))\n",
    "    k = 0\n",
    "    for i in range(NUMBER_NODES):\n",
    "        for j in range(NUMBER_NODES):\n",
    "            if i == j:\n",
    "                continue\n",
    "            elif i < j:\n",
    "                dense_adj[i][j] = upperTriangleAdjMatrix[k]\n",
    "                k += 1\n",
    "            else:\n",
    "                dense_adj[i][j] = dense_adj[j][i]\n",
    "    return dense_adj"
   ]
  },
  {
   "cell_type": "code",
   "execution_count": 54,
   "metadata": {},
   "outputs": [],
   "source": [
    "# model.get_n_leaves()"
   ]
  },
  {
   "cell_type": "code",
   "execution_count": 55,
   "metadata": {},
   "outputs": [],
   "source": [
    "# x_test = np.concatenate((x_train, x_test))\n",
    "# y_test = np.concatenate((y_train, y_test))\n",
    "pred = model.predict(x_test) \n",
    "\n",
    "# import sys\n",
    "# import numpy\n",
    "# numpy.set_printoptions(threshold=sys.maxsize)\n",
    "\n",
    "# print(len(x_test))\n",
    "\n",
    "# a = model.decision_path(x_test)\n",
    "# print(a.todense())\n",
    "# a"
   ]
  },
  {
   "cell_type": "code",
   "execution_count": 56,
   "metadata": {},
   "outputs": [],
   "source": [
    "import time\n",
    "\n",
    "sumTest_original = []\n",
    "sumTest_pred = []\n",
    "sumTest_true = []\n",
    "\n",
    "count = 0\n",
    "cases_with_repetition = 0\n",
    "\n",
    "start = time.time()\n",
    "for i in range(len(pred)):\n",
    "\n",
    "    output = pred[i]\n",
    "\n",
    "    quantity_repeated = count_repeats(np.round(output))\n",
    "    # print('Pred: ', output)\n",
    "    # print('True: ', y_test[i])\n",
    "    if quantity_repeated != 0:\n",
    "        cases_with_repetition += 1\n",
    "    output = get_valid_pred(output)\n",
    "    # print('Pred valid: ', output)\n",
    "    count += quantity_repeated\n",
    "\n",
    "    # print(\"Bandwidth\")\n",
    "    graph = getGraph(x_test[i])\n",
    "    original_band = get_bandwidth(graph, np.array(None))\n",
    "    sumTest_original.append(original_band)\n",
    "\n",
    "    pred_band = get_bandwidth(graph, output)\n",
    "    sumTest_pred.append(pred_band)\n",
    "\n",
    "    true_band = get_bandwidth(graph, y_test[i])\n",
    "    sumTest_true.append(true_band)\n",
    "\n",
    "    # print(\"Bandwidth\")\n",
    "    # print(original_band)\n",
    "    # print(pred_band)\n",
    "    # print(true_band)\n",
    "end = time.time()"
   ]
  },
  {
   "cell_type": "code",
   "execution_count": 57,
   "metadata": {},
   "outputs": [
    {
     "name": "stdout",
     "output_type": "stream",
     "text": [
      "Quantidade de rótulos repetidos, exemplo [1, 1, 1, 1, 1, 1, 1] conta como 6 -  0\n",
      "Quantidade de saídas com repetição, exemplo [1, 1, 1, 1, 1, 1, 1] conta como 1 -  0\n",
      "Test length -  63\n",
      "Tempo medio -  0.0043669163234650145\n",
      "Bandwidth mean±std\n",
      "5.904761904761905±0.2935435239509036\n",
      "Pred bandwidth mean±std\n",
      "3.4444444444444446±0.9220022686639749\n",
      "True bandwidth mean±std\n",
      "3.1904761904761907±0.7095078297976829\n"
     ]
    }
   ],
   "source": [
    "print('Quantidade de rótulos repetidos, exemplo [1, 1, 1, 1, 1, 1, 1] conta como 6 - ', count)\n",
    "print('Quantidade de saídas com repetição, exemplo [1, 1, 1, 1, 1, 1, 1] conta como 1 - ', cases_with_repetition)\n",
    "test_length = pred.shape[0]\n",
    "\n",
    "print('Test length - ', test_length)\n",
    "print('Tempo medio - ', (end - start) / test_length)\n",
    "print(\"Bandwidth mean±std\")\n",
    "print(f'{np.mean(sumTest_original)}±{np.std(sumTest_original)}')\n",
    "print(\"Pred bandwidth mean±std\")\n",
    "print(f'{np.mean(sumTest_pred)}±{np.std(sumTest_pred)}')\n",
    "print(\"True bandwidth mean±std\")\n",
    "print(f'{np.mean(sumTest_true)}±{np.std(sumTest_true)}')"
   ]
  },
  {
   "cell_type": "markdown",
   "metadata": {},
   "source": [
    "# Notes\n",
    "\n",
    "## No Chained Multioutput Regression\n",
    "- Only DecisionTreeRegressor, counted repeats: 0\n",
    "- Only LinearRegression, counted repeats: 238\n",
    "- Only KNeighborsRegressor, counted repeats: I couldn't get the output (infinite loading)\n",
    "\n",
    "## Chained Multioutput Regression\n",
    "\n",
    "- DecisionTreeRegressor, counted repeats: 26, 30\n",
    "- LinearRegression, counted repeats: 238\n",
    "- KNeighborsRegressor, counted repeats: 119\n",
    "- SVM, actually support vector regression: 213\n",
    "\n",
    "## No Chained Multioutput Regression but treating eache output independently (wrong)\n",
    "- SVM, actually support vector regression: 194\n",
    "- KNeighborsRegressor, counted repeats: I couldn't get the output (infinite loading)\n",
    "- LinearRegression, counted repeats: 238\n",
    "- DecisionTreeRegressor, counted repeats: 116\n",
    "\n",
    "### https://machinelearningmastery.com/multi-output-regression-models-with-python/\n",
    "\n",
    "#### Essa abordagens eu testei:\n",
    "https://machinelearningmastery.com/multi-label-classification-with-deep-learning/\n",
    "(sigmoid no final, e binary_crossentropy como loss)\n",
    "\n",
    "https://machinelearningmastery.com/how-to-develop-a-convolutional-neural-network-to-classify-satellite-photos-of-the-amazon-rainforest/"
   ]
  }
 ],
 "metadata": {
  "interpreter": {
   "hash": "9eba946ae18c2fd52bd7ee0675653c9ba3cc2017ffd7c41149393a04d904615d"
  },
  "kernelspec": {
   "display_name": "Python 3.9.9 64-bit",
   "language": "python",
   "name": "python3"
  },
  "language_info": {
   "codemirror_mode": {
    "name": "ipython",
    "version": 3
   },
   "file_extension": ".py",
   "mimetype": "text/x-python",
   "name": "python",
   "nbconvert_exporter": "python",
   "pygments_lexer": "ipython3",
   "version": "3.9.9"
  },
  "orig_nbformat": 4
 },
 "nbformat": 4,
 "nbformat_minor": 2
}
