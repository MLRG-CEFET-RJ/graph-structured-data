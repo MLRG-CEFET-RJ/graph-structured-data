{
 "cells": [
  {
   "cell_type": "code",
   "execution_count": 1,
   "metadata": {},
   "outputs": [],
   "source": [
    "import numpy as np\n",
    "import torch\n",
    "import torch.nn as nn\n",
    "import torch.optim as optim\n",
    "import matplotlib.pyplot as plt\n",
    "import pandas as pd\n",
    "from torch.utils.data import DataLoader\n",
    "import random\n",
    "import pickle\n",
    "import networkx as nx\n",
    "import os"
   ]
  },
  {
   "cell_type": "code",
   "execution_count": 2,
   "metadata": {},
   "outputs": [],
   "source": [
    "torch.manual_seed(42)\n",
    "random.seed(42)\n",
    "np.random.seed(42)"
   ]
  },
  {
   "cell_type": "code",
   "execution_count": 3,
   "metadata": {},
   "outputs": [],
   "source": [
    "NUMBER_NODES = 7\n",
    "DATASET_PATH = os.path.join(\n",
    "    '..',\n",
    "    '..',\n",
    "    '..',\n",
    "    '..',\n",
    "    'datasets',\n",
    "    'examples',\n",
    "    f'opt_band_{NUMBER_NODES}_nodes_graph.csv'\n",
    ")\n",
    "\n",
    "def load_data():\n",
    "    featuresNumber = ((NUMBER_NODES * NUMBER_NODES - NUMBER_NODES) // 2 )\n",
    "\n",
    "    def get_tuple_tensor_dataset(row):\n",
    "        X = row[0 : featuresNumber].astype('float32')\n",
    "        Y = row[featuresNumber: ].astype('float32') # Inclui a banda otima na posicao 0\n",
    "        return torch.from_numpy(X), torch.from_numpy(Y)\n",
    "\n",
    "    df = pd.read_csv(DATASET_PATH)\n",
    "    print(df.shape)\n",
    "    train_dataset_df = df.sample(frac=0.8)\n",
    "    df_remaining = df.drop(index=train_dataset_df.index)\n",
    "    val_dataset_df = df_remaining.sample(frac=0.7)\n",
    "    test_dataset_df = df_remaining.drop(index=val_dataset_df.index)\n",
    "\n",
    "    return train_dataset_df, val_dataset_df, test_dataset_df\n"
   ]
  },
  {
   "cell_type": "code",
   "execution_count": 4,
   "metadata": {},
   "outputs": [],
   "source": [
    "def save_dataset(df, description):\n",
    "    df.to_csv(f'./dataset_{NUMBER_NODES}_{description}.csv', index=False, line_terminator='\\n')"
   ]
  },
  {
   "cell_type": "code",
   "execution_count": 5,
   "metadata": {},
   "outputs": [
    {
     "name": "stdout",
     "output_type": "stream",
     "text": [
      "(1044, 29)\n"
     ]
    }
   ],
   "source": [
    "train_df, val_df, test_df = load_data()\n",
    "\n",
    "save_dataset(train_df, 'train')\n",
    "save_dataset(val_df, 'val')\n",
    "save_dataset(test_df,'test')"
   ]
  }
 ],
 "metadata": {
  "interpreter": {
   "hash": "9f17ea74e9a07f02efaa90ee1f47e0c923e4f633c8e0a68dd26777c24f53b763"
  },
  "kernelspec": {
   "display_name": "Python 3.9.9 64-bit",
   "language": "python",
   "name": "python3"
  },
  "language_info": {
   "codemirror_mode": {
    "name": "ipython",
    "version": 3
   },
   "file_extension": ".py",
   "mimetype": "text/x-python",
   "name": "python",
   "nbconvert_exporter": "python",
   "pygments_lexer": "ipython3",
   "version": "3.9.9"
  },
  "orig_nbformat": 4
 },
 "nbformat": 4,
 "nbformat_minor": 2
}
