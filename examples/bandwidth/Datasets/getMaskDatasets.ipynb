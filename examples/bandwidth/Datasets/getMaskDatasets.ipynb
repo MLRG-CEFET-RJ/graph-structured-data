{
 "cells": [
  {
   "cell_type": "code",
   "execution_count": 11,
   "metadata": {},
   "outputs": [],
   "source": [
    "import numpy as np\n",
    "import torch\n",
    "import pandas as pd\n",
    "import random\n",
    "import os"
   ]
  },
  {
   "cell_type": "code",
   "execution_count": 12,
   "metadata": {},
   "outputs": [],
   "source": [
    "MAX_NUMBER_NODES = 9\n",
    "MAX_FEATURES_AMOUNT = ((MAX_NUMBER_NODES * MAX_NUMBER_NODES - MAX_NUMBER_NODES) // 2 )\n",
    "NUMBER_NODES_IN_DATASET = [MAX_NUMBER_NODES, 7]\n",
    "\n",
    "# final_shape = MAX_FEATURES_AMOUNT + MAX_NUMBER_NODES + 1\n",
    "# features + labels + optimal band (skipped in the models when loading the data)"
   ]
  },
  {
   "cell_type": "code",
   "execution_count": 13,
   "metadata": {},
   "outputs": [],
   "source": [
    "torch.manual_seed(42)\n",
    "random.seed(42)\n",
    "np.random.seed(42)"
   ]
  },
  {
   "cell_type": "code",
   "execution_count": 14,
   "metadata": {},
   "outputs": [],
   "source": [
    "def get_dataset_path(number_nodes):\n",
    "  dataset_path = os.path.join(\n",
    "    '..',\n",
    "    '..',\n",
    "    '..',\n",
    "    'datasets',\n",
    "    'examples',\n",
    "    f'opt_band_{number_nodes}_nodes_graph.csv'\n",
    ")\n",
    "  return dataset_path\n",
    "\n",
    "def save_dataset(df, description):\n",
    "  df.to_csv(f'./dataset_{description}.csv', index=False, line_terminator='\\n')\n",
    "\n",
    "def split_and_shuffle_datasets(df):\n",
    "    train_dataset_df = df.sample(frac=0.8)\n",
    "    df_remaining = df.drop(index=train_dataset_df.index)\n",
    "    val_dataset_df = df_remaining.sample(frac=0.5)\n",
    "    test_dataset_df = df_remaining.drop(index=val_dataset_df.index)\n",
    "\n",
    "    return train_dataset_df, val_dataset_df, test_dataset_df\n",
    "\n",
    "def shuffle_dataset(df):\n",
    "  return df.sample(frac=1.0)\n",
    "\n",
    "def append_dataset(df, number_nodes):\n",
    "  featuresAmount = ((number_nodes * number_nodes - number_nodes) // 2 )\n",
    "  mask_features_amount = 0\n",
    "  mask_labels_amount = 0\n",
    "  if number_nodes < MAX_NUMBER_NODES:\n",
    "    mask_features_amount = MAX_FEATURES_AMOUNT - featuresAmount\n",
    "    mask_labels_amount = MAX_NUMBER_NODES - number_nodes\n",
    "  new_df = load_data(number_nodes, featuresAmount, mask_features_amount, mask_labels_amount)\n",
    "  df = pd.concat((df, new_df))\n",
    "  df = shuffle_dataset(df)\n",
    "  return df"
   ]
  },
  {
   "cell_type": "code",
   "execution_count": 15,
   "metadata": {},
   "outputs": [
    {
     "name": "stdout",
     "output_type": "stream",
     "text": [
      "(274668, 46)\n",
      "(274668, 46)\n",
      "(1044, 29)\n",
      "(1044, 46)\n",
      "(34, 16)\n",
      "(34, 46)\n"
     ]
    }
   ],
   "source": [
    "columns = []\n",
    "for i in range(MAX_FEATURES_AMOUNT):\n",
    "  columns.append(f'xDigit_{i}')\n",
    "columns.append(\"opt_band\")\n",
    "for j in range(MAX_NUMBER_NODES):\n",
    "  columns.append(f\"yLabel_{j}\")\n",
    "\n",
    "def load_data(number_nodes, featuresAmount, mask_features_amount, mask_labels_amount):\n",
    "  def get_masked_dataset(row):\n",
    "    x = row[0 : featuresAmount]\n",
    "    y = row[featuresAmount: ]\n",
    "    # mask_features = np.ones(mask_features_amount) * -1\n",
    "    mask_features = np.ones(mask_features_amount) * 2\n",
    "    x = np.concatenate((x, mask_features))\n",
    "    # mask_labels = np.ones(mask_labels_amount) * -1\n",
    "    mask_labels = np.ones(mask_labels_amount) * 35\n",
    "    y = np.concatenate((y, mask_labels))\n",
    "    row = np.concatenate((x, y))\n",
    "    return row\n",
    "\n",
    "  df = pd.read_csv(get_dataset_path(number_nodes))\n",
    "  print(df.shape)\n",
    "  if mask_features_amount != 0:\n",
    "    df = pd.DataFrame(list(map(get_masked_dataset, df.to_numpy())), columns=columns)\n",
    "  print(df.shape)\n",
    "  return df\n",
    "  \n",
    "masked_df = pd.DataFrame(columns=columns)\n",
    "for number_nodes in NUMBER_NODES_IN_DATASET:\n",
    "  featuresAmount = ((number_nodes * number_nodes - number_nodes) // 2 )\n",
    "  mask_features_amount = 0\n",
    "  mask_labels_amount = 0\n",
    "\n",
    "  if number_nodes < MAX_NUMBER_NODES:\n",
    "    mask_features_amount = MAX_FEATURES_AMOUNT - featuresAmount\n",
    "    mask_labels_amount = MAX_NUMBER_NODES - number_nodes\n",
    "\n",
    "  df = load_data(number_nodes, featuresAmount, mask_features_amount, mask_labels_amount)\n",
    "  masked_df = pd.concat((masked_df, df))\n",
    "\n",
    "train_dataset_df, val_dataset_df, test_dataset_df = split_and_shuffle_datasets(masked_df)\n",
    "\n",
    "test_dataset_df = append_dataset(test_dataset_df, 5)\n",
    "\n",
    "save_dataset(train_dataset_df, '7_9_train(2and35_as_mask)')\n",
    "save_dataset(val_dataset_df, '7_9_val(2and35_as_mask)')\n",
    "save_dataset(test_dataset_df, '5_7_9_test(2and35_as_mask)')"
   ]
  }
 ],
 "metadata": {
  "kernelspec": {
   "display_name": "Python 3.9.9 64-bit",
   "language": "python",
   "name": "python3"
  },
  "language_info": {
   "codemirror_mode": {
    "name": "ipython",
    "version": 3
   },
   "file_extension": ".py",
   "mimetype": "text/x-python",
   "name": "python",
   "nbconvert_exporter": "python",
   "pygments_lexer": "ipython3",
   "version": "3.9.9"
  },
  "orig_nbformat": 4,
  "vscode": {
   "interpreter": {
    "hash": "9eba946ae18c2fd52bd7ee0675653c9ba3cc2017ffd7c41149393a04d904615d"
   }
  }
 },
 "nbformat": 4,
 "nbformat_minor": 2
}
