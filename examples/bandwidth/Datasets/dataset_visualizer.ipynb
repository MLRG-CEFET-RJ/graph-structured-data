{
 "cells": [
  {
   "cell_type": "code",
   "execution_count": 33,
   "metadata": {},
   "outputs": [],
   "source": [
    "import pandas as pd\n",
    "import os\n",
    "import numpy as np  "
   ]
  },
  {
   "cell_type": "code",
   "execution_count": 34,
   "metadata": {},
   "outputs": [],
   "source": [
    "def load_train_data(trainDataset, valDataset, maxNumberNodes=9, datatype='int32'):\n",
    "  features_length = (maxNumberNodes * maxNumberNodes - maxNumberNodes) // 2\n",
    "\n",
    "  train_df = pd.read_csv(os.path.join('..', 'Datasets', trainDataset))\n",
    "\n",
    "  val_df = pd.read_csv(os.path.join('..', 'Datasets', valDataset))\n",
    "\n",
    "  train_df = pd.concat((train_df, val_df))\n",
    "\n",
    "  def get_tuple_tensor_dataset(row):\n",
    "    X = row[0 : features_length].astype(datatype)\n",
    "    Y = row[features_length + 1: ].astype(datatype) \n",
    "    return X, Y\n",
    "  train_dataset = list(map(get_tuple_tensor_dataset, train_df.to_numpy()))\n",
    "\n",
    "  # X = []\n",
    "  # Y = []\n",
    "  # for x, y in train_dataset:\n",
    "  #     X.append(x)\n",
    "  #     Y.append(y)\n",
    "  # x_train = np.array(X)\n",
    "  # y_train = np.array(Y)\n",
    "  x_train, y_train = np.squeeze(np.array_split(train_dataset, 2, axis=1))\n",
    "\n",
    "  return x_train, y_train\n",
    "\n",
    "def load_test_data(testDataset, maxNumberNodes=9, datatype='int32'):\n",
    "  features_length = (maxNumberNodes * maxNumberNodes - maxNumberNodes) // 2\n",
    "\n",
    "  test_df = pd.read_csv(os.path.join('..', 'Datasets', testDataset))\n",
    "\n",
    "  def get_tuple_tensor_dataset(row):\n",
    "    X = row[0 : features_length].astype(datatype)\n",
    "    Y = row[features_length + 1: ].astype(datatype) \n",
    "    return X, Y\n",
    "  test_dataset = np.array(list(map(get_tuple_tensor_dataset, test_df.to_numpy())))\n",
    "\n",
    "  x_test, y_test = np.squeeze(np.split(test_dataset, 2, axis=1))\n",
    "\n",
    "  return x_test, y_test"
   ]
  },
  {
   "cell_type": "code",
   "execution_count": 35,
   "metadata": {},
   "outputs": [
    {
     "name": "stderr",
     "output_type": "stream",
     "text": [
      "C:\\Users\\Felipe\\AppData\\Local\\Temp\\ipykernel_4880\\2354309149.py:36: VisibleDeprecationWarning: Creating an ndarray from ragged nested sequences (which is a list-or-tuple of lists-or-tuples-or ndarrays with different lengths or shapes) is deprecated. If you meant to do this, you must specify 'dtype=object' when creating the ndarray.\n",
      "  test_dataset = np.array(list(map(get_tuple_tensor_dataset, test_df.to_numpy())))\n"
     ]
    }
   ],
   "source": [
    "x_test, y_test = load_test_data('dataset_5_7_9_test(2and35_as_mask).csv')"
   ]
  },
  {
   "cell_type": "code",
   "execution_count": 36,
   "metadata": {},
   "outputs": [
    {
     "data": {
      "text/plain": [
       "{9: 27372, 7: 12, 5: 34}"
      ]
     },
     "execution_count": 36,
     "metadata": {},
     "output_type": "execute_result"
    }
   ],
   "source": [
    "max_number_nodes = 9\n",
    "\n",
    "dataset_length = {\n",
    "  9: 0,\n",
    "  7: 0,\n",
    "  5: 0\n",
    "}\n",
    "\n",
    "for _, y in zip(x_test, y_test):\n",
    "  if 35 not in y:\n",
    "    dataset_length[9] += 1\n",
    "    continue\n",
    "\n",
    "  seq_len = max_number_nodes - list(y).count(35)\n",
    "  dataset_length[seq_len] += 1\n",
    "dataset_length"
   ]
  }
 ],
 "metadata": {
  "kernelspec": {
   "display_name": "Python 3.9.9 64-bit",
   "language": "python",
   "name": "python3"
  },
  "language_info": {
   "codemirror_mode": {
    "name": "ipython",
    "version": 3
   },
   "file_extension": ".py",
   "mimetype": "text/x-python",
   "name": "python",
   "nbconvert_exporter": "python",
   "pygments_lexer": "ipython3",
   "version": "3.9.9"
  },
  "orig_nbformat": 4,
  "vscode": {
   "interpreter": {
    "hash": "9eba946ae18c2fd52bd7ee0675653c9ba3cc2017ffd7c41149393a04d904615d"
   }
  }
 },
 "nbformat": 4,
 "nbformat_minor": 2
}
