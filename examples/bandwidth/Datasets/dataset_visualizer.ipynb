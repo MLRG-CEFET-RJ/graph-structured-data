{
 "cells": [
  {
   "cell_type": "code",
   "execution_count": 18,
   "metadata": {},
   "outputs": [],
   "source": [
    "import pandas as pd\n",
    "import os\n",
    "import numpy as np"
   ]
  },
  {
   "cell_type": "code",
   "execution_count": 19,
   "metadata": {},
   "outputs": [],
   "source": [
    "def load_train_data(datatype='int32', MAX_NUMBER_NODES=9, NUMBER_NODES='7_9'):\n",
    "  features_length = (MAX_NUMBER_NODES * MAX_NUMBER_NODES - MAX_NUMBER_NODES) // 2\n",
    "\n",
    "  train_df = pd.read_csv(os.path.join('..', 'datasets', f'dataset_{NUMBER_NODES}_train.csv'))\n",
    "  val_df = pd.read_csv(os.path.join('..', 'datasets', f'dataset_{NUMBER_NODES}_val.csv'))\n",
    "\n",
    "  train_df = pd.concat((train_df, val_df))\n",
    "\n",
    "  def get_tuple_tensor_dataset(row):\n",
    "      X = row[0 : features_length].astype(datatype)\n",
    "      Y = row[features_length + 1: ].astype(datatype) # Pula a banda otima na posicao 0\n",
    "      return X, Y\n",
    "  train_dataset = list(map(get_tuple_tensor_dataset, train_df.to_numpy()))\n",
    "\n",
    "  X = []\n",
    "  Y = []\n",
    "  for x, y in train_dataset:\n",
    "      X.append(x)\n",
    "      Y.append(y)\n",
    "  x_train = np.array(X)\n",
    "  y_train = np.array(Y)\n",
    "\n",
    "  return x_train, y_train"
   ]
  },
  {
   "cell_type": "code",
   "execution_count": 20,
   "metadata": {},
   "outputs": [],
   "source": [
    "x_train, y_train = load_train_data()"
   ]
  },
  {
   "cell_type": "code",
   "execution_count": 25,
   "metadata": {},
   "outputs": [
    {
     "name": "stdout",
     "output_type": "stream",
     "text": [
      "first not masked features and labels:\n",
      "[0 0 0 1 1 0 0 1 0 0 0 1 1 1 0 0 0 0 1 1 1 0 0 1 1 0 0 0 0 1 0 0 0 0 1 1]\n",
      "x shape - (36,)\n",
      "[5 0 4 1 8 7 6 2 3]\n",
      "y shape - (9,)\n",
      "\n",
      "first masked features and labels:\n",
      "[ 0  0  0  1  1  1  0  0  0  1  1  0  0  0  1  0  0  1  0  0  0 -1 -1 -1\n",
      " -1 -1 -1 -1 -1 -1 -1 -1 -1 -1 -1 -1]\n",
      "x shape - (36,)\n",
      "[ 4  5  0  1  6  3  2 -1 -1]\n",
      "y shape - (9,)\n"
     ]
    }
   ],
   "source": [
    "for x, y in zip(x_train, y_train):\n",
    "  if -1 not in x:\n",
    "    print(\"first not masked features and labels:\")\n",
    "    print(x)\n",
    "    print(f'x shape - {x.shape}')\n",
    "    print(y)\n",
    "    print(f'y shape - {y.shape}')\n",
    "    print(\"\")\n",
    "    break\n",
    "\n",
    "for x, y in zip(x_train, y_train):\n",
    "  if -1 in x:\n",
    "    print(\"first masked features and labels:\")\n",
    "    print(x)\n",
    "    print(f'x shape - {x.shape}')\n",
    "    print(y)\n",
    "    print(f'y shape - {y.shape}')\n",
    "    break"
   ]
  }
 ],
 "metadata": {
  "kernelspec": {
   "display_name": "Python 3.9.9 64-bit",
   "language": "python",
   "name": "python3"
  },
  "language_info": {
   "codemirror_mode": {
    "name": "ipython",
    "version": 3
   },
   "file_extension": ".py",
   "mimetype": "text/x-python",
   "name": "python",
   "nbconvert_exporter": "python",
   "pygments_lexer": "ipython3",
   "version": "3.9.9"
  },
  "orig_nbformat": 4,
  "vscode": {
   "interpreter": {
    "hash": "9eba946ae18c2fd52bd7ee0675653c9ba3cc2017ffd7c41149393a04d904615d"
   }
  }
 },
 "nbformat": 4,
 "nbformat_minor": 2
}
