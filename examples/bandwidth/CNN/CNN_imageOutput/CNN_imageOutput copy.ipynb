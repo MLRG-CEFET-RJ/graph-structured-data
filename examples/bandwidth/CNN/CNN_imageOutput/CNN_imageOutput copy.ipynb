{
 "cells": [
  {
   "cell_type": "code",
   "execution_count": 164,
   "metadata": {},
   "outputs": [],
   "source": [
    "import os\n",
    "os.environ[\"CUDA_VISIBLE_DEVICES\"] = \"-1\"\n",
    "import tensorflow as tf\n",
    "import networkx as nx\n",
    "from tensorflow.keras import datasets, layers, models\n",
    "import matplotlib.pyplot as plt\n",
    "import numpy as np\n",
    "import pandas as pd\n",
    "from tensorflow.keras.models import Model\n",
    "from tensorflow.keras.layers import Input\n",
    "from tensorflow.keras.preprocessing.image import ImageDataGenerator\n",
    "from sklearn.preprocessing import MultiLabelBinarizer\n",
    "from os import listdir\n",
    "from os.path import isfile, join\n",
    "from PIL import Image\n",
    "import pickle\n",
    "from tensorflow.keras import backend as K"
   ]
  },
  {
   "cell_type": "code",
   "execution_count": 165,
   "metadata": {},
   "outputs": [],
   "source": [
    "# NUMBER_NODES = 9\n",
    "NUMBER_NODES = 7\n",
    "# NUMBER_NODES = 5\n",
    "DATASET_PATH = f'../../../../datasets/examples/opt_band_{NUMBER_NODES}_nodes_graph.csv'\n",
    "\n",
    "def load_data():\n",
    "    featuresNumber = (NUMBER_NODES * NUMBER_NODES - NUMBER_NODES) // 2 \n",
    "\n",
    "    def get_tuple_dataset(row):\n",
    "        X = row[0 : featuresNumber].astype('float32')\n",
    "        Y = row[featuresNumber: ].astype('float32') # opt_band is in target\n",
    "        return X, Y\n",
    "\n",
    "    df = pd.read_csv(DATASET_PATH)\n",
    "    train_dataset_df = df.sample(frac=0.8)\n",
    "    df_remaining = df.drop(index=train_dataset_df.index)\n",
    "    val_dataset_df = df_remaining.sample(frac=0.7)\n",
    "    test_dataset_df = df_remaining.drop(index=val_dataset_df.index)\n",
    "\n",
    "    train_dataset = list(map(get_tuple_dataset, train_dataset_df.to_numpy()))\n",
    "    val_dataset = list(map(get_tuple_dataset, val_dataset_df.to_numpy()))\n",
    "    test_dataset = list(map(get_tuple_dataset, test_dataset_df.to_numpy()))\n",
    "    return train_dataset, val_dataset, test_dataset"
   ]
  },
  {
   "cell_type": "code",
   "execution_count": 166,
   "metadata": {},
   "outputs": [],
   "source": [
    "train_dataset, val_dataset, test_dataset = load_data()"
   ]
  },
  {
   "cell_type": "code",
   "execution_count": 167,
   "metadata": {},
   "outputs": [],
   "source": [
    "def getGraph(upperTriangleAdjMatrix):\n",
    "    dense_adj = np.zeros((NUMBER_NODES, NUMBER_NODES))\n",
    "    dense_adj = np.zeros((NUMBER_NODES, NUMBER_NODES))\n",
    "    k = 0\n",
    "    for i in range(NUMBER_NODES):\n",
    "        for j in range(NUMBER_NODES):\n",
    "            if i == j:\n",
    "                continue\n",
    "            elif i < j:\n",
    "                dense_adj[i][j] = upperTriangleAdjMatrix[k]\n",
    "                k += 1\n",
    "            else:\n",
    "                dense_adj[i][j] = dense_adj[j][i]\n",
    "    return dense_adj\n",
    "\n",
    "def processDataToImage(graphInput):\n",
    "    adj = getGraph(graphInput)\n",
    "    w, h = NUMBER_NODES, NUMBER_NODES\n",
    "    data = np.zeros((h, w), dtype=np.uint8)\n",
    "    for i in range(len(adj)):\n",
    "        for j in range(len(adj)):\n",
    "            if adj[i, j] == 1:\n",
    "                data[i, j] = 255.0\n",
    "    img = Image.fromarray(data, 'L')\n",
    "    resized = img.resize((32, 32), Image.NEAREST)\n",
    "    image = np.array(resized, dtype=np.float32)\n",
    "    image = np.reshape(image, (32, 32, 1))\n",
    "    return image\n",
    "\n",
    "def processImageOutput(graphInput, nodelist):\n",
    "    adj = getGraph(graphInput)\n",
    "    Graph = nx.Graph(adj)\n",
    "    adj = nx.adjacency_matrix(Graph, nodelist=nodelist)\n",
    "\n",
    "    w, h = NUMBER_NODES, NUMBER_NODES\n",
    "    data = np.zeros((h, w), dtype=np.uint8)\n",
    "    for i in range(adj.shape[0]):\n",
    "        for j in range(adj.shape[0]):\n",
    "            if adj[i, j] == 1:\n",
    "                data[i, j] = 255.0\n",
    "    img = Image.fromarray(data, 'L')\n",
    "    resized = img.resize((32, 32), Image.NEAREST)\n",
    "    image = np.array(resized, dtype=np.float32)\n",
    "    image = np.reshape(image, (32, 32, 1))\n",
    "    return image"
   ]
  },
  {
   "cell_type": "code",
   "execution_count": 168,
   "metadata": {},
   "outputs": [],
   "source": [
    "def getData_2(dataset):\n",
    "    train_x = []\n",
    "    train_output = []\n",
    "    for graphInput, target in dataset:\n",
    "        nodelist = target[1 : ]\n",
    "        x_image = processDataToImage(graphInput)\n",
    "        train_x.append(x_image)\n",
    "        y_image = processImageOutput(graphInput, nodelist)\n",
    "        train_output.append(y_image)\n",
    "    return np.array(train_x), np.array(train_output)"
   ]
  },
  {
   "cell_type": "code",
   "execution_count": 169,
   "metadata": {},
   "outputs": [
    {
     "name": "stdout",
     "output_type": "stream",
     "text": [
      "(835, 32, 32, 1)\n",
      "(835, 32, 32, 1)\n"
     ]
    }
   ],
   "source": [
    "train_x, train_y = getData_2(train_dataset)\n",
    "val_x, val_y= getData_2(val_dataset)\n",
    "test_x, test_y = getData_2(test_dataset)\n",
    "\n",
    "print(train_x.shape)\n",
    "print(train_y.shape)"
   ]
  },
  {
   "cell_type": "code",
   "execution_count": 170,
   "metadata": {},
   "outputs": [
    {
     "data": {
      "image/png": "[encoded data removed]",
      "text/plain": [
       "<Figure size 432x288 with 1 Axes>"
      ]
     },
     "metadata": {
      "needs_background": "light"
     },
     "output_type": "display_data"
    },
    {
     "data": {
      "text/plain": [
       "<Figure size 432x288 with 0 Axes>"
      ]
     },
     "metadata": {},
     "output_type": "display_data"
    }
   ],
   "source": [
    "plt.imshow(train_x[0])\n",
    "plt.show()\n",
    "plt.clf()\n"
   ]
  },
  {
   "cell_type": "code",
   "execution_count": 171,
   "metadata": {},
   "outputs": [
    {
     "data": {
      "text/plain": [
       "<matplotlib.image.AxesImage at 0x1eb32d9cf40>"
      ]
     },
     "execution_count": 171,
     "metadata": {},
     "output_type": "execute_result"
    },
    {
     "data": {
      "image/png": "[encoded data removed]",
      "text/plain": [
       "<Figure size 432x288 with 1 Axes>"
      ]
     },
     "metadata": {
      "needs_background": "light"
     },
     "output_type": "display_data"
    }
   ],
   "source": [
    "plt.imshow(train_y[0])"
   ]
  },
  {
   "cell_type": "code",
   "execution_count": 172,
   "metadata": {},
   "outputs": [
    {
     "name": "stdout",
     "output_type": "stream",
     "text": [
      "(2, 32, 32, 1)\n",
      "(2, 32, 32, 1)\n",
      "float32\n",
      "<dtype: 'float32'>\n",
      "float32\n"
     ]
    }
   ],
   "source": [
    "examples = train_x[0:2]\n",
    "examples_y = train_y[0:2]\n",
    "print(examples.shape)\n",
    "\n",
    "rescaling = layers.Rescaling(1./255)\n",
    "pred = layers.Conv2D(1, 3, padding='same', activation='relu', input_shape=(32, 32))(rescaling(examples))\n",
    "print(pred.shape)\n",
    "\n",
    "print(examples[0].dtype)\n",
    "print(pred[0].dtype)\n",
    "print(examples_y[0].dtype)"
   ]
  },
  {
   "cell_type": "code",
   "execution_count": 179,
   "metadata": {},
   "outputs": [],
   "source": [
    "def frobeniusLoss(y_true, y_pred):\n",
    "  error = y_true - y_pred\n",
    "  size = tf.size(error)\n",
    "  return tf.norm(error, ord='fro',axis=(0,1)) / tf.cast(size, tf.float32)\n",
    "\n",
    "# LAMBDA = 100\n",
    "loss_object = tf.keras.losses.BinaryCrossentropy(from_logits=True)\n",
    "def pix2pixLoss(true, pred):\n",
    "  # gan_loss = loss_object(tf.ones_like(pred), pred)\n",
    "\n",
    "  # Mean absolute error\n",
    "  l1_loss = tf.reduce_mean(tf.abs(true - pred))\n",
    "  # loss = gan_loss + (LAMBDA * l1_loss)\n",
    "  # loss = LAMBDA * l1_loss\n",
    "  loss = l1_loss\n",
    "  # fro = frobeniusLoss(true, pred)\n",
    "  # return loss + fro\n",
    "  return loss\n",
    "\n",
    "# feito somente mae, 256 epochs (output_channel - 1) = saida interessante\n",
    "# feito somente fro, 256 epochs (output_channel - 1) = saída nada interessante\n",
    "# feito mae + fro, 256 epochs (output_channel - 1) = mais ou menos interessante\n",
    "# feito somente mae, 8 epochs (output_channel - 3), 7 nodes = MUITO INTERESSANTE\n",
    "# feito somente mae com BinaryCrossentropy, 8 epochs (output_channel - 3), 7 nodes = mais ou menos interessante\n",
    "# feito somente mae, 32 epochs (output_channel - 3), 7 nodes = MUITO INTERESSANTE, mas as saidas sao bem parecidas (cantos pretos)\n",
    "# feito somente mae, 32 epochs (output_channel - 1), 7 nodes = resultado muito parecido com o anterior (só q o anterior é 3 channels)\n",
    "# fazendo somente mae, 16 epochs (output_channel - 1), 7 nodes, sem lambda = resultado muito parecido com o anterior\n",
    "# a fazer somente frobenius, 32 epochs (output_channel - 1), 7 nodes = resultado parecido com anterior, mas o meio nao fica bem definido"
   ]
  },
  {
   "cell_type": "code",
   "execution_count": 187,
   "metadata": {},
   "outputs": [
    {
     "name": "stdout",
     "output_type": "stream",
     "text": [
      "Epoch 1/32\n",
      "27/27 [==============================] - 138s 5s/step - loss: 0.1610 - accuracy: 0.2601 - val_loss: 0.1680 - val_accuracy: 0.5734\n",
      "Epoch 2/32\n",
      "27/27 [==============================] - 131s 5s/step - loss: 0.1610 - accuracy: 0.0180 - val_loss: 0.1679 - val_accuracy: 0.5734\n",
      "Epoch 3/32\n",
      "27/27 [==============================] - 131s 5s/step - loss: 0.1609 - accuracy: 0.0149 - val_loss: 0.1679 - val_accuracy: 0.5734\n",
      "Epoch 4/32\n",
      "27/27 [==============================] - 143s 5s/step - loss: 0.1608 - accuracy: 0.0191 - val_loss: 0.1678 - val_accuracy: 0.5734\n",
      "Epoch 5/32\n",
      "27/27 [==============================] - 138s 5s/step - loss: 0.1611 - accuracy: 0.0222 - val_loss: 0.1678 - val_accuracy: 0.5734\n",
      "Epoch 6/32\n",
      "27/27 [==============================] - 123s 5s/step - loss: 0.1609 - accuracy: 0.0265 - val_loss: 0.1678 - val_accuracy: 0.5734\n",
      "Epoch 7/32\n",
      "27/27 [==============================] - 121s 4s/step - loss: 0.1609 - accuracy: 0.0370 - val_loss: 0.1678 - val_accuracy: 0.5734\n",
      "Epoch 8/32\n",
      "27/27 [==============================] - 122s 5s/step - loss: 0.1610 - accuracy: 0.0508 - val_loss: 0.1678 - val_accuracy: 0.5734\n",
      "Epoch 9/32\n",
      "27/27 [==============================] - 121s 4s/step - loss: 0.1609 - accuracy: 0.0663 - val_loss: 0.1678 - val_accuracy: 0.5734\n",
      "Epoch 10/32\n",
      "27/27 [==============================] - 122s 5s/step - loss: 0.1610 - accuracy: 0.0765 - val_loss: 0.1678 - val_accuracy: 0.5734\n",
      "Epoch 11/32\n",
      "27/27 [==============================] - 122s 5s/step - loss: 0.1610 - accuracy: 0.0857 - val_loss: 0.1679 - val_accuracy: 0.5734\n",
      "Epoch 12/32\n",
      "27/27 [==============================] - 122s 5s/step - loss: 0.1609 - accuracy: 0.0801 - val_loss: 0.1679 - val_accuracy: 0.5734\n",
      "Epoch 13/32\n",
      "27/27 [==============================] - 121s 4s/step - loss: 0.1609 - accuracy: 0.0894 - val_loss: 0.1679 - val_accuracy: 0.5734\n",
      "Epoch 14/32\n",
      "27/27 [==============================] - 121s 4s/step - loss: 0.1610 - accuracy: 0.0987 - val_loss: 0.1679 - val_accuracy: 0.5734\n",
      "Epoch 15/32\n",
      "27/27 [==============================] - 124s 5s/step - loss: 0.1610 - accuracy: 0.0990 - val_loss: 0.1679 - val_accuracy: 0.5734\n",
      "Epoch 16/32\n",
      "27/27 [==============================] - 123s 5s/step - loss: 0.1610 - accuracy: 0.1023 - val_loss: 0.1679 - val_accuracy: 0.5713\n",
      "Epoch 17/32\n",
      "27/27 [==============================] - 122s 5s/step - loss: 0.1608 - accuracy: 0.1146 - val_loss: 0.1679 - val_accuracy: 0.5653\n",
      "Epoch 18/32\n",
      "27/27 [==============================] - 122s 5s/step - loss: 0.1609 - accuracy: 0.1269 - val_loss: 0.1678 - val_accuracy: 0.5527\n",
      "Epoch 19/32\n",
      "27/27 [==============================] - 122s 5s/step - loss: 0.1610 - accuracy: 0.1345 - val_loss: 0.1678 - val_accuracy: 0.5354\n",
      "Epoch 20/32\n",
      "27/27 [==============================] - 122s 5s/step - loss: 0.1612 - accuracy: 0.1348 - val_loss: 0.1678 - val_accuracy: 0.5244\n",
      "Epoch 21/32\n",
      "27/27 [==============================] - 122s 5s/step - loss: 0.1610 - accuracy: 0.0296 - val_loss: 0.1675 - val_accuracy: 0.2053\n",
      "Epoch 22/32\n",
      "27/27 [==============================] - 122s 5s/step - loss: 0.1607 - accuracy: 0.0244 - val_loss: 0.1674 - val_accuracy: 0.1812\n",
      "Epoch 23/32\n",
      "27/27 [==============================] - 122s 5s/step - loss: 0.1610 - accuracy: 0.0342 - val_loss: 0.1674 - val_accuracy: 0.1849\n",
      "Epoch 24/32\n",
      "27/27 [==============================] - 121s 5s/step - loss: 0.1609 - accuracy: 0.0762 - val_loss: 0.1674 - val_accuracy: 0.1825\n",
      "Epoch 25/32\n",
      "27/27 [==============================] - 122s 5s/step - loss: 0.1608 - accuracy: 0.1241 - val_loss: 0.1674 - val_accuracy: 0.1889\n",
      "Epoch 26/32\n",
      "27/27 [==============================] - 124s 5s/step - loss: 0.1610 - accuracy: 0.1433 - val_loss: 0.1674 - val_accuracy: 0.1904\n",
      "Epoch 27/32\n",
      "27/27 [==============================] - 121s 4s/step - loss: 0.1606 - accuracy: 0.1504 - val_loss: 0.1674 - val_accuracy: 0.1935\n",
      "Epoch 28/32\n",
      "27/27 [==============================] - 122s 4s/step - loss: 0.1609 - accuracy: 0.1600 - val_loss: 0.1674 - val_accuracy: 0.1937\n",
      "Epoch 29/32\n",
      "27/27 [==============================] - 122s 5s/step - loss: 0.1611 - accuracy: 0.1666 - val_loss: 0.1674 - val_accuracy: 0.1940\n",
      "Epoch 30/32\n",
      "27/27 [==============================] - 122s 5s/step - loss: 0.1608 - accuracy: 0.1691 - val_loss: 0.1674 - val_accuracy: 0.1965\n",
      "Epoch 31/32\n",
      "27/27 [==============================] - 122s 5s/step - loss: 0.1609 - accuracy: 0.1746 - val_loss: 0.1674 - val_accuracy: 0.1974\n",
      "Epoch 32/32\n",
      "27/27 [==============================] - 121s 5s/step - loss: 0.1612 - accuracy: 0.1815 - val_loss: 0.1674 - val_accuracy: 0.1993\n"
     ]
    }
   ],
   "source": [
    "data_augmentation = tf.keras.Sequential(\n",
    "  [\n",
    "    layers.RandomFlip(\"horizontal\", input_shape=(256, 256, 3)),\n",
    "    layers.RandomRotation(0.1),\n",
    "    layers.RandomZoom(0.1),\n",
    "  ]\n",
    ")\n",
    "\n",
    "initializer = tf.random_normal_initializer(0., 0.02)\n",
    "model = tf.keras.models.Sequential([\n",
    "  layers.Rescaling(1./255),\n",
    "  tf.keras.layers.Conv2D(64, 4, strides=2, padding='same', kernel_initializer=initializer, use_bias=False),\n",
    "  tf.keras.layers.LeakyReLU(),\n",
    "  tf.keras.layers.Conv2D(128, 4, strides=2, padding='same', kernel_initializer=initializer, use_bias=False),\n",
    "  tf.keras.layers.LeakyReLU(),\n",
    "  tf.keras.layers.Conv2D(256, 4, strides=2, padding='same', kernel_initializer=initializer, use_bias=False),\n",
    "  tf.keras.layers.LeakyReLU(),\n",
    "  tf.keras.layers.Conv2D(512, 4, strides=2, padding='same', kernel_initializer=initializer, use_bias=False),\n",
    "  tf.keras.layers.LeakyReLU(),\n",
    "  tf.keras.layers.Conv2D(512, 4, strides=2, padding='same', kernel_initializer=initializer, use_bias=False),\n",
    "  tf.keras.layers.LeakyReLU(),\n",
    "  tf.keras.layers.Conv2D(512, 4, strides=2, padding='same', kernel_initializer=initializer, use_bias=False),\n",
    "  tf.keras.layers.LeakyReLU(),\n",
    "  tf.keras.layers.Conv2D(512, 4, strides=2, padding='same', kernel_initializer=initializer, use_bias=False),\n",
    "  tf.keras.layers.LeakyReLU(),\n",
    "  tf.keras.layers.Conv2D(512, 4, strides=2, padding='same', kernel_initializer=initializer, use_bias=False),\n",
    "  tf.keras.layers.LeakyReLU(),\n",
    "  tf.keras.layers.Conv2DTranspose(512, 4,  strides=2, padding='same', kernel_initializer=initializer, use_bias=False),\n",
    "  tf.keras.layers.BatchNormalization(),\n",
    "  tf.keras.layers.Dropout(0.5),\n",
    "  tf.keras.layers.ReLU(),\n",
    "  # tf.keras.layers.Conv2DTranspose(512, 4,  strides=2, padding='same', kernel_initializer=initializer, use_bias=False),\n",
    "  # tf.keras.layers.BatchNormalization(),\n",
    "  # tf.keras.layers.Dropout(0.5),\n",
    "  # tf.keras.layers.ReLU(),\n",
    "  # tf.keras.layers.Conv2DTranspose(512, 4,  strides=2, padding='same', kernel_initializer=initializer, use_bias=False),\n",
    "  # tf.keras.layers.BatchNormalization(),\n",
    "  # tf.keras.layers.Dropout(0.5),\n",
    "  # tf.keras.layers.ReLU(),\n",
    "  # tf.keras.layers.Conv2DTranspose(512, 4,  strides=2, padding='same', kernel_initializer=initializer, use_bias=False),\n",
    "  # tf.keras.layers.BatchNormalization(),\n",
    "  # tf.keras.layers.ReLU(),\n",
    "  tf.keras.layers.Conv2DTranspose(256, 4,  strides=2, padding='same', kernel_initializer=initializer, use_bias=False),\n",
    "  tf.keras.layers.BatchNormalization(),\n",
    "  tf.keras.layers.ReLU(),\n",
    "  tf.keras.layers.Conv2DTranspose(128, 4,  strides=2, padding='same', kernel_initializer=initializer, use_bias=False),\n",
    "  tf.keras.layers.BatchNormalization(),\n",
    "  tf.keras.layers.ReLU(),\n",
    "  tf.keras.layers.Conv2DTranspose(64, 4,  strides=2, padding='same', kernel_initializer=initializer, use_bias=False),\n",
    "  tf.keras.layers.BatchNormalization(),\n",
    "  tf.keras.layers.ReLU(),\n",
    "  tf.keras.layers.Conv2DTranspose(1, 4, strides=2, padding='same', kernel_initializer=initializer, activation='tanh')\n",
    "])\n",
    "\n",
    "model.compile(optimizer='adam',\n",
    "              loss=frobeniusLoss,\n",
    "              # loss=pix2pixLoss,\n",
    "              # loss='mse',\n",
    "              metrics=['accuracy'])\n",
    "\n",
    "history = model.fit(\n",
    "    train_x, train_y,\n",
    "    validation_data=(val_x, val_y),\n",
    "    epochs=32,\n",
    ")"
   ]
  },
  {
   "cell_type": "code",
   "execution_count": 188,
   "metadata": {},
   "outputs": [
    {
     "data": {
      "text/plain": [
       "<matplotlib.legend.Legend at 0x1eb33b806d0>"
      ]
     },
     "execution_count": 188,
     "metadata": {},
     "output_type": "execute_result"
    },
    {
     "data": {
      "image/png": "[encoded data removed]",
      "text/plain": [
       "<Figure size 432x288 with 1 Axes>"
      ]
     },
     "metadata": {
      "needs_background": "light"
     },
     "output_type": "display_data"
    }
   ],
   "source": [
    "plt.plot(history.history['accuracy'], label='accuracy')\n",
    "plt.plot(history.history['val_accuracy'], label = 'val_accuracy')\n",
    "plt.xlabel('Epoch')\n",
    "plt.ylabel('Accuracy')\n",
    "plt.legend(loc='lower right')\n",
    "\n",
    "# test_loss, test_acc = model.evaluate(test_images,  test_labels, verbose=2)"
   ]
  },
  {
   "cell_type": "code",
   "execution_count": 189,
   "metadata": {},
   "outputs": [
    {
     "data": {
      "text/plain": [
       "<matplotlib.legend.Legend at 0x1eb3426f9d0>"
      ]
     },
     "execution_count": 189,
     "metadata": {},
     "output_type": "execute_result"
    },
    {
     "data": {
      "image/png": "[encoded data removed]",
      "text/plain": [
       "<Figure size 432x288 with 1 Axes>"
      ]
     },
     "metadata": {
      "needs_background": "light"
     },
     "output_type": "display_data"
    }
   ],
   "source": [
    "plt.plot(history.history['loss'], label='loss')\n",
    "plt.plot(history.history['val_loss'], label = 'val_loss')\n",
    "plt.xlabel('Epoch')\n",
    "plt.ylabel('Loss')\n",
    "plt.legend(loc='lower right')"
   ]
  },
  {
   "cell_type": "code",
   "execution_count": 190,
   "metadata": {},
   "outputs": [
    {
     "name": "stdout",
     "output_type": "stream",
     "text": [
      "Pred\n",
      "(63, 32, 32, 1)\n",
      "True\n",
      "(63, 32, 32, 1)\n"
     ]
    }
   ],
   "source": [
    "# test = np.array([test_images[0]])\n",
    "pred = model.predict(test_x)\n",
    "true = test_y\n",
    "# print(pred)\n",
    "print(\"Pred\")\n",
    "print(pred.shape)\n",
    "print(\"True\")\n",
    "print(true.shape)"
   ]
  },
  {
   "cell_type": "code",
   "execution_count": 191,
   "metadata": {},
   "outputs": [
    {
     "name": "stdout",
     "output_type": "stream",
     "text": [
      "Entry 30\n"
     ]
    },
    {
     "data": {
      "image/png": "[encoded data removed]",
      "text/plain": [
       "<Figure size 432x288 with 1 Axes>"
      ]
     },
     "metadata": {
      "needs_background": "light"
     },
     "output_type": "display_data"
    },
    {
     "data": {
      "image/png": "[encoded data removed]",
      "text/plain": [
       "<Figure size 432x288 with 1 Axes>"
      ]
     },
     "metadata": {
      "needs_background": "light"
     },
     "output_type": "display_data"
    },
    {
     "data": {
      "image/png": "[encoded data removed]",
      "text/plain": [
       "<Figure size 432x288 with 1 Axes>"
      ]
     },
     "metadata": {
      "needs_background": "light"
     },
     "output_type": "display_data"
    },
    {
     "name": "stdout",
     "output_type": "stream",
     "text": [
      "Entry 31\n"
     ]
    },
    {
     "data": {
      "image/png": "[encoded data removed]",
      "text/plain": [
       "<Figure size 432x288 with 1 Axes>"
      ]
     },
     "metadata": {
      "needs_background": "light"
     },
     "output_type": "display_data"
    },
    {
     "data": {
      "image/png": "[encoded data removed]",
      "text/plain": [
       "<Figure size 432x288 with 1 Axes>"
      ]
     },
     "metadata": {
      "needs_background": "light"
     },
     "output_type": "display_data"
    },
    {
     "data": {
      "image/png": "[encoded data removed]",
      "text/plain": [
       "<Figure size 432x288 with 1 Axes>"
      ]
     },
     "metadata": {
      "needs_background": "light"
     },
     "output_type": "display_data"
    },
    {
     "name": "stdout",
     "output_type": "stream",
     "text": [
      "Entry 32\n"
     ]
    },
    {
     "data": {
      "image/png": "[encoded data removed]",
      "text/plain": [
       "<Figure size 432x288 with 1 Axes>"
      ]
     },
     "metadata": {
      "needs_background": "light"
     },
     "output_type": "display_data"
    },
    {
     "data": {
      "image/png": "[encoded data removed]",
      "text/plain": [
       "<Figure size 432x288 with 1 Axes>"
      ]
     },
     "metadata": {
      "needs_background": "light"
     },
     "output_type": "display_data"
    },
    {
     "data": {
      "image/png": "[encoded data removed]",
      "text/plain": [
       "<Figure size 432x288 with 1 Axes>"
      ]
     },
     "metadata": {
      "needs_background": "light"
     },
     "output_type": "display_data"
    }
   ],
   "source": [
    "for i in range(30, 33):\n",
    "  print(\"Entry\", i)\n",
    "  plt.title(\"Input\")\n",
    "  plt.imshow(test_x[i])\n",
    "  plt.show()\n",
    "\n",
    "  plt.title(\"Pred\")\n",
    "  plt.imshow(pred[i])\n",
    "  plt.show()\n",
    "\n",
    "  plt.title(\"True\")\n",
    "  plt.imshow(test_y[i])\n",
    "  plt.show()"
   ]
  }
 ],
 "metadata": {
  "interpreter": {
   "hash": "6c5b3efaa918d9f28db231eb82daaaf5f44447677f2df3439a28b7e91ebffcf4"
  },
  "kernelspec": {
   "display_name": "Python 3.9.6 64-bit",
   "language": "python",
   "name": "python3"
  },
  "language_info": {
   "codemirror_mode": {
    "name": "ipython",
    "version": 3
   },
   "file_extension": ".py",
   "mimetype": "text/x-python",
   "name": "python",
   "nbconvert_exporter": "python",
   "pygments_lexer": "ipython3",
   "version": "3.9.6"
  },
  "orig_nbformat": 4
 },
 "nbformat": 4,
 "nbformat_minor": 2
}
