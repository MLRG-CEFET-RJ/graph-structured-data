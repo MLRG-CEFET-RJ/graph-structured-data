{
 "cells": [
  {
   "cell_type": "code",
   "execution_count": 17,
   "metadata": {},
   "outputs": [],
   "source": [
    "import os\n",
    "os.environ[\"CUDA_VISIBLE_DEVICES\"] = \"-1\"\n",
    "import tensorflow as tf\n",
    "import networkx as nx\n",
    "from tensorflow.keras import datasets, layers, models\n",
    "import matplotlib.pyplot as plt\n",
    "import numpy as np\n",
    "import pandas as pd\n",
    "from tensorflow.keras.models import Model\n",
    "from tensorflow.keras.layers import Input\n",
    "from tensorflow.keras.preprocessing.image import ImageDataGenerator\n",
    "from sklearn.preprocessing import MultiLabelBinarizer\n",
    "from os import listdir\n",
    "from os.path import isfile, join\n",
    "from PIL import Image\n",
    "import pickle\n",
    "from tensorflow.keras import backend as K"
   ]
  },
  {
   "cell_type": "code",
   "execution_count": 18,
   "metadata": {},
   "outputs": [],
   "source": [
    "# NUMBER_NODES = 9\n",
    "NUMBER_NODES = 7\n",
    "# NUMBER_NODES = 5\n",
    "DATASET_PATH = f'../../../../datasets/examples/opt_band_{NUMBER_NODES}_nodes_graph.csv'\n",
    "\n",
    "def load_data():\n",
    "    featuresNumber = (NUMBER_NODES * NUMBER_NODES - NUMBER_NODES) // 2 \n",
    "\n",
    "    def get_tuple_dataset(row):\n",
    "        X = row[0 : featuresNumber].astype('float32')\n",
    "        Y = row[featuresNumber: ].astype('float32') # opt_band is in target\n",
    "        return X, Y\n",
    "\n",
    "    df = pd.read_csv(DATASET_PATH)\n",
    "    train_dataset_df = df.sample(frac=0.8)\n",
    "    df_remaining = df.drop(index=train_dataset_df.index)\n",
    "    val_dataset_df = df_remaining.sample(frac=0.7)\n",
    "    test_dataset_df = df_remaining.drop(index=val_dataset_df.index)\n",
    "\n",
    "    train_dataset = list(map(get_tuple_dataset, train_dataset_df.to_numpy()))\n",
    "    val_dataset = list(map(get_tuple_dataset, val_dataset_df.to_numpy()))\n",
    "    test_dataset = list(map(get_tuple_dataset, test_dataset_df.to_numpy()))\n",
    "    return train_dataset, val_dataset, test_dataset"
   ]
  },
  {
   "cell_type": "code",
   "execution_count": 19,
   "metadata": {},
   "outputs": [],
   "source": [
    "train_dataset, val_dataset, test_dataset = load_data()"
   ]
  },
  {
   "cell_type": "code",
   "execution_count": 20,
   "metadata": {},
   "outputs": [],
   "source": [
    "def getGraph(upperTriangleAdjMatrix):\n",
    "    dense_adj = np.zeros((NUMBER_NODES, NUMBER_NODES))\n",
    "    dense_adj = np.zeros((NUMBER_NODES, NUMBER_NODES))\n",
    "    k = 0\n",
    "    for i in range(NUMBER_NODES):\n",
    "        for j in range(NUMBER_NODES):\n",
    "            if i == j:\n",
    "                continue\n",
    "            elif i < j:\n",
    "                dense_adj[i][j] = upperTriangleAdjMatrix[k]\n",
    "                k += 1\n",
    "            else:\n",
    "                dense_adj[i][j] = dense_adj[j][i]\n",
    "    return dense_adj\n",
    "\n",
    "def processDataToImage(graphInput):\n",
    "    adj = getGraph(graphInput)\n",
    "    w, h = NUMBER_NODES, NUMBER_NODES\n",
    "    data = np.zeros((h, w), dtype=np.uint8)\n",
    "    for i in range(len(adj)):\n",
    "        for j in range(len(adj)):\n",
    "            if adj[i, j] == 1:\n",
    "                data[i, j] = 255.0\n",
    "    img = Image.fromarray(data, 'L')\n",
    "    resized = img.resize((32, 32), Image.NEAREST)\n",
    "    image = np.array(resized, dtype=np.float32)\n",
    "    image = np.reshape(image, (32, 32, 1))\n",
    "    return image\n",
    "\n",
    "def processImageOutput(graphInput, nodelist):\n",
    "    adj = getGraph(graphInput)\n",
    "    Graph = nx.Graph(adj)\n",
    "    adj = nx.adjacency_matrix(Graph, nodelist=nodelist)\n",
    "\n",
    "    w, h = NUMBER_NODES, NUMBER_NODES\n",
    "    data = np.zeros((h, w), dtype=np.uint8)\n",
    "    for i in range(adj.shape[0]):\n",
    "        for j in range(adj.shape[0]):\n",
    "            if adj[i, j] == 1:\n",
    "                data[i, j] = 255.0\n",
    "    img = Image.fromarray(data, 'L')\n",
    "    resized = img.resize((32, 32), Image.NEAREST)\n",
    "    image = np.array(resized, dtype=np.float32)\n",
    "    image = np.reshape(image, (32, 32, 1))\n",
    "    return image"
   ]
  },
  {
   "cell_type": "code",
   "execution_count": 21,
   "metadata": {},
   "outputs": [],
   "source": [
    "def getData_2(dataset):\n",
    "    train_x = []\n",
    "    train_output = []\n",
    "    for graphInput, target in dataset:\n",
    "        nodelist = target[1 : ]\n",
    "        x_image = processDataToImage(graphInput)\n",
    "        train_x.append(x_image)\n",
    "        y_image = processImageOutput(graphInput, nodelist)\n",
    "        train_output.append(y_image)\n",
    "    return np.array(train_x), np.array(train_output)"
   ]
  },
  {
   "cell_type": "code",
   "execution_count": 22,
   "metadata": {},
   "outputs": [
    {
     "name": "stdout",
     "output_type": "stream",
     "text": [
      "(835, 32, 32, 1)\n",
      "(835, 32, 32, 1)\n"
     ]
    }
   ],
   "source": [
    "train_x, train_y = getData_2(train_dataset)\n",
    "val_x, val_y= getData_2(val_dataset)\n",
    "test_x, test_y = getData_2(test_dataset)\n",
    "\n",
    "print(train_x.shape)\n",
    "print(train_y.shape)"
   ]
  },
  {
   "cell_type": "code",
   "execution_count": 23,
   "metadata": {},
   "outputs": [
    {
     "data": {
      "image/png": "[encoded data removed]",
      "text/plain": [
       "<Figure size 432x288 with 1 Axes>"
      ]
     },
     "metadata": {
      "needs_background": "light"
     },
     "output_type": "display_data"
    },
    {
     "data": {
      "text/plain": [
       "<Figure size 432x288 with 0 Axes>"
      ]
     },
     "metadata": {},
     "output_type": "display_data"
    }
   ],
   "source": [
    "plt.imshow(train_x[0])\n",
    "plt.show()\n",
    "plt.clf()\n"
   ]
  },
  {
   "cell_type": "code",
   "execution_count": 24,
   "metadata": {},
   "outputs": [
    {
     "data": {
      "text/plain": [
       "<matplotlib.image.AxesImage at 0x16db3a17670>"
      ]
     },
     "execution_count": 24,
     "metadata": {},
     "output_type": "execute_result"
    },
    {
     "data": {
      "image/png": "[encoded data removed]",
      "text/plain": [
       "<Figure size 432x288 with 1 Axes>"
      ]
     },
     "metadata": {
      "needs_background": "light"
     },
     "output_type": "display_data"
    }
   ],
   "source": [
    "plt.imshow(train_y[0])"
   ]
  },
  {
   "cell_type": "code",
   "execution_count": 25,
   "metadata": {},
   "outputs": [
    {
     "name": "stdout",
     "output_type": "stream",
     "text": [
      "(2, 32, 32, 1)\n",
      "(2, 32, 32, 1)\n",
      "float32\n",
      "<dtype: 'float32'>\n",
      "float32\n"
     ]
    }
   ],
   "source": [
    "examples = train_x[0:2]\n",
    "examples_y = train_y[0:2]\n",
    "print(examples.shape)\n",
    "\n",
    "rescaling = layers.Rescaling(1./255)\n",
    "pred = layers.Conv2D(1, 3, padding='same', activation='relu', input_shape=(32, 32))(rescaling(examples))\n",
    "print(pred.shape)\n",
    "\n",
    "print(examples[0].dtype)\n",
    "print(pred[0].dtype)\n",
    "print(examples_y[0].dtype)"
   ]
  },
  {
   "cell_type": "code",
   "execution_count": 26,
   "metadata": {},
   "outputs": [],
   "source": [
    "def frobeniusLoss(y_true, y_pred):\n",
    "  error = y_true - y_pred\n",
    "  size = tf.size(error)\n",
    "  return tf.norm(error, ord='fro',axis=(0,1)) / tf.cast(size, tf.float32)\n",
    "\n",
    "# LAMBDA = 100\n",
    "loss_object = tf.keras.losses.BinaryCrossentropy(from_logits=True)\n",
    "def pix2pixLoss(true, pred):\n",
    "  # gan_loss = loss_object(tf.ones_like(pred), pred)\n",
    "\n",
    "  # Mean absolute error\n",
    "  l1_loss = tf.reduce_mean(tf.abs(true - pred))\n",
    "  # loss = gan_loss + (LAMBDA * l1_loss)\n",
    "  # loss = LAMBDA * l1_loss\n",
    "  loss = l1_loss\n",
    "  # fro = frobeniusLoss(true, pred)\n",
    "  # return loss + fro\n",
    "  return loss\n",
    "\n",
    "# feito somente mae, 256 epochs (output_channel - 1) = saida interessante\n",
    "# feito somente fro, 256 epochs (output_channel - 1) = saída nada interessante\n",
    "# feito mae + fro, 256 epochs (output_channel - 1) = mais ou menos interessante\n",
    "# feito somente mae, 8 epochs (output_channel - 3), 7 nodes = MUITO INTERESSANTE\n",
    "# feito somente mae com BinaryCrossentropy, 8 epochs (output_channel - 3), 7 nodes = mais ou menos interessante\n",
    "# feito somente mae, 32 epochs (output_channel - 3), 7 nodes = MUITO INTERESSANTE, mas as saidas sao bem parecidas (cantos pretos)\n",
    "# feito somente mae, 32 epochs (output_channel - 1), 7 nodes = resultado muito parecido com o anterior (só q o anterior é 3 channels)\n",
    "# fazendo somente mae, 16 epochs (output_channel - 1), 7 nodes, sem lambda = resultado muito parecido com o anterior\n",
    "# a fazer somente frobenius, 32 epochs (output_channel - 1), 7 nodes = resultado parecido com anterior, mas o meio nao fica bem definido"
   ]
  },
  {
   "cell_type": "code",
   "execution_count": 27,
   "metadata": {},
   "outputs": [
    {
     "name": "stdout",
     "output_type": "stream",
     "text": [
      "Epoch 1/256\n",
      "27/27 [==============================] - 73s 3s/step - loss: 0.1615 - accuracy: 0.2322 - val_loss: 0.1659 - val_accuracy: 0.5837\n",
      "Epoch 2/256\n",
      "27/27 [==============================] - 68s 3s/step - loss: 0.1613 - accuracy: 0.0213 - val_loss: 0.1659 - val_accuracy: 0.5837\n",
      "Epoch 3/256\n",
      "27/27 [==============================] - 67s 2s/step - loss: 0.1612 - accuracy: 0.0248 - val_loss: 0.1658 - val_accuracy: 0.5837\n",
      "Epoch 4/256\n",
      "27/27 [==============================] - 67s 2s/step - loss: 0.1612 - accuracy: 0.0317 - val_loss: 0.1658 - val_accuracy: 0.5837\n",
      "Epoch 5/256\n",
      "27/27 [==============================] - 67s 2s/step - loss: 0.1610 - accuracy: 0.0451 - val_loss: 0.1658 - val_accuracy: 0.5837\n",
      "Epoch 6/256\n",
      "27/27 [==============================] - 67s 2s/step - loss: 0.1613 - accuracy: 0.0584 - val_loss: 0.1658 - val_accuracy: 0.5837\n",
      "Epoch 7/256\n",
      "27/27 [==============================] - 67s 2s/step - loss: 0.1612 - accuracy: 0.0720 - val_loss: 0.1658 - val_accuracy: 0.5837\n",
      "Epoch 8/256\n",
      "27/27 [==============================] - 67s 2s/step - loss: 0.1613 - accuracy: 0.0826 - val_loss: 0.1658 - val_accuracy: 0.5837\n",
      "Epoch 9/256\n",
      "27/27 [==============================] - 66s 2s/step - loss: 0.1612 - accuracy: 0.0904 - val_loss: 0.1658 - val_accuracy: 0.5837\n",
      "Epoch 10/256\n",
      "27/27 [==============================] - 66s 2s/step - loss: 0.1612 - accuracy: 0.0977 - val_loss: 0.1658 - val_accuracy: 0.5837\n",
      "Epoch 11/256\n",
      "27/27 [==============================] - 66s 2s/step - loss: 0.1613 - accuracy: 0.1056 - val_loss: 0.1658 - val_accuracy: 0.5837\n",
      "Epoch 12/256\n",
      "27/27 [==============================] - 66s 2s/step - loss: 0.1612 - accuracy: 0.1148 - val_loss: 0.1659 - val_accuracy: 0.5837\n",
      "Epoch 13/256\n",
      "27/27 [==============================] - 66s 2s/step - loss: 0.1613 - accuracy: 0.1214 - val_loss: 0.1659 - val_accuracy: 0.5837\n",
      "Epoch 14/256\n",
      "27/27 [==============================] - 66s 2s/step - loss: 0.1610 - accuracy: 0.1019 - val_loss: 0.1659 - val_accuracy: 0.5837\n",
      "Epoch 15/256\n",
      "27/27 [==============================] - 66s 2s/step - loss: 0.1612 - accuracy: 0.1045 - val_loss: 0.1659 - val_accuracy: 0.5837\n",
      "Epoch 16/256\n",
      "27/27 [==============================] - 66s 2s/step - loss: 0.1612 - accuracy: 0.1212 - val_loss: 0.1658 - val_accuracy: 0.5837\n",
      "Epoch 17/256\n",
      "27/27 [==============================] - 66s 2s/step - loss: 0.1613 - accuracy: 0.1308 - val_loss: 0.1658 - val_accuracy: 0.5837\n",
      "Epoch 18/256\n",
      "27/27 [==============================] - 72s 3s/step - loss: 0.1612 - accuracy: 0.1384 - val_loss: 0.1658 - val_accuracy: 0.5775\n",
      "Epoch 19/256\n",
      "27/27 [==============================] - 73s 3s/step - loss: 0.1614 - accuracy: 0.1438 - val_loss: 0.1658 - val_accuracy: 0.5642\n",
      "Epoch 20/256\n",
      "27/27 [==============================] - 74s 3s/step - loss: 0.1612 - accuracy: 0.1474 - val_loss: 0.1657 - val_accuracy: 0.5393\n",
      "Epoch 21/256\n",
      "27/27 [==============================] - 75s 3s/step - loss: 0.1613 - accuracy: 0.1534 - val_loss: 0.1656 - val_accuracy: 0.4794\n",
      "Epoch 22/256\n",
      "27/27 [==============================] - 74s 3s/step - loss: 0.1612 - accuracy: 0.1595 - val_loss: 0.1655 - val_accuracy: 0.3804\n",
      "Epoch 23/256\n",
      "27/27 [==============================] - 70s 3s/step - loss: 0.1613 - accuracy: 0.1645 - val_loss: 0.1654 - val_accuracy: 0.3257\n",
      "Epoch 24/256\n",
      "27/27 [==============================] - 69s 3s/step - loss: 0.1614 - accuracy: 0.1678 - val_loss: 0.1654 - val_accuracy: 0.2772\n",
      "Epoch 25/256\n",
      "27/27 [==============================] - 70s 3s/step - loss: 0.1613 - accuracy: 0.1517 - val_loss: 0.1653 - val_accuracy: 0.2418\n",
      "Epoch 26/256\n",
      "27/27 [==============================] - 70s 3s/step - loss: 0.1613 - accuracy: 0.1648 - val_loss: 0.1653 - val_accuracy: 0.2435\n",
      "Epoch 27/256\n",
      "27/27 [==============================] - 69s 3s/step - loss: 0.1612 - accuracy: 0.1719 - val_loss: 0.1653 - val_accuracy: 0.2380\n",
      "Epoch 28/256\n",
      "27/27 [==============================] - 71s 3s/step - loss: 0.1612 - accuracy: 0.1790 - val_loss: 0.1653 - val_accuracy: 0.2413\n",
      "Epoch 29/256\n",
      "27/27 [==============================] - 71s 3s/step - loss: 0.1611 - accuracy: 0.1859 - val_loss: 0.1653 - val_accuracy: 0.2408\n",
      "Epoch 30/256\n",
      "27/27 [==============================] - 71s 3s/step - loss: 0.1613 - accuracy: 0.1920 - val_loss: 0.1653 - val_accuracy: 0.2458\n",
      "Epoch 31/256\n",
      "27/27 [==============================] - 72s 3s/step - loss: 0.1615 - accuracy: 0.1924 - val_loss: 0.1653 - val_accuracy: 0.2506\n",
      "Epoch 32/256\n",
      "27/27 [==============================] - 72s 3s/step - loss: 0.1612 - accuracy: 0.1975 - val_loss: 0.1653 - val_accuracy: 0.2380\n",
      "Epoch 33/256\n",
      "27/27 [==============================] - 72s 3s/step - loss: 0.1613 - accuracy: 0.1781 - val_loss: 0.1653 - val_accuracy: 0.2254\n",
      "Epoch 34/256\n",
      "27/27 [==============================] - 73s 3s/step - loss: 0.1613 - accuracy: 0.1970 - val_loss: 0.1653 - val_accuracy: 0.2378\n",
      "Epoch 35/256\n",
      "27/27 [==============================] - 74s 3s/step - loss: 0.1615 - accuracy: 0.2083 - val_loss: 0.1653 - val_accuracy: 0.1667\n",
      "Epoch 36/256\n",
      "27/27 [==============================] - 72s 3s/step - loss: 0.1613 - accuracy: 0.0818 - val_loss: 0.1653 - val_accuracy: 0.0564\n",
      "Epoch 37/256\n",
      "27/27 [==============================] - 73s 3s/step - loss: 0.1612 - accuracy: 0.1141 - val_loss: 0.1653 - val_accuracy: 0.0938\n",
      "Epoch 38/256\n",
      "27/27 [==============================] - 73s 3s/step - loss: 0.1612 - accuracy: 0.1407 - val_loss: 0.1653 - val_accuracy: 0.1332\n",
      "Epoch 39/256\n",
      "27/27 [==============================] - 72s 3s/step - loss: 0.1611 - accuracy: 0.1678 - val_loss: 0.1653 - val_accuracy: 0.1923\n",
      "Epoch 40/256\n",
      "27/27 [==============================] - 72s 3s/step - loss: 0.1612 - accuracy: 0.1881 - val_loss: 0.1653 - val_accuracy: 0.2419\n",
      "Epoch 41/256\n",
      "27/27 [==============================] - 72s 3s/step - loss: 0.1613 - accuracy: 0.2025 - val_loss: 0.1653 - val_accuracy: 0.1792\n",
      "Epoch 42/256\n",
      "27/27 [==============================] - 72s 3s/step - loss: 0.1613 - accuracy: 0.1220 - val_loss: 0.1653 - val_accuracy: 0.0293\n",
      "Epoch 43/256\n",
      "27/27 [==============================] - 72s 3s/step - loss: 0.1613 - accuracy: 0.1290 - val_loss: 0.1653 - val_accuracy: 0.0819\n",
      "Epoch 44/256\n",
      "27/27 [==============================] - 73s 3s/step - loss: 0.1612 - accuracy: 0.1500 - val_loss: 0.1653 - val_accuracy: 0.1202\n",
      "Epoch 45/256\n",
      "27/27 [==============================] - 72s 3s/step - loss: 0.1613 - accuracy: 0.1659 - val_loss: 0.1653 - val_accuracy: 0.1475\n",
      "Epoch 46/256\n",
      "27/27 [==============================] - 76s 3s/step - loss: 0.1612 - accuracy: 0.1812 - val_loss: 0.1653 - val_accuracy: 0.1627\n",
      "Epoch 47/256\n",
      "27/27 [==============================] - 76s 3s/step - loss: 0.1612 - accuracy: 0.1894 - val_loss: 0.1653 - val_accuracy: 0.1764\n",
      "Epoch 48/256\n",
      "27/27 [==============================] - 74s 3s/step - loss: 0.1613 - accuracy: 0.1925 - val_loss: 0.1653 - val_accuracy: 0.1857\n",
      "Epoch 49/256\n",
      "27/27 [==============================] - 74s 3s/step - loss: 0.1613 - accuracy: 0.2005 - val_loss: 0.1653 - val_accuracy: 0.1976\n",
      "Epoch 50/256\n",
      "27/27 [==============================] - 73s 3s/step - loss: 0.1610 - accuracy: 0.2018 - val_loss: 0.1653 - val_accuracy: 0.2018\n",
      "Epoch 51/256\n",
      "27/27 [==============================] - 73s 3s/step - loss: 0.1611 - accuracy: 0.2090 - val_loss: 0.1653 - val_accuracy: 0.2133\n",
      "Epoch 52/256\n",
      "27/27 [==============================] - 73s 3s/step - loss: 0.1613 - accuracy: 0.2154 - val_loss: 0.1653 - val_accuracy: 0.2147\n",
      "Epoch 53/256\n",
      "27/27 [==============================] - 77s 3s/step - loss: 0.1611 - accuracy: 0.2105 - val_loss: 0.1653 - val_accuracy: 0.2215\n",
      "Epoch 54/256\n",
      "27/27 [==============================] - 75s 3s/step - loss: 0.1612 - accuracy: 0.2209 - val_loss: 0.1653 - val_accuracy: 0.2309\n",
      "Epoch 55/256\n",
      "27/27 [==============================] - 76s 3s/step - loss: 0.1612 - accuracy: 0.2227 - val_loss: 0.1653 - val_accuracy: 0.2323\n",
      "Epoch 56/256\n",
      "27/27 [==============================] - 74s 3s/step - loss: 0.1611 - accuracy: 0.2247 - val_loss: 0.1653 - val_accuracy: 0.2352\n",
      "Epoch 57/256\n",
      "27/27 [==============================] - 75s 3s/step - loss: 0.1611 - accuracy: 0.2270 - val_loss: 0.1653 - val_accuracy: 0.2358\n",
      "Epoch 58/256\n",
      "27/27 [==============================] - 73s 3s/step - loss: 0.1612 - accuracy: 0.2253 - val_loss: 0.1653 - val_accuracy: 0.2413\n",
      "Epoch 59/256\n",
      "27/27 [==============================] - 72s 3s/step - loss: 0.1613 - accuracy: 0.2305 - val_loss: 0.1653 - val_accuracy: 0.2380\n",
      "Epoch 60/256\n",
      "27/27 [==============================] - 72s 3s/step - loss: 0.1612 - accuracy: 0.2255 - val_loss: 0.1653 - val_accuracy: 0.2429\n",
      "Epoch 61/256\n",
      "27/27 [==============================] - 74s 3s/step - loss: 0.1614 - accuracy: 0.2314 - val_loss: 0.1653 - val_accuracy: 0.2468\n",
      "Epoch 62/256\n",
      "27/27 [==============================] - 73s 3s/step - loss: 0.1613 - accuracy: 0.2264 - val_loss: 0.1653 - val_accuracy: 0.2404\n",
      "Epoch 63/256\n",
      "27/27 [==============================] - 73s 3s/step - loss: 0.1614 - accuracy: 0.2319 - val_loss: 0.1653 - val_accuracy: 0.2479\n",
      "Epoch 64/256\n",
      "27/27 [==============================] - 73s 3s/step - loss: 0.1609 - accuracy: 0.2351 - val_loss: 0.1653 - val_accuracy: 0.2512\n",
      "Epoch 65/256\n",
      "27/27 [==============================] - 73s 3s/step - loss: 0.1612 - accuracy: 0.2367 - val_loss: 0.1653 - val_accuracy: 0.2523\n",
      "Epoch 66/256\n",
      "27/27 [==============================] - 73s 3s/step - loss: 0.1611 - accuracy: 0.2374 - val_loss: 0.1653 - val_accuracy: 0.2572\n",
      "Epoch 67/256\n",
      "27/27 [==============================] - 72s 3s/step - loss: 0.1610 - accuracy: 0.2440 - val_loss: 0.1653 - val_accuracy: 0.2575\n",
      "Epoch 68/256\n",
      "27/27 [==============================] - 74s 3s/step - loss: 0.1614 - accuracy: 0.2434 - val_loss: 0.1653 - val_accuracy: 0.2562\n",
      "Epoch 69/256\n",
      "27/27 [==============================] - 74s 3s/step - loss: 0.1612 - accuracy: 0.2133 - val_loss: 0.1653 - val_accuracy: 0.2354\n",
      "Epoch 70/256\n",
      "27/27 [==============================] - 69s 3s/step - loss: 0.1613 - accuracy: 0.2151 - val_loss: 0.1653 - val_accuracy: 0.2433\n",
      "Epoch 71/256\n",
      "27/27 [==============================] - 67s 2s/step - loss: 0.1611 - accuracy: 0.2239 - val_loss: 0.1653 - val_accuracy: 0.2449\n",
      "Epoch 72/256\n",
      "27/27 [==============================] - 66s 2s/step - loss: 0.1611 - accuracy: 0.2190 - val_loss: 0.1653 - val_accuracy: 0.2441\n",
      "Epoch 73/256\n",
      "27/27 [==============================] - 66s 2s/step - loss: 0.1613 - accuracy: 0.2243 - val_loss: 0.1653 - val_accuracy: 0.2473\n",
      "Epoch 74/256\n",
      "27/27 [==============================] - 67s 2s/step - loss: 0.1612 - accuracy: 0.2323 - val_loss: 0.1653 - val_accuracy: 0.2503\n",
      "Epoch 75/256\n",
      "27/27 [==============================] - 67s 2s/step - loss: 0.1613 - accuracy: 0.2293 - val_loss: 0.1653 - val_accuracy: 0.2542\n",
      "Epoch 76/256\n",
      "27/27 [==============================] - 67s 2s/step - loss: 0.1614 - accuracy: 0.2052 - val_loss: 0.1653 - val_accuracy: 0.2500\n",
      "Epoch 77/256\n",
      "27/27 [==============================] - 67s 2s/step - loss: 0.1613 - accuracy: 0.2097 - val_loss: 0.1653 - val_accuracy: 0.2416\n",
      "Epoch 78/256\n",
      "27/27 [==============================] - 67s 2s/step - loss: 0.1614 - accuracy: 0.2215 - val_loss: 0.1653 - val_accuracy: 0.2382\n",
      "Epoch 79/256\n",
      "27/27 [==============================] - 67s 2s/step - loss: 0.1611 - accuracy: 0.2065 - val_loss: 0.1653 - val_accuracy: 0.2057\n",
      "Epoch 80/256\n",
      "27/27 [==============================] - 67s 2s/step - loss: 0.1612 - accuracy: 0.2078 - val_loss: 0.1653 - val_accuracy: 0.2128\n",
      "Epoch 81/256\n",
      "27/27 [==============================] - 67s 2s/step - loss: 0.1613 - accuracy: 0.2125 - val_loss: 0.1653 - val_accuracy: 0.2230\n",
      "Epoch 82/256\n",
      "27/27 [==============================] - 67s 2s/step - loss: 0.1610 - accuracy: 0.2190 - val_loss: 0.1653 - val_accuracy: 0.2319\n",
      "Epoch 83/256\n",
      "27/27 [==============================] - 67s 2s/step - loss: 0.1615 - accuracy: 0.2266 - val_loss: 0.1653 - val_accuracy: 0.2366\n",
      "Epoch 84/256\n",
      "27/27 [==============================] - 67s 2s/step - loss: 0.1614 - accuracy: 0.2283 - val_loss: 0.1653 - val_accuracy: 0.2404\n",
      "Epoch 85/256\n",
      "27/27 [==============================] - 67s 2s/step - loss: 0.1613 - accuracy: 0.1942 - val_loss: 0.1653 - val_accuracy: 0.2547\n",
      "Epoch 86/256\n",
      "27/27 [==============================] - 67s 2s/step - loss: 0.1612 - accuracy: 0.1977 - val_loss: 0.1653 - val_accuracy: 0.2336\n",
      "Epoch 87/256\n",
      "27/27 [==============================] - 67s 2s/step - loss: 0.1610 - accuracy: 0.2130 - val_loss: 0.1653 - val_accuracy: 0.2333\n",
      "Epoch 88/256\n",
      "27/27 [==============================] - 66s 2s/step - loss: 0.1612 - accuracy: 0.2211 - val_loss: 0.1653 - val_accuracy: 0.2348\n",
      "Epoch 89/256\n",
      "27/27 [==============================] - 66s 2s/step - loss: 0.1611 - accuracy: 0.2266 - val_loss: 0.1653 - val_accuracy: 0.2428\n",
      "Epoch 90/256\n",
      "27/27 [==============================] - 66s 2s/step - loss: 0.1611 - accuracy: 0.2261 - val_loss: 0.1653 - val_accuracy: 0.2420\n",
      "Epoch 91/256\n",
      "27/27 [==============================] - 66s 2s/step - loss: 0.1612 - accuracy: 0.2320 - val_loss: 0.1653 - val_accuracy: 0.2427\n",
      "Epoch 92/256\n",
      "27/27 [==============================] - 66s 2s/step - loss: 0.1611 - accuracy: 0.2388 - val_loss: 0.1653 - val_accuracy: 0.2539\n",
      "Epoch 93/256\n",
      "27/27 [==============================] - 67s 2s/step - loss: 0.1614 - accuracy: 0.2418 - val_loss: 0.1653 - val_accuracy: 0.3119\n",
      "Epoch 94/256\n",
      "27/27 [==============================] - 67s 2s/step - loss: 0.1615 - accuracy: 0.1084 - val_loss: 0.1653 - val_accuracy: 0.0674\n",
      "Epoch 95/256\n",
      "27/27 [==============================] - 67s 2s/step - loss: 0.1611 - accuracy: 0.0470 - val_loss: 0.1653 - val_accuracy: 0.1053\n",
      "Epoch 96/256\n",
      "27/27 [==============================] - 71s 3s/step - loss: 0.1609 - accuracy: 0.0834 - val_loss: 0.1653 - val_accuracy: 0.1176\n",
      "Epoch 97/256\n",
      "27/27 [==============================] - 76s 3s/step - loss: 0.1612 - accuracy: 0.1089 - val_loss: 0.1653 - val_accuracy: 0.1214\n",
      "Epoch 98/256\n",
      "27/27 [==============================] - 72s 3s/step - loss: 0.1612 - accuracy: 0.1220 - val_loss: 0.1653 - val_accuracy: 0.1260\n",
      "Epoch 99/256\n",
      "27/27 [==============================] - 69s 3s/step - loss: 0.1613 - accuracy: 0.1357 - val_loss: 0.1653 - val_accuracy: 0.1367\n",
      "Epoch 100/256\n",
      "27/27 [==============================] - 69s 3s/step - loss: 0.1613 - accuracy: 0.1512 - val_loss: 0.1653 - val_accuracy: 0.1511\n",
      "Epoch 101/256\n",
      "27/27 [==============================] - 71s 3s/step - loss: 0.1612 - accuracy: 0.1600 - val_loss: 0.1653 - val_accuracy: 0.1562\n",
      "Epoch 102/256\n",
      "27/27 [==============================] - 69s 3s/step - loss: 0.1612 - accuracy: 0.1651 - val_loss: 0.1653 - val_accuracy: 0.1620\n",
      "Epoch 103/256\n",
      "27/27 [==============================] - 70s 3s/step - loss: 0.1613 - accuracy: 0.1728 - val_loss: 0.1653 - val_accuracy: 0.1726\n",
      "Epoch 104/256\n",
      "27/27 [==============================] - 69s 3s/step - loss: 0.1612 - accuracy: 0.1810 - val_loss: 0.1653 - val_accuracy: 0.1801\n",
      "Epoch 105/256\n",
      "27/27 [==============================] - 70s 3s/step - loss: 0.1614 - accuracy: 0.1889 - val_loss: 0.1653 - val_accuracy: 0.1902\n",
      "Epoch 106/256\n",
      "27/27 [==============================] - 74s 3s/step - loss: 0.1613 - accuracy: 0.2006 - val_loss: 0.1653 - val_accuracy: 0.2001\n",
      "Epoch 107/256\n",
      "27/27 [==============================] - 75s 3s/step - loss: 0.1613 - accuracy: 0.2045 - val_loss: 0.1653 - val_accuracy: 0.2040\n",
      "Epoch 108/256\n",
      "27/27 [==============================] - 75s 3s/step - loss: 0.1611 - accuracy: 0.2069 - val_loss: 0.1653 - val_accuracy: 0.2121\n",
      "Epoch 109/256\n",
      "27/27 [==============================] - 73s 3s/step - loss: 0.1613 - accuracy: 0.2150 - val_loss: 0.1653 - val_accuracy: 0.2169\n",
      "Epoch 110/256\n",
      "27/27 [==============================] - 74s 3s/step - loss: 0.1611 - accuracy: 0.2179 - val_loss: 0.1653 - val_accuracy: 0.2226\n",
      "Epoch 111/256\n",
      "27/27 [==============================] - 74s 3s/step - loss: 0.1615 - accuracy: 0.2208 - val_loss: 0.1653 - val_accuracy: 0.2031\n",
      "Epoch 112/256\n",
      "27/27 [==============================] - 74s 3s/step - loss: 0.1612 - accuracy: 0.0965 - val_loss: 0.1653 - val_accuracy: 0.1320\n",
      "Epoch 113/256\n",
      "27/27 [==============================] - 69s 3s/step - loss: 0.1613 - accuracy: 0.0750 - val_loss: 0.1653 - val_accuracy: 0.1281\n",
      "Epoch 114/256\n",
      "27/27 [==============================] - 69s 3s/step - loss: 0.1612 - accuracy: 0.0934 - val_loss: 0.1653 - val_accuracy: 0.1244\n",
      "Epoch 115/256\n",
      "27/27 [==============================] - 68s 3s/step - loss: 0.1612 - accuracy: 0.1051 - val_loss: 0.1653 - val_accuracy: 0.1226\n",
      "Epoch 116/256\n",
      "27/27 [==============================] - 69s 3s/step - loss: 0.1610 - accuracy: 0.1110 - val_loss: 0.1653 - val_accuracy: 0.1222\n",
      "Epoch 117/256\n",
      "27/27 [==============================] - 69s 3s/step - loss: 0.1613 - accuracy: 0.1155 - val_loss: 0.1653 - val_accuracy: 0.1221\n",
      "Epoch 118/256\n",
      "27/27 [==============================] - 69s 3s/step - loss: 0.1614 - accuracy: 0.1176 - val_loss: 0.1653 - val_accuracy: 0.1222\n",
      "Epoch 119/256\n",
      "27/27 [==============================] - 69s 3s/step - loss: 0.1611 - accuracy: 0.1194 - val_loss: 0.1653 - val_accuracy: 0.1228\n",
      "Epoch 120/256\n",
      "27/27 [==============================] - 69s 3s/step - loss: 0.1612 - accuracy: 0.1209 - val_loss: 0.1653 - val_accuracy: 0.1239\n",
      "Epoch 121/256\n",
      "27/27 [==============================] - 69s 3s/step - loss: 0.1615 - accuracy: 0.1225 - val_loss: 0.1653 - val_accuracy: 0.1222\n",
      "Epoch 122/256\n",
      "27/27 [==============================] - 69s 3s/step - loss: 0.1612 - accuracy: 0.0958 - val_loss: 0.1653 - val_accuracy: 0.1140\n",
      "Epoch 123/256\n",
      "27/27 [==============================] - 69s 3s/step - loss: 0.1612 - accuracy: 0.0942 - val_loss: 0.1653 - val_accuracy: 0.1152\n",
      "Epoch 124/256\n",
      "27/27 [==============================] - 70s 3s/step - loss: 0.1615 - accuracy: 0.1105 - val_loss: 0.1653 - val_accuracy: 0.1152\n",
      "Epoch 125/256\n",
      "27/27 [==============================] - 75s 3s/step - loss: 0.1612 - accuracy: 0.1137 - val_loss: 0.1653 - val_accuracy: 0.1152\n",
      "Epoch 126/256\n",
      "27/27 [==============================] - 72s 3s/step - loss: 0.1614 - accuracy: 0.1143 - val_loss: 0.1653 - val_accuracy: 0.1152\n",
      "Epoch 127/256\n",
      "27/27 [==============================] - 71s 3s/step - loss: 0.1612 - accuracy: 0.1148 - val_loss: 0.1653 - val_accuracy: 0.1152\n",
      "Epoch 128/256\n",
      "27/27 [==============================] - 72s 3s/step - loss: 0.1614 - accuracy: 0.1148 - val_loss: 0.1653 - val_accuracy: 0.1152\n",
      "Epoch 129/256\n",
      "27/27 [==============================] - 72s 3s/step - loss: 0.1611 - accuracy: 0.1149 - val_loss: 0.1653 - val_accuracy: 0.1152\n",
      "Epoch 130/256\n",
      "27/27 [==============================] - 72s 3s/step - loss: 0.1613 - accuracy: 0.1150 - val_loss: 0.1653 - val_accuracy: 0.1152\n",
      "Epoch 131/256\n",
      "27/27 [==============================] - 71s 3s/step - loss: 0.1611 - accuracy: 0.1150 - val_loss: 0.1653 - val_accuracy: 0.1152\n",
      "Epoch 132/256\n",
      "27/27 [==============================] - 70s 3s/step - loss: 0.1612 - accuracy: 0.1151 - val_loss: 0.1653 - val_accuracy: 0.1152\n",
      "Epoch 133/256\n",
      "27/27 [==============================] - 71s 3s/step - loss: 0.1612 - accuracy: 0.1151 - val_loss: 0.1653 - val_accuracy: 0.1153\n",
      "Epoch 134/256\n",
      "27/27 [==============================] - 73s 3s/step - loss: 0.1612 - accuracy: 0.1151 - val_loss: 0.1653 - val_accuracy: 0.1153\n",
      "Epoch 135/256\n",
      "27/27 [==============================] - 70s 3s/step - loss: 0.1613 - accuracy: 0.1152 - val_loss: 0.1653 - val_accuracy: 0.1153\n",
      "Epoch 136/256\n",
      "27/27 [==============================] - 70s 3s/step - loss: 0.1611 - accuracy: 0.1152 - val_loss: 0.1653 - val_accuracy: 0.1153\n",
      "Epoch 137/256\n",
      "27/27 [==============================] - 71s 3s/step - loss: 0.1610 - accuracy: 0.1152 - val_loss: 0.1653 - val_accuracy: 0.1153\n",
      "Epoch 138/256\n",
      "27/27 [==============================] - 70s 3s/step - loss: 0.1612 - accuracy: 0.1152 - val_loss: 0.1653 - val_accuracy: 0.1153\n",
      "Epoch 139/256\n",
      "27/27 [==============================] - 70s 3s/step - loss: 0.1612 - accuracy: 0.1153 - val_loss: 0.1653 - val_accuracy: 0.1153\n",
      "Epoch 140/256\n",
      "27/27 [==============================] - 73s 3s/step - loss: 0.1614 - accuracy: 0.1152 - val_loss: 0.1653 - val_accuracy: 0.1153\n",
      "Epoch 141/256\n",
      "27/27 [==============================] - 77s 3s/step - loss: 0.1612 - accuracy: 0.1153 - val_loss: 0.1653 - val_accuracy: 0.1154\n",
      "Epoch 142/256\n",
      "27/27 [==============================] - 77s 3s/step - loss: 0.1614 - accuracy: 0.1153 - val_loss: 0.1653 - val_accuracy: 0.1154\n",
      "Epoch 143/256\n",
      "27/27 [==============================] - 72s 3s/step - loss: 0.1611 - accuracy: 0.1153 - val_loss: 0.1653 - val_accuracy: 0.1154\n",
      "Epoch 144/256\n",
      "27/27 [==============================] - 72s 3s/step - loss: 0.1612 - accuracy: 0.1153 - val_loss: 0.1653 - val_accuracy: 0.1155\n",
      "Epoch 145/256\n",
      "27/27 [==============================] - 70s 3s/step - loss: 0.1610 - accuracy: 0.1154 - val_loss: 0.1653 - val_accuracy: 0.1155\n",
      "Epoch 146/256\n",
      "27/27 [==============================] - 70s 3s/step - loss: 0.1611 - accuracy: 0.1154 - val_loss: 0.1653 - val_accuracy: 0.1155\n",
      "Epoch 147/256\n",
      "27/27 [==============================] - 70s 3s/step - loss: 0.1614 - accuracy: 0.1155 - val_loss: 0.1653 - val_accuracy: 0.1156\n",
      "Epoch 148/256\n",
      "27/27 [==============================] - 70s 3s/step - loss: 0.1614 - accuracy: 0.1156 - val_loss: 0.1653 - val_accuracy: 0.1157\n",
      "Epoch 149/256\n",
      "27/27 [==============================] - 71s 3s/step - loss: 0.1613 - accuracy: 0.1156 - val_loss: 0.1653 - val_accuracy: 0.1159\n",
      "Epoch 150/256\n",
      "27/27 [==============================] - 71s 3s/step - loss: 0.1613 - accuracy: 0.1159 - val_loss: 0.1653 - val_accuracy: 0.1161\n",
      "Epoch 151/256\n",
      "27/27 [==============================] - 74s 3s/step - loss: 0.1612 - accuracy: 0.1160 - val_loss: 0.1653 - val_accuracy: 0.1164\n",
      "Epoch 152/256\n",
      "27/27 [==============================] - 70s 3s/step - loss: 0.1612 - accuracy: 0.1163 - val_loss: 0.1653 - val_accuracy: 0.1167\n",
      "Epoch 153/256\n",
      "27/27 [==============================] - 70s 3s/step - loss: 0.1614 - accuracy: 0.1166 - val_loss: 0.1653 - val_accuracy: 0.1169\n",
      "Epoch 154/256\n",
      "27/27 [==============================] - 73s 3s/step - loss: 0.1614 - accuracy: 0.1169 - val_loss: 0.1653 - val_accuracy: 0.1174\n",
      "Epoch 155/256\n",
      "27/27 [==============================] - 71s 3s/step - loss: 0.1611 - accuracy: 0.1174 - val_loss: 0.1653 - val_accuracy: 0.1179\n",
      "Epoch 156/256\n",
      "27/27 [==============================] - 71s 3s/step - loss: 0.1610 - accuracy: 0.1178 - val_loss: 0.1653 - val_accuracy: 0.1183\n",
      "Epoch 157/256\n",
      "27/27 [==============================] - 71s 3s/step - loss: 0.1613 - accuracy: 0.1185 - val_loss: 0.1653 - val_accuracy: 0.1189\n",
      "Epoch 158/256\n",
      "27/27 [==============================] - 75s 3s/step - loss: 0.1610 - accuracy: 0.1193 - val_loss: 0.1653 - val_accuracy: 0.1199\n",
      "Epoch 159/256\n",
      "27/27 [==============================] - 77s 3s/step - loss: 0.1611 - accuracy: 0.1205 - val_loss: 0.1653 - val_accuracy: 0.1213\n",
      "Epoch 160/256\n",
      "27/27 [==============================] - 76s 3s/step - loss: 0.1611 - accuracy: 0.1219 - val_loss: 0.1653 - val_accuracy: 0.1230\n",
      "Epoch 161/256\n",
      "27/27 [==============================] - 74s 3s/step - loss: 0.1609 - accuracy: 0.1240 - val_loss: 0.1653 - val_accuracy: 0.1249\n",
      "Epoch 162/256\n",
      "27/27 [==============================] - 75s 3s/step - loss: 0.1611 - accuracy: 0.1268 - val_loss: 0.1653 - val_accuracy: 0.1275\n",
      "Epoch 163/256\n",
      "27/27 [==============================] - 77s 3s/step - loss: 0.1613 - accuracy: 0.1297 - val_loss: 0.1653 - val_accuracy: 0.1312\n",
      "Epoch 164/256\n",
      "27/27 [==============================] - 75s 3s/step - loss: 0.1611 - accuracy: 0.1345 - val_loss: 0.1653 - val_accuracy: 0.1360\n",
      "Epoch 165/256\n",
      "27/27 [==============================] - 75s 3s/step - loss: 0.1613 - accuracy: 0.1397 - val_loss: 0.1653 - val_accuracy: 0.1414\n",
      "Epoch 166/256\n",
      "27/27 [==============================] - 75s 3s/step - loss: 0.1613 - accuracy: 0.1447 - val_loss: 0.1653 - val_accuracy: 0.1447\n",
      "Epoch 167/256\n",
      "27/27 [==============================] - 74s 3s/step - loss: 0.1612 - accuracy: 0.1377 - val_loss: 0.1653 - val_accuracy: 0.1337\n",
      "Epoch 168/256\n",
      "27/27 [==============================] - 73s 3s/step - loss: 0.1611 - accuracy: 0.1392 - val_loss: 0.1653 - val_accuracy: 0.1396\n",
      "Epoch 169/256\n",
      "27/27 [==============================] - 76s 3s/step - loss: 0.1611 - accuracy: 0.1457 - val_loss: 0.1653 - val_accuracy: 0.1475\n",
      "Epoch 170/256\n",
      "27/27 [==============================] - 74s 3s/step - loss: 0.1615 - accuracy: 0.1530 - val_loss: 0.1653 - val_accuracy: 0.1553\n",
      "Epoch 171/256\n",
      "27/27 [==============================] - 74s 3s/step - loss: 0.1612 - accuracy: 0.1575 - val_loss: 0.1653 - val_accuracy: 0.1612\n",
      "Epoch 172/256\n",
      "27/27 [==============================] - 75s 3s/step - loss: 0.1612 - accuracy: 0.1626 - val_loss: 0.1653 - val_accuracy: 0.1676\n",
      "Epoch 173/256\n",
      "27/27 [==============================] - 73s 3s/step - loss: 0.1612 - accuracy: 0.1695 - val_loss: 0.1653 - val_accuracy: 0.1737\n",
      "Epoch 174/256\n",
      "27/27 [==============================] - 73s 3s/step - loss: 0.1611 - accuracy: 0.1724 - val_loss: 0.1653 - val_accuracy: 0.1752\n",
      "Epoch 175/256\n",
      "27/27 [==============================] - 75s 3s/step - loss: 0.1612 - accuracy: 0.1753 - val_loss: 0.1653 - val_accuracy: 0.1783\n",
      "Epoch 176/256\n",
      "27/27 [==============================] - 75s 3s/step - loss: 0.1614 - accuracy: 0.1798 - val_loss: 0.1653 - val_accuracy: 0.1810\n",
      "Epoch 177/256\n",
      "27/27 [==============================] - 75s 3s/step - loss: 0.1610 - accuracy: 0.1665 - val_loss: 0.1653 - val_accuracy: 0.1692\n",
      "Epoch 178/256\n",
      "27/27 [==============================] - 77s 3s/step - loss: 0.1612 - accuracy: 0.1683 - val_loss: 0.1653 - val_accuracy: 0.1761\n",
      "Epoch 179/256\n",
      "27/27 [==============================] - 72s 3s/step - loss: 0.1612 - accuracy: 0.1747 - val_loss: 0.1653 - val_accuracy: 0.1806\n",
      "Epoch 180/256\n",
      "27/27 [==============================] - 72s 3s/step - loss: 0.1611 - accuracy: 0.1811 - val_loss: 0.1653 - val_accuracy: 0.1872\n",
      "Epoch 181/256\n",
      "27/27 [==============================] - 74s 3s/step - loss: 0.1613 - accuracy: 0.1875 - val_loss: 0.1653 - val_accuracy: 0.1912\n",
      "Epoch 182/256\n",
      "27/27 [==============================] - 80s 3s/step - loss: 0.1611 - accuracy: 0.1894 - val_loss: 0.1653 - val_accuracy: 0.1977\n",
      "Epoch 183/256\n",
      "27/27 [==============================] - 74s 3s/step - loss: 0.1612 - accuracy: 0.1974 - val_loss: 0.1653 - val_accuracy: 0.2073\n",
      "Epoch 184/256\n",
      "27/27 [==============================] - 74s 3s/step - loss: 0.1612 - accuracy: 0.2036 - val_loss: 0.1653 - val_accuracy: 0.2142\n",
      "Epoch 185/256\n",
      "27/27 [==============================] - 77s 3s/step - loss: 0.1614 - accuracy: 0.2108 - val_loss: 0.1653 - val_accuracy: 0.2230\n",
      "Epoch 186/256\n",
      "27/27 [==============================] - 77s 3s/step - loss: 0.1613 - accuracy: 0.2170 - val_loss: 0.1653 - val_accuracy: 0.2309\n",
      "Epoch 187/256\n",
      "27/27 [==============================] - 140s 5s/step - loss: 0.1614 - accuracy: 0.2220 - val_loss: 0.1653 - val_accuracy: 0.2333\n",
      "Epoch 188/256\n",
      "27/27 [==============================] - 84s 3s/step - loss: 0.1613 - accuracy: 0.2171 - val_loss: 0.1653 - val_accuracy: 0.2291\n",
      "Epoch 189/256\n",
      "27/27 [==============================] - 80s 3s/step - loss: 0.1613 - accuracy: 0.2197 - val_loss: 0.1653 - val_accuracy: 0.2358\n",
      "Epoch 190/256\n",
      "27/27 [==============================] - 79s 3s/step - loss: 0.1612 - accuracy: 0.2250 - val_loss: 0.1653 - val_accuracy: 0.2425\n",
      "Epoch 191/256\n",
      "27/27 [==============================] - 119s 4s/step - loss: 0.1613 - accuracy: 0.2293 - val_loss: 0.1653 - val_accuracy: 0.2452\n",
      "Epoch 192/256\n",
      "27/27 [==============================] - 78s 3s/step - loss: 0.1612 - accuracy: 0.2322 - val_loss: 0.1653 - val_accuracy: 0.2491\n",
      "Epoch 193/256\n",
      "27/27 [==============================] - 114s 4s/step - loss: 0.1613 - accuracy: 0.2348 - val_loss: 0.1653 - val_accuracy: 0.2536\n",
      "Epoch 194/256\n",
      "27/27 [==============================] - 79s 3s/step - loss: 0.1612 - accuracy: 0.2395 - val_loss: 0.1653 - val_accuracy: 0.2565\n",
      "Epoch 195/256\n",
      "27/27 [==============================] - 82s 3s/step - loss: 0.1613 - accuracy: 0.2398 - val_loss: 0.1653 - val_accuracy: 0.2548\n",
      "Epoch 196/256\n",
      "27/27 [==============================] - 77s 3s/step - loss: 0.1613 - accuracy: 0.2383 - val_loss: 0.1653 - val_accuracy: 0.2575\n",
      "Epoch 197/256\n",
      "27/27 [==============================] - 118s 4s/step - loss: 0.1614 - accuracy: 0.2394 - val_loss: 0.1653 - val_accuracy: 0.2616\n",
      "Epoch 198/256\n",
      "27/27 [==============================] - 101s 4s/step - loss: 0.1611 - accuracy: 0.2409 - val_loss: 0.1653 - val_accuracy: 0.2605\n",
      "Epoch 199/256\n",
      "27/27 [==============================] - 76s 3s/step - loss: 0.1613 - accuracy: 0.2423 - val_loss: 0.1653 - val_accuracy: 0.2661\n",
      "Epoch 200/256\n",
      "27/27 [==============================] - 77s 3s/step - loss: 0.1614 - accuracy: 0.2467 - val_loss: 0.1653 - val_accuracy: 0.2681\n",
      "Epoch 201/256\n",
      "27/27 [==============================] - 142s 5s/step - loss: 0.1612 - accuracy: 0.2248 - val_loss: 0.1653 - val_accuracy: 0.2534\n",
      "Epoch 202/256\n",
      "27/27 [==============================] - 76s 3s/step - loss: 0.1610 - accuracy: 0.2165 - val_loss: 0.1653 - val_accuracy: 0.2537\n",
      "Epoch 203/256\n",
      "27/27 [==============================] - 76s 3s/step - loss: 0.1613 - accuracy: 0.2218 - val_loss: 0.1653 - val_accuracy: 0.2513\n",
      "Epoch 204/256\n",
      "27/27 [==============================] - 74s 3s/step - loss: 0.1611 - accuracy: 0.2175 - val_loss: 0.1653 - val_accuracy: 0.2266\n",
      "Epoch 205/256\n",
      "27/27 [==============================] - 108s 4s/step - loss: 0.1613 - accuracy: 0.2184 - val_loss: 0.1653 - val_accuracy: 0.2308\n",
      "Epoch 206/256\n",
      "27/27 [==============================] - 76s 3s/step - loss: 0.1612 - accuracy: 0.2230 - val_loss: 0.1653 - val_accuracy: 0.2372\n",
      "Epoch 207/256\n",
      "27/27 [==============================] - 74s 3s/step - loss: 0.1611 - accuracy: 0.2298 - val_loss: 0.1653 - val_accuracy: 0.2417\n",
      "Epoch 208/256\n",
      "27/27 [==============================] - 73s 3s/step - loss: 0.1613 - accuracy: 0.2269 - val_loss: 0.1653 - val_accuracy: 0.2437\n",
      "Epoch 209/256\n",
      "27/27 [==============================] - 113s 4s/step - loss: 0.1611 - accuracy: 0.2297 - val_loss: 0.1653 - val_accuracy: 0.2470\n",
      "Epoch 210/256\n",
      "27/27 [==============================] - 81s 3s/step - loss: 0.1613 - accuracy: 0.2335 - val_loss: 0.1653 - val_accuracy: 0.2508\n",
      "Epoch 211/256\n",
      "27/27 [==============================] - 77s 3s/step - loss: 0.1612 - accuracy: 0.2352 - val_loss: 0.1653 - val_accuracy: 0.2553\n",
      "Epoch 212/256\n",
      "27/27 [==============================] - 104s 4s/step - loss: 0.1611 - accuracy: 0.2393 - val_loss: 0.1653 - val_accuracy: 0.2628\n",
      "Epoch 213/256\n",
      "27/27 [==============================] - 77s 3s/step - loss: 0.1611 - accuracy: 0.2385 - val_loss: 0.1653 - val_accuracy: 0.2696\n",
      "Epoch 214/256\n",
      "27/27 [==============================] - 70s 3s/step - loss: 0.1612 - accuracy: 0.2387 - val_loss: 0.1653 - val_accuracy: 0.2834\n",
      "Epoch 215/256\n",
      "27/27 [==============================] - 70s 3s/step - loss: 0.1614 - accuracy: 0.2393 - val_loss: 0.1653 - val_accuracy: 0.2866\n",
      "Epoch 216/256\n",
      "27/27 [==============================] - 69s 3s/step - loss: 0.1614 - accuracy: 0.2429 - val_loss: 0.1653 - val_accuracy: 0.2823\n",
      "Epoch 217/256\n",
      "27/27 [==============================] - 70s 3s/step - loss: 0.1611 - accuracy: 0.2436 - val_loss: 0.1653 - val_accuracy: 0.2964\n",
      "Epoch 218/256\n",
      "27/27 [==============================] - 74s 3s/step - loss: 0.1611 - accuracy: 0.2458 - val_loss: 0.1653 - val_accuracy: 0.3067\n",
      "Epoch 219/256\n",
      "27/27 [==============================] - 72s 3s/step - loss: 0.1614 - accuracy: 0.2491 - val_loss: 0.1653 - val_accuracy: 0.3174\n",
      "Epoch 220/256\n",
      "27/27 [==============================] - 73s 3s/step - loss: 0.1612 - accuracy: 0.2519 - val_loss: 0.1653 - val_accuracy: 0.3112\n",
      "Epoch 221/256\n",
      "27/27 [==============================] - 75s 3s/step - loss: 0.1613 - accuracy: 0.2555 - val_loss: 0.1653 - val_accuracy: 0.2979\n",
      "Epoch 222/256\n",
      "27/27 [==============================] - 74s 3s/step - loss: 0.1611 - accuracy: 0.2577 - val_loss: 0.1653 - val_accuracy: 0.3186\n",
      "Epoch 223/256\n",
      "27/27 [==============================] - 82s 3s/step - loss: 0.1613 - accuracy: 0.2584 - val_loss: 0.1653 - val_accuracy: 0.2817\n",
      "Epoch 224/256\n",
      "27/27 [==============================] - 79s 3s/step - loss: 0.1612 - accuracy: 0.2586 - val_loss: 0.1653 - val_accuracy: 0.3185\n",
      "Epoch 225/256\n",
      "27/27 [==============================] - 72s 3s/step - loss: 0.1613 - accuracy: 0.2612 - val_loss: 0.1653 - val_accuracy: 0.2951\n",
      "Epoch 226/256\n",
      "27/27 [==============================] - 73s 3s/step - loss: 0.1611 - accuracy: 0.2624 - val_loss: 0.1653 - val_accuracy: 0.3060\n",
      "Epoch 227/256\n",
      "27/27 [==============================] - 72s 3s/step - loss: 0.1613 - accuracy: 0.2647 - val_loss: 0.1653 - val_accuracy: 0.2980\n",
      "Epoch 228/256\n",
      "27/27 [==============================] - 72s 3s/step - loss: 0.1612 - accuracy: 0.2596 - val_loss: 0.1653 - val_accuracy: 0.1797\n",
      "Epoch 229/256\n",
      "27/27 [==============================] - 75s 3s/step - loss: 0.1609 - accuracy: 0.2548 - val_loss: 0.1653 - val_accuracy: 0.2055\n",
      "Epoch 230/256\n",
      "27/27 [==============================] - 71s 3s/step - loss: 0.1612 - accuracy: 0.2546 - val_loss: 0.1653 - val_accuracy: 0.2330\n",
      "Epoch 231/256\n",
      "27/27 [==============================] - 70s 3s/step - loss: 0.1612 - accuracy: 0.2568 - val_loss: 0.1653 - val_accuracy: 0.2513\n",
      "Epoch 232/256\n",
      "27/27 [==============================] - 72s 3s/step - loss: 0.1612 - accuracy: 0.2584 - val_loss: 0.1653 - val_accuracy: 0.2767\n",
      "Epoch 233/256\n",
      "27/27 [==============================] - 68s 3s/step - loss: 0.1612 - accuracy: 0.2616 - val_loss: 0.1653 - val_accuracy: 0.3085\n",
      "Epoch 234/256\n",
      "27/27 [==============================] - 68s 3s/step - loss: 0.1613 - accuracy: 0.2645 - val_loss: 0.1653 - val_accuracy: 0.3109\n",
      "Epoch 235/256\n",
      "27/27 [==============================] - 69s 3s/step - loss: 0.1613 - accuracy: 0.2638 - val_loss: 0.1653 - val_accuracy: 0.3177\n",
      "Epoch 236/256\n",
      "27/27 [==============================] - 69s 3s/step - loss: 0.1612 - accuracy: 0.2648 - val_loss: 0.1653 - val_accuracy: 0.3249\n",
      "Epoch 237/256\n",
      "27/27 [==============================] - 70s 3s/step - loss: 0.1612 - accuracy: 0.2674 - val_loss: 0.1653 - val_accuracy: 0.3108\n",
      "Epoch 238/256\n",
      "27/27 [==============================] - 70s 3s/step - loss: 0.1613 - accuracy: 0.2698 - val_loss: 0.1653 - val_accuracy: 0.2986\n",
      "Epoch 239/256\n",
      "27/27 [==============================] - 70s 3s/step - loss: 0.1611 - accuracy: 0.2707 - val_loss: 0.1653 - val_accuracy: 0.3032\n",
      "Epoch 240/256\n",
      "27/27 [==============================] - 69s 3s/step - loss: 0.1612 - accuracy: 0.2691 - val_loss: 0.1653 - val_accuracy: 0.2654\n",
      "Epoch 241/256\n",
      "27/27 [==============================] - 67s 2s/step - loss: 0.1612 - accuracy: 0.2697 - val_loss: 0.1653 - val_accuracy: 0.3252\n",
      "Epoch 242/256\n",
      "27/27 [==============================] - 68s 3s/step - loss: 0.1614 - accuracy: 0.2724 - val_loss: 0.1653 - val_accuracy: 0.1355\n",
      "Epoch 243/256\n",
      "27/27 [==============================] - 70s 3s/step - loss: 0.1611 - accuracy: 0.1398 - val_loss: 0.1653 - val_accuracy: 0.1126\n",
      "Epoch 244/256\n",
      "27/27 [==============================] - 68s 3s/step - loss: 0.1611 - accuracy: 0.1080 - val_loss: 0.1653 - val_accuracy: 0.1201\n",
      "Epoch 245/256\n",
      "27/27 [==============================] - 69s 3s/step - loss: 0.1612 - accuracy: 0.1232 - val_loss: 0.1653 - val_accuracy: 0.1263\n",
      "Epoch 246/256\n",
      "27/27 [==============================] - 69s 3s/step - loss: 0.1612 - accuracy: 0.1338 - val_loss: 0.1653 - val_accuracy: 0.1348\n",
      "Epoch 247/256\n",
      "27/27 [==============================] - 68s 3s/step - loss: 0.1613 - accuracy: 0.1443 - val_loss: 0.1653 - val_accuracy: 0.1402\n",
      "Epoch 248/256\n",
      "27/27 [==============================] - 68s 3s/step - loss: 0.1612 - accuracy: 0.1446 - val_loss: 0.1653 - val_accuracy: 0.1438\n",
      "Epoch 249/256\n",
      "27/27 [==============================] - 68s 3s/step - loss: 0.1612 - accuracy: 0.1471 - val_loss: 0.1653 - val_accuracy: 0.1456\n",
      "Epoch 250/256\n",
      "27/27 [==============================] - 69s 3s/step - loss: 0.1613 - accuracy: 0.1501 - val_loss: 0.1653 - val_accuracy: 0.1496\n",
      "Epoch 251/256\n",
      "27/27 [==============================] - 67s 2s/step - loss: 0.1613 - accuracy: 0.1512 - val_loss: 0.1653 - val_accuracy: 0.1504\n",
      "Epoch 252/256\n",
      "27/27 [==============================] - 67s 2s/step - loss: 0.1612 - accuracy: 0.1492 - val_loss: 0.1653 - val_accuracy: 0.1482\n",
      "Epoch 253/256\n",
      "27/27 [==============================] - 67s 2s/step - loss: 0.1614 - accuracy: 0.1505 - val_loss: 0.1653 - val_accuracy: 0.1525\n",
      "Epoch 254/256\n",
      "27/27 [==============================] - 68s 3s/step - loss: 0.1612 - accuracy: 0.1533 - val_loss: 0.1653 - val_accuracy: 0.1523\n",
      "Epoch 255/256\n",
      "27/27 [==============================] - 67s 2s/step - loss: 0.1613 - accuracy: 0.1530 - val_loss: 0.1653 - val_accuracy: 0.1539\n",
      "Epoch 256/256\n",
      "27/27 [==============================] - 67s 2s/step - loss: 0.1612 - accuracy: 0.1528 - val_loss: 0.1653 - val_accuracy: 0.1538\n"
     ]
    }
   ],
   "source": [
    "data_augmentation = tf.keras.Sequential(\n",
    "  [\n",
    "    layers.RandomFlip(\"horizontal\", input_shape=(256, 256, 3)),\n",
    "    layers.RandomRotation(0.1),\n",
    "    layers.RandomZoom(0.1),\n",
    "  ]\n",
    ")\n",
    "\n",
    "initializer = tf.random_normal_initializer(0., 0.02)\n",
    "model = tf.keras.models.Sequential([\n",
    "  layers.Rescaling(1./127.5),\n",
    "  tf.keras.layers.Conv2D(64, 4, strides=2, padding='same', kernel_initializer=initializer, use_bias=False),\n",
    "  tf.keras.layers.LeakyReLU(),\n",
    "  tf.keras.layers.Conv2D(128, 4, strides=2, padding='same', kernel_initializer=initializer, use_bias=False),\n",
    "  tf.keras.layers.LeakyReLU(),\n",
    "  tf.keras.layers.Conv2D(256, 4, strides=2, padding='same', kernel_initializer=initializer, use_bias=False),\n",
    "  tf.keras.layers.LeakyReLU(),\n",
    "  tf.keras.layers.Conv2D(512, 4, strides=2, padding='same', kernel_initializer=initializer, use_bias=False),\n",
    "  tf.keras.layers.LeakyReLU(),\n",
    "  tf.keras.layers.Conv2D(512, 4, strides=2, padding='same', kernel_initializer=initializer, use_bias=False),\n",
    "  tf.keras.layers.LeakyReLU(),\n",
    "  tf.keras.layers.Conv2D(512, 4, strides=2, padding='same', kernel_initializer=initializer, use_bias=False),\n",
    "  tf.keras.layers.LeakyReLU(),\n",
    "  tf.keras.layers.Conv2D(512, 4, strides=2, padding='same', kernel_initializer=initializer, use_bias=False),\n",
    "  tf.keras.layers.LeakyReLU(),\n",
    "  tf.keras.layers.Conv2D(512, 4, strides=2, padding='same', kernel_initializer=initializer, use_bias=False),\n",
    "  tf.keras.layers.LeakyReLU(),\n",
    "  tf.keras.layers.Conv2DTranspose(512, 4,  strides=2, padding='same', kernel_initializer=initializer, use_bias=False),\n",
    "  tf.keras.layers.BatchNormalization(),\n",
    "  tf.keras.layers.Dropout(0.5),\n",
    "  tf.keras.layers.ReLU(),\n",
    "  # tf.keras.layers.Conv2DTranspose(512, 4,  strides=2, padding='same', kernel_initializer=initializer, use_bias=False),\n",
    "  # tf.keras.layers.BatchNormalization(),\n",
    "  # tf.keras.layers.Dropout(0.5),\n",
    "  # tf.keras.layers.ReLU(),\n",
    "  # tf.keras.layers.Conv2DTranspose(512, 4,  strides=2, padding='same', kernel_initializer=initializer, use_bias=False),\n",
    "  # tf.keras.layers.BatchNormalization(),\n",
    "  # tf.keras.layers.Dropout(0.5),\n",
    "  # tf.keras.layers.ReLU(),\n",
    "  # tf.keras.layers.Conv2DTranspose(512, 4,  strides=2, padding='same', kernel_initializer=initializer, use_bias=False),\n",
    "  # tf.keras.layers.BatchNormalization(),\n",
    "  # tf.keras.layers.ReLU(),\n",
    "  tf.keras.layers.Conv2DTranspose(256, 4,  strides=2, padding='same', kernel_initializer=initializer, use_bias=False),\n",
    "  tf.keras.layers.BatchNormalization(),\n",
    "  tf.keras.layers.ReLU(),\n",
    "  tf.keras.layers.Conv2DTranspose(128, 4,  strides=2, padding='same', kernel_initializer=initializer, use_bias=False),\n",
    "  tf.keras.layers.BatchNormalization(),\n",
    "  tf.keras.layers.ReLU(),\n",
    "  tf.keras.layers.Conv2DTranspose(64, 4,  strides=2, padding='same', kernel_initializer=initializer, use_bias=False),\n",
    "  tf.keras.layers.BatchNormalization(),\n",
    "  tf.keras.layers.ReLU(),\n",
    "  tf.keras.layers.Conv2DTranspose(1, 4, strides=2, padding='same', kernel_initializer=initializer, activation='tanh')\n",
    "])\n",
    "\n",
    "model.compile(optimizer='adam',\n",
    "              loss=frobeniusLoss,\n",
    "              # loss=pix2pixLoss,\n",
    "              # loss='mse',\n",
    "              metrics=['accuracy'])\n",
    "\n",
    "history = model.fit(\n",
    "    train_x, train_y,\n",
    "    validation_data=(val_x, val_y),\n",
    "    epochs=256,\n",
    ")"
   ]
  },
  {
   "cell_type": "code",
   "execution_count": 28,
   "metadata": {},
   "outputs": [
    {
     "data": {
      "text/plain": [
       "<matplotlib.legend.Legend at 0x16db1cd6d30>"
      ]
     },
     "execution_count": 28,
     "metadata": {},
     "output_type": "execute_result"
    },
    {
     "data": {
      "image/png": "[encoded data removed]",
      "text/plain": [
       "<Figure size 432x288 with 1 Axes>"
      ]
     },
     "metadata": {
      "needs_background": "light"
     },
     "output_type": "display_data"
    }
   ],
   "source": [
    "plt.plot(history.history['accuracy'], label='accuracy')\n",
    "plt.plot(history.history['val_accuracy'], label = 'val_accuracy')\n",
    "plt.xlabel('Epoch')\n",
    "plt.ylabel('Accuracy')\n",
    "plt.legend(loc='lower right')\n",
    "\n",
    "# test_loss, test_acc = model.evaluate(test_images,  test_labels, verbose=2)"
   ]
  },
  {
   "cell_type": "code",
   "execution_count": 29,
   "metadata": {},
   "outputs": [
    {
     "data": {
      "text/plain": [
       "<matplotlib.legend.Legend at 0x16db2696c10>"
      ]
     },
     "execution_count": 29,
     "metadata": {},
     "output_type": "execute_result"
    },
    {
     "data": {
      "image/png": "[encoded data removed]",
      "text/plain": [
       "<Figure size 432x288 with 1 Axes>"
      ]
     },
     "metadata": {
      "needs_background": "light"
     },
     "output_type": "display_data"
    }
   ],
   "source": [
    "plt.plot(history.history['loss'], label='loss')\n",
    "plt.plot(history.history['val_loss'], label = 'val_loss')\n",
    "plt.xlabel('Epoch')\n",
    "plt.ylabel('Loss')\n",
    "plt.legend(loc='lower right')"
   ]
  },
  {
   "cell_type": "code",
   "execution_count": 30,
   "metadata": {},
   "outputs": [
    {
     "name": "stdout",
     "output_type": "stream",
     "text": [
      "Pred\n",
      "(63, 32, 32, 1)\n",
      "True\n",
      "(63, 32, 32, 1)\n"
     ]
    }
   ],
   "source": [
    "# test = np.array([test_images[0]])\n",
    "pred = model.predict(test_x)\n",
    "true = test_y\n",
    "# print(pred)\n",
    "print(\"Pred\")\n",
    "print(pred.shape)\n",
    "print(\"True\")\n",
    "print(true.shape)"
   ]
  },
  {
   "cell_type": "code",
   "execution_count": 31,
   "metadata": {},
   "outputs": [
    {
     "name": "stdout",
     "output_type": "stream",
     "text": [
      "Entry 30\n"
     ]
    },
    {
     "data": {
      "image/png": "[encoded data removed]",
      "text/plain": [
       "<Figure size 432x288 with 1 Axes>"
      ]
     },
     "metadata": {
      "needs_background": "light"
     },
     "output_type": "display_data"
    },
    {
     "data": {
      "image/png": "[encoded data removed]",
      "text/plain": [
       "<Figure size 432x288 with 1 Axes>"
      ]
     },
     "metadata": {
      "needs_background": "light"
     },
     "output_type": "display_data"
    },
    {
     "data": {
      "image/png": "[encoded data removed]",
      "text/plain": [
       "<Figure size 432x288 with 1 Axes>"
      ]
     },
     "metadata": {
      "needs_background": "light"
     },
     "output_type": "display_data"
    },
    {
     "name": "stdout",
     "output_type": "stream",
     "text": [
      "Entry 31\n"
     ]
    },
    {
     "data": {
      "image/png": "[encoded data removed]",
      "text/plain": [
       "<Figure size 432x288 with 1 Axes>"
      ]
     },
     "metadata": {
      "needs_background": "light"
     },
     "output_type": "display_data"
    },
    {
     "data": {
      "image/png": "[encoded data removed]",
      "text/plain": [
       "<Figure size 432x288 with 1 Axes>"
      ]
     },
     "metadata": {
      "needs_background": "light"
     },
     "output_type": "display_data"
    },
    {
     "data": {
      "image/png": "[encoded data removed]",
      "text/plain": [
       "<Figure size 432x288 with 1 Axes>"
      ]
     },
     "metadata": {
      "needs_background": "light"
     },
     "output_type": "display_data"
    },
    {
     "name": "stdout",
     "output_type": "stream",
     "text": [
      "Entry 32\n"
     ]
    },
    {
     "data": {
      "image/png": "[encoded data removed]",
      "text/plain": [
       "<Figure size 432x288 with 1 Axes>"
      ]
     },
     "metadata": {
      "needs_background": "light"
     },
     "output_type": "display_data"
    },
    {
     "data": {
      "image/png": "[encoded data removed]",
      "text/plain": [
       "<Figure size 432x288 with 1 Axes>"
      ]
     },
     "metadata": {
      "needs_background": "light"
     },
     "output_type": "display_data"
    },
    {
     "data": {
      "image/png": "[encoded data removed]",
      "text/plain": [
       "<Figure size 432x288 with 1 Axes>"
      ]
     },
     "metadata": {
      "needs_background": "light"
     },
     "output_type": "display_data"
    }
   ],
   "source": [
    "for i in range(30, 33):\n",
    "  print(\"Entry\", i)\n",
    "  plt.title(\"Input\")\n",
    "  plt.imshow(test_x[i])\n",
    "  plt.show()\n",
    "\n",
    "  plt.title(\"Pred\")\n",
    "  plt.imshow(pred[i] * 0.5 + 0.5)\n",
    "  plt.show()\n",
    "\n",
    "  plt.title(\"True\")\n",
    "  plt.imshow(test_y[i])\n",
    "  plt.show()"
   ]
  }
 ],
 "metadata": {
  "interpreter": {
   "hash": "6c5b3efaa918d9f28db231eb82daaaf5f44447677f2df3439a28b7e91ebffcf4"
  },
  "kernelspec": {
   "display_name": "Python 3.9.6 64-bit",
   "language": "python",
   "name": "python3"
  },
  "language_info": {
   "codemirror_mode": {
    "name": "ipython",
    "version": 3
   },
   "file_extension": ".py",
   "mimetype": "text/x-python",
   "name": "python",
   "nbconvert_exporter": "python",
   "pygments_lexer": "ipython3",
   "version": "3.9.9"
  },
  "orig_nbformat": 4
 },
 "nbformat": 4,
 "nbformat_minor": 2
}
