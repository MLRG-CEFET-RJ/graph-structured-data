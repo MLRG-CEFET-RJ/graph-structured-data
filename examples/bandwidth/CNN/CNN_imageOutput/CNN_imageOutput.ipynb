{
 "cells": [
  {
   "cell_type": "code",
   "execution_count": 221,
   "metadata": {},
   "outputs": [],
   "source": [
    "import os\n",
    "os.environ[\"CUDA_VISIBLE_DEVICES\"] = \"-1\"\n",
    "import tensorflow as tf\n",
    "import networkx as nx\n",
    "from tensorflow.keras import datasets, layers, models\n",
    "import matplotlib.pyplot as plt\n",
    "import numpy as np\n",
    "import pandas as pd\n",
    "from tensorflow.keras.models import Model\n",
    "from tensorflow.keras.layers import Input\n",
    "from tensorflow.keras.preprocessing.image import ImageDataGenerator\n",
    "from sklearn.preprocessing import MultiLabelBinarizer\n",
    "from os import listdir\n",
    "from os.path import isfile, join\n",
    "from PIL import Image\n",
    "import pickle\n",
    "from tensorflow.keras import backend as K"
   ]
  },
  {
   "cell_type": "code",
   "execution_count": 222,
   "metadata": {},
   "outputs": [],
   "source": [
    "# NUMBER_NODES = 9\n",
    "NUMBER_NODES = 7\n",
    "# NUMBER_NODES = 5\n",
    "DATASET_PATH = f'../../../../datasets/examples/opt_band_{NUMBER_NODES}_nodes_graph.csv'\n",
    "\n",
    "def load_data():\n",
    "    featuresNumber = (NUMBER_NODES * NUMBER_NODES - NUMBER_NODES) // 2 \n",
    "\n",
    "    def get_tuple_dataset(row):\n",
    "        X = row[0 : featuresNumber].astype('float32')\n",
    "        Y = row[featuresNumber: ].astype('float32') # opt_band is in target\n",
    "        return X, Y\n",
    "\n",
    "    df = pd.read_csv(DATASET_PATH)\n",
    "    train_dataset_df = df.sample(frac=0.8)\n",
    "    df_remaining = df.drop(index=train_dataset_df.index)\n",
    "    val_dataset_df = df_remaining.sample(frac=0.7)\n",
    "    test_dataset_df = df_remaining.drop(index=val_dataset_df.index)\n",
    "\n",
    "    train_dataset = list(map(get_tuple_dataset, train_dataset_df.to_numpy()))\n",
    "    val_dataset = list(map(get_tuple_dataset, val_dataset_df.to_numpy()))\n",
    "    test_dataset = list(map(get_tuple_dataset, test_dataset_df.to_numpy()))\n",
    "    return train_dataset, val_dataset, test_dataset"
   ]
  },
  {
   "cell_type": "code",
   "execution_count": 223,
   "metadata": {},
   "outputs": [],
   "source": [
    "train_dataset, val_dataset, test_dataset = load_data()"
   ]
  },
  {
   "cell_type": "code",
   "execution_count": 224,
   "metadata": {},
   "outputs": [],
   "source": [
    "def getGraph(upperTriangleAdjMatrix):\n",
    "    dense_adj = np.zeros((NUMBER_NODES, NUMBER_NODES))\n",
    "    dense_adj = np.zeros((NUMBER_NODES, NUMBER_NODES))\n",
    "    k = 0\n",
    "    for i in range(NUMBER_NODES):\n",
    "        for j in range(NUMBER_NODES):\n",
    "            if i == j:\n",
    "                continue\n",
    "            elif i < j:\n",
    "                dense_adj[i][j] = upperTriangleAdjMatrix[k]\n",
    "                k += 1\n",
    "            else:\n",
    "                dense_adj[i][j] = dense_adj[j][i]\n",
    "    return dense_adj\n",
    "\n",
    "def processDataToImage(graphInput):\n",
    "    adj = getGraph(graphInput)\n",
    "    w, h = NUMBER_NODES, NUMBER_NODES\n",
    "    data = np.zeros((h, w), dtype=np.uint8)\n",
    "    for i in range(len(adj)):\n",
    "        for j in range(len(adj)):\n",
    "            if adj[i, j] == 1:\n",
    "                data[i, j] = 255.0\n",
    "    img = Image.fromarray(data, 'L')\n",
    "    resized = img.resize((32, 32), Image.NEAREST)\n",
    "    image = np.array(resized, dtype=np.float64)\n",
    "    image = np.reshape(image, (32, 32, 1))\n",
    "    return image\n",
    "\n",
    "def processImageOutput(graphInput, nodelist):\n",
    "    adj = getGraph(graphInput)\n",
    "    Graph = nx.Graph(adj)\n",
    "    adj = nx.adjacency_matrix(Graph, nodelist=nodelist)\n",
    "\n",
    "    w, h = NUMBER_NODES, NUMBER_NODES\n",
    "    data = np.zeros((h, w), dtype=np.uint8)\n",
    "    for i in range(adj.shape[0]):\n",
    "        for j in range(adj.shape[0]):\n",
    "            if adj[i, j] == 1:\n",
    "                data[i, j] = 255.0\n",
    "    img = Image.fromarray(data, 'L')\n",
    "    resized = img.resize((32, 32), Image.NEAREST)\n",
    "    image = np.array(resized, dtype=np.float64)\n",
    "    image = np.reshape(image, (32, 32, 1))\n",
    "    return image"
   ]
  },
  {
   "cell_type": "code",
   "execution_count": 225,
   "metadata": {},
   "outputs": [],
   "source": [
    "def getData_2(dataset):\n",
    "    train_x = []\n",
    "    train_output = []\n",
    "    for graphInput, target in dataset:\n",
    "        nodelist = target[1 : ]\n",
    "        x_image = processDataToImage(graphInput)\n",
    "        train_x.append(x_image)\n",
    "        y_image = processImageOutput(graphInput, nodelist)\n",
    "        train_output.append(y_image)\n",
    "    return np.array(train_x), np.array(train_output)"
   ]
  },
  {
   "cell_type": "code",
   "execution_count": 226,
   "metadata": {},
   "outputs": [
    {
     "name": "stdout",
     "output_type": "stream",
     "text": [
      "(835, 32, 32, 1)\n",
      "(835, 32, 32, 1)\n"
     ]
    }
   ],
   "source": [
    "train_x, train_y = getData_2(train_dataset)\n",
    "val_x, val_y= getData_2(val_dataset)\n",
    "test_x, test_y = getData_2(test_dataset)\n",
    "\n",
    "print(train_x.shape)\n",
    "print(train_y.shape)"
   ]
  },
  {
   "cell_type": "code",
   "execution_count": 227,
   "metadata": {},
   "outputs": [
    {
     "data": {
      "image/png": "[encoded data removed]",
      "text/plain": [
       "<Figure size 432x288 with 1 Axes>"
      ]
     },
     "metadata": {
      "needs_background": "light"
     },
     "output_type": "display_data"
    },
    {
     "data": {
      "text/plain": [
       "<Figure size 432x288 with 0 Axes>"
      ]
     },
     "metadata": {},
     "output_type": "display_data"
    }
   ],
   "source": [
    "plt.imshow(train_x[0])\n",
    "plt.show()\n",
    "plt.clf()\n"
   ]
  },
  {
   "cell_type": "code",
   "execution_count": 228,
   "metadata": {},
   "outputs": [
    {
     "data": {
      "text/plain": [
       "<matplotlib.image.AxesImage at 0x20c716856a0>"
      ]
     },
     "execution_count": 228,
     "metadata": {},
     "output_type": "execute_result"
    },
    {
     "data": {
      "image/png": "[encoded data removed]",
      "text/plain": [
       "<Figure size 432x288 with 1 Axes>"
      ]
     },
     "metadata": {
      "needs_background": "light"
     },
     "output_type": "display_data"
    }
   ],
   "source": [
    "plt.imshow(train_y[0])"
   ]
  },
  {
   "cell_type": "code",
   "execution_count": 229,
   "metadata": {},
   "outputs": [
    {
     "name": "stdout",
     "output_type": "stream",
     "text": [
      "(2, 32, 32, 1)\n",
      "(2, 32, 32, 1)\n",
      "float64\n",
      "<dtype: 'float32'>\n",
      "float64\n"
     ]
    }
   ],
   "source": [
    "examples = train_x[0:2]\n",
    "examples_y = train_y[0:2]\n",
    "print(examples.shape)\n",
    "\n",
    "rescaling = layers.Rescaling(1./255)\n",
    "pred = layers.Conv2D(1, 3, padding='same', activation='relu', input_shape=(32, 32))(rescaling(examples))\n",
    "print(pred.shape)\n",
    "\n",
    "print(examples[0].dtype)\n",
    "print(pred[0].dtype)\n",
    "print(examples_y[0].dtype)"
   ]
  },
  {
   "cell_type": "code",
   "execution_count": 230,
   "metadata": {},
   "outputs": [],
   "source": [
    "def frobeniusLoss(y_true, y_pred):\n",
    "  error = y_true - y_pred\n",
    "  size = tf.size(error)\n",
    "  return tf.norm(error, ord='fro',axis=(0,1)) / tf.cast(size, tf.float32)"
   ]
  },
  {
   "cell_type": "code",
   "execution_count": 231,
   "metadata": {},
   "outputs": [
    {
     "name": "stdout",
     "output_type": "stream",
     "text": [
      "Epoch 1/256\n",
      "27/27 [==============================] - 34s 1s/step - loss: 0.1617 - accuracy: 0.5173 - val_loss: 0.1623 - val_accuracy: 0.0000e+00\n",
      "Epoch 2/256\n",
      "27/27 [==============================] - 33s 1s/step - loss: 0.1266 - accuracy: 0.0000e+00 - val_loss: 0.1186 - val_accuracy: 0.0000e+00\n",
      "Epoch 3/256\n",
      "27/27 [==============================] - 33s 1s/step - loss: 0.1139 - accuracy: 0.0020 - val_loss: 0.1166 - val_accuracy: 0.0130\n",
      "Epoch 4/256\n",
      "27/27 [==============================] - 32s 1s/step - loss: 0.1124 - accuracy: 0.0248 - val_loss: 0.1152 - val_accuracy: 0.0255\n",
      "Epoch 5/256\n",
      "27/27 [==============================] - 32s 1s/step - loss: 0.1106 - accuracy: 0.0395 - val_loss: 0.1133 - val_accuracy: 0.0520\n",
      "Epoch 6/256\n",
      "27/27 [==============================] - 35s 1s/step - loss: 0.1084 - accuracy: 0.0799 - val_loss: 0.1109 - val_accuracy: 0.1106\n",
      "Epoch 7/256\n",
      "27/27 [==============================] - 34s 1s/step - loss: 0.1066 - accuracy: 0.1105 - val_loss: 0.1100 - val_accuracy: 0.1315\n",
      "Epoch 8/256\n",
      "27/27 [==============================] - 33s 1s/step - loss: 0.1055 - accuracy: 0.1248 - val_loss: 0.1083 - val_accuracy: 0.1352\n",
      "Epoch 9/256\n",
      "27/27 [==============================] - 33s 1s/step - loss: 0.1044 - accuracy: 0.1412 - val_loss: 0.1076 - val_accuracy: 0.1330\n",
      "Epoch 10/256\n",
      "27/27 [==============================] - 35s 1s/step - loss: 0.1035 - accuracy: 0.1291 - val_loss: 0.1071 - val_accuracy: 0.1406\n",
      "Epoch 11/256\n",
      "27/27 [==============================] - 35s 1s/step - loss: 0.1033 - accuracy: 0.1484 - val_loss: 0.1066 - val_accuracy: 0.1293\n",
      "Epoch 12/256\n",
      "27/27 [==============================] - 35s 1s/step - loss: 0.1031 - accuracy: 0.1254 - val_loss: 0.1060 - val_accuracy: 0.1412\n",
      "Epoch 13/256\n",
      "27/27 [==============================] - 32s 1s/step - loss: 0.1022 - accuracy: 0.1422 - val_loss: 0.1059 - val_accuracy: 0.1227\n",
      "Epoch 14/256\n",
      "27/27 [==============================] - 41s 2s/step - loss: 0.1021 - accuracy: 0.1278 - val_loss: 0.1058 - val_accuracy: 0.1537\n",
      "Epoch 15/256\n",
      "27/27 [==============================] - 47s 2s/step - loss: 0.1021 - accuracy: 0.1368 - val_loss: 0.1049 - val_accuracy: 0.1396\n",
      "Epoch 16/256\n",
      "27/27 [==============================] - 46s 2s/step - loss: 0.1013 - accuracy: 0.1358 - val_loss: 0.1045 - val_accuracy: 0.1438\n",
      "Epoch 17/256\n",
      "27/27 [==============================] - 46s 2s/step - loss: 0.1009 - accuracy: 0.1438 - val_loss: 0.1048 - val_accuracy: 0.1284\n",
      "Epoch 18/256\n",
      "27/27 [==============================] - 46s 2s/step - loss: 0.1014 - accuracy: 0.1376 - val_loss: 0.1045 - val_accuracy: 0.1619\n",
      "Epoch 19/256\n",
      "27/27 [==============================] - 46s 2s/step - loss: 0.1008 - accuracy: 0.1442 - val_loss: 0.1049 - val_accuracy: 0.1473\n",
      "Epoch 20/256\n",
      "27/27 [==============================] - 45s 2s/step - loss: 0.1009 - accuracy: 0.1525 - val_loss: 0.1038 - val_accuracy: 0.1485\n",
      "Epoch 21/256\n",
      "27/27 [==============================] - 47s 2s/step - loss: 0.1003 - accuracy: 0.1459 - val_loss: 0.1069 - val_accuracy: 0.1787\n",
      "Epoch 22/256\n",
      "27/27 [==============================] - 46s 2s/step - loss: 0.1026 - accuracy: 0.1476 - val_loss: 0.1034 - val_accuracy: 0.1278\n",
      "Epoch 23/256\n",
      "27/27 [==============================] - 45s 2s/step - loss: 0.1000 - accuracy: 0.1452 - val_loss: 0.1050 - val_accuracy: 0.1299\n",
      "Epoch 24/256\n",
      "27/27 [==============================] - 47s 2s/step - loss: 0.1005 - accuracy: 0.1461 - val_loss: 0.1035 - val_accuracy: 0.1530\n",
      "Epoch 25/256\n",
      "27/27 [==============================] - 45s 2s/step - loss: 0.0996 - accuracy: 0.1591 - val_loss: 0.1023 - val_accuracy: 0.1505\n",
      "Epoch 26/256\n",
      "27/27 [==============================] - 45s 2s/step - loss: 0.0990 - accuracy: 0.1257 - val_loss: 0.1040 - val_accuracy: 0.0000e+00\n",
      "Epoch 27/256\n",
      "27/27 [==============================] - 45s 2s/step - loss: 0.1000 - accuracy: 0.0163 - val_loss: 0.1020 - val_accuracy: 0.0000e+00\n",
      "Epoch 28/256\n",
      "27/27 [==============================] - 46s 2s/step - loss: 0.0988 - accuracy: 0.0000e+00 - val_loss: 0.1023 - val_accuracy: 0.0000e+00\n",
      "Epoch 29/256\n",
      "27/27 [==============================] - 46s 2s/step - loss: 0.0990 - accuracy: 0.0000e+00 - val_loss: 0.1023 - val_accuracy: 0.0000e+00\n",
      "Epoch 30/256\n",
      "27/27 [==============================] - 46s 2s/step - loss: 0.0988 - accuracy: 0.0000e+00 - val_loss: 0.1041 - val_accuracy: 0.0000e+00\n",
      "Epoch 31/256\n",
      "27/27 [==============================] - 47s 2s/step - loss: 0.0996 - accuracy: 0.0000e+00 - val_loss: 0.1033 - val_accuracy: 0.0000e+00\n",
      "Epoch 32/256\n",
      "27/27 [==============================] - 48s 2s/step - loss: 0.0990 - accuracy: 0.0000e+00 - val_loss: 0.1010 - val_accuracy: 0.0000e+00\n",
      "Epoch 33/256\n",
      "27/27 [==============================] - 46s 2s/step - loss: 0.0976 - accuracy: 0.0000e+00 - val_loss: 0.1011 - val_accuracy: 0.0000e+00\n",
      "Epoch 34/256\n",
      "27/27 [==============================] - 45s 2s/step - loss: 0.0975 - accuracy: 0.0000e+00 - val_loss: 0.1007 - val_accuracy: 0.0000e+00\n",
      "Epoch 35/256\n",
      "27/27 [==============================] - 45s 2s/step - loss: 0.0975 - accuracy: 0.0000e+00 - val_loss: 0.1006 - val_accuracy: 0.0000e+00\n",
      "Epoch 36/256\n",
      "27/27 [==============================] - 44s 2s/step - loss: 0.0973 - accuracy: 0.0000e+00 - val_loss: 0.1007 - val_accuracy: 0.0000e+00\n",
      "Epoch 37/256\n",
      "27/27 [==============================] - 44s 2s/step - loss: 0.0969 - accuracy: 0.0000e+00 - val_loss: 0.1012 - val_accuracy: 0.0000e+00\n",
      "Epoch 38/256\n",
      "27/27 [==============================] - 49s 2s/step - loss: 0.0968 - accuracy: 0.0000e+00 - val_loss: 0.1105 - val_accuracy: 0.0000e+00\n",
      "Epoch 39/256\n",
      "27/27 [==============================] - 45s 2s/step - loss: 0.0994 - accuracy: 0.0000e+00 - val_loss: 0.0995 - val_accuracy: 0.0000e+00\n",
      "Epoch 40/256\n",
      "27/27 [==============================] - 44s 2s/step - loss: 0.0967 - accuracy: 0.0000e+00 - val_loss: 0.1005 - val_accuracy: 0.0000e+00\n",
      "Epoch 41/256\n",
      "27/27 [==============================] - 44s 2s/step - loss: 0.0967 - accuracy: 0.0000e+00 - val_loss: 0.0991 - val_accuracy: 0.0000e+00\n",
      "Epoch 42/256\n",
      "27/27 [==============================] - 48s 2s/step - loss: 0.0960 - accuracy: 0.0000e+00 - val_loss: 0.0995 - val_accuracy: 0.0000e+00\n",
      "Epoch 43/256\n",
      "27/27 [==============================] - 47s 2s/step - loss: 0.0964 - accuracy: 0.0000e+00 - val_loss: 0.0984 - val_accuracy: 0.0000e+00\n",
      "Epoch 44/256\n",
      "27/27 [==============================] - 45s 2s/step - loss: 0.0952 - accuracy: 0.0000e+00 - val_loss: 0.0982 - val_accuracy: 0.0000e+00\n",
      "Epoch 45/256\n",
      "27/27 [==============================] - 45s 2s/step - loss: 0.0951 - accuracy: 0.0000e+00 - val_loss: 0.0985 - val_accuracy: 0.0000e+00\n",
      "Epoch 46/256\n",
      "27/27 [==============================] - 46s 2s/step - loss: 0.0951 - accuracy: 0.0000e+00 - val_loss: 0.0978 - val_accuracy: 0.0000e+00\n",
      "Epoch 47/256\n",
      "27/27 [==============================] - 48s 2s/step - loss: 0.0953 - accuracy: 0.0000e+00 - val_loss: 0.0978 - val_accuracy: 0.0000e+00\n",
      "Epoch 48/256\n",
      "27/27 [==============================] - 45s 2s/step - loss: 0.0949 - accuracy: 0.0000e+00 - val_loss: 0.0981 - val_accuracy: 0.0000e+00\n",
      "Epoch 49/256\n",
      "27/27 [==============================] - 46s 2s/step - loss: 0.0946 - accuracy: 0.0000e+00 - val_loss: 0.0984 - val_accuracy: 0.0000e+00\n",
      "Epoch 50/256\n",
      "27/27 [==============================] - 47s 2s/step - loss: 0.0960 - accuracy: 0.0000e+00 - val_loss: 0.0981 - val_accuracy: 0.0000e+00\n",
      "Epoch 51/256\n",
      "27/27 [==============================] - 49s 2s/step - loss: 0.0947 - accuracy: 0.0000e+00 - val_loss: 0.0993 - val_accuracy: 0.0000e+00\n",
      "Epoch 52/256\n",
      "27/27 [==============================] - 49s 2s/step - loss: 0.0961 - accuracy: 0.0000e+00 - val_loss: 0.0979 - val_accuracy: 0.0000e+00\n",
      "Epoch 53/256\n",
      "27/27 [==============================] - 51s 2s/step - loss: 0.0941 - accuracy: 0.0000e+00 - val_loss: 0.0975 - val_accuracy: 0.0000e+00\n",
      "Epoch 54/256\n",
      "27/27 [==============================] - 49s 2s/step - loss: 0.0942 - accuracy: 0.0000e+00 - val_loss: 0.0969 - val_accuracy: 0.0000e+00\n",
      "Epoch 55/256\n",
      "27/27 [==============================] - 50s 2s/step - loss: 0.0943 - accuracy: 0.0000e+00 - val_loss: 0.1028 - val_accuracy: 0.0000e+00\n",
      "Epoch 56/256\n",
      "27/27 [==============================] - 49s 2s/step - loss: 0.0963 - accuracy: 0.0000e+00 - val_loss: 0.0966 - val_accuracy: 0.0000e+00\n",
      "Epoch 57/256\n",
      "27/27 [==============================] - 51s 2s/step - loss: 0.0933 - accuracy: 0.0000e+00 - val_loss: 0.0969 - val_accuracy: 0.0000e+00\n",
      "Epoch 58/256\n",
      "27/27 [==============================] - 48s 2s/step - loss: 0.0938 - accuracy: 0.0000e+00 - val_loss: 0.0959 - val_accuracy: 0.0000e+00\n",
      "Epoch 59/256\n",
      "27/27 [==============================] - 50s 2s/step - loss: 0.0930 - accuracy: 0.0000e+00 - val_loss: 0.0963 - val_accuracy: 0.0000e+00\n",
      "Epoch 60/256\n",
      "27/27 [==============================] - 49s 2s/step - loss: 0.0924 - accuracy: 0.0000e+00 - val_loss: 0.0969 - val_accuracy: 0.0000e+00\n",
      "Epoch 61/256\n",
      "27/27 [==============================] - 45s 2s/step - loss: 0.0927 - accuracy: 0.0000e+00 - val_loss: 0.0949 - val_accuracy: 0.0000e+00\n",
      "Epoch 62/256\n",
      "27/27 [==============================] - 47s 2s/step - loss: 0.0925 - accuracy: 0.0000e+00 - val_loss: 0.0955 - val_accuracy: 0.0000e+00\n",
      "Epoch 63/256\n",
      "27/27 [==============================] - 44s 2s/step - loss: 0.0927 - accuracy: 0.0000e+00 - val_loss: 0.0955 - val_accuracy: 0.0000e+00\n",
      "Epoch 64/256\n",
      "27/27 [==============================] - 46s 2s/step - loss: 0.0930 - accuracy: 0.0000e+00 - val_loss: 0.0965 - val_accuracy: 0.0000e+00\n",
      "Epoch 65/256\n",
      "27/27 [==============================] - 46s 2s/step - loss: 0.0925 - accuracy: 0.0000e+00 - val_loss: 0.1006 - val_accuracy: 0.0000e+00\n",
      "Epoch 66/256\n",
      "27/27 [==============================] - 44s 2s/step - loss: 0.0966 - accuracy: 0.0000e+00 - val_loss: 0.0949 - val_accuracy: 0.0000e+00\n",
      "Epoch 67/256\n",
      "27/27 [==============================] - 47s 2s/step - loss: 0.0931 - accuracy: 0.0000e+00 - val_loss: 0.0953 - val_accuracy: 0.0000e+00\n",
      "Epoch 68/256\n",
      "27/27 [==============================] - 49s 2s/step - loss: 0.0927 - accuracy: 0.0000e+00 - val_loss: 0.0943 - val_accuracy: 0.0000e+00\n",
      "Epoch 69/256\n",
      "27/27 [==============================] - 45s 2s/step - loss: 0.0912 - accuracy: 0.0000e+00 - val_loss: 0.0940 - val_accuracy: 0.0000e+00\n",
      "Epoch 70/256\n",
      "27/27 [==============================] - 45s 2s/step - loss: 0.0911 - accuracy: 0.0000e+00 - val_loss: 0.0942 - val_accuracy: 0.0000e+00\n",
      "Epoch 71/256\n",
      "27/27 [==============================] - 45s 2s/step - loss: 0.0913 - accuracy: 0.0000e+00 - val_loss: 0.0939 - val_accuracy: 0.0000e+00\n",
      "Epoch 72/256\n",
      "27/27 [==============================] - 47s 2s/step - loss: 0.0909 - accuracy: 0.0000e+00 - val_loss: 0.0943 - val_accuracy: 0.0000e+00\n",
      "Epoch 73/256\n",
      "27/27 [==============================] - 45s 2s/step - loss: 0.0912 - accuracy: 0.0000e+00 - val_loss: 0.0945 - val_accuracy: 0.0000e+00\n",
      "Epoch 74/256\n",
      "27/27 [==============================] - 46s 2s/step - loss: 0.0909 - accuracy: 0.0000e+00 - val_loss: 0.0939 - val_accuracy: 0.0000e+00\n",
      "Epoch 75/256\n",
      "27/27 [==============================] - 47s 2s/step - loss: 0.0917 - accuracy: 0.0000e+00 - val_loss: 0.0938 - val_accuracy: 0.0000e+00\n",
      "Epoch 76/256\n",
      "27/27 [==============================] - 46s 2s/step - loss: 0.0906 - accuracy: 0.0000e+00 - val_loss: 0.0946 - val_accuracy: 0.0000e+00\n",
      "Epoch 77/256\n",
      "27/27 [==============================] - 46s 2s/step - loss: 0.0907 - accuracy: 0.0000e+00 - val_loss: 0.0943 - val_accuracy: 0.0000e+00\n",
      "Epoch 78/256\n",
      "27/27 [==============================] - 49s 2s/step - loss: 0.0909 - accuracy: 0.0000e+00 - val_loss: 0.0936 - val_accuracy: 0.0000e+00\n",
      "Epoch 79/256\n",
      "27/27 [==============================] - 51s 2s/step - loss: 0.0908 - accuracy: 0.0000e+00 - val_loss: 0.0971 - val_accuracy: 0.0000e+00\n",
      "Epoch 80/256\n",
      "27/27 [==============================] - 49s 2s/step - loss: 0.0924 - accuracy: 0.0000e+00 - val_loss: 0.0936 - val_accuracy: 0.0000e+00\n",
      "Epoch 81/256\n",
      "27/27 [==============================] - 50s 2s/step - loss: 0.0905 - accuracy: 0.0000e+00 - val_loss: 0.0987 - val_accuracy: 0.0000e+00\n",
      "Epoch 82/256\n",
      "27/27 [==============================] - 50s 2s/step - loss: 0.0942 - accuracy: 0.0000e+00 - val_loss: 0.0942 - val_accuracy: 0.0000e+00\n",
      "Epoch 83/256\n",
      "27/27 [==============================] - 45s 2s/step - loss: 0.0914 - accuracy: 0.0000e+00 - val_loss: 0.0935 - val_accuracy: 0.0000e+00\n",
      "Epoch 84/256\n",
      "27/27 [==============================] - 46s 2s/step - loss: 0.0900 - accuracy: 0.0000e+00 - val_loss: 0.0946 - val_accuracy: 0.0000e+00\n",
      "Epoch 85/256\n",
      "27/27 [==============================] - 46s 2s/step - loss: 0.0913 - accuracy: 0.0000e+00 - val_loss: 0.0934 - val_accuracy: 0.0000e+00\n",
      "Epoch 86/256\n",
      "27/27 [==============================] - 48s 2s/step - loss: 0.0906 - accuracy: 0.0000e+00 - val_loss: 0.0929 - val_accuracy: 0.0000e+00\n",
      "Epoch 87/256\n",
      "27/27 [==============================] - 46s 2s/step - loss: 0.0899 - accuracy: 0.0000e+00 - val_loss: 0.0975 - val_accuracy: 0.0000e+00\n",
      "Epoch 88/256\n",
      "27/27 [==============================] - 45s 2s/step - loss: 0.0928 - accuracy: 0.0000e+00 - val_loss: 0.0931 - val_accuracy: 0.0000e+00\n",
      "Epoch 89/256\n",
      "27/27 [==============================] - 47s 2s/step - loss: 0.0901 - accuracy: 0.0000e+00 - val_loss: 0.0935 - val_accuracy: 0.0000e+00\n",
      "Epoch 90/256\n",
      "27/27 [==============================] - 48s 2s/step - loss: 0.0906 - accuracy: 0.0000e+00 - val_loss: 0.0931 - val_accuracy: 0.0000e+00\n",
      "Epoch 91/256\n",
      "27/27 [==============================] - 46s 2s/step - loss: 0.0898 - accuracy: 0.0000e+00 - val_loss: 0.0929 - val_accuracy: 0.0000e+00\n",
      "Epoch 92/256\n",
      "27/27 [==============================] - 46s 2s/step - loss: 0.0898 - accuracy: 0.0000e+00 - val_loss: 0.0934 - val_accuracy: 0.0000e+00\n",
      "Epoch 93/256\n",
      "27/27 [==============================] - 46s 2s/step - loss: 0.0901 - accuracy: 0.0000e+00 - val_loss: 0.0933 - val_accuracy: 0.0000e+00\n",
      "Epoch 94/256\n",
      "27/27 [==============================] - 45s 2s/step - loss: 0.0905 - accuracy: 0.0000e+00 - val_loss: 0.0929 - val_accuracy: 0.0000e+00\n",
      "Epoch 95/256\n",
      "27/27 [==============================] - 45s 2s/step - loss: 0.0903 - accuracy: 0.0000e+00 - val_loss: 0.0925 - val_accuracy: 0.0000e+00\n",
      "Epoch 96/256\n",
      "27/27 [==============================] - 45s 2s/step - loss: 0.0901 - accuracy: 0.0000e+00 - val_loss: 0.0928 - val_accuracy: 0.0000e+00\n",
      "Epoch 97/256\n",
      "27/27 [==============================] - 47s 2s/step - loss: 0.0898 - accuracy: 0.0000e+00 - val_loss: 0.0934 - val_accuracy: 0.0000e+00\n",
      "Epoch 98/256\n",
      "27/27 [==============================] - 46s 2s/step - loss: 0.0902 - accuracy: 0.0000e+00 - val_loss: 0.0926 - val_accuracy: 0.0000e+00\n",
      "Epoch 99/256\n",
      "27/27 [==============================] - 45s 2s/step - loss: 0.0898 - accuracy: 0.0000e+00 - val_loss: 0.0924 - val_accuracy: 0.0000e+00\n",
      "Epoch 100/256\n",
      "27/27 [==============================] - 46s 2s/step - loss: 0.0894 - accuracy: 0.0000e+00 - val_loss: 0.0932 - val_accuracy: 0.0000e+00\n",
      "Epoch 101/256\n",
      "27/27 [==============================] - 45s 2s/step - loss: 0.0897 - accuracy: 0.0000e+00 - val_loss: 0.0924 - val_accuracy: 0.0000e+00\n",
      "Epoch 102/256\n",
      "27/27 [==============================] - 34s 1s/step - loss: 0.0894 - accuracy: 0.0000e+00 - val_loss: 0.0930 - val_accuracy: 0.0000e+00\n",
      "Epoch 103/256\n",
      "27/27 [==============================] - 31s 1s/step - loss: 0.0898 - accuracy: 0.0000e+00 - val_loss: 0.0933 - val_accuracy: 0.0000e+00\n",
      "Epoch 104/256\n",
      "27/27 [==============================] - 33s 1s/step - loss: 0.0895 - accuracy: 0.0000e+00 - val_loss: 0.0943 - val_accuracy: 0.0000e+00\n",
      "Epoch 105/256\n",
      "27/27 [==============================] - 32s 1s/step - loss: 0.0909 - accuracy: 0.0000e+00 - val_loss: 0.0937 - val_accuracy: 0.0000e+00\n",
      "Epoch 106/256\n",
      "27/27 [==============================] - 34s 1s/step - loss: 0.0895 - accuracy: 0.0000e+00 - val_loss: 0.0925 - val_accuracy: 0.0000e+00\n",
      "Epoch 107/256\n",
      "27/27 [==============================] - 32s 1s/step - loss: 0.0890 - accuracy: 0.0000e+00 - val_loss: 0.0921 - val_accuracy: 0.0000e+00\n",
      "Epoch 108/256\n",
      "27/27 [==============================] - 33s 1s/step - loss: 0.0889 - accuracy: 0.0000e+00 - val_loss: 0.0924 - val_accuracy: 0.0000e+00\n",
      "Epoch 109/256\n",
      "27/27 [==============================] - 36s 1s/step - loss: 0.0896 - accuracy: 0.0000e+00 - val_loss: 0.0921 - val_accuracy: 0.0000e+00\n",
      "Epoch 110/256\n",
      "27/27 [==============================] - 33s 1s/step - loss: 0.0891 - accuracy: 0.0011 - val_loss: 0.0926 - val_accuracy: 0.0000e+00\n",
      "Epoch 111/256\n",
      "27/27 [==============================] - 35s 1s/step - loss: 0.0893 - accuracy: 0.2632 - val_loss: 0.0921 - val_accuracy: 0.2828\n",
      "Epoch 112/256\n",
      "27/27 [==============================] - 34s 1s/step - loss: 0.0891 - accuracy: 0.2780 - val_loss: 0.0919 - val_accuracy: 0.2888\n",
      "Epoch 113/256\n",
      "27/27 [==============================] - 38s 1s/step - loss: 0.0887 - accuracy: 0.2793 - val_loss: 0.0921 - val_accuracy: 0.2911\n",
      "Epoch 114/256\n",
      "27/27 [==============================] - 49s 2s/step - loss: 0.0887 - accuracy: 0.2789 - val_loss: 0.0923 - val_accuracy: 0.2817\n",
      "Epoch 115/256\n",
      "27/27 [==============================] - 49s 2s/step - loss: 0.0889 - accuracy: 0.2771 - val_loss: 0.0920 - val_accuracy: 0.2734\n",
      "Epoch 116/256\n",
      "27/27 [==============================] - 49s 2s/step - loss: 0.0893 - accuracy: 0.2701 - val_loss: 0.0919 - val_accuracy: 0.2868\n",
      "Epoch 117/256\n",
      "27/27 [==============================] - 50s 2s/step - loss: 0.0887 - accuracy: 0.2829 - val_loss: 0.0916 - val_accuracy: 0.2846\n",
      "Epoch 118/256\n",
      "27/27 [==============================] - 46s 2s/step - loss: 0.0885 - accuracy: 0.2751 - val_loss: 0.0917 - val_accuracy: 0.2834\n",
      "Epoch 119/256\n",
      "27/27 [==============================] - 47s 2s/step - loss: 0.0887 - accuracy: 0.2820 - val_loss: 0.0913 - val_accuracy: 0.2897\n",
      "Epoch 120/256\n",
      "27/27 [==============================] - 45s 2s/step - loss: 0.0889 - accuracy: 0.2698 - val_loss: 0.0922 - val_accuracy: 0.2631\n",
      "Epoch 121/256\n",
      "27/27 [==============================] - 48s 2s/step - loss: 0.0889 - accuracy: 0.2703 - val_loss: 0.0931 - val_accuracy: 0.2694\n",
      "Epoch 122/256\n",
      "27/27 [==============================] - 49s 2s/step - loss: 0.0891 - accuracy: 0.2771 - val_loss: 0.0919 - val_accuracy: 0.2984\n",
      "Epoch 123/256\n",
      "27/27 [==============================] - 48s 2s/step - loss: 0.0889 - accuracy: 0.2759 - val_loss: 0.0913 - val_accuracy: 0.2799\n",
      "Epoch 124/256\n",
      "27/27 [==============================] - 48s 2s/step - loss: 0.0883 - accuracy: 0.2781 - val_loss: 0.0911 - val_accuracy: 0.2971\n",
      "Epoch 125/256\n",
      "27/27 [==============================] - 49s 2s/step - loss: 0.0880 - accuracy: 0.2883 - val_loss: 0.0913 - val_accuracy: 0.2945\n",
      "Epoch 126/256\n",
      "27/27 [==============================] - 45s 2s/step - loss: 0.0886 - accuracy: 0.2770 - val_loss: 0.0913 - val_accuracy: 0.2993\n",
      "Epoch 127/256\n",
      "27/27 [==============================] - 44s 2s/step - loss: 0.0882 - accuracy: 0.2867 - val_loss: 0.0914 - val_accuracy: 0.3047\n",
      "Epoch 128/256\n",
      "27/27 [==============================] - 44s 2s/step - loss: 0.0884 - accuracy: 0.2863 - val_loss: 0.0916 - val_accuracy: 0.2920\n",
      "Epoch 129/256\n",
      "27/27 [==============================] - 46s 2s/step - loss: 0.0883 - accuracy: 0.2861 - val_loss: 0.0919 - val_accuracy: 0.2924\n",
      "Epoch 130/256\n",
      "27/27 [==============================] - 50s 2s/step - loss: 0.0887 - accuracy: 0.2914 - val_loss: 0.0923 - val_accuracy: 0.2685\n",
      "Epoch 131/256\n",
      "27/27 [==============================] - 50s 2s/step - loss: 0.0894 - accuracy: 0.2659 - val_loss: 0.0982 - val_accuracy: 0.2544\n",
      "Epoch 132/256\n",
      "27/27 [==============================] - 52s 2s/step - loss: 0.0912 - accuracy: 0.2761 - val_loss: 0.0916 - val_accuracy: 0.2911\n",
      "Epoch 133/256\n",
      "27/27 [==============================] - 51s 2s/step - loss: 0.0886 - accuracy: 0.2799 - val_loss: 0.0908 - val_accuracy: 0.2855\n",
      "Epoch 134/256\n",
      "27/27 [==============================] - 51s 2s/step - loss: 0.0878 - accuracy: 0.2755 - val_loss: 0.0915 - val_accuracy: 0.3000\n",
      "Epoch 135/256\n",
      "27/27 [==============================] - 51s 2s/step - loss: 0.0884 - accuracy: 0.2930 - val_loss: 0.0913 - val_accuracy: 0.2762\n",
      "Epoch 136/256\n",
      "27/27 [==============================] - 50s 2s/step - loss: 0.0878 - accuracy: 0.2815 - val_loss: 0.0946 - val_accuracy: 0.2798\n",
      "Epoch 137/256\n",
      "27/27 [==============================] - 52s 2s/step - loss: 0.0901 - accuracy: 0.2792 - val_loss: 0.0915 - val_accuracy: 0.2882\n",
      "Epoch 138/256\n",
      "27/27 [==============================] - 49s 2s/step - loss: 0.0890 - accuracy: 0.2678 - val_loss: 0.0918 - val_accuracy: 0.2786\n",
      "Epoch 139/256\n",
      "27/27 [==============================] - 51s 2s/step - loss: 0.0883 - accuracy: 0.2792 - val_loss: 0.0907 - val_accuracy: 0.2922\n",
      "Epoch 140/256\n",
      "27/27 [==============================] - 51s 2s/step - loss: 0.0875 - accuracy: 0.2875 - val_loss: 0.0912 - val_accuracy: 0.2942\n",
      "Epoch 141/256\n",
      "27/27 [==============================] - 49s 2s/step - loss: 0.0875 - accuracy: 0.2964 - val_loss: 0.0913 - val_accuracy: 0.2871\n",
      "Epoch 142/256\n",
      "27/27 [==============================] - 48s 2s/step - loss: 0.0878 - accuracy: 0.2975 - val_loss: 0.0918 - val_accuracy: 0.2951\n",
      "Epoch 143/256\n",
      "27/27 [==============================] - 46s 2s/step - loss: 0.0881 - accuracy: 0.2903 - val_loss: 0.0914 - val_accuracy: 0.2885\n",
      "Epoch 144/256\n",
      "27/27 [==============================] - 46s 2s/step - loss: 0.0880 - accuracy: 0.2853 - val_loss: 0.0914 - val_accuracy: 0.3114\n",
      "Epoch 145/256\n",
      "27/27 [==============================] - 48s 2s/step - loss: 0.0885 - accuracy: 0.2782 - val_loss: 0.0924 - val_accuracy: 0.3056\n",
      "Epoch 146/256\n",
      "27/27 [==============================] - 45s 2s/step - loss: 0.0888 - accuracy: 0.2858 - val_loss: 0.0918 - val_accuracy: 0.2870\n",
      "Epoch 147/256\n",
      "27/27 [==============================] - 49s 2s/step - loss: 0.0878 - accuracy: 0.2887 - val_loss: 0.0924 - val_accuracy: 0.3230\n",
      "Epoch 148/256\n",
      "27/27 [==============================] - 45s 2s/step - loss: 0.0904 - accuracy: 0.2851 - val_loss: 0.0914 - val_accuracy: 0.2722\n",
      "Epoch 149/256\n",
      "27/27 [==============================] - 48s 2s/step - loss: 0.0876 - accuracy: 0.2844 - val_loss: 0.0912 - val_accuracy: 0.2959\n",
      "Epoch 150/256\n",
      "27/27 [==============================] - 44s 2s/step - loss: 0.0876 - accuracy: 0.2949 - val_loss: 0.0904 - val_accuracy: 0.3060\n",
      "Epoch 151/256\n",
      "27/27 [==============================] - 44s 2s/step - loss: 0.0873 - accuracy: 0.2976 - val_loss: 0.0921 - val_accuracy: 0.3056\n",
      "Epoch 152/256\n",
      "27/27 [==============================] - 44s 2s/step - loss: 0.0883 - accuracy: 0.2986 - val_loss: 0.0905 - val_accuracy: 0.3055\n",
      "Epoch 153/256\n",
      "27/27 [==============================] - 44s 2s/step - loss: 0.0872 - accuracy: 0.2952 - val_loss: 0.0911 - val_accuracy: 0.3126\n",
      "Epoch 154/256\n",
      "27/27 [==============================] - 44s 2s/step - loss: 0.0877 - accuracy: 0.2955 - val_loss: 0.0917 - val_accuracy: 0.3117\n",
      "Epoch 155/256\n",
      "27/27 [==============================] - 45s 2s/step - loss: 0.0887 - accuracy: 0.2983 - val_loss: 0.0914 - val_accuracy: 0.3076\n",
      "Epoch 156/256\n",
      "27/27 [==============================] - 45s 2s/step - loss: 0.0879 - accuracy: 0.2923 - val_loss: 0.0915 - val_accuracy: 0.3108\n",
      "Epoch 157/256\n",
      "27/27 [==============================] - 40s 1s/step - loss: 0.0874 - accuracy: 0.2996 - val_loss: 0.0909 - val_accuracy: 0.3191\n",
      "Epoch 158/256\n",
      "27/27 [==============================] - 32s 1s/step - loss: 0.0871 - accuracy: 0.3011 - val_loss: 0.0913 - val_accuracy: 0.3203\n",
      "Epoch 159/256\n",
      "27/27 [==============================] - 40s 1s/step - loss: 0.0881 - accuracy: 0.2896 - val_loss: 0.0905 - val_accuracy: 0.3039\n",
      "Epoch 160/256\n",
      "27/27 [==============================] - 46s 2s/step - loss: 0.0872 - accuracy: 0.3007 - val_loss: 0.0904 - val_accuracy: 0.3005\n",
      "Epoch 161/256\n",
      "27/27 [==============================] - 49s 2s/step - loss: 0.0871 - accuracy: 0.3030 - val_loss: 0.0905 - val_accuracy: 0.3031\n",
      "Epoch 162/256\n",
      "27/27 [==============================] - 48s 2s/step - loss: 0.0869 - accuracy: 0.3006 - val_loss: 0.0913 - val_accuracy: 0.3164\n",
      "Epoch 163/256\n",
      "27/27 [==============================] - 48s 2s/step - loss: 0.0880 - accuracy: 0.3036 - val_loss: 0.0911 - val_accuracy: 0.3153\n",
      "Epoch 164/256\n",
      "27/27 [==============================] - 46s 2s/step - loss: 0.0883 - accuracy: 0.2942 - val_loss: 0.0906 - val_accuracy: 0.2859\n",
      "Epoch 165/256\n",
      "27/27 [==============================] - 47s 2s/step - loss: 0.0875 - accuracy: 0.2870 - val_loss: 0.0907 - val_accuracy: 0.2974\n",
      "Epoch 166/256\n",
      "27/27 [==============================] - 46s 2s/step - loss: 0.0872 - accuracy: 0.2954 - val_loss: 0.0907 - val_accuracy: 0.3116\n",
      "Epoch 167/256\n",
      "27/27 [==============================] - 45s 2s/step - loss: 0.0870 - accuracy: 0.2976 - val_loss: 0.0900 - val_accuracy: 0.3148\n",
      "Epoch 168/256\n",
      "27/27 [==============================] - 49s 2s/step - loss: 0.0868 - accuracy: 0.3025 - val_loss: 0.0922 - val_accuracy: 0.3324\n",
      "Epoch 169/256\n",
      "27/27 [==============================] - 52s 2s/step - loss: 0.0892 - accuracy: 0.2880 - val_loss: 0.0907 - val_accuracy: 0.2982\n",
      "Epoch 170/256\n",
      "27/27 [==============================] - 51s 2s/step - loss: 0.0869 - accuracy: 0.2958 - val_loss: 0.0903 - val_accuracy: 0.3147\n",
      "Epoch 171/256\n",
      "27/27 [==============================] - 49s 2s/step - loss: 0.0877 - accuracy: 0.2972 - val_loss: 0.0906 - val_accuracy: 0.3048\n",
      "Epoch 172/256\n",
      "27/27 [==============================] - 51s 2s/step - loss: 0.0869 - accuracy: 0.3060 - val_loss: 0.0906 - val_accuracy: 0.3148\n",
      "Epoch 173/256\n",
      "27/27 [==============================] - 52s 2s/step - loss: 0.0874 - accuracy: 0.3012 - val_loss: 0.0909 - val_accuracy: 0.3167\n",
      "Epoch 174/256\n",
      "27/27 [==============================] - 44s 2s/step - loss: 0.0877 - accuracy: 0.2998 - val_loss: 0.0925 - val_accuracy: 0.3297\n",
      "Epoch 175/256\n",
      "27/27 [==============================] - 45s 2s/step - loss: 0.0894 - accuracy: 0.2972 - val_loss: 0.0957 - val_accuracy: 0.2607\n",
      "Epoch 176/256\n",
      "27/27 [==============================] - 45s 2s/step - loss: 0.0891 - accuracy: 0.2796 - val_loss: 0.0909 - val_accuracy: 0.3250\n",
      "Epoch 177/256\n",
      "27/27 [==============================] - 44s 2s/step - loss: 0.0871 - accuracy: 0.3060 - val_loss: 0.0907 - val_accuracy: 0.2973\n",
      "Epoch 178/256\n",
      "27/27 [==============================] - 45s 2s/step - loss: 0.0873 - accuracy: 0.2940 - val_loss: 0.0900 - val_accuracy: 0.3172\n",
      "Epoch 179/256\n",
      "27/27 [==============================] - 45s 2s/step - loss: 0.0868 - accuracy: 0.3020 - val_loss: 0.0908 - val_accuracy: 0.3197\n",
      "Epoch 180/256\n",
      "27/27 [==============================] - 44s 2s/step - loss: 0.0867 - accuracy: 0.2990 - val_loss: 0.0904 - val_accuracy: 0.3171\n",
      "Epoch 181/256\n",
      "27/27 [==============================] - 44s 2s/step - loss: 0.0872 - accuracy: 0.3065 - val_loss: 0.0901 - val_accuracy: 0.3179\n",
      "Epoch 182/256\n",
      "27/27 [==============================] - 45s 2s/step - loss: 0.0866 - accuracy: 0.3058 - val_loss: 0.0904 - val_accuracy: 0.3229\n",
      "Epoch 183/256\n",
      "27/27 [==============================] - 45s 2s/step - loss: 0.0863 - accuracy: 0.3083 - val_loss: 0.0899 - val_accuracy: 0.3295\n",
      "Epoch 184/256\n",
      "27/27 [==============================] - 44s 2s/step - loss: 0.0867 - accuracy: 0.3115 - val_loss: 0.0901 - val_accuracy: 0.3180\n",
      "Epoch 185/256\n",
      "27/27 [==============================] - 43s 2s/step - loss: 0.0870 - accuracy: 0.3036 - val_loss: 0.0904 - val_accuracy: 0.3033\n",
      "Epoch 186/256\n",
      "27/27 [==============================] - 45s 2s/step - loss: 0.0871 - accuracy: 0.2992 - val_loss: 0.0896 - val_accuracy: 0.3079\n",
      "Epoch 187/256\n",
      "27/27 [==============================] - 45s 2s/step - loss: 0.0863 - accuracy: 0.3050 - val_loss: 0.0898 - val_accuracy: 0.3137\n",
      "Epoch 188/256\n",
      "27/27 [==============================] - 44s 2s/step - loss: 0.0867 - accuracy: 0.3102 - val_loss: 0.0903 - val_accuracy: 0.3256\n",
      "Epoch 189/256\n",
      "27/27 [==============================] - 45s 2s/step - loss: 0.0876 - accuracy: 0.2991 - val_loss: 0.0898 - val_accuracy: 0.3006\n",
      "Epoch 190/256\n",
      "27/27 [==============================] - 45s 2s/step - loss: 0.0877 - accuracy: 0.2900 - val_loss: 0.0909 - val_accuracy: 0.2959\n",
      "Epoch 191/256\n",
      "27/27 [==============================] - 44s 2s/step - loss: 0.0878 - accuracy: 0.2926 - val_loss: 0.0895 - val_accuracy: 0.2988\n",
      "Epoch 192/256\n",
      "27/27 [==============================] - 44s 2s/step - loss: 0.0864 - accuracy: 0.3028 - val_loss: 0.0904 - val_accuracy: 0.3207\n",
      "Epoch 193/256\n",
      "27/27 [==============================] - 44s 2s/step - loss: 0.0865 - accuracy: 0.3043 - val_loss: 0.0894 - val_accuracy: 0.3246\n",
      "Epoch 194/256\n",
      "27/27 [==============================] - 45s 2s/step - loss: 0.0861 - accuracy: 0.3131 - val_loss: 0.0903 - val_accuracy: 0.3149\n",
      "Epoch 195/256\n",
      "27/27 [==============================] - 44s 2s/step - loss: 0.0869 - accuracy: 0.3011 - val_loss: 0.0898 - val_accuracy: 0.3247\n",
      "Epoch 196/256\n",
      "27/27 [==============================] - 44s 2s/step - loss: 0.0859 - accuracy: 0.3106 - val_loss: 0.0903 - val_accuracy: 0.3176\n",
      "Epoch 197/256\n",
      "27/27 [==============================] - 46s 2s/step - loss: 0.0863 - accuracy: 0.3096 - val_loss: 0.0934 - val_accuracy: 0.2919\n",
      "Epoch 198/256\n",
      "27/27 [==============================] - 44s 2s/step - loss: 0.0882 - accuracy: 0.3036 - val_loss: 0.0917 - val_accuracy: 0.3296\n",
      "Epoch 199/256\n",
      "27/27 [==============================] - 44s 2s/step - loss: 0.0892 - accuracy: 0.3018 - val_loss: 0.0900 - val_accuracy: 0.2973\n",
      "Epoch 200/256\n",
      "27/27 [==============================] - 46s 2s/step - loss: 0.0862 - accuracy: 0.2932 - val_loss: 0.0905 - val_accuracy: 0.3053\n",
      "Epoch 201/256\n",
      "27/27 [==============================] - 44s 2s/step - loss: 0.0873 - accuracy: 0.2925 - val_loss: 0.0901 - val_accuracy: 0.3171\n",
      "Epoch 202/256\n",
      "27/27 [==============================] - 44s 2s/step - loss: 0.0865 - accuracy: 0.3025 - val_loss: 0.0894 - val_accuracy: 0.3204\n",
      "Epoch 203/256\n",
      "27/27 [==============================] - 44s 2s/step - loss: 0.0862 - accuracy: 0.3103 - val_loss: 0.0898 - val_accuracy: 0.3130\n",
      "Epoch 204/256\n",
      "27/27 [==============================] - 44s 2s/step - loss: 0.0864 - accuracy: 0.3110 - val_loss: 0.0895 - val_accuracy: 0.3178\n",
      "Epoch 205/256\n",
      "27/27 [==============================] - 45s 2s/step - loss: 0.0859 - accuracy: 0.3114 - val_loss: 0.0897 - val_accuracy: 0.3205\n",
      "Epoch 206/256\n",
      "27/27 [==============================] - 44s 2s/step - loss: 0.0864 - accuracy: 0.3063 - val_loss: 0.0895 - val_accuracy: 0.3224\n",
      "Epoch 207/256\n",
      "27/27 [==============================] - 44s 2s/step - loss: 0.0868 - accuracy: 0.3002 - val_loss: 0.0917 - val_accuracy: 0.3010\n",
      "Epoch 208/256\n",
      "27/27 [==============================] - 45s 2s/step - loss: 0.0867 - accuracy: 0.3063 - val_loss: 0.0901 - val_accuracy: 0.3129\n",
      "Epoch 209/256\n",
      "27/27 [==============================] - 45s 2s/step - loss: 0.0866 - accuracy: 0.3011 - val_loss: 0.0897 - val_accuracy: 0.3103\n",
      "Epoch 210/256\n",
      "27/27 [==============================] - 45s 2s/step - loss: 0.0861 - accuracy: 0.2951 - val_loss: 0.0906 - val_accuracy: 0.3391\n",
      "Epoch 211/256\n",
      "27/27 [==============================] - 44s 2s/step - loss: 0.0859 - accuracy: 0.3073 - val_loss: 0.0896 - val_accuracy: 0.3224\n",
      "Epoch 212/256\n",
      "27/27 [==============================] - 44s 2s/step - loss: 0.0857 - accuracy: 0.3194 - val_loss: 0.0893 - val_accuracy: 0.3184\n",
      "Epoch 213/256\n",
      "27/27 [==============================] - 45s 2s/step - loss: 0.0861 - accuracy: 0.3035 - val_loss: 0.0896 - val_accuracy: 0.3343\n",
      "Epoch 214/256\n",
      "27/27 [==============================] - 44s 2s/step - loss: 0.0856 - accuracy: 0.3125 - val_loss: 0.0910 - val_accuracy: 0.3187\n",
      "Epoch 215/256\n",
      "27/27 [==============================] - 45s 2s/step - loss: 0.0864 - accuracy: 0.3150 - val_loss: 0.0903 - val_accuracy: 0.3050\n",
      "Epoch 216/256\n",
      "27/27 [==============================] - 45s 2s/step - loss: 0.0870 - accuracy: 0.3034 - val_loss: 0.0899 - val_accuracy: 0.3243\n",
      "Epoch 217/256\n",
      "27/27 [==============================] - 45s 2s/step - loss: 0.0863 - accuracy: 0.3090 - val_loss: 0.0894 - val_accuracy: 0.3275\n",
      "Epoch 218/256\n",
      "27/27 [==============================] - 44s 2s/step - loss: 0.0857 - accuracy: 0.3157 - val_loss: 0.0902 - val_accuracy: 0.3134\n",
      "Epoch 219/256\n",
      "27/27 [==============================] - 45s 2s/step - loss: 0.0883 - accuracy: 0.2996 - val_loss: 0.0903 - val_accuracy: 0.2956\n",
      "Epoch 220/256\n",
      "27/27 [==============================] - 45s 2s/step - loss: 0.0863 - accuracy: 0.3029 - val_loss: 0.0896 - val_accuracy: 0.3159\n",
      "Epoch 221/256\n",
      "27/27 [==============================] - 45s 2s/step - loss: 0.0860 - accuracy: 0.3071 - val_loss: 0.0891 - val_accuracy: 0.3234\n",
      "Epoch 222/256\n",
      "27/27 [==============================] - 45s 2s/step - loss: 0.0857 - accuracy: 0.3136 - val_loss: 0.0892 - val_accuracy: 0.3251\n",
      "Epoch 223/256\n",
      "27/27 [==============================] - 44s 2s/step - loss: 0.0858 - accuracy: 0.3058 - val_loss: 0.0894 - val_accuracy: 0.3331\n",
      "Epoch 224/256\n",
      "27/27 [==============================] - 46s 2s/step - loss: 0.0854 - accuracy: 0.3173 - val_loss: 0.0900 - val_accuracy: 0.3388\n",
      "Epoch 225/256\n",
      "27/27 [==============================] - 45s 2s/step - loss: 0.0865 - accuracy: 0.3200 - val_loss: 0.0897 - val_accuracy: 0.3167\n",
      "Epoch 226/256\n",
      "27/27 [==============================] - 44s 2s/step - loss: 0.0874 - accuracy: 0.2950 - val_loss: 0.0895 - val_accuracy: 0.3175\n",
      "Epoch 227/256\n",
      "27/27 [==============================] - 45s 2s/step - loss: 0.0873 - accuracy: 0.3072 - val_loss: 0.0892 - val_accuracy: 0.3114\n",
      "Epoch 228/256\n",
      "27/27 [==============================] - 45s 2s/step - loss: 0.0863 - accuracy: 0.2929 - val_loss: 0.0914 - val_accuracy: 0.3065\n",
      "Epoch 229/256\n",
      "27/27 [==============================] - 44s 2s/step - loss: 0.0867 - accuracy: 0.3047 - val_loss: 0.0903 - val_accuracy: 0.3038\n",
      "Epoch 230/256\n",
      "27/27 [==============================] - 45s 2s/step - loss: 0.0868 - accuracy: 0.3039 - val_loss: 0.0900 - val_accuracy: 0.3324\n",
      "Epoch 231/256\n",
      "27/27 [==============================] - 45s 2s/step - loss: 0.0856 - accuracy: 0.3075 - val_loss: 0.0896 - val_accuracy: 0.3346\n",
      "Epoch 232/256\n",
      "27/27 [==============================] - 43s 2s/step - loss: 0.0860 - accuracy: 0.3157 - val_loss: 0.0896 - val_accuracy: 0.3224\n",
      "Epoch 233/256\n",
      "27/27 [==============================] - 45s 2s/step - loss: 0.0864 - accuracy: 0.3131 - val_loss: 0.0893 - val_accuracy: 0.3247\n",
      "Epoch 234/256\n",
      "27/27 [==============================] - 44s 2s/step - loss: 0.0857 - accuracy: 0.3143 - val_loss: 0.0891 - val_accuracy: 0.3156\n",
      "Epoch 235/256\n",
      "27/27 [==============================] - 44s 2s/step - loss: 0.0859 - accuracy: 0.3045 - val_loss: 0.0890 - val_accuracy: 0.3289\n",
      "Epoch 236/256\n",
      "27/27 [==============================] - 44s 2s/step - loss: 0.0854 - accuracy: 0.3175 - val_loss: 0.0894 - val_accuracy: 0.3229\n",
      "Epoch 237/256\n",
      "27/27 [==============================] - 44s 2s/step - loss: 0.0864 - accuracy: 0.3140 - val_loss: 0.0905 - val_accuracy: 0.3036\n",
      "Epoch 238/256\n",
      "27/27 [==============================] - 44s 2s/step - loss: 0.0863 - accuracy: 0.3114 - val_loss: 0.0907 - val_accuracy: 0.3332\n",
      "Epoch 239/256\n",
      "27/27 [==============================] - 44s 2s/step - loss: 0.0862 - accuracy: 0.3112 - val_loss: 0.0900 - val_accuracy: 0.3144\n",
      "Epoch 240/256\n",
      "27/27 [==============================] - 44s 2s/step - loss: 0.0864 - accuracy: 0.3044 - val_loss: 0.0894 - val_accuracy: 0.3259\n",
      "Epoch 241/256\n",
      "27/27 [==============================] - 44s 2s/step - loss: 0.0859 - accuracy: 0.3078 - val_loss: 0.0888 - val_accuracy: 0.3205\n",
      "Epoch 242/256\n",
      "27/27 [==============================] - 44s 2s/step - loss: 0.0860 - accuracy: 0.3049 - val_loss: 0.0928 - val_accuracy: 0.2906\n",
      "Epoch 243/256\n",
      "27/27 [==============================] - 44s 2s/step - loss: 0.0875 - accuracy: 0.2995 - val_loss: 0.0895 - val_accuracy: 0.3205\n",
      "Epoch 244/256\n",
      "27/27 [==============================] - 44s 2s/step - loss: 0.0857 - accuracy: 0.3085 - val_loss: 0.0889 - val_accuracy: 0.3315\n",
      "Epoch 245/256\n",
      "27/27 [==============================] - 44s 2s/step - loss: 0.0855 - accuracy: 0.3207 - val_loss: 0.0889 - val_accuracy: 0.3190\n",
      "Epoch 246/256\n",
      "27/27 [==============================] - 45s 2s/step - loss: 0.0851 - accuracy: 0.3164 - val_loss: 0.0892 - val_accuracy: 0.3232\n",
      "Epoch 247/256\n",
      "27/27 [==============================] - 44s 2s/step - loss: 0.0857 - accuracy: 0.3199 - val_loss: 0.0891 - val_accuracy: 0.3226\n",
      "Epoch 248/256\n",
      "27/27 [==============================] - 39s 1s/step - loss: 0.0857 - accuracy: 0.3104 - val_loss: 0.0888 - val_accuracy: 0.3295\n",
      "Epoch 249/256\n",
      "27/27 [==============================] - 30s 1s/step - loss: 0.0851 - accuracy: 0.3170 - val_loss: 0.0890 - val_accuracy: 0.3344\n",
      "Epoch 250/256\n",
      "27/27 [==============================] - 30s 1s/step - loss: 0.0853 - accuracy: 0.3164 - val_loss: 0.0889 - val_accuracy: 0.3356\n",
      "Epoch 251/256\n",
      "27/27 [==============================] - 30s 1s/step - loss: 0.0856 - accuracy: 0.3184 - val_loss: 0.0905 - val_accuracy: 0.3146\n",
      "Epoch 252/256\n",
      "27/27 [==============================] - 30s 1s/step - loss: 0.0858 - accuracy: 0.3147 - val_loss: 0.0889 - val_accuracy: 0.3162\n",
      "Epoch 253/256\n",
      "27/27 [==============================] - 30s 1s/step - loss: 0.0869 - accuracy: 0.3035 - val_loss: 0.0907 - val_accuracy: 0.3105\n",
      "Epoch 254/256\n",
      "27/27 [==============================] - 30s 1s/step - loss: 0.0879 - accuracy: 0.2928 - val_loss: 0.0904 - val_accuracy: 0.3336\n",
      "Epoch 255/256\n",
      "27/27 [==============================] - 30s 1s/step - loss: 0.0862 - accuracy: 0.3062 - val_loss: 0.0901 - val_accuracy: 0.3225\n",
      "Epoch 256/256\n",
      "27/27 [==============================] - 30s 1s/step - loss: 0.0868 - accuracy: 0.3115 - val_loss: 0.0897 - val_accuracy: 0.3246\n"
     ]
    }
   ],
   "source": [
    "data_augmentation = tf.keras.Sequential(\n",
    "  [\n",
    "    layers.RandomFlip(\"horizontal\", input_shape=(256, 256, 3)),\n",
    "    layers.RandomRotation(0.1),\n",
    "    layers.RandomZoom(0.1),\n",
    "  ]\n",
    ")\n",
    "\n",
    "initializer = tf.random_normal_initializer(0., 0.02)\n",
    "\n",
    "model = tf.keras.models.Sequential([\n",
    "  # data_augmentation,\n",
    "  layers.Rescaling(1./255),\n",
    "  layers.Conv2D(4, 3, padding='same', activation='relu'),\n",
    "  # layers.MaxPooling2D(),\n",
    "  layers.Conv2D(8, 6, padding='same', activation='relu'),\n",
    "  # layers.MaxPooling2D(),\n",
    "  layers.Conv2D(4, 12, padding='same', activation='relu'),\n",
    "  # layers.MaxPooling2D(),\n",
    "  layers.Conv2D(2, 24, padding='same', activation='relu'),\n",
    "  # layers.MaxPooling2D(),\n",
    "  layers.Conv2D(1, 48, padding='same', activation='relu'),\n",
    "  # layers.MaxPooling2D(),\n",
    "  layers.Dense(16, activation='relu'),\n",
    "  layers.Dense(32, activation='relu'),\n",
    "  layers.Dense(64, activation='relu'),\n",
    "  layers.Dense(32, activation='relu'),\n",
    "  layers.Dense(16, activation='relu'),\n",
    "  layers.Dense(1, activation='relu'),\n",
    "  # layers.Conv2D(1, 3, padding='same', activation='relu'),\n",
    "  # layers.Conv2DTranspose(1, 2, strides=2, padding='same', kernel_initializer=initializer, use_bias=False),\n",
    "  # layers.Conv2DTranspose(1, 4, strides=2, padding='same', kernel_initializer=initializer, use_bias=False),\n",
    "  # layers.Conv2DTranspose(1, 8, strides=2, padding='same', kernel_initializer=initializer, use_bias=False),\n",
    "  # layers.Conv2DTranspose(1, 16, strides=2, padding='same', kernel_initializer=initializer, use_bias=False),\n",
    "  # layers.Conv2DTranspose(1, 32, strides=2, padding='same', kernel_initializer=initializer, use_bias=False),\n",
    "])\n",
    "\n",
    "model.compile(optimizer='adam',\n",
    "              loss=frobeniusLoss,\n",
    "              # loss='mse',\n",
    "              metrics=['accuracy'])\n",
    "\n",
    "history = model.fit(\n",
    "    train_x, train_y,\n",
    "    validation_data=(val_x, val_y),\n",
    "    epochs=256,\n",
    ")"
   ]
  },
  {
   "cell_type": "code",
   "execution_count": 232,
   "metadata": {},
   "outputs": [
    {
     "data": {
      "text/plain": [
       "<matplotlib.legend.Legend at 0x20c6e3b6c10>"
      ]
     },
     "execution_count": 232,
     "metadata": {},
     "output_type": "execute_result"
    },
    {
     "data": {
      "image/png": "[encoded data removed]",
      "text/plain": [
       "<Figure size 432x288 with 1 Axes>"
      ]
     },
     "metadata": {
      "needs_background": "light"
     },
     "output_type": "display_data"
    }
   ],
   "source": [
    "plt.plot(history.history['accuracy'], label='accuracy')\n",
    "plt.plot(history.history['val_accuracy'], label = 'val_accuracy')\n",
    "plt.xlabel('Epoch')\n",
    "plt.ylabel('Accuracy')\n",
    "plt.legend(loc='lower right')\n",
    "\n",
    "# test_loss, test_acc = model.evaluate(test_images,  test_labels, verbose=2)"
   ]
  },
  {
   "cell_type": "code",
   "execution_count": 233,
   "metadata": {},
   "outputs": [
    {
     "data": {
      "text/plain": [
       "<matplotlib.legend.Legend at 0x20c728f3880>"
      ]
     },
     "execution_count": 233,
     "metadata": {},
     "output_type": "execute_result"
    },
    {
     "data": {
      "image/png": "[encoded data removed]",
      "text/plain": [
       "<Figure size 432x288 with 1 Axes>"
      ]
     },
     "metadata": {
      "needs_background": "light"
     },
     "output_type": "display_data"
    }
   ],
   "source": [
    "plt.plot(history.history['loss'], label='loss')\n",
    "plt.plot(history.history['val_loss'], label = 'val_loss')\n",
    "plt.xlabel('Epoch')\n",
    "plt.ylabel('Loss')\n",
    "plt.legend(loc='lower right')"
   ]
  },
  {
   "cell_type": "code",
   "execution_count": 234,
   "metadata": {},
   "outputs": [
    {
     "name": "stdout",
     "output_type": "stream",
     "text": [
      "Pred\n",
      "(63, 32, 32, 1)\n",
      "True\n",
      "(63, 32, 32, 1)\n"
     ]
    }
   ],
   "source": [
    "# test = np.array([test_images[0]])\n",
    "pred = model.predict(test_x)\n",
    "true = test_y\n",
    "# print(pred)\n",
    "print(\"Pred\")\n",
    "print(pred.shape)\n",
    "print(\"True\")\n",
    "print(true.shape)"
   ]
  },
  {
   "cell_type": "code",
   "execution_count": 235,
   "metadata": {},
   "outputs": [
    {
     "name": "stdout",
     "output_type": "stream",
     "text": [
      "Image processed\n"
     ]
    },
    {
     "data": {
      "image/png": "[encoded data removed]",
      "text/plain": [
       "<Figure size 432x288 with 1 Axes>"
      ]
     },
     "metadata": {
      "needs_background": "light"
     },
     "output_type": "display_data"
    },
    {
     "data": {
      "text/plain": [
       "<Figure size 432x288 with 0 Axes>"
      ]
     },
     "metadata": {},
     "output_type": "display_data"
    }
   ],
   "source": [
    "print(\"Image processed\")\n",
    "plt.imshow(test_x[1])\n",
    "plt.show()\n",
    "plt.clf()"
   ]
  },
  {
   "cell_type": "code",
   "execution_count": 236,
   "metadata": {},
   "outputs": [
    {
     "data": {
      "image/png": "[encoded data removed]",
      "text/plain": [
       "<Figure size 432x288 with 1 Axes>"
      ]
     },
     "metadata": {
      "needs_background": "light"
     },
     "output_type": "display_data"
    },
    {
     "data": {
      "text/plain": [
       "<Figure size 432x288 with 0 Axes>"
      ]
     },
     "metadata": {},
     "output_type": "display_data"
    }
   ],
   "source": [
    "# print(pred[0] * 255)\n",
    "plt.imshow(pred[1])\n",
    "plt.show()\n",
    "plt.clf()"
   ]
  },
  {
   "cell_type": "code",
   "execution_count": 237,
   "metadata": {},
   "outputs": [
    {
     "data": {
      "image/png": "[encoded data removed]",
      "text/plain": [
       "<Figure size 432x288 with 1 Axes>"
      ]
     },
     "metadata": {
      "needs_background": "light"
     },
     "output_type": "display_data"
    }
   ],
   "source": [
    "plt.imshow(true[1])\n",
    "plt.show()"
   ]
  },
  {
   "cell_type": "code",
   "execution_count": 239,
   "metadata": {},
   "outputs": [
    {
     "name": "stdout",
     "output_type": "stream",
     "text": [
      "Entry 20\n"
     ]
    },
    {
     "data": {
      "image/png": "[encoded data removed]",
      "text/plain": [
       "<Figure size 432x288 with 1 Axes>"
      ]
     },
     "metadata": {
      "needs_background": "light"
     },
     "output_type": "display_data"
    },
    {
     "data": {
      "image/png": "[encoded data removed]",
      "text/plain": [
       "<Figure size 432x288 with 1 Axes>"
      ]
     },
     "metadata": {
      "needs_background": "light"
     },
     "output_type": "display_data"
    },
    {
     "data": {
      "image/png": "[encoded data removed]",
      "text/plain": [
       "<Figure size 432x288 with 1 Axes>"
      ]
     },
     "metadata": {
      "needs_background": "light"
     },
     "output_type": "display_data"
    },
    {
     "name": "stdout",
     "output_type": "stream",
     "text": [
      "Entry 21\n"
     ]
    },
    {
     "data": {
      "image/png": "[encoded data removed]",
      "text/plain": [
       "<Figure size 432x288 with 1 Axes>"
      ]
     },
     "metadata": {
      "needs_background": "light"
     },
     "output_type": "display_data"
    },
    {
     "data": {
      "image/png": "[encoded data removed]",
      "text/plain": [
       "<Figure size 432x288 with 1 Axes>"
      ]
     },
     "metadata": {
      "needs_background": "light"
     },
     "output_type": "display_data"
    },
    {
     "data": {
      "image/png": "[encoded data removed]",
      "text/plain": [
       "<Figure size 432x288 with 1 Axes>"
      ]
     },
     "metadata": {
      "needs_background": "light"
     },
     "output_type": "display_data"
    },
    {
     "name": "stdout",
     "output_type": "stream",
     "text": [
      "Entry 22\n"
     ]
    },
    {
     "data": {
      "image/png": "[encoded data removed]",
      "text/plain": [
       "<Figure size 432x288 with 1 Axes>"
      ]
     },
     "metadata": {
      "needs_background": "light"
     },
     "output_type": "display_data"
    },
    {
     "data": {
      "image/png": "[encoded data removed]",
      "text/plain": [
       "<Figure size 432x288 with 1 Axes>"
      ]
     },
     "metadata": {
      "needs_background": "light"
     },
     "output_type": "display_data"
    },
    {
     "data": {
      "image/png": "[encoded data removed]",
      "text/plain": [
       "<Figure size 432x288 with 1 Axes>"
      ]
     },
     "metadata": {
      "needs_background": "light"
     },
     "output_type": "display_data"
    }
   ],
   "source": [
    "for i in range(20, 23):\n",
    "  print(\"Entry\", i)\n",
    "  plt.title(\"Input\")\n",
    "  plt.imshow(test_x[i])\n",
    "  plt.show()\n",
    "\n",
    "  plt.title(\"Pred\")\n",
    "  plt.imshow(pred[i])\n",
    "  plt.show()\n",
    "\n",
    "  plt.title(\"True\")\n",
    "  plt.imshow(test_y[i])\n",
    "  plt.show()"
   ]
  }
 ],
 "metadata": {
  "interpreter": {
   "hash": "6c5b3efaa918d9f28db231eb82daaaf5f44447677f2df3439a28b7e91ebffcf4"
  },
  "kernelspec": {
   "display_name": "Python 3.9.6 64-bit",
   "language": "python",
   "name": "python3"
  },
  "language_info": {
   "codemirror_mode": {
    "name": "ipython",
    "version": 3
   },
   "file_extension": ".py",
   "mimetype": "text/x-python",
   "name": "python",
   "nbconvert_exporter": "python",
   "pygments_lexer": "ipython3",
   "version": "3.9.6"
  },
  "orig_nbformat": 4
 },
 "nbformat": 4,
 "nbformat_minor": 2
}
