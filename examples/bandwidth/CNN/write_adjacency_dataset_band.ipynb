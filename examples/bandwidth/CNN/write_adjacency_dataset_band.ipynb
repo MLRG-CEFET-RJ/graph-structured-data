{
 "cells": [
  {
   "cell_type": "code",
   "execution_count": 1,
   "metadata": {},
   "outputs": [],
   "source": [
    "import networkx as nx\n",
    "from matplotlib import pyplot as plt\n",
    "import numpy as np\n",
    "from PIL import Image\n",
    "import pandas as pd\n",
    "import os"
   ]
  },
  {
   "cell_type": "code",
   "execution_count": 2,
   "metadata": {},
   "outputs": [],
   "source": [
    "NUMBER_NODES = 7\n",
    "\n",
    "def getGraph(upperTriangleAdjMatrix):\n",
    "    dense_adj = np.zeros((NUMBER_NODES, NUMBER_NODES))\n",
    "    dense_adj = np.zeros((NUMBER_NODES, NUMBER_NODES))\n",
    "    k = 0\n",
    "    for i in range(NUMBER_NODES):\n",
    "        for j in range(NUMBER_NODES):\n",
    "            if i == j:\n",
    "                continue\n",
    "            elif i < j:\n",
    "                dense_adj[i][j] = upperTriangleAdjMatrix[k]\n",
    "                k += 1\n",
    "            else:\n",
    "                dense_adj[i][j] = dense_adj[j][i]\n",
    "    return dense_adj  \n",
    "\n",
    "def saveImg(graphInput, idx, path):\n",
    "    adj = getGraph(graphInput)\n",
    "    w, h = NUMBER_NODES, NUMBER_NODES\n",
    "    data = np.zeros((h, w, 3), dtype=np.uint8)\n",
    "    for i in range(len(adj)):\n",
    "        for j in range(len(adj)):\n",
    "            if adj[i, j] == 1:\n",
    "                data[i, j] = np.array([255.0, 255.0, 255.0])\n",
    "    img = Image.fromarray(data, 'RGB')\n",
    "    resized = img.resize((32, 32), Image.NEAREST)\n",
    "    resized.save(f'{path}/graph_{idx}.png')"
   ]
  },
  {
   "cell_type": "code",
   "execution_count": 3,
   "metadata": {},
   "outputs": [],
   "source": [
    "featuresNumber = ((NUMBER_NODES * NUMBER_NODES - NUMBER_NODES) // 2 )\n",
    "train_df = pd.read_csv(os.path.join('..', 'DNN', 'datasets', f'dataset_{NUMBER_NODES}_train.csv'))\n",
    "val_df = pd.read_csv(os.path.join('..', 'DNN', 'datasets', f'dataset_{NUMBER_NODES}_val.csv'))\n",
    "test_df = pd.read_csv(os.path.join('..', 'DNN', 'datasets', f'dataset_{NUMBER_NODES}_test.csv'))\n",
    "\n",
    "train_df = pd.concat((train_df, val_df))"
   ]
  },
  {
   "cell_type": "code",
   "execution_count": 4,
   "metadata": {},
   "outputs": [],
   "source": [
    "i = 0\n",
    "for entry in train_df.values:\n",
    "    features = entry[ : featuresNumber]\n",
    "    label = int(entry[featuresNumber])\n",
    "    path = f'./train_adj_matrix_band_{NUMBER_NODES}/{label}'\n",
    "    if not os.path.exists(path):\n",
    "        os.makedirs(path)\n",
    "    img_arr = saveImg(features, i, path)\n",
    "    i += 1\n",
    "\n",
    "path = f'./test_adj_matrix_band_{NUMBER_NODES}'\n",
    "if not os.path.exists(path):\n",
    "    os.makedirs(path)\n",
    "test_df.to_csv(f'{path}/test_{NUMBER_NODES}.csv', index=False)\n",
    "\n",
    "path = f'{path}/test_images'\n",
    "if not os.path.exists(path):\n",
    "    os.makedirs(path)\n",
    "\n",
    "i = 0\n",
    "for entry in test_df.values:\n",
    "    features = entry[ : featuresNumber]\n",
    "    label = int(entry[featuresNumber])\n",
    "    path = f'./test_adj_matrix_band_{NUMBER_NODES}/test_images/{label}'\n",
    "    if not os.path.exists(path):\n",
    "        os.makedirs(path)\n",
    "    img_arr = saveImg(features, i, path)\n",
    "    i += 1"
   ]
  }
 ],
 "metadata": {
  "interpreter": {
   "hash": "6c5b3efaa918d9f28db231eb82daaaf5f44447677f2df3439a28b7e91ebffcf4"
  },
  "kernelspec": {
   "display_name": "Python 3.9.6 64-bit",
   "language": "python",
   "name": "python3"
  },
  "language_info": {
   "codemirror_mode": {
    "name": "ipython",
    "version": 3
   },
   "file_extension": ".py",
   "mimetype": "text/x-python",
   "name": "python",
   "nbconvert_exporter": "python",
   "pygments_lexer": "ipython3",
   "version": "3.9.9"
  },
  "orig_nbformat": 4
 },
 "nbformat": 4,
 "nbformat_minor": 2
}
