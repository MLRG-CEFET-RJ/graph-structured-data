{
 "cells": [
  {
   "cell_type": "code",
   "execution_count": 1,
   "metadata": {},
   "outputs": [],
   "source": [
    "import os\n",
    "os.environ[\"CUDA_VISIBLE_DEVICES\"] = \"-1\"\n",
    "import tensorflow as tf\n",
    "import networkx as nx\n",
    "from tensorflow.keras import datasets, layers, models\n",
    "import matplotlib.pyplot as plt\n",
    "import numpy as np\n",
    "import pandas as pd\n",
    "from tensorflow.keras.models import Model\n",
    "from tensorflow.keras.layers import Input\n",
    "from tensorflow.keras.preprocessing.image import ImageDataGenerator\n",
    "from sklearn.preprocessing import MultiLabelBinarizer\n",
    "from os import listdir\n",
    "from os.path import isfile, join\n",
    "from PIL import Image\n",
    "import pickle"
   ]
  },
  {
   "cell_type": "code",
   "execution_count": 2,
   "metadata": {},
   "outputs": [],
   "source": [
    "# NUMBER_NODES = 9\n",
    "NUMBER_NODES = 7\n",
    "# NUMBER_NODES = 5\n",
    "\n",
    "def load_data():\n",
    "    train_ds = tf.keras.utils.image_dataset_from_directory(\n",
    "        f'./train_adj_matrix_band_{NUMBER_NODES}',\n",
    "        seed=123,\n",
    "        image_size=(32, 32),\n",
    "        batch_size=32)\n",
    "    val_ds = tf.keras.utils.image_dataset_from_directory(\n",
    "        f'./test_adj_matrix_band_{NUMBER_NODES}/test_images',\n",
    "        seed=123,\n",
    "        image_size=(32, 32),\n",
    "        batch_size=32)\n",
    "    return train_ds, val_ds"
   ]
  },
  {
   "cell_type": "code",
   "execution_count": 3,
   "metadata": {},
   "outputs": [
    {
     "name": "stdout",
     "output_type": "stream",
     "text": [
      "Found 981 files belonging to 7 classes.\n",
      "Found 63 files belonging to 4 classes.\n"
     ]
    }
   ],
   "source": [
    "train_ds, val_ds = load_data()"
   ]
  },
  {
   "cell_type": "code",
   "execution_count": 4,
   "metadata": {},
   "outputs": [],
   "source": [
    "data_augmentation = tf.keras.Sequential(\n",
    "  [\n",
    "    layers.RandomFlip(\"horizontal\", input_shape=(NUMBER_NODES, NUMBER_NODES, 3)),\n",
    "    layers.RandomRotation(0.1),\n",
    "    layers.RandomZoom(0.1),\n",
    "  ]\n",
    ")\n",
    "\n",
    "class_names = train_ds.class_names\n",
    "num_classes = len(class_names)\n",
    "\n",
    "# Save test_Data to use it in compareResults (output_band, optimal_band, reverse-cuthill-mckee_band)\n",
    "# with open(os.path.join(os.path.abspath(''), 'class_names_band.pickle'), 'wb') as f:\n",
    "#     pickle.dump(class_names, f, pickle.HIGHEST_PROTOCOL)"
   ]
  },
  {
   "cell_type": "code",
   "execution_count": 5,
   "metadata": {},
   "outputs": [
    {
     "name": "stdout",
     "output_type": "stream",
     "text": [
      "Epoch 1/128\n"
     ]
    },
    {
     "name": "stderr",
     "output_type": "stream",
     "text": [
      "C:\\Users\\Felipe\\AppData\\Local\\Programs\\Python\\Python39\\lib\\site-packages\\tensorflow\\python\\util\\dispatch.py:1096: UserWarning: \"`sparse_categorical_crossentropy` received `from_logits=True`, but the `output` argument was produced by a sigmoid or softmax activation and thus does not represent logits. Was this intended?\"\n",
      "  return dispatch_target(*args, **kwargs)\n"
     ]
    },
    {
     "name": "stdout",
     "output_type": "stream",
     "text": [
      "31/31 [==============================] - 2s 50ms/step - loss: 1.0114 - accuracy: 0.5943 - val_loss: 5.6093 - val_accuracy: 0.0000e+00\n",
      "Epoch 2/128\n",
      "31/31 [==============================] - 2s 45ms/step - loss: 0.6833 - accuracy: 0.7227 - val_loss: 6.5313 - val_accuracy: 0.0000e+00\n",
      "Epoch 3/128\n",
      "31/31 [==============================] - 2s 57ms/step - loss: 0.5159 - accuracy: 0.7829 - val_loss: 9.3477 - val_accuracy: 0.0000e+00\n",
      "Epoch 4/128\n",
      "31/31 [==============================] - 2s 46ms/step - loss: 0.4202 - accuracy: 0.8298 - val_loss: 8.3485 - val_accuracy: 0.0000e+00\n",
      "Epoch 5/128\n",
      "31/31 [==============================] - 1s 44ms/step - loss: 0.3663 - accuracy: 0.8379 - val_loss: 8.1058 - val_accuracy: 0.0000e+00\n",
      "Epoch 6/128\n",
      "31/31 [==============================] - 1s 44ms/step - loss: 0.3178 - accuracy: 0.8869 - val_loss: 10.4078 - val_accuracy: 0.0000e+00\n",
      "Epoch 7/128\n",
      "31/31 [==============================] - 1s 44ms/step - loss: 0.2756 - accuracy: 0.9021 - val_loss: 12.2382 - val_accuracy: 0.0000e+00\n",
      "Epoch 8/128\n",
      "31/31 [==============================] - 2s 45ms/step - loss: 0.2838 - accuracy: 0.8899 - val_loss: 11.6700 - val_accuracy: 0.0000e+00\n",
      "Epoch 9/128\n",
      "31/31 [==============================] - 2s 46ms/step - loss: 0.2695 - accuracy: 0.8889 - val_loss: 10.2060 - val_accuracy: 0.0000e+00\n",
      "Epoch 10/128\n",
      "31/31 [==============================] - 1s 45ms/step - loss: 0.2170 - accuracy: 0.9134 - val_loss: 12.2311 - val_accuracy: 0.0000e+00\n",
      "Epoch 11/128\n",
      "31/31 [==============================] - 2s 54ms/step - loss: 0.2187 - accuracy: 0.9093 - val_loss: 11.8528 - val_accuracy: 0.0000e+00\n",
      "Epoch 12/128\n",
      "31/31 [==============================] - 2s 53ms/step - loss: 0.2173 - accuracy: 0.9144 - val_loss: 13.1509 - val_accuracy: 0.0000e+00\n",
      "Epoch 13/128\n",
      "31/31 [==============================] - 2s 55ms/step - loss: 0.1876 - accuracy: 0.9195 - val_loss: 14.7820 - val_accuracy: 0.0000e+00\n",
      "Epoch 14/128\n",
      "31/31 [==============================] - 2s 46ms/step - loss: 0.2029 - accuracy: 0.9164 - val_loss: 14.0192 - val_accuracy: 0.0000e+00\n",
      "Epoch 15/128\n",
      "31/31 [==============================] - 2s 49ms/step - loss: 0.1557 - accuracy: 0.9378 - val_loss: 16.7697 - val_accuracy: 0.0000e+00\n",
      "Epoch 16/128\n",
      "31/31 [==============================] - 2s 47ms/step - loss: 0.1798 - accuracy: 0.9256 - val_loss: 15.6965 - val_accuracy: 0.0000e+00\n",
      "Epoch 17/128\n",
      "31/31 [==============================] - 2s 47ms/step - loss: 0.1728 - accuracy: 0.9286 - val_loss: 14.7605 - val_accuracy: 0.0000e+00\n",
      "Epoch 18/128\n",
      "31/31 [==============================] - 2s 47ms/step - loss: 0.1401 - accuracy: 0.9439 - val_loss: 16.3400 - val_accuracy: 0.0000e+00\n",
      "Epoch 19/128\n",
      "31/31 [==============================] - 2s 46ms/step - loss: 0.1432 - accuracy: 0.9399 - val_loss: 15.8935 - val_accuracy: 0.0000e+00\n",
      "Epoch 20/128\n",
      "31/31 [==============================] - 2s 46ms/step - loss: 0.1327 - accuracy: 0.9419 - val_loss: 18.8831 - val_accuracy: 0.0000e+00\n",
      "Epoch 21/128\n",
      "31/31 [==============================] - 2s 50ms/step - loss: 0.1292 - accuracy: 0.9470 - val_loss: 16.8319 - val_accuracy: 0.0000e+00\n",
      "Epoch 22/128\n",
      "31/31 [==============================] - 2s 48ms/step - loss: 0.1205 - accuracy: 0.9521 - val_loss: 18.9519 - val_accuracy: 0.0000e+00\n",
      "Epoch 23/128\n",
      "31/31 [==============================] - 2s 46ms/step - loss: 0.1501 - accuracy: 0.9399 - val_loss: 17.9547 - val_accuracy: 0.0000e+00\n",
      "Epoch 24/128\n",
      "31/31 [==============================] - 2s 51ms/step - loss: 0.1209 - accuracy: 0.9470 - val_loss: 19.3735 - val_accuracy: 0.0000e+00\n",
      "Epoch 25/128\n",
      "31/31 [==============================] - 2s 51ms/step - loss: 0.1059 - accuracy: 0.9623 - val_loss: 18.5324 - val_accuracy: 0.0000e+00\n",
      "Epoch 26/128\n",
      "31/31 [==============================] - 2s 50ms/step - loss: 0.1039 - accuracy: 0.9582 - val_loss: 19.1385 - val_accuracy: 0.0000e+00\n",
      "Epoch 27/128\n",
      "31/31 [==============================] - 2s 47ms/step - loss: 0.0917 - accuracy: 0.9674 - val_loss: 20.4294 - val_accuracy: 0.0000e+00\n",
      "Epoch 28/128\n",
      "31/31 [==============================] - 2s 49ms/step - loss: 0.0761 - accuracy: 0.9735 - val_loss: 20.9864 - val_accuracy: 0.0000e+00\n",
      "Epoch 29/128\n",
      "31/31 [==============================] - 2s 52ms/step - loss: 0.0688 - accuracy: 0.9735 - val_loss: 21.4963 - val_accuracy: 0.0000e+00\n",
      "Epoch 30/128\n",
      "31/31 [==============================] - 2s 46ms/step - loss: 0.0608 - accuracy: 0.9735 - val_loss: 23.5421 - val_accuracy: 0.0000e+00\n",
      "Epoch 31/128\n",
      "31/31 [==============================] - 2s 45ms/step - loss: 0.0751 - accuracy: 0.9735 - val_loss: 21.5327 - val_accuracy: 0.0000e+00\n",
      "Epoch 32/128\n",
      "31/31 [==============================] - 2s 46ms/step - loss: 0.0617 - accuracy: 0.9776 - val_loss: 24.1802 - val_accuracy: 0.0000e+00\n",
      "Epoch 33/128\n",
      "31/31 [==============================] - 2s 49ms/step - loss: 0.0785 - accuracy: 0.9633 - val_loss: 24.8874 - val_accuracy: 0.0000e+00\n",
      "Epoch 34/128\n",
      "31/31 [==============================] - 2s 47ms/step - loss: 0.0672 - accuracy: 0.9755 - val_loss: 25.1288 - val_accuracy: 0.0000e+00\n",
      "Epoch 35/128\n",
      "31/31 [==============================] - 2s 48ms/step - loss: 0.0657 - accuracy: 0.9725 - val_loss: 24.6623 - val_accuracy: 0.0000e+00\n",
      "Epoch 36/128\n",
      "31/31 [==============================] - 2s 47ms/step - loss: 0.0755 - accuracy: 0.9664 - val_loss: 25.4522 - val_accuracy: 0.0000e+00\n",
      "Epoch 37/128\n",
      "31/31 [==============================] - 2s 45ms/step - loss: 0.0538 - accuracy: 0.9786 - val_loss: 25.3940 - val_accuracy: 0.0000e+00\n",
      "Epoch 38/128\n",
      "31/31 [==============================] - 2s 47ms/step - loss: 0.0507 - accuracy: 0.9786 - val_loss: 25.7889 - val_accuracy: 0.0000e+00\n",
      "Epoch 39/128\n",
      "31/31 [==============================] - 2s 47ms/step - loss: 0.0520 - accuracy: 0.9766 - val_loss: 26.3739 - val_accuracy: 0.0000e+00\n",
      "Epoch 40/128\n",
      "31/31 [==============================] - 2s 54ms/step - loss: 0.0360 - accuracy: 0.9857 - val_loss: 27.9108 - val_accuracy: 0.0000e+00\n",
      "Epoch 41/128\n",
      "31/31 [==============================] - 2s 53ms/step - loss: 0.0393 - accuracy: 0.9827 - val_loss: 29.2145 - val_accuracy: 0.0000e+00\n",
      "Epoch 42/128\n",
      "31/31 [==============================] - 2s 54ms/step - loss: 0.0374 - accuracy: 0.9898 - val_loss: 27.8813 - val_accuracy: 0.0000e+00\n",
      "Epoch 43/128\n",
      "31/31 [==============================] - 2s 56ms/step - loss: 0.0370 - accuracy: 0.9847 - val_loss: 30.1298 - val_accuracy: 0.0000e+00\n",
      "Epoch 44/128\n",
      "31/31 [==============================] - 2s 55ms/step - loss: 0.0321 - accuracy: 0.9847 - val_loss: 29.1094 - val_accuracy: 0.0000e+00\n",
      "Epoch 45/128\n",
      "31/31 [==============================] - 2s 55ms/step - loss: 0.0456 - accuracy: 0.9786 - val_loss: 26.3931 - val_accuracy: 0.0000e+00\n",
      "Epoch 46/128\n",
      "31/31 [==============================] - 2s 66ms/step - loss: 0.0436 - accuracy: 0.9847 - val_loss: 26.4230 - val_accuracy: 0.0000e+00\n",
      "Epoch 47/128\n",
      "31/31 [==============================] - 2s 45ms/step - loss: 0.0340 - accuracy: 0.9908 - val_loss: 27.9483 - val_accuracy: 0.0000e+00\n",
      "Epoch 48/128\n",
      "31/31 [==============================] - 2s 52ms/step - loss: 0.0236 - accuracy: 0.9898 - val_loss: 29.0131 - val_accuracy: 0.0000e+00\n",
      "Epoch 49/128\n",
      "31/31 [==============================] - 2s 47ms/step - loss: 0.0181 - accuracy: 0.9949 - val_loss: 31.5700 - val_accuracy: 0.0000e+00\n",
      "Epoch 50/128\n",
      "31/31 [==============================] - 1s 43ms/step - loss: 0.0129 - accuracy: 0.9949 - val_loss: 32.3614 - val_accuracy: 0.0000e+00\n",
      "Epoch 51/128\n",
      "31/31 [==============================] - 1s 44ms/step - loss: 0.0181 - accuracy: 0.9918 - val_loss: 31.0105 - val_accuracy: 0.0000e+00\n",
      "Epoch 52/128\n",
      "31/31 [==============================] - 1s 45ms/step - loss: 0.0152 - accuracy: 0.9959 - val_loss: 35.5561 - val_accuracy: 0.0000e+00\n",
      "Epoch 53/128\n",
      "31/31 [==============================] - 2s 53ms/step - loss: 0.0242 - accuracy: 0.9918 - val_loss: 33.4667 - val_accuracy: 0.0000e+00\n",
      "Epoch 54/128\n",
      "31/31 [==============================] - 2s 46ms/step - loss: 0.0176 - accuracy: 0.9939 - val_loss: 32.4377 - val_accuracy: 0.0000e+00\n",
      "Epoch 55/128\n",
      "31/31 [==============================] - 1s 45ms/step - loss: 0.0469 - accuracy: 0.9847 - val_loss: 32.7960 - val_accuracy: 0.0000e+00\n",
      "Epoch 56/128\n",
      "31/31 [==============================] - 2s 47ms/step - loss: 0.0426 - accuracy: 0.9827 - val_loss: 30.8578 - val_accuracy: 0.0000e+00\n",
      "Epoch 57/128\n",
      "31/31 [==============================] - 2s 45ms/step - loss: 0.0617 - accuracy: 0.9735 - val_loss: 29.2204 - val_accuracy: 0.0000e+00\n",
      "Epoch 58/128\n",
      "31/31 [==============================] - 2s 49ms/step - loss: 0.0225 - accuracy: 0.9918 - val_loss: 31.1779 - val_accuracy: 0.0000e+00\n",
      "Epoch 59/128\n",
      "31/31 [==============================] - 1s 45ms/step - loss: 0.0194 - accuracy: 0.9949 - val_loss: 32.1505 - val_accuracy: 0.0000e+00\n",
      "Epoch 60/128\n",
      "31/31 [==============================] - 1s 44ms/step - loss: 0.0149 - accuracy: 0.9959 - val_loss: 34.1035 - val_accuracy: 0.0000e+00\n",
      "Epoch 61/128\n",
      "31/31 [==============================] - 1s 45ms/step - loss: 0.0157 - accuracy: 0.9949 - val_loss: 32.5700 - val_accuracy: 0.0000e+00\n",
      "Epoch 62/128\n",
      "31/31 [==============================] - 2s 52ms/step - loss: 0.0091 - accuracy: 0.9969 - val_loss: 35.8150 - val_accuracy: 0.0000e+00\n",
      "Epoch 63/128\n",
      "31/31 [==============================] - 2s 45ms/step - loss: 0.0038 - accuracy: 1.0000 - val_loss: 36.3304 - val_accuracy: 0.0000e+00\n",
      "Epoch 64/128\n",
      "31/31 [==============================] - 1s 43ms/step - loss: 0.0026 - accuracy: 1.0000 - val_loss: 38.2993 - val_accuracy: 0.0000e+00\n",
      "Epoch 65/128\n",
      "31/31 [==============================] - 2s 45ms/step - loss: 0.0016 - accuracy: 1.0000 - val_loss: 39.3666 - val_accuracy: 0.0000e+00\n",
      "Epoch 66/128\n",
      "31/31 [==============================] - 1s 43ms/step - loss: 0.0012 - accuracy: 1.0000 - val_loss: 40.2646 - val_accuracy: 0.0000e+00\n",
      "Epoch 67/128\n",
      "31/31 [==============================] - 1s 44ms/step - loss: 0.0011 - accuracy: 1.0000 - val_loss: 40.7515 - val_accuracy: 0.0000e+00\n",
      "Epoch 68/128\n",
      "31/31 [==============================] - 2s 55ms/step - loss: 9.1884e-04 - accuracy: 1.0000 - val_loss: 41.2274 - val_accuracy: 0.0000e+00\n",
      "Epoch 69/128\n",
      "31/31 [==============================] - 2s 46ms/step - loss: 8.5509e-04 - accuracy: 1.0000 - val_loss: 41.8858 - val_accuracy: 0.0000e+00\n",
      "Epoch 70/128\n",
      "31/31 [==============================] - 2s 45ms/step - loss: 8.7134e-04 - accuracy: 1.0000 - val_loss: 42.7637 - val_accuracy: 0.0000e+00\n",
      "Epoch 71/128\n",
      "31/31 [==============================] - 2s 45ms/step - loss: 7.2783e-04 - accuracy: 1.0000 - val_loss: 42.8128 - val_accuracy: 0.0000e+00\n",
      "Epoch 72/128\n",
      "31/31 [==============================] - 2s 46ms/step - loss: 6.7137e-04 - accuracy: 1.0000 - val_loss: 43.5125 - val_accuracy: 0.0000e+00\n",
      "Epoch 73/128\n",
      "31/31 [==============================] - 2s 49ms/step - loss: 6.3862e-04 - accuracy: 1.0000 - val_loss: 43.8650 - val_accuracy: 0.0000e+00\n",
      "Epoch 74/128\n",
      "31/31 [==============================] - 1s 45ms/step - loss: 5.6300e-04 - accuracy: 1.0000 - val_loss: 44.0668 - val_accuracy: 0.0000e+00\n",
      "Epoch 75/128\n",
      "31/31 [==============================] - 1s 44ms/step - loss: 5.3199e-04 - accuracy: 1.0000 - val_loss: 44.6183 - val_accuracy: 0.0000e+00\n",
      "Epoch 76/128\n",
      "31/31 [==============================] - 1s 44ms/step - loss: 4.8325e-04 - accuracy: 1.0000 - val_loss: 44.9725 - val_accuracy: 0.0000e+00\n",
      "Epoch 77/128\n",
      "31/31 [==============================] - 2s 47ms/step - loss: 4.6157e-04 - accuracy: 1.0000 - val_loss: 45.3659 - val_accuracy: 0.0000e+00\n",
      "Epoch 78/128\n",
      "31/31 [==============================] - 1s 45ms/step - loss: 4.3369e-04 - accuracy: 1.0000 - val_loss: 45.7180 - val_accuracy: 0.0000e+00\n",
      "Epoch 79/128\n",
      "31/31 [==============================] - 2s 45ms/step - loss: 4.1163e-04 - accuracy: 1.0000 - val_loss: 45.9288 - val_accuracy: 0.0000e+00\n",
      "Epoch 80/128\n",
      "31/31 [==============================] - 1s 44ms/step - loss: 3.8479e-04 - accuracy: 1.0000 - val_loss: 46.4127 - val_accuracy: 0.0000e+00\n",
      "Epoch 81/128\n",
      "31/31 [==============================] - 2s 45ms/step - loss: 3.6943e-04 - accuracy: 1.0000 - val_loss: 46.6420 - val_accuracy: 0.0000e+00\n",
      "Epoch 82/128\n",
      "31/31 [==============================] - 1s 44ms/step - loss: 3.6010e-04 - accuracy: 1.0000 - val_loss: 46.9484 - val_accuracy: 0.0000e+00\n",
      "Epoch 83/128\n",
      "31/31 [==============================] - 2s 45ms/step - loss: 3.3644e-04 - accuracy: 1.0000 - val_loss: 47.3469 - val_accuracy: 0.0000e+00\n",
      "Epoch 84/128\n",
      "31/31 [==============================] - 1s 44ms/step - loss: 3.2765e-04 - accuracy: 1.0000 - val_loss: 47.5913 - val_accuracy: 0.0000e+00\n",
      "Epoch 85/128\n",
      "31/31 [==============================] - 2s 50ms/step - loss: 3.1130e-04 - accuracy: 1.0000 - val_loss: 47.9179 - val_accuracy: 0.0000e+00\n",
      "Epoch 86/128\n",
      "31/31 [==============================] - 2s 46ms/step - loss: 2.8855e-04 - accuracy: 1.0000 - val_loss: 48.0754 - val_accuracy: 0.0000e+00\n",
      "Epoch 87/128\n",
      "31/31 [==============================] - 1s 43ms/step - loss: 2.8590e-04 - accuracy: 1.0000 - val_loss: 48.5084 - val_accuracy: 0.0000e+00\n",
      "Epoch 88/128\n",
      "31/31 [==============================] - 2s 56ms/step - loss: 2.7538e-04 - accuracy: 1.0000 - val_loss: 48.6549 - val_accuracy: 0.0000e+00\n",
      "Epoch 89/128\n",
      "31/31 [==============================] - 2s 50ms/step - loss: 2.5673e-04 - accuracy: 1.0000 - val_loss: 48.9241 - val_accuracy: 0.0000e+00\n",
      "Epoch 90/128\n",
      "31/31 [==============================] - 2s 45ms/step - loss: 2.4895e-04 - accuracy: 1.0000 - val_loss: 49.2761 - val_accuracy: 0.0000e+00\n",
      "Epoch 91/128\n",
      "31/31 [==============================] - 1s 43ms/step - loss: 2.3995e-04 - accuracy: 1.0000 - val_loss: 49.4374 - val_accuracy: 0.0000e+00\n",
      "Epoch 92/128\n",
      "31/31 [==============================] - 1s 43ms/step - loss: 2.3271e-04 - accuracy: 1.0000 - val_loss: 49.6929 - val_accuracy: 0.0000e+00\n",
      "Epoch 93/128\n",
      "31/31 [==============================] - 2s 44ms/step - loss: 2.1892e-04 - accuracy: 1.0000 - val_loss: 49.8930 - val_accuracy: 0.0000e+00\n",
      "Epoch 94/128\n",
      "31/31 [==============================] - 1s 43ms/step - loss: 2.1241e-04 - accuracy: 1.0000 - val_loss: 50.1370 - val_accuracy: 0.0000e+00\n",
      "Epoch 95/128\n",
      "31/31 [==============================] - 1s 43ms/step - loss: 2.0621e-04 - accuracy: 1.0000 - val_loss: 50.4474 - val_accuracy: 0.0000e+00\n",
      "Epoch 96/128\n",
      "31/31 [==============================] - 2s 46ms/step - loss: 1.9517e-04 - accuracy: 1.0000 - val_loss: 50.6109 - val_accuracy: 0.0000e+00\n",
      "Epoch 97/128\n",
      "31/31 [==============================] - 1s 43ms/step - loss: 1.9324e-04 - accuracy: 1.0000 - val_loss: 50.9759 - val_accuracy: 0.0000e+00\n",
      "Epoch 98/128\n",
      "31/31 [==============================] - 1s 43ms/step - loss: 1.8337e-04 - accuracy: 1.0000 - val_loss: 50.9184 - val_accuracy: 0.0000e+00\n",
      "Epoch 99/128\n",
      "31/31 [==============================] - 1s 43ms/step - loss: 1.7764e-04 - accuracy: 1.0000 - val_loss: 51.2947 - val_accuracy: 0.0000e+00\n",
      "Epoch 100/128\n",
      "31/31 [==============================] - 2s 47ms/step - loss: 1.6902e-04 - accuracy: 1.0000 - val_loss: 51.4864 - val_accuracy: 0.0000e+00\n",
      "Epoch 101/128\n",
      "31/31 [==============================] - 1s 42ms/step - loss: 1.6434e-04 - accuracy: 1.0000 - val_loss: 51.7286 - val_accuracy: 0.0000e+00\n",
      "Epoch 102/128\n",
      "31/31 [==============================] - 1s 44ms/step - loss: 1.6299e-04 - accuracy: 1.0000 - val_loss: 51.9722 - val_accuracy: 0.0000e+00\n",
      "Epoch 103/128\n",
      "31/31 [==============================] - 1s 43ms/step - loss: 1.5501e-04 - accuracy: 1.0000 - val_loss: 52.0594 - val_accuracy: 0.0000e+00\n",
      "Epoch 104/128\n",
      "31/31 [==============================] - 1s 43ms/step - loss: 1.5103e-04 - accuracy: 1.0000 - val_loss: 52.4248 - val_accuracy: 0.0000e+00\n",
      "Epoch 105/128\n",
      "31/31 [==============================] - 2s 45ms/step - loss: 1.4835e-04 - accuracy: 1.0000 - val_loss: 52.5648 - val_accuracy: 0.0000e+00\n",
      "Epoch 106/128\n",
      "31/31 [==============================] - 1s 43ms/step - loss: 1.3997e-04 - accuracy: 1.0000 - val_loss: 52.7464 - val_accuracy: 0.0000e+00\n",
      "Epoch 107/128\n",
      "31/31 [==============================] - 1s 44ms/step - loss: 1.3454e-04 - accuracy: 1.0000 - val_loss: 52.8162 - val_accuracy: 0.0000e+00\n",
      "Epoch 108/128\n",
      "31/31 [==============================] - 1s 43ms/step - loss: 1.3104e-04 - accuracy: 1.0000 - val_loss: 53.0944 - val_accuracy: 0.0000e+00\n",
      "Epoch 109/128\n",
      "31/31 [==============================] - 2s 47ms/step - loss: 1.2518e-04 - accuracy: 1.0000 - val_loss: 53.2825 - val_accuracy: 0.0000e+00\n",
      "Epoch 110/128\n",
      "31/31 [==============================] - 2s 49ms/step - loss: 1.2266e-04 - accuracy: 1.0000 - val_loss: 53.4061 - val_accuracy: 0.0000e+00\n",
      "Epoch 111/128\n",
      "31/31 [==============================] - 1s 44ms/step - loss: 1.1934e-04 - accuracy: 1.0000 - val_loss: 53.6679 - val_accuracy: 0.0000e+00\n",
      "Epoch 112/128\n",
      "31/31 [==============================] - 1s 45ms/step - loss: 1.1847e-04 - accuracy: 1.0000 - val_loss: 53.7393 - val_accuracy: 0.0000e+00\n",
      "Epoch 113/128\n",
      "31/31 [==============================] - 1s 44ms/step - loss: 1.1250e-04 - accuracy: 1.0000 - val_loss: 54.0456 - val_accuracy: 0.0000e+00\n",
      "Epoch 114/128\n",
      "31/31 [==============================] - 2s 48ms/step - loss: 1.0898e-04 - accuracy: 1.0000 - val_loss: 54.0975 - val_accuracy: 0.0000e+00\n",
      "Epoch 115/128\n",
      "31/31 [==============================] - 1s 45ms/step - loss: 1.0596e-04 - accuracy: 1.0000 - val_loss: 54.3428 - val_accuracy: 0.0000e+00\n",
      "Epoch 116/128\n",
      "31/31 [==============================] - 2s 45ms/step - loss: 1.0416e-04 - accuracy: 1.0000 - val_loss: 54.6237 - val_accuracy: 0.0000e+00\n",
      "Epoch 117/128\n",
      "31/31 [==============================] - 2s 44ms/step - loss: 9.9103e-05 - accuracy: 1.0000 - val_loss: 54.5517 - val_accuracy: 0.0000e+00\n",
      "Epoch 118/128\n",
      "31/31 [==============================] - 1s 44ms/step - loss: 9.7477e-05 - accuracy: 1.0000 - val_loss: 54.9407 - val_accuracy: 0.0000e+00\n",
      "Epoch 119/128\n",
      "31/31 [==============================] - 1s 44ms/step - loss: 9.5022e-05 - accuracy: 1.0000 - val_loss: 55.0857 - val_accuracy: 0.0000e+00\n",
      "Epoch 120/128\n",
      "31/31 [==============================] - 1s 44ms/step - loss: 9.3056e-05 - accuracy: 1.0000 - val_loss: 55.2523 - val_accuracy: 0.0000e+00\n",
      "Epoch 121/128\n",
      "31/31 [==============================] - 2s 46ms/step - loss: 8.7571e-05 - accuracy: 1.0000 - val_loss: 55.2833 - val_accuracy: 0.0000e+00\n",
      "Epoch 122/128\n",
      "31/31 [==============================] - 2s 45ms/step - loss: 8.7199e-05 - accuracy: 1.0000 - val_loss: 55.6360 - val_accuracy: 0.0000e+00\n",
      "Epoch 123/128\n",
      "31/31 [==============================] - 1s 44ms/step - loss: 8.4372e-05 - accuracy: 1.0000 - val_loss: 55.5415 - val_accuracy: 0.0000e+00\n",
      "Epoch 124/128\n",
      "31/31 [==============================] - 1s 45ms/step - loss: 8.1374e-05 - accuracy: 1.0000 - val_loss: 55.9014 - val_accuracy: 0.0000e+00\n",
      "Epoch 125/128\n",
      "31/31 [==============================] - 2s 46ms/step - loss: 7.9297e-05 - accuracy: 1.0000 - val_loss: 55.9697 - val_accuracy: 0.0000e+00\n",
      "Epoch 126/128\n",
      "31/31 [==============================] - 1s 44ms/step - loss: 7.8375e-05 - accuracy: 1.0000 - val_loss: 56.2171 - val_accuracy: 0.0000e+00\n",
      "Epoch 127/128\n",
      "31/31 [==============================] - 1s 44ms/step - loss: 7.7541e-05 - accuracy: 1.0000 - val_loss: 56.1780 - val_accuracy: 0.0000e+00\n",
      "Epoch 128/128\n",
      "31/31 [==============================] - 1s 44ms/step - loss: 7.2743e-05 - accuracy: 1.0000 - val_loss: 56.4577 - val_accuracy: 0.0000e+00\n"
     ]
    }
   ],
   "source": [
    "model = models.Sequential()\n",
    "# model.add(data_augmentation)\n",
    "model.add(layers.Rescaling(1./255))\n",
    "model.add(layers.Conv2D(32, (3, 3), activation='relu', input_shape=(NUMBER_NODES, NUMBER_NODES, 3)))\n",
    "model.add(layers.MaxPooling2D((2, 2)))\n",
    "model.add(layers.Conv2D(64, (3, 3), activation='relu'))\n",
    "model.add(layers.MaxPooling2D((2, 2)))\n",
    "model.add(layers.Conv2D(64, (3, 3), activation='relu'))\n",
    "model.add(layers.Flatten())\n",
    "model.add(layers.Dense(64, activation='relu'))\n",
    "model.add(layers.Dense(num_classes)\n",
    "\n",
    "model.compile(optimizer='adam',\n",
    "              loss=tf.keras.losses.SparseCategoricalCrossentropy(from_logits=True),\n",
    "              metrics=['accuracy'])\n",
    "\n",
    "history = model.fit(\n",
    "    train_ds,\n",
    "    validation_data=val_ds,\n",
    "    epochs=128,\n",
    ")"
   ]
  },
  {
   "cell_type": "code",
   "execution_count": 6,
   "metadata": {},
   "outputs": [
    {
     "name": "stdout",
     "output_type": "stream",
     "text": [
      "INFO:tensorflow:Assets written to: CNN_dir_band_model\\assets\n"
     ]
    }
   ],
   "source": [
    "model.save('CNN_dir_band_model')"
   ]
  },
  {
   "cell_type": "code",
   "execution_count": 7,
   "metadata": {},
   "outputs": [
    {
     "data": {
      "text/plain": [
       "<matplotlib.legend.Legend at 0x1c355584f10>"
      ]
     },
     "execution_count": 7,
     "metadata": {},
     "output_type": "execute_result"
    },
    {
     "data": {
      "image/png": "[encoded data removed]",
      "text/plain": [
       "<Figure size 432x288 with 1 Axes>"
      ]
     },
     "metadata": {
      "needs_background": "light"
     },
     "output_type": "display_data"
    }
   ],
   "source": [
    "plt.plot(history.history['accuracy'], label='accuracy')\n",
    "plt.plot(history.history['val_accuracy'], label = 'val_accuracy')\n",
    "plt.xlabel('Epoch')\n",
    "plt.ylabel('Accuracy')\n",
    "plt.legend(loc='lower right')\n",
    "\n",
    "# test_loss, test_acc = model.evaluate(test_images,  test_labels, verbose=2)"
   ]
  },
  {
   "cell_type": "code",
   "execution_count": 8,
   "metadata": {},
   "outputs": [
    {
     "data": {
      "text/plain": [
       "<matplotlib.legend.Legend at 0x1c355576bb0>"
      ]
     },
     "execution_count": 8,
     "metadata": {},
     "output_type": "execute_result"
    },
    {
     "data": {
      "image/png": "[encoded data removed]",
      "text/plain": [
       "<Figure size 432x288 with 1 Axes>"
      ]
     },
     "metadata": {
      "needs_background": "light"
     },
     "output_type": "display_data"
    }
   ],
   "source": [
    "plt.plot(history.history['loss'], label='loss')\n",
    "plt.plot(history.history['val_loss'], label = 'val_loss')\n",
    "plt.xlabel('Epoch')\n",
    "plt.ylabel('Loss')\n",
    "plt.legend(loc='lower right')"
   ]
  },
  {
   "cell_type": "code",
   "execution_count": 9,
   "metadata": {},
   "outputs": [],
   "source": [
    "def get_bandwidth(Graph, nodelist):\n",
    "    Graph = nx.Graph(Graph)\n",
    "    if not Graph.edges:\n",
    "        return 0\n",
    "    L = nx.laplacian_matrix(Graph, nodelist=nodelist)\n",
    "    x, y = np.nonzero(L)\n",
    "    return (x-y).max()\n",
    "\n",
    "def processDataToAdjImage(graphInput):\n",
    "    adj = getGraph(graphInput)\n",
    "    w, h = NUMBER_NODES, NUMBER_NODES\n",
    "    data = np.zeros((h, w, 3), dtype=np.uint8)\n",
    "    for i in range(len(adj)):\n",
    "        for j in range(len(adj)):\n",
    "            if adj[i, j] == 1:\n",
    "                data[i, j] = np.array([255.0, 255.0, 255.0])\n",
    "    # data /= 255.0\n",
    "    img = Image.fromarray(data, 'RGB')\n",
    "    resized = img.resize((32, 32), Image.NEAREST)\n",
    "    image_input_np = np.array(resized)\n",
    "    return image_input_np\n",
    "\n",
    "def getGraph(upperTriangleAdjMatrix):\n",
    "    dense_adj = np.zeros((NUMBER_NODES, NUMBER_NODES))\n",
    "    dense_adj = np.zeros((NUMBER_NODES, NUMBER_NODES))\n",
    "    k = 0\n",
    "    for i in range(NUMBER_NODES):\n",
    "        for j in range(NUMBER_NODES):\n",
    "            if i == j:\n",
    "                continue\n",
    "            elif i < j:\n",
    "                dense_adj[i][j] = upperTriangleAdjMatrix[k]\n",
    "                k += 1\n",
    "            else:\n",
    "                dense_adj[i][j] = dense_adj[j][i]\n",
    "    return dense_adj"
   ]
  },
  {
   "cell_type": "code",
   "execution_count": 10,
   "metadata": {},
   "outputs": [],
   "source": [
    "def load_test_data():\n",
    "    NUMBER_NODES=7\n",
    "    df = pd.read_csv(f'./test_adj_matrix_band_{NUMBER_NODES}/test_{NUMBER_NODES}.csv')\n",
    "\n",
    "    featuresNumber = ((NUMBER_NODES * NUMBER_NODES - NUMBER_NODES) // 2 )\n",
    "    features = df.iloc[ : , : featuresNumber ].values\n",
    "    labels = df.iloc[ : , featuresNumber : featuresNumber + 1 ].values # get only bandwidth value\n",
    "    return features, labels"
   ]
  },
  {
   "cell_type": "code",
   "execution_count": 11,
   "metadata": {},
   "outputs": [
    {
     "name": "stdout",
     "output_type": "stream",
     "text": [
      "(63, 21)\n",
      "(63, 1)\n"
     ]
    }
   ],
   "source": [
    "test_features, test_labels = load_test_data()\n",
    "print(test_features.shape)\n",
    "print(test_labels.shape)"
   ]
  },
  {
   "cell_type": "code",
   "execution_count": 12,
   "metadata": {},
   "outputs": [],
   "source": [
    "list_pred = []\n",
    "list_true = []\n",
    "\n",
    "for x, true in zip(test_features, test_labels):\n",
    "    get_graph_adj_image_arr = processDataToAdjImage(x)\n",
    "    pred = model.predict(np.array([get_graph_adj_image_arr]))\n",
    "\n",
    "    pred_bandwidth = class_names[np.argmax(pred)]\n",
    "    list_pred.append(int(pred_bandwidth))\n",
    "    list_true.append(int(true))"
   ]
  },
  {
   "cell_type": "code",
   "execution_count": 14,
   "metadata": {},
   "outputs": [
    {
     "name": "stdout",
     "output_type": "stream",
     "text": [
      "0.9047619047619048\n",
      "Pred mean -  3.1904761904761907\n",
      "True mean -  3.1904761904761907\n"
     ]
    }
   ],
   "source": [
    "from sklearn.metrics import accuracy_score\n",
    "list_pred = np.array(list_pred)\n",
    "list_true = np.array(list_true)\n",
    "print(accuracy_score(list_true, list_pred))\n",
    "print('Pred mean - ', list_pred.mean())\n",
    "print('True mean - ', list_true.mean())"
   ]
  }
 ],
 "metadata": {
  "interpreter": {
   "hash": "6c5b3efaa918d9f28db231eb82daaaf5f44447677f2df3439a28b7e91ebffcf4"
  },
  "kernelspec": {
   "display_name": "Python 3.9.6 64-bit",
   "language": "python",
   "name": "python3"
  },
  "language_info": {
   "codemirror_mode": {
    "name": "ipython",
    "version": 3
   },
   "file_extension": ".py",
   "mimetype": "text/x-python",
   "name": "python",
   "nbconvert_exporter": "python",
   "pygments_lexer": "ipython3",
   "version": "3.9.9"
  },
  "orig_nbformat": 4
 },
 "nbformat": 4,
 "nbformat_minor": 2
}
