{
 "cells": [
  {
   "cell_type": "code",
   "execution_count": 5,
   "metadata": {},
   "outputs": [],
   "source": [
    "import networkx as nx\n",
    "import pandas as pd\n",
    "import numpy as np\n",
    "import matplotlib.pyplot as plt\n",
    "import tensorflow as tf\n",
    "import os\n",
    "from PIL import Image"
   ]
  },
  {
   "cell_type": "code",
   "execution_count": 6,
   "metadata": {},
   "outputs": [
    {
     "data": {
      "text/plain": [
       "<Figure size 432x288 with 0 Axes>"
      ]
     },
     "metadata": {},
     "output_type": "display_data"
    }
   ],
   "source": [
    "# NUMBER_NODES = 9\n",
    "NUMBER_NODES = 7\n",
    "# NUMBER_NODES = 5\n",
    "DATASET_PATH = f'../../../datasets/examples/opt_band_{NUMBER_NODES}_nodes_graph.csv'\n",
    "\n",
    "def getGraph(upperTriangleAdjMatrix):\n",
    "    dense_adj = np.zeros((NUMBER_NODES, NUMBER_NODES))\n",
    "    dense_adj = np.zeros((NUMBER_NODES, NUMBER_NODES))\n",
    "    k = 0\n",
    "    for i in range(NUMBER_NODES):\n",
    "        for j in range(NUMBER_NODES):\n",
    "            if i == j:\n",
    "                continue\n",
    "            elif i < j:\n",
    "                dense_adj[i][j] = upperTriangleAdjMatrix[k]\n",
    "                k += 1\n",
    "            else:\n",
    "                dense_adj[i][j] = dense_adj[j][i]\n",
    "    return dense_adj  \n",
    "\n",
    "def upperTriangleToImg(graphInput, i, path):\n",
    "    graph_adj = getGraph(graphInput)\n",
    "    graph = nx.Graph(graph_adj)\n",
    "    nx.draw(graph, with_labels=True)\n",
    "    plt.savefig(f'{path}/graph_{i}-{graphInput}.png')\n",
    "    plt.clf()\n",
    "    # new code\n",
    "    img = Image.open(f'{path}/graph_{i}-{graphInput}.png').convert('RGB')\n",
    "    resized = img.resize((64, 64), Image.NEAREST)\n",
    "    resized.save(f'{path}/graph_{i}-{graphInput}.png')\n",
    "\n",
    "featuresNumber = ((NUMBER_NODES * NUMBER_NODES - NUMBER_NODES) // 2 )\n",
    "df = pd.read_csv(DATASET_PATH)\n",
    "train_val_df = df.sample(frac=0.9)\n",
    "df_remaining = df.drop(index=train_val_df.index)\n",
    "\n",
    "i = 0\n",
    "for input in train_val_df.values:\n",
    "    features = input[ : featuresNumber]\n",
    "    labels = input[ featuresNumber + 1: ]\n",
    "    path = f'./graphs_{NUMBER_NODES}/{labels}'\n",
    "    if not os.path.exists(path):\n",
    "        os.makedirs(path)\n",
    "    img_arr = upperTriangleToImg(features, i, path)\n",
    "    i += 1\n",
    "\n",
    "path = f'./test_graphs_{NUMBER_NODES}'\n",
    "if not os.path.exists(path):\n",
    "    os.makedirs(path)\n",
    "df_remaining.to_csv(f'{path}/teste_data_{NUMBER_NODES}.csv', index=False)"
   ]
  }
 ],
 "metadata": {
  "interpreter": {
   "hash": "6c5b3efaa918d9f28db231eb82daaaf5f44447677f2df3439a28b7e91ebffcf4"
  },
  "kernelspec": {
   "display_name": "Python 3.9.6 64-bit",
   "language": "python",
   "name": "python3"
  },
  "language_info": {
   "codemirror_mode": {
    "name": "ipython",
    "version": 3
   },
   "file_extension": ".py",
   "mimetype": "text/x-python",
   "name": "python",
   "nbconvert_exporter": "python",
   "pygments_lexer": "ipython3",
   "version": "3.9.6"
  },
  "orig_nbformat": 4
 },
 "nbformat": 4,
 "nbformat_minor": 2
}
