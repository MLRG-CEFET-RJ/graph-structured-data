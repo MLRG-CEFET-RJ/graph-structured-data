{
 "cells": [
  {
   "cell_type": "code",
   "execution_count": 29,
   "metadata": {},
   "outputs": [],
   "source": [
    "import networkx as nx\n",
    "from matplotlib import pyplot as plt\n",
    "import numpy as np\n",
    "from PIL import Image\n",
    "import pandas as pd\n",
    "import os"
   ]
  },
  {
   "cell_type": "code",
   "execution_count": 30,
   "metadata": {},
   "outputs": [],
   "source": [
    "# NUMBER_NODES = 9\n",
    "NUMBER_NODES = 7\n",
    "# NUMBER_NODES = 5\n",
    "DATASET_PATH = f'../../../datasets/examples/opt_band_{NUMBER_NODES}_nodes_graph.csv'\n",
    "\n",
    "def getGraph(upperTriangleAdjMatrix):\n",
    "    dense_adj = np.zeros((NUMBER_NODES, NUMBER_NODES))\n",
    "    dense_adj = np.zeros((NUMBER_NODES, NUMBER_NODES))\n",
    "    k = 0\n",
    "    for i in range(NUMBER_NODES):\n",
    "        for j in range(NUMBER_NODES):\n",
    "            if i == j:\n",
    "                continue\n",
    "            elif i < j:\n",
    "                dense_adj[i][j] = upperTriangleAdjMatrix[k]\n",
    "                k += 1\n",
    "            else:\n",
    "                dense_adj[i][j] = dense_adj[j][i]\n",
    "    return dense_adj  \n",
    "\n",
    "# old version\n",
    "# def saveAdjImg(graphInput, i, path):\n",
    "#     graph_adj = getGraph(graphInput)\n",
    "#     plt.imshow(graph_adj, cmap=\"gray\")\n",
    "#     plt.xticks([])\n",
    "#     plt.yticks([])\n",
    "#     plt.savefig(f'{path}/graph_{i}-{graphInput}.png')\n",
    "#     plt.clf()\n",
    "\n",
    "def saveImg(graphInput, i, path):\n",
    "    adj = getGraph(graphInput)\n",
    "    w, h = NUMBER_NODES, NUMBER_NODES\n",
    "    data = np.zeros((h, w, 3), dtype=np.uint8)\n",
    "    for i in range(len(adj)):\n",
    "        for j in range(len(adj)):\n",
    "            if adj[i, j] == 1:\n",
    "                data[i, j] = np.array([255.0, 255.0, 255.0])\n",
    "    img = Image.fromarray(data, 'RGB')\n",
    "    resized = img.resize((32, 32), Image.NEAREST)\n",
    "    resized.save(f'{path}/graph_{i}-{graphInput}.png')"
   ]
  },
  {
   "cell_type": "code",
   "execution_count": 31,
   "metadata": {},
   "outputs": [],
   "source": [
    "featuresNumber = ((NUMBER_NODES * NUMBER_NODES - NUMBER_NODES) // 2 )\n",
    "df = pd.read_csv(DATASET_PATH)\n",
    "train_val_df = df.sample(frac=0.9)\n",
    "df_remaining = df.drop(index=train_val_df.index)\n",
    "\n",
    "i = 0\n",
    "for input in train_val_df.values:\n",
    "    features = input[ : featuresNumber]\n",
    "    labels = input[ featuresNumber + 1: ]\n",
    "    path = f'./graphs_adj2_{NUMBER_NODES}/{labels}'\n",
    "    if not os.path.exists(path):\n",
    "        os.makedirs(path)\n",
    "    img_arr = saveImg(features, i, path)\n",
    "    i += 1\n",
    "\n",
    "path = f'./test_adj2_graphs_{NUMBER_NODES}'\n",
    "if not os.path.exists(path):\n",
    "    os.makedirs(path)\n",
    "df_remaining.to_csv(f'{path}/teste_data2_{NUMBER_NODES}.csv', index=False)"
   ]
  },
  {
   "cell_type": "code",
   "execution_count": 32,
   "metadata": {},
   "outputs": [],
   "source": [
    "# approach 1\n",
    "\n",
    "# G = nx.Graph()\n",
    "# G.add_edges_from([(1, 2), (1, 3)])\n",
    "# adj = nx.to_numpy_matrix(G)\n",
    "\n",
    "# plt.imshow(adj, cmap=\"gray\")\n",
    "# plt.xticks([])\n",
    "# plt.yticks([])\n",
    "# plt.show()\n",
    "\n",
    "# approach 2\n",
    "\n",
    "# w, h = 3, 3\n",
    "# data = np.zeros((h, w, 3), dtype=np.uint8)\n",
    "# for i in range(len(adj)):\n",
    "#     for j in range(len(adj)):\n",
    "#         if adj[i, j] == 1:\n",
    "#             # data[i:170, j:170] = np.array([255, 255, 255])\n",
    "#             data[i, j] = np.array([255, 255, 255])\n",
    "# # data[0:256, 0:256] = [255, 255, 255] # red patch in upper left\n",
    "# img = Image.fromarray(data, 'RGB')\n",
    "# fixed_height = 1024\n",
    "# height_percent = (fixed_height / float(img.size[1]))\n",
    "# width_size = int((float(img.size[0]) * float(height_percent)))\n",
    "# resized = img.resize((512, 512), Image.NEAREST)\n",
    "# print(resized.size)\n",
    "# # resized.save('my.png')\n",
    "# resized.show()\n",
    "\n",
    "# https://www.holisticseo.digital/python-seo/resize-image/\n",
    "# https://pillow.readthedocs.io/en/stable/reference/Image.html\n",
    "# https://www.pluralsight.com/guides/importing-image-data-into-numpy-arrays"
   ]
  }
 ],
 "metadata": {
  "interpreter": {
   "hash": "6c5b3efaa918d9f28db231eb82daaaf5f44447677f2df3439a28b7e91ebffcf4"
  },
  "kernelspec": {
   "display_name": "Python 3.9.6 64-bit",
   "language": "python",
   "name": "python3"
  },
  "language_info": {
   "codemirror_mode": {
    "name": "ipython",
    "version": 3
   },
   "file_extension": ".py",
   "mimetype": "text/x-python",
   "name": "python",
   "nbconvert_exporter": "python",
   "pygments_lexer": "ipython3",
   "version": "3.9.6"
  },
  "orig_nbformat": 4
 },
 "nbformat": 4,
 "nbformat_minor": 2
}
