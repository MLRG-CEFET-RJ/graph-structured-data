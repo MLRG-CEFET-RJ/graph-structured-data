{
 "cells": [
  {
   "cell_type": "code",
   "execution_count": 1,
   "metadata": {},
   "outputs": [],
   "source": [
    "import networkx as nx\n",
    "from matplotlib import pyplot as plt\n",
    "import numpy as np\n",
    "from PIL import Image\n",
    "import pandas as pd\n",
    "import os"
   ]
  },
  {
   "cell_type": "code",
   "execution_count": 2,
   "metadata": {},
   "outputs": [],
   "source": [
    "NUMBER_NODES = 7\n",
    "DATASET_PATH = f'../../../../datasets/examples/opt_band_{NUMBER_NODES}_nodes_graph.csv'\n",
    "\n",
    "def getGraph(upperTriangleAdjMatrix):\n",
    "    dense_adj = np.zeros((NUMBER_NODES, NUMBER_NODES))\n",
    "    dense_adj = np.zeros((NUMBER_NODES, NUMBER_NODES))\n",
    "    k = 0\n",
    "    for i in range(NUMBER_NODES):\n",
    "        for j in range(NUMBER_NODES):\n",
    "            if i == j:\n",
    "                continue\n",
    "            elif i < j:\n",
    "                dense_adj[i][j] = upperTriangleAdjMatrix[k]\n",
    "                k += 1\n",
    "            else:\n",
    "                dense_adj[i][j] = dense_adj[j][i]\n",
    "    return dense_adj  \n",
    "\n",
    "def saveImg(graphInput, filename, path):\n",
    "    adj = getGraph(graphInput)\n",
    "    w, h = NUMBER_NODES, NUMBER_NODES\n",
    "    data = np.zeros((h, w, 3), dtype=np.uint8)\n",
    "    for i in range(len(adj)):\n",
    "        for j in range(len(adj)):\n",
    "            if adj[i, j] == 1:\n",
    "                data[i, j] = np.array([255.0, 255.0, 255.0])\n",
    "    img = Image.fromarray(data, 'RGB')\n",
    "    resized = img.resize((32, 32), Image.NEAREST)\n",
    "    resized.save(f'{path}/{filename}')"
   ]
  },
  {
   "cell_type": "code",
   "execution_count": 3,
   "metadata": {},
   "outputs": [],
   "source": [
    "featuresNumber = (NUMBER_NODES * NUMBER_NODES - NUMBER_NODES) // 2\n",
    "train_df = pd.read_csv('../../DNN/datasets/dataset_7_train.csv')\n",
    "val_df = pd.read_csv('../../DNN/datasets/dataset_7_val.csv')\n",
    "test_df = pd.read_csv('../../DNN/datasets/dataset_7_test.csv')\n",
    "\n",
    "annotations_file = {\n",
    "    'file_name': [],\n",
    "    'label': []\n",
    "}\n",
    "\n",
    "classes = []\n",
    "\n",
    "i = 0\n",
    "for input in train_df.values:\n",
    "    features = input[ : featuresNumber]\n",
    "    path = f'./dataset_train_{NUMBER_NODES}'\n",
    "    if not os.path.exists(path):\n",
    "        os.makedirs(path)\n",
    "\n",
    "    filename = f'adj_{i}.jpg'\n",
    "    label = int(input[featuresNumber + 1])\n",
    "    if label not in classes:\n",
    "        classes.append(label)\n",
    "\n",
    "    annotations_file['file_name'].append(filename)\n",
    "    annotations_file['label'].append(label)\n",
    "    \n",
    "    saveImg(features, filename, path)\n",
    "    i += 1\n",
    "\n",
    "df = pd.DataFrame(annotations_file)\n",
    "df.to_csv(\"annotations_file_train.csv\", index=False)"
   ]
  },
  {
   "cell_type": "code",
   "execution_count": 4,
   "metadata": {},
   "outputs": [],
   "source": [
    "annotations_file_val = {\n",
    "    'file_name': [],\n",
    "    'label': []\n",
    "}\n",
    "\n",
    "for input in val_df.values:\n",
    "    features = input[ : featuresNumber]\n",
    "    path = f'./dataset_val_{NUMBER_NODES}'\n",
    "    if not os.path.exists(path):\n",
    "        os.makedirs(path)\n",
    "\n",
    "    filename = f'adj_{i}.jpg'\n",
    "    label = int(input[featuresNumber + 1])\n",
    "    if label not in classes:\n",
    "        classes.append(label)\n",
    "\n",
    "    annotations_file_val['file_name'].append(filename)\n",
    "    annotations_file_val['label'].append(label)\n",
    "\n",
    "    saveImg(features, filename, path)\n",
    "    i += 1\n",
    "  \n",
    "df = pd.DataFrame(annotations_file_val)\n",
    "df.to_csv(\"annotations_file_val.csv\", index=False)"
   ]
  },
  {
   "cell_type": "code",
   "execution_count": 5,
   "metadata": {},
   "outputs": [],
   "source": [
    "annotations_file_test = {\n",
    "    'file_name': [],\n",
    "    'label': []\n",
    "}\n",
    "\n",
    "for input in test_df.values:\n",
    "    features = input[ : featuresNumber]\n",
    "    path = f'./dataset_test_{NUMBER_NODES}'\n",
    "    if not os.path.exists(path):\n",
    "        os.makedirs(path)\n",
    "\n",
    "    filename = f'adj_{i}.jpg'\n",
    "    label = int(input[featuresNumber + 1])\n",
    "    if label not in classes:\n",
    "        classes.append(label)\n",
    "\n",
    "    annotations_file_test['file_name'].append(filename)\n",
    "    annotations_file_test['label'].append(label)\n",
    "\n",
    "    saveImg(features, filename, path)\n",
    "    i += 1\n",
    "  \n",
    "df = pd.DataFrame(annotations_file_test)\n",
    "df.to_csv(\"annotations_file_test.csv\", index=False)"
   ]
  },
  {
   "cell_type": "code",
   "execution_count": 6,
   "metadata": {},
   "outputs": [
    {
     "name": "stdout",
     "output_type": "stream",
     "text": [
      "[1, 0, 3, 4, 2, 5, 6]\n",
      "7\n"
     ]
    }
   ],
   "source": [
    "print(classes)\n",
    "print(len(classes))"
   ]
  }
 ],
 "metadata": {
  "interpreter": {
   "hash": "6c5b3efaa918d9f28db231eb82daaaf5f44447677f2df3439a28b7e91ebffcf4"
  },
  "kernelspec": {
   "display_name": "Python 3.9.6 64-bit",
   "language": "python",
   "name": "python3"
  },
  "language_info": {
   "codemirror_mode": {
    "name": "ipython",
    "version": 3
   },
   "file_extension": ".py",
   "mimetype": "text/x-python",
   "name": "python",
   "nbconvert_exporter": "python",
   "pygments_lexer": "ipython3",
   "version": "3.9.9"
  },
  "orig_nbformat": 4
 },
 "nbformat": 4,
 "nbformat_minor": 2
}
