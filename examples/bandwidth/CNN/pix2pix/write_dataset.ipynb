{
 "cells": [
  {
   "cell_type": "code",
   "execution_count": 1,
   "metadata": {},
   "outputs": [
    {
     "data": {
      "text/plain": [
       "'IMPORTANTE\\nTESTAR COM (256, 256, 3)\\nTESTAR COM (32, 32, 3)\\nTESTAR COM (32, 32, 1)\\n'"
      ]
     },
     "execution_count": 1,
     "metadata": {},
     "output_type": "execute_result"
    }
   ],
   "source": [
    "\"\"\"IMPORTANTE\n",
    "TESTAR COM (256, 256, 3)\n",
    "TESTAR COM (32, 32, 3)\n",
    "TESTAR COM (32, 32, 1)\n",
    "\"\"\"\n"
   ]
  },
  {
   "cell_type": "code",
   "execution_count": 2,
   "metadata": {},
   "outputs": [],
   "source": [
    "import networkx as nx\n",
    "from matplotlib import pyplot as plt\n",
    "import numpy as np\n",
    "from PIL import Image\n",
    "import pandas as pd\n",
    "import os"
   ]
  },
  {
   "cell_type": "code",
   "execution_count": 3,
   "metadata": {},
   "outputs": [],
   "source": [
    "# NUMBER_NODES = 9\n",
    "NUMBER_NODES = 7\n",
    "# NUMBER_NODES = 5\n",
    "DATASET_PATH = f'../../../../datasets/examples/opt_band_{NUMBER_NODES}_nodes_graph.csv'\n",
    "\n",
    "def getGraph(upperTriangleAdjMatrix):\n",
    "    dense_adj = np.zeros((NUMBER_NODES, NUMBER_NODES))\n",
    "    dense_adj = np.zeros((NUMBER_NODES, NUMBER_NODES))\n",
    "    k = 0\n",
    "    for i in range(NUMBER_NODES):\n",
    "        for j in range(NUMBER_NODES):\n",
    "            if i == j:\n",
    "                continue\n",
    "            elif i < j:\n",
    "                dense_adj[i][j] = upperTriangleAdjMatrix[k]\n",
    "                k += 1\n",
    "            else:\n",
    "                dense_adj[i][j] = dense_adj[j][i]\n",
    "    return dense_adj  \n",
    "\n",
    "def saveImg(graphInput, idx, path, nodelist):\n",
    "    adj = getGraph(graphInput)\n",
    "    Graph = nx.Graph(adj)\n",
    "    optimal_adj = nx.adjacency_matrix(Graph, nodelist=nodelist)\n",
    "\n",
    "    w, h = NUMBER_NODES, NUMBER_NODES\n",
    "    data = np.zeros((h, w * 2, 3), dtype=np.uint8)\n",
    "    for i in range(len(adj)):\n",
    "        for j in range(len(adj)):\n",
    "            if adj[i, j] == 1:\n",
    "                data[i, j] = np.array([255.0, 255.0, 255.0])\n",
    "    # for i in range(len(adj)):\n",
    "    #     for j in range(NUMBER_NODES, NUMBER_NODES * 2):\n",
    "    #         if optimal_adj[i, j - NUMBER_NODES] == 1:\n",
    "    #             data[i, j] = np.array([255.0, 255.0, 255.0])\n",
    "    for i in range(NUMBER_NODES):\n",
    "        for j in range(NUMBER_NODES):\n",
    "            if optimal_adj[i, j] == 1:\n",
    "                data[i, j + NUMBER_NODES] = np.array([255.0, 255.0, 255.0])\n",
    "    img = Image.fromarray(data, 'RGB')\n",
    "    resized = img.resize((512, 256), Image.NEAREST) # (width, height)\n",
    "    resized.save(f'{path}/graph_{idx}.png')"
   ]
  },
  {
   "cell_type": "code",
   "execution_count": 4,
   "metadata": {},
   "outputs": [
    {
     "name": "stdout",
     "output_type": "stream",
     "text": [
      "1044\n",
      "835\n",
      "209\n"
     ]
    }
   ],
   "source": [
    "featuresNumber = ((NUMBER_NODES * NUMBER_NODES - NUMBER_NODES) // 2 )\n",
    "df = pd.read_csv(DATASET_PATH)\n",
    "train_df = df.sample(frac=0.8)\n",
    "val_df = df.drop(index=train_df.index)\n",
    "print(len(df))\n",
    "print(len(train_df))\n",
    "print(len(val_df))\n",
    "\n",
    "path = f'./train'\n",
    "if not os.path.exists(path):\n",
    "    os.makedirs(path)\n",
    "i = 0\n",
    "for input in train_df.values:\n",
    "    features = input[ : featuresNumber]\n",
    "    labels = input[ featuresNumber + 1: ]\n",
    "    \n",
    "    img_arr = saveImg(features, i, path, labels)\n",
    "    i += 1\n",
    "\n",
    "path = f'./test'\n",
    "if not os.path.exists(path):\n",
    "    os.makedirs(path)\n",
    "j = i + 1\n",
    "for input in val_df.values:\n",
    "    features = input[ : featuresNumber]\n",
    "    labels = input[ featuresNumber + 1: ]\n",
    "    img_arr = saveImg(features, j, path, labels)\n",
    "    j += 1"
   ]
  }
 ],
 "metadata": {
  "interpreter": {
   "hash": "6c5b3efaa918d9f28db231eb82daaaf5f44447677f2df3439a28b7e91ebffcf4"
  },
  "kernelspec": {
   "display_name": "Python 3.9.6 64-bit",
   "language": "python",
   "name": "python3"
  },
  "language_info": {
   "codemirror_mode": {
    "name": "ipython",
    "version": 3
   },
   "file_extension": ".py",
   "mimetype": "text/x-python",
   "name": "python",
   "nbconvert_exporter": "python",
   "pygments_lexer": "ipython3",
   "version": "3.9.6"
  },
  "orig_nbformat": 4
 },
 "nbformat": 4,
 "nbformat_minor": 2
}
