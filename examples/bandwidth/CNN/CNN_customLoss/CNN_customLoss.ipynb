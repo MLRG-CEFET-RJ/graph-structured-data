{
 "cells": [
  {
   "cell_type": "code",
   "execution_count": 189,
   "metadata": {},
   "outputs": [],
   "source": [
    "import numpy as np\n",
    "import torch\n",
    "import torch.nn as nn\n",
    "import torch.optim as optim\n",
    "import torchvision\n",
    "import torch.nn.functional as F\n",
    "import torchvision.transforms as transforms\n",
    "import matplotlib.pyplot as plt\n",
    "import pandas as pd\n",
    "from torch.utils.data import DataLoader\n",
    "import random\n",
    "import pickle\n",
    "import networkx as nx\n",
    "import os\n",
    "from PIL import Image\n",
    "import cv2\n",
    "from torchvision.io import read_image\n",
    "from torch.utils.data import Dataset\n",
    "from torchvision.transforms import ToTensor"
   ]
  },
  {
   "cell_type": "code",
   "execution_count": 190,
   "metadata": {},
   "outputs": [],
   "source": [
    "torch.manual_seed(42)\n",
    "random.seed(42)\n",
    "np.random.seed(42)\n",
    "\n",
    "# NUMBER_NODES = 10\n",
    "# NUMBER_NODES = 9\n",
    "NUMBER_NODES = 7\n",
    "# NUMBER_NODES = 5\n",
    "# DATASET_PATH = f'./opt_band_{NUMBER_NODES}_nodes_graph.csv'\n",
    "DATASET_PATH = f'../../../../datasets/examples/opt_band_{NUMBER_NODES}_nodes_graph.csv'"
   ]
  },
  {
   "cell_type": "code",
   "execution_count": 191,
   "metadata": {},
   "outputs": [],
   "source": [
    "def getArray(strArray):\n",
    "    arr = strArray.split('.')\n",
    "    first = strArray[1]\n",
    "    arr = [first, *arr[1 : -1]] # skip '[' and ']'\n",
    "    arr = list(map(lambda x: int(x.strip()), arr))\n",
    "    return np.array(arr)\n",
    "\n",
    "class CustomImageDataset(Dataset):\n",
    "    def __init__(self, annotations_file, img_dir, transform=None, target_transform=None):\n",
    "        self.img_labels = pd.read_csv(annotations_file)\n",
    "        self.img_dir = img_dir\n",
    "        self.transform = transform\n",
    "        self.target_transform = target_transform\n",
    "\n",
    "    def __len__(self):\n",
    "        return len(self.img_labels)\n",
    "\n",
    "    def __getitem__(self, idx):\n",
    "        img_path = os.path.join(self.img_dir, self.img_labels.iloc[idx, 0])\n",
    "        image = read_image(img_path)\n",
    "        image = image / 255.0\n",
    "        print(image)\n",
    "        print(image.dtype)\n",
    "        label = self.img_labels.iloc[idx, 1]\n",
    "        label = torch.from_numpy(getArray(label))\n",
    "        return image, label"
   ]
  },
  {
   "cell_type": "code",
   "execution_count": 192,
   "metadata": {},
   "outputs": [],
   "source": [
    "training_data = CustomImageDataset(annotations_file='./annotations_file_train.csv', img_dir='./dataset_7')\n",
    "val_data = CustomImageDataset(annotations_file='./annotations_file_val.csv', img_dir='./dataset_val_7')"
   ]
  },
  {
   "cell_type": "code",
   "execution_count": null,
   "metadata": {},
   "outputs": [],
   "source": [
    "training_data[0]"
   ]
  },
  {
   "cell_type": "code",
   "execution_count": 193,
   "metadata": {},
   "outputs": [],
   "source": [
    "BATCH_SIZE = 4\n",
    "train_dataloader = DataLoader(training_data, batch_size=BATCH_SIZE, shuffle=True)\n",
    "val_dataloader = DataLoader(val_data, batch_size=BATCH_SIZE, shuffle=False)"
   ]
  },
  {
   "cell_type": "code",
   "execution_count": 194,
   "metadata": {},
   "outputs": [
    {
     "name": "stdout",
     "output_type": "stream",
     "text": [
      "<class 'torch.Tensor'>\n",
      "<class 'torch.Tensor'>\n",
      "<class 'torch.Tensor'>\n",
      "torch.Size([4, 3, 32, 32])\n",
      "torch.Size([4, 7])\n"
     ]
    },
    {
     "data": {
      "image/png": "[encoded data removed]",
      "text/plain": [
       "<Figure size 432x288 with 1 Axes>"
      ]
     },
     "metadata": {
      "needs_background": "light"
     },
     "output_type": "display_data"
    },
    {
     "name": "stdout",
     "output_type": "stream",
     "text": [
      "tensor([3, 5, 0, 4, 1, 6, 2], dtype=torch.int32) tensor([1, 0, 6, 4, 5, 3, 2], dtype=torch.int32) tensor([3, 2, 5, 6, 0, 4, 1], dtype=torch.int32) tensor([1, 4, 6, 0, 2, 3, 5], dtype=torch.int32)\n"
     ]
    }
   ],
   "source": [
    "def imshow(img):\n",
    "    img = img / 2 + 0.5     # unnormalize\n",
    "    npimg = img.numpy()\n",
    "    plt.imshow(np.transpose(npimg, (1, 2, 0)))\n",
    "    plt.show()\n",
    "\n",
    "# get some random training images\n",
    "dataiter = iter(train_dataloader)\n",
    "images, labels = dataiter.next()\n",
    "\n",
    "print(type(images))\n",
    "print(type(images[0]))\n",
    "print(type(images[0][0]))\n",
    "print(images.shape)\n",
    "print(labels.shape)\n",
    "\n",
    "# # show images\n",
    "imshow(torchvision.utils.make_grid(images))\n",
    "# # print labels\n",
    "print(' '.join('%5s' % labels[j] for j in range(BATCH_SIZE)))"
   ]
  },
  {
   "cell_type": "code",
   "execution_count": 195,
   "metadata": {},
   "outputs": [
    {
     "data": {
      "text/plain": [
       "tensor(1.)"
      ]
     },
     "execution_count": 195,
     "metadata": {},
     "output_type": "execute_result"
    }
   ],
   "source": [
    "class CustomLoss(torch.nn.Module):\n",
    "    \n",
    "    def __init__(self):\n",
    "        super(CustomLoss,self).__init__()\n",
    "    \n",
    "    def loss_repeated_labels(self, output):\n",
    "      used_labels, counts = torch.unique(output, return_counts=True)\n",
    "      counts = counts.type(torch.DoubleTensor)\n",
    "      diffLabelCounts = (output.shape[0] - counts.shape[0])**2\n",
    "      sampleVariance = torch.var(counts, unbiased=False)\n",
    "\n",
    "      if diffLabelCounts == 0 and sampleVariance != 0:\n",
    "          diffLabelCounts = 1\n",
    "      if sampleVariance == 0 and diffLabelCounts != 0:\n",
    "          sampleVariance = 1\n",
    "      return sampleVariance * diffLabelCounts\n",
    "\n",
    "    def forward(self, output, target):\n",
    "      # print(output.shape)\n",
    "      # print(target[ : , : 1].shape)\n",
    "      loss_mse = ((output - target[ : , : 1])**2).mean()\n",
    "      roundedOutput = output.round()\n",
    "      loss_repeated = self.loss_repeated_labels(roundedOutput)\n",
    "      if loss_mse == 0 and loss_repeated != 0:\n",
    "        loss_mse = 1\n",
    "      if loss_repeated == 0 and loss_mse != 0:\n",
    "        loss_repeated = 1\n",
    "      return loss_mse * loss_repeated\n",
    "\n",
    "teste = CustomLoss()\n",
    "y_pred = torch.tensor([[1., 1., 1., 1., 1., 1., 1.]])\n",
    "#y_pred = torch.tensor([0., 1., 1., 2., 2., 3., 1.])\n",
    "#y_pred = torch.tensor([0., 1., 2., 3., 4., 5., 6.])\n",
    "y_true = torch.tensor([[0., 0., 1., 2., 3., 4., 5., 6.]])\n",
    "teste.forward(y_pred, y_true)"
   ]
  },
  {
   "cell_type": "code",
   "execution_count": 196,
   "metadata": {},
   "outputs": [],
   "source": [
    "def train(dataloader, model, optimizer):\n",
    "    criterion = CustomLoss()\n",
    "    # criterion = nn.MSELoss()\n",
    "    # model.train()\n",
    "    train_loss = 0\n",
    "    for X, y in dataloader:\n",
    "        pred = model(X)\n",
    "        # one = torch.nn.functional.one_hot(target, num_classes=3)\n",
    "        # one = one.type(torch.float32)\n",
    "        # print(\"FELIPE\")\n",
    "        # print(X.shape)\n",
    "        # print(pred.shape)\n",
    "        # print(pred)\n",
    "        # print(y.shape)\n",
    "#         FELIPE\n",
    "# torch.Size([4, 3, 32, 32])\n",
    "# torch.Size([7])\n",
    "# torch.Size([4, 7])\n",
    "        loss = criterion(pred, y)\n",
    "\n",
    "        # Backpropagation\n",
    "        optimizer.zero_grad()\n",
    "        loss.backward()\n",
    "        optimizer.step()\n",
    "\n",
    "        train_loss += loss.item()\n",
    "\n",
    "    return (train_loss / len(dataloader))\n",
    "\n",
    "def validation(dataloader, model):\n",
    "    criterion = CustomLoss()\n",
    "    train_loss = 0\n",
    "    for X, y in dataloader:\n",
    "        pred = model(X)\n",
    "        loss = criterion(pred, y)\n",
    "        train_loss += loss.item()\n",
    "\n",
    "    return (train_loss / len(dataloader))"
   ]
  },
  {
   "cell_type": "code",
   "execution_count": 197,
   "metadata": {},
   "outputs": [],
   "source": [
    "class Net(nn.Module):\n",
    "    def __init__(self):\n",
    "        super().__init__()\n",
    "        self.conv1 = nn.Conv2d(3, 6, 5)\n",
    "        self.pool = nn.MaxPool2d(2, 2)\n",
    "        self.conv2 = nn.Conv2d(6, 16, 5)\n",
    "        self.fc1 = nn.Linear(16 * 5 * 5, 120)\n",
    "        self.fc2 = nn.Linear(120, 84)\n",
    "        self.fc3 = nn.Linear(84, 7)\n",
    "\n",
    "    def forward(self, x):\n",
    "        x = self.pool(F.relu(self.conv1(x)))\n",
    "        x = self.pool(F.relu(self.conv2(x)))\n",
    "        x = torch.flatten(x, 1) # flatten all dimensions except batch\n",
    "        x = F.relu(self.fc1(x))\n",
    "        x = F.relu(self.fc2(x))\n",
    "        x = self.fc3(x)\n",
    "        return x"
   ]
  },
  {
   "cell_type": "code",
   "execution_count": 198,
   "metadata": {},
   "outputs": [
    {
     "name": "stdout",
     "output_type": "stream",
     "text": [
      "Epoch 1, train_loss: 121.08752707279602, val_loss: 20.296479738675632\n",
      "Epoch 2, train_loss: 19.441830243455602, val_loss: 18.72670350624965\n",
      "Epoch 3, train_loss: 19.268008197114824, val_loss: 18.70442284987523\n",
      "Epoch 4, train_loss: 19.391228375789968, val_loss: 18.899958986502426\n",
      "Epoch 5, train_loss: 19.328025458721406, val_loss: 18.720750946265\n",
      "Epoch 6, train_loss: 19.29352133933534, val_loss: 19.084558551128094\n",
      "Epoch 7, train_loss: 19.325096540755414, val_loss: 18.664390811553368\n",
      "Epoch 8, train_loss: 19.30429149384194, val_loss: 18.912797854496883\n",
      "Epoch 9, train_loss: 19.29079288117429, val_loss: 18.765746446756218\n",
      "Epoch 10, train_loss: 19.288495509675208, val_loss: 18.76188327715947\n",
      "Epoch 11, train_loss: 19.282823590014843, val_loss: 18.69810380385472\n",
      "Epoch 12, train_loss: 19.278662423884615, val_loss: 18.819751317684467\n",
      "Epoch 13, train_loss: 19.274426319751335, val_loss: 18.706056062991802\n",
      "Epoch 14, train_loss: 19.274614372659236, val_loss: 18.854905660335834\n",
      "Epoch 15, train_loss: 19.19055896109723, val_loss: 19.30007127615122\n",
      "Epoch 16, train_loss: 19.29839457520779, val_loss: 18.713001764737644\n",
      "Epoch 17, train_loss: 19.213147910605084, val_loss: 18.8753934273353\n",
      "Epoch 18, train_loss: 19.290627747900942, val_loss: 18.809992010776813\n",
      "Epoch 19, train_loss: 19.203275557274512, val_loss: 18.657455536035393\n",
      "Epoch 20, train_loss: 19.173254816582862, val_loss: 19.003889569869408\n",
      "Epoch 21, train_loss: 35.02697213659895, val_loss: 21.44381888096149\n",
      "Epoch 22, train_loss: 20.0322290501696, val_loss: 19.4667268716372\n",
      "Epoch 23, train_loss: 19.357656044148385, val_loss: 18.82271383358882\n",
      "Epoch 24, train_loss: 19.27630358959766, val_loss: 18.876462111106285\n",
      "Epoch 25, train_loss: 19.287920303040362, val_loss: 18.892046809196472\n",
      "Epoch 26, train_loss: 19.294779993625397, val_loss: 18.81028009377993\n",
      "Epoch 27, train_loss: 19.293124105828873, val_loss: 18.875152193582974\n",
      "Epoch 28, train_loss: 19.29875883447363, val_loss: 18.761859407791725\n",
      "Epoch 29, train_loss: 19.28256392377488, val_loss: 18.805377492537865\n",
      "Epoch 30, train_loss: 19.271281167294116, val_loss: 18.901127851926365\n",
      "Epoch 31, train_loss: 19.284510930041048, val_loss: 18.811061033835777\n",
      "Epoch 32, train_loss: 19.284901288722423, val_loss: 18.747894598887516\n",
      "Epoch 33, train_loss: 19.268469617721884, val_loss: 18.923993486624497\n",
      "Epoch 34, train_loss: 19.30063781687554, val_loss: 18.842229219583366\n",
      "Epoch 35, train_loss: 19.28331500165006, val_loss: 18.822506647843582\n",
      "Epoch 36, train_loss: 19.300625357729324, val_loss: 18.91819001161135\n",
      "Epoch 37, train_loss: 19.26827360924254, val_loss: 18.766076023762043\n",
      "Epoch 38, train_loss: 19.28081275757323, val_loss: 18.770742022074185\n",
      "Epoch 39, train_loss: 19.277785052644447, val_loss: 18.819441887048576\n",
      "Epoch 40, train_loss: 19.283991245640085, val_loss: 18.852464611713703\n",
      "Epoch 41, train_loss: 19.28332379067198, val_loss: 18.800834600742046\n",
      "Epoch 42, train_loss: 19.288974039605325, val_loss: 18.773474656618557\n",
      "Epoch 43, train_loss: 19.281199364459262, val_loss: 18.805530804854172\n",
      "Epoch 44, train_loss: 19.276857034703518, val_loss: 18.816548760120686\n",
      "Epoch 45, train_loss: 19.283979856207015, val_loss: 18.81838935155135\n",
      "Epoch 46, train_loss: 19.269775510341564, val_loss: 18.83869392138261\n",
      "Epoch 47, train_loss: 19.282311522199752, val_loss: 18.869728739445026\n",
      "Epoch 48, train_loss: 19.27532890806807, val_loss: 18.876837491989136\n",
      "Epoch 49, train_loss: 19.28222892233666, val_loss: 18.82294255036574\n",
      "Epoch 50, train_loss: 19.26959450599995, val_loss: 18.758231960810146\n",
      "Epoch 51, train_loss: 19.276295024790663, val_loss: 18.81139262822958\n",
      "Epoch 52, train_loss: 19.269977385312952, val_loss: 18.81443058527433\n",
      "Epoch 53, train_loss: 19.26846320223301, val_loss: 18.83707036421849\n",
      "Epoch 54, train_loss: 19.275263822839616, val_loss: 18.834652974055363\n",
      "Epoch 55, train_loss: 19.26591002890404, val_loss: 18.804553554608272\n",
      "Epoch 56, train_loss: 19.273871173249916, val_loss: 18.85766702431899\n",
      "Epoch 57, train_loss: 19.270007990776225, val_loss: 18.81975111594567\n",
      "Epoch 58, train_loss: 19.26755414110549, val_loss: 18.810106763472923\n",
      "Epoch 59, train_loss: 19.267375982061345, val_loss: 18.848374990316536\n",
      "Epoch 60, train_loss: 19.26523930214821, val_loss: 18.837623366942772\n",
      "Epoch 61, train_loss: 19.26870993147505, val_loss: 18.784173598656288\n",
      "Epoch 62, train_loss: 19.273793357991156, val_loss: 18.771657026731052\n",
      "Epoch 63, train_loss: 19.27654099261507, val_loss: 18.80990010041457\n",
      "Epoch 64, train_loss: 19.2676063953562, val_loss: 18.77135061300718\n",
      "Epoch 65, train_loss: 19.262967999438022, val_loss: 18.809083324212295\n",
      "Epoch 66, train_loss: 19.269250535457694, val_loss: 18.769178362993095\n",
      "Epoch 67, train_loss: 19.275163667252723, val_loss: 18.77813117320721\n",
      "Epoch 68, train_loss: 19.2744986412373, val_loss: 18.806712022194496\n",
      "Epoch 69, train_loss: 19.265318382039982, val_loss: 18.771300673484802\n",
      "Epoch 70, train_loss: 19.271057761476396, val_loss: 18.8116263793065\n",
      "Epoch 71, train_loss: 19.263318161254233, val_loss: 18.79255775304941\n",
      "Epoch 72, train_loss: 19.267686352323977, val_loss: 18.819770785478447\n",
      "Epoch 73, train_loss: 19.264228744709744, val_loss: 18.82282817363739\n",
      "Epoch 74, train_loss: 19.27158361445082, val_loss: 18.842208715585564\n",
      "Epoch 75, train_loss: 19.274573536629372, val_loss: 18.84331926015707\n",
      "Epoch 76, train_loss: 19.261800476084364, val_loss: 18.82584040898543\n",
      "Epoch 77, train_loss: 19.26593952597456, val_loss: 18.828329792389503\n",
      "Epoch 78, train_loss: 19.26333172676411, val_loss: 18.85019605893355\n",
      "Epoch 79, train_loss: 19.274983340374966, val_loss: 18.811456753657414\n",
      "Epoch 80, train_loss: 19.262505050415687, val_loss: 18.807283172240624\n",
      "Epoch 81, train_loss: 19.261002584213905, val_loss: 18.795899592913113\n",
      "Epoch 82, train_loss: 19.26762131072105, val_loss: 18.783953382418705\n",
      "Epoch 83, train_loss: 19.26761943482338, val_loss: 18.83158550812648\n",
      "Epoch 84, train_loss: 19.261205649883188, val_loss: 18.800382210658146\n",
      "Epoch 85, train_loss: 19.25800847246292, val_loss: 18.790820580262405\n",
      "Epoch 86, train_loss: 19.25991160818871, val_loss: 18.785549493936394\n",
      "Epoch 87, train_loss: 19.264535014680092, val_loss: 18.81970563301673\n",
      "Epoch 88, train_loss: 19.263582307227114, val_loss: 18.849481976949253\n",
      "Epoch 89, train_loss: 19.270515879671624, val_loss: 18.819744311846218\n",
      "Epoch 90, train_loss: 19.265432176057327, val_loss: 18.815818410653335\n",
      "Epoch 91, train_loss: 19.276707296231958, val_loss: 18.780807009110084\n",
      "Epoch 92, train_loss: 19.26043131655835, val_loss: 18.81882683130411\n",
      "Epoch 93, train_loss: 19.25955080326567, val_loss: 18.820468324881332\n",
      "Epoch 94, train_loss: 19.258770499330886, val_loss: 18.80311335967137\n",
      "Epoch 95, train_loss: 19.25820292614876, val_loss: 18.813645757161655\n",
      "Epoch 96, train_loss: 19.259608783113194, val_loss: 18.804007566892185\n",
      "Epoch 97, train_loss: 19.260178292051275, val_loss: 18.780840782018807\n",
      "Epoch 98, train_loss: 19.26096711919663, val_loss: 18.795486505214985\n",
      "Epoch 99, train_loss: 19.261556443255, val_loss: 18.80869014446552\n",
      "Epoch 100, train_loss: 19.26156448303385, val_loss: 18.80192710803105\n",
      "Epoch 101, train_loss: 19.25736919463949, val_loss: 18.772088986176712\n",
      "Epoch 102, train_loss: 19.257479130207223, val_loss: 18.803053901745724\n",
      "Epoch 103, train_loss: 19.261883738573562, val_loss: 18.788061004418594\n",
      "Epoch 104, train_loss: 19.275853101243364, val_loss: 18.840905455442574\n",
      "Epoch 105, train_loss: 19.28661555584441, val_loss: 18.762227012560917\n",
      "Epoch 106, train_loss: 19.254938401059903, val_loss: 18.7897102190898\n",
      "Epoch 107, train_loss: 19.253027267658965, val_loss: 18.74921620809115\n",
      "Epoch 108, train_loss: 19.253198616555398, val_loss: 18.793884194814243\n",
      "Epoch 109, train_loss: 19.26045186722532, val_loss: 18.789050799149734\n",
      "Epoch 110, train_loss: 19.250980704895994, val_loss: 18.80851831802955\n",
      "Epoch 111, train_loss: 19.2571896045766, val_loss: 18.832690669940067\n",
      "Epoch 112, train_loss: 19.26136962200733, val_loss: 18.811067388607906\n",
      "Epoch 113, train_loss: 19.245925392495824, val_loss: 18.77604209459745\n",
      "Epoch 114, train_loss: 19.255795609697383, val_loss: 18.73432337320768\n",
      "Epoch 115, train_loss: 19.25414918940118, val_loss: 18.79183662854708\n",
      "Epoch 116, train_loss: 19.244177053583428, val_loss: 18.83219983944526\n",
      "Epoch 117, train_loss: 19.235199609715888, val_loss: 18.651680845480698\n",
      "Epoch 118, train_loss: 28.314848808532066, val_loss: 19.285154461860657\n",
      "Epoch 119, train_loss: 19.339014081244773, val_loss: 18.916727442007797\n",
      "Epoch 120, train_loss: 19.281627662257947, val_loss: 18.809711327919594\n",
      "Epoch 121, train_loss: 19.26852589617384, val_loss: 18.81809044801272\n",
      "Epoch 122, train_loss: 19.27087484572796, val_loss: 18.796375283828148\n",
      "Epoch 123, train_loss: 19.26841467492124, val_loss: 18.845572664187504\n",
      "Epoch 124, train_loss: 19.29224914895727, val_loss: 18.830924226687504\n",
      "Epoch 125, train_loss: 19.278797637148106, val_loss: 18.802249440780052\n",
      "Epoch 126, train_loss: 19.26495112865529, val_loss: 18.81139503992521\n",
      "Epoch 127, train_loss: 19.27466294308926, val_loss: 18.816378318346462\n",
      "Epoch 128, train_loss: 19.270040818478197, val_loss: 18.812010893454918\n"
     ]
    }
   ],
   "source": [
    "epochs = 128\n",
    "\n",
    "model = Net()\n",
    "\n",
    "optimizer = optim.SGD(model.parameters(), lr=0.0001, momentum=0.9)\n",
    "\n",
    "list_train_loss = []\n",
    "list_val_loss = []\n",
    "\n",
    "for epoch in range(epochs):\n",
    "    train_loss = train(train_dataloader, model, optimizer)\n",
    "    list_train_loss.append(train_loss)\n",
    "    val_loss = validation(val_dataloader, model)\n",
    "    list_val_loss.append(val_loss)\n",
    "    print(f'Epoch {epoch + 1}, train_loss: {train_loss}, val_loss: {val_loss}')\n"
   ]
  },
  {
   "cell_type": "code",
   "execution_count": 199,
   "metadata": {},
   "outputs": [
    {
     "data": {
      "image/png": "[encoded data removed]",
      "text/plain": [
       "<Figure size 432x288 with 1 Axes>"
      ]
     },
     "metadata": {
      "needs_background": "light"
     },
     "output_type": "display_data"
    },
    {
     "data": {
      "text/plain": [
       "<Figure size 432x288 with 0 Axes>"
      ]
     },
     "metadata": {},
     "output_type": "display_data"
    }
   ],
   "source": [
    "plt.plot(list_train_loss, label='Training Loss')\n",
    "plt.plot(list_val_loss, label='Validation Loss')\n",
    "plt.xlabel(\"Epochs\")\n",
    "plt.ylabel(\"Loss\")\n",
    "plt.legend(loc='upper right')\n",
    "plt.title('Training and Validation Loss average per batch')\n",
    "# plt.savefig(os.path.join(os.path.dirname(__file__), 'loss3.jpg'))\n",
    "plt.show()\n",
    "plt.clf()"
   ]
  },
  {
   "cell_type": "code",
   "execution_count": 200,
   "metadata": {},
   "outputs": [
    {
     "name": "stdout",
     "output_type": "stream",
     "text": [
      "Test dataloader\n",
      "torch.Size([4, 3, 32, 32])\n",
      "=============\n",
      "pred: tensor([[2., 2., 2., 2., 2., 2., 2.],\n",
      "        [2., 2., 2., 2., 2., 2., 2.],\n",
      "        [2., 2., 2., 2., 2., 2., 2.],\n",
      "        [2., 2., 2., 2., 2., 2., 2.]], grad_fn=<RoundBackward>)\n",
      "y: tensor([[6, 2, 0, 5, 3, 4],\n",
      "        [6, 0, 5, 3, 4, 2],\n",
      "        [5, 6, 0, 3, 2, 4],\n",
      "        [5, 1, 0, 6, 4, 3]], dtype=torch.int32)\n",
      "Train dataloader\n",
      "torch.Size([4, 3, 32, 32])\n",
      "=============\n",
      "pred: tensor([[2., 2., 2., 2., 2., 2., 2.],\n",
      "        [2., 2., 2., 2., 2., 2., 2.],\n",
      "        [2., 2., 2., 2., 2., 2., 2.],\n",
      "        [2., 2., 2., 2., 2., 2., 2.]], grad_fn=<RoundBackward>)\n",
      "y: tensor([[6, 0, 5, 3, 2, 4],\n",
      "        [2, 0, 5, 1, 6, 3],\n",
      "        [5, 1, 0, 4, 6, 3],\n",
      "        [1, 4, 6, 5, 0, 3]], dtype=torch.int32)\n"
     ]
    }
   ],
   "source": [
    "print(\"Test dataloader\")\n",
    "for x, y in val_dataloader:\n",
    "  print(x.shape)\n",
    "  pred = model(x).round()\n",
    "  print(\"=============\")\n",
    "  print('pred:', pred)\n",
    "  print('y:', y[:,1:])\n",
    "  break\n",
    "print(\"Train dataloader\")\n",
    "for x, y in train_dataloader:\n",
    "  print(x.shape)\n",
    "  pred = model(x).round()\n",
    "  print(\"=============\")\n",
    "  print('pred:', pred)\n",
    "  print('y:', y[:,1:])\n",
    "  break\n",
    "# load the last checkpoint with the best model\n",
    "# model.load_state_dict(torch.load('checkpoint.pt'))"
   ]
  }
 ],
 "metadata": {
  "interpreter": {
   "hash": "6c5b3efaa918d9f28db231eb82daaaf5f44447677f2df3439a28b7e91ebffcf4"
  },
  "kernelspec": {
   "display_name": "Python 3.9.6 64-bit",
   "language": "python",
   "name": "python3"
  },
  "language_info": {
   "codemirror_mode": {
    "name": "ipython",
    "version": 3
   },
   "file_extension": ".py",
   "mimetype": "text/x-python",
   "name": "python",
   "nbconvert_exporter": "python",
   "pygments_lexer": "ipython3",
   "version": "3.9.6"
  },
  "orig_nbformat": 4
 },
 "nbformat": 4,
 "nbformat_minor": 2
}
