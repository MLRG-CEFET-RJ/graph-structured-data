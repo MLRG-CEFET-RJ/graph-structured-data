{
 "cells": [
  {
   "cell_type": "code",
   "execution_count": 36,
   "metadata": {},
   "outputs": [],
   "source": [
    "import numpy as np\n",
    "import torch\n",
    "import torch.nn as nn\n",
    "import torch.optim as optim\n",
    "import torchvision\n",
    "import torch.nn.functional as F\n",
    "import torchvision.transforms as transforms\n",
    "import matplotlib.pyplot as plt\n",
    "import pandas as pd\n",
    "from torch.utils.data import DataLoader\n",
    "import random\n",
    "import pickle\n",
    "import networkx as nx\n",
    "import os\n",
    "from PIL import Image\n",
    "import cv2\n",
    "from torchvision.io import read_image\n",
    "from torch.utils.data import Dataset\n",
    "from torchvision.transforms import ToTensor"
   ]
  },
  {
   "cell_type": "code",
   "execution_count": 37,
   "metadata": {},
   "outputs": [],
   "source": [
    "torch.manual_seed(42)\n",
    "random.seed(42)\n",
    "np.random.seed(42)\n",
    "\n",
    "# NUMBER_NODES = 10\n",
    "# NUMBER_NODES = 9\n",
    "NUMBER_NODES = 7\n",
    "# NUMBER_NODES = 5\n",
    "# DATASET_PATH = f'./opt_band_{NUMBER_NODES}_nodes_graph.csv'\n",
    "DATASET_PATH = f'../../../../datasets/examples/opt_band_{NUMBER_NODES}_nodes_graph.csv'"
   ]
  },
  {
   "cell_type": "code",
   "execution_count": 38,
   "metadata": {},
   "outputs": [],
   "source": [
    "def getArray(strArray):\n",
    "    arr = strArray.split('.')\n",
    "    first = strArray[1]\n",
    "    arr = [first, *arr[1 : -1]] # skip '[' and ']'\n",
    "    arr = list(map(lambda x: int(x.strip()), arr))\n",
    "    return np.array(arr)\n",
    "\n",
    "class CustomImageDataset(Dataset):\n",
    "    def __init__(self, annotations_file, img_dir, transform=None, target_transform=None):\n",
    "        self.img_labels = pd.read_csv(annotations_file)\n",
    "        self.img_dir = img_dir\n",
    "        self.transform = transform\n",
    "        self.target_transform = target_transform\n",
    "\n",
    "    def __len__(self):\n",
    "        return len(self.img_labels)\n",
    "\n",
    "    def __getitem__(self, idx):\n",
    "        img_path = os.path.join(self.img_dir, self.img_labels.iloc[idx, 0])\n",
    "        image = read_image(img_path)\n",
    "        image = image / 255\n",
    "        label = self.img_labels.iloc[idx, 1]\n",
    "        label = torch.from_numpy(getArray(label))\n",
    "        return image, label"
   ]
  },
  {
   "cell_type": "code",
   "execution_count": 39,
   "metadata": {},
   "outputs": [],
   "source": [
    "training_data = CustomImageDataset(annotations_file='./annotations_file_train.csv', img_dir='./dataset_7')\n",
    "val_data = CustomImageDataset(annotations_file='./annotations_file_val.csv', img_dir='./dataset_val_7')"
   ]
  },
  {
   "cell_type": "code",
   "execution_count": 40,
   "metadata": {},
   "outputs": [],
   "source": [
    "BATCH_SIZE = 4\n",
    "train_dataloader = DataLoader(training_data, batch_size=BATCH_SIZE, shuffle=True)\n",
    "val_dataloader = DataLoader(val_data, batch_size=BATCH_SIZE, shuffle=False)"
   ]
  },
  {
   "cell_type": "code",
   "execution_count": 41,
   "metadata": {},
   "outputs": [
    {
     "name": "stdout",
     "output_type": "stream",
     "text": [
      "<class 'torch.Tensor'>\n",
      "<class 'torch.Tensor'>\n",
      "<class 'torch.Tensor'>\n",
      "torch.Size([4, 3, 32, 32])\n",
      "torch.Size([4, 7])\n"
     ]
    },
    {
     "data": {
      "image/png": "[encoded data removed]",
      "text/plain": [
       "<Figure size 432x288 with 1 Axes>"
      ]
     },
     "metadata": {
      "needs_background": "light"
     },
     "output_type": "display_data"
    },
    {
     "name": "stdout",
     "output_type": "stream",
     "text": [
      "tensor([3, 5, 0, 4, 1, 6, 2], dtype=torch.int32) tensor([1, 0, 6, 4, 5, 3, 2], dtype=torch.int32) tensor([3, 2, 5, 6, 0, 4, 1], dtype=torch.int32) tensor([1, 4, 6, 0, 2, 3, 5], dtype=torch.int32)\n"
     ]
    }
   ],
   "source": [
    "def imshow(img):\n",
    "    img = img / 2 + 0.5     # unnormalize\n",
    "    npimg = img.numpy()\n",
    "    plt.imshow(np.transpose(npimg, (1, 2, 0)))\n",
    "    plt.show()\n",
    "\n",
    "# get some random training images\n",
    "dataiter = iter(train_dataloader)\n",
    "images, labels = dataiter.next()\n",
    "\n",
    "print(type(images))\n",
    "print(type(images[0]))\n",
    "print(type(images[0][0]))\n",
    "print(images.shape)\n",
    "print(labels.shape)\n",
    "\n",
    "# # show images\n",
    "imshow(torchvision.utils.make_grid(images))\n",
    "# # print labels\n",
    "print(' '.join('%5s' % labels[j] for j in range(BATCH_SIZE)))"
   ]
  },
  {
   "cell_type": "code",
   "execution_count": 42,
   "metadata": {},
   "outputs": [
    {
     "data": {
      "text/plain": [
       "tensor(1., dtype=torch.float64)"
      ]
     },
     "execution_count": 42,
     "metadata": {},
     "output_type": "execute_result"
    }
   ],
   "source": [
    "class CustomLoss(torch.nn.Module):\n",
    "    \n",
    "    def __init__(self):\n",
    "        super(CustomLoss,self).__init__()\n",
    "    \n",
    "    def loss_repeated_labels(self, output):\n",
    "      used_labels, counts = torch.unique(output, return_counts=True)\n",
    "      counts = counts.type(torch.DoubleTensor)\n",
    "      diffLabelCounts = (output.shape[0] - counts.shape[0])**2\n",
    "      sampleVariance = torch.var(counts, unbiased=False)\n",
    "\n",
    "      return sampleVariance + diffLabelCounts\n",
    "\n",
    "    def forward(self, output, target):\n",
    "      # print(output.shape)\n",
    "      # print(target[ : , : 1].shape)\n",
    "      loss_mse = ((output - target[ : , : 1])**2).mean()\n",
    "      roundedOutput = output.round()\n",
    "      loss_repeated = self.loss_repeated_labels(roundedOutput)\n",
    "      return loss_mse + loss_repeated\n",
    "\n",
    "teste = CustomLoss()\n",
    "y_pred = torch.tensor([[1., 1., 1., 1., 1., 1., 1.]])\n",
    "#y_pred = torch.tensor([0., 1., 1., 2., 2., 3., 1.])\n",
    "#y_pred = torch.tensor([0., 1., 2., 3., 4., 5., 6.])\n",
    "y_true = torch.tensor([[0., 0., 1., 2., 3., 4., 5., 6.]])\n",
    "teste.forward(y_pred, y_true)"
   ]
  },
  {
   "cell_type": "code",
   "execution_count": 43,
   "metadata": {},
   "outputs": [],
   "source": [
    "def train(dataloader, model, optimizer):\n",
    "    criterion = CustomLoss()\n",
    "    # criterion = nn.MSELoss()\n",
    "    # model.train()\n",
    "    train_loss = 0\n",
    "    for X, y in dataloader:\n",
    "        pred = model(X)\n",
    "        # one = torch.nn.functional.one_hot(target, num_classes=3)\n",
    "        # one = one.type(torch.float32)\n",
    "        # print(\"FELIPE\")\n",
    "        # print(X.shape)\n",
    "        # print(pred.shape)\n",
    "        # print(pred)\n",
    "        # print(y.shape)\n",
    "#         FELIPE\n",
    "# torch.Size([4, 3, 32, 32])\n",
    "# torch.Size([7])\n",
    "# torch.Size([4, 7])\n",
    "        loss = criterion(pred, y)\n",
    "\n",
    "        # Backpropagation\n",
    "        optimizer.zero_grad()\n",
    "        loss.backward()\n",
    "        optimizer.step()\n",
    "\n",
    "        train_loss += loss.item()\n",
    "\n",
    "    return (train_loss / len(dataloader))\n",
    "\n",
    "def validation(dataloader, model):\n",
    "    criterion = CustomLoss()\n",
    "    train_loss = 0\n",
    "    for X, y in dataloader:\n",
    "        pred = model(X)\n",
    "        loss = criterion(pred, y)\n",
    "        train_loss += loss.item()\n",
    "\n",
    "    return (train_loss / len(dataloader))"
   ]
  },
  {
   "cell_type": "code",
   "execution_count": 44,
   "metadata": {},
   "outputs": [],
   "source": [
    "class Net(nn.Module):\n",
    "    def __init__(self):\n",
    "        super().__init__()\n",
    "        self.conv1 = nn.Conv2d(3, 6, 5)\n",
    "        self.pool = nn.MaxPool2d(2, 2)\n",
    "        self.conv2 = nn.Conv2d(6, 16, 5)\n",
    "        self.fc1 = nn.Linear(16 * 5 * 5, 120)\n",
    "        self.fc2 = nn.Linear(120, 84)\n",
    "        self.fc3 = nn.Linear(84, 7)\n",
    "\n",
    "    def forward(self, x):\n",
    "        x = self.pool(F.relu(self.conv1(x)))\n",
    "        x = self.pool(F.relu(self.conv2(x)))\n",
    "        x = torch.flatten(x, 1) # flatten all dimensions except batch\n",
    "        x = F.relu(self.fc1(x))\n",
    "        x = F.relu(self.fc2(x))\n",
    "        x = self.fc3(x)\n",
    "        return x"
   ]
  },
  {
   "cell_type": "code",
   "execution_count": 45,
   "metadata": {},
   "outputs": [
    {
     "name": "stdout",
     "output_type": "stream",
     "text": [
      "Epoch 1, train_loss: 23.020882360605484, val_loss: 92.34514996638664\n",
      "Epoch 2, train_loss: 54.331795338723566, val_loss: 24.74454984957209\n",
      "Epoch 3, train_loss: 32.894993600256335, val_loss: 41.12654645425769\n",
      "Epoch 4, train_loss: 36.118469663193316, val_loss: 27.679871832808622\n",
      "Epoch 5, train_loss: 29.521659036590137, val_loss: 36.80236665446024\n",
      "Epoch 6, train_loss: 37.07155151438347, val_loss: 20.69988662749529\n",
      "Epoch 7, train_loss: 40.83489172814445, val_loss: 46.022247082912\n",
      "Epoch 8, train_loss: 41.622346900301324, val_loss: 35.349076598882675\n",
      "Epoch 9, train_loss: 42.70443952151224, val_loss: 37.29937034845352\n",
      "Epoch 10, train_loss: 47.279511307817536, val_loss: 38.235287281756214\n",
      "Epoch 11, train_loss: 39.38867965370908, val_loss: 45.90259359433101\n",
      "Epoch 12, train_loss: 39.48459846992793, val_loss: 34.99310421746256\n",
      "Epoch 13, train_loss: 42.12102325195114, val_loss: 34.90760202858692\n",
      "Epoch 14, train_loss: 35.018247883553755, val_loss: 33.25342529993027\n",
      "Epoch 15, train_loss: 45.232234659084675, val_loss: 45.784562460759766\n",
      "Epoch 16, train_loss: 35.647256787547526, val_loss: 44.944487017316696\n",
      "Epoch 17, train_loss: 35.38046544175197, val_loss: 36.31901073290242\n",
      "Epoch 18, train_loss: 40.1789990590185, val_loss: 31.22752415216886\n",
      "Epoch 19, train_loss: 32.918368529220125, val_loss: 31.481515482195423\n",
      "Epoch 20, train_loss: 35.800076026946776, val_loss: 37.39942018955182\n",
      "Epoch 21, train_loss: 37.65571066925991, val_loss: 44.57549713411902\n",
      "Epoch 22, train_loss: 33.76609233523373, val_loss: 51.75173334357066\n",
      "Epoch 23, train_loss: 38.67543204844912, val_loss: 34.80579822364017\n",
      "Epoch 24, train_loss: 37.02944610556565, val_loss: 32.28648713001838\n",
      "Epoch 25, train_loss: 31.994258150498815, val_loss: 48.86652487669236\n",
      "Epoch 26, train_loss: 33.07096245755256, val_loss: 39.40472308336161\n",
      "Epoch 27, train_loss: 36.81592304228184, val_loss: 37.26579229546409\n",
      "Epoch 28, train_loss: 34.58140196177763, val_loss: 34.07029584941701\n",
      "Epoch 29, train_loss: 27.73243478050113, val_loss: 51.366155169713196\n",
      "Epoch 30, train_loss: 32.2413917044129, val_loss: 49.9394428556801\n",
      "Epoch 31, train_loss: 34.716688690477184, val_loss: 29.434906334703808\n",
      "Epoch 32, train_loss: 28.304291154137708, val_loss: 28.850596670666313\n",
      "Epoch 33, train_loss: 34.242083095146164, val_loss: 37.400766215772705\n",
      "Epoch 34, train_loss: 29.898343023143457, val_loss: 34.775771453849266\n",
      "Epoch 35, train_loss: 31.815991527285952, val_loss: 32.60790252303467\n",
      "Epoch 36, train_loss: 28.557202211055152, val_loss: 35.72576798371271\n",
      "Epoch 37, train_loss: 33.31039006638184, val_loss: 41.18156507038153\n",
      "Epoch 38, train_loss: 32.00771747175821, val_loss: 26.61766372710212\n",
      "Epoch 39, train_loss: 28.746639572985732, val_loss: 43.2064708889677\n",
      "Epoch 40, train_loss: 30.51424988431249, val_loss: 39.82891642232226\n",
      "Epoch 41, train_loss: 32.2202470613216, val_loss: 38.1055229023481\n",
      "Epoch 42, train_loss: 30.799208389937714, val_loss: 36.08081893508251\n",
      "Epoch 43, train_loss: 33.16462513127363, val_loss: 30.440156524698452\n",
      "Epoch 44, train_loss: 29.268744848670593, val_loss: 49.547443165802036\n",
      "Epoch 45, train_loss: 29.181454813849356, val_loss: 34.76861310412741\n",
      "Epoch 46, train_loss: 28.49856644964665, val_loss: 26.729555857232494\n",
      "Epoch 47, train_loss: 28.689751905104206, val_loss: 34.88448638940214\n",
      "Epoch 48, train_loss: 32.29966579091604, val_loss: 37.89282619672964\n",
      "Epoch 49, train_loss: 28.31560858506046, val_loss: 34.86977792887861\n",
      "Epoch 50, train_loss: 30.508524230284575, val_loss: 45.38405945674222\n",
      "Epoch 51, train_loss: 28.322041124300924, val_loss: 34.125670201758034\n",
      "Epoch 52, train_loss: 30.626575398015312, val_loss: 39.44837337923356\n",
      "Epoch 53, train_loss: 30.698324150433535, val_loss: 34.29928976564835\n",
      "Epoch 54, train_loss: 32.501728836948956, val_loss: 53.391651073518474\n",
      "Epoch 55, train_loss: 28.101067325553807, val_loss: 27.85466986168653\n",
      "Epoch 56, train_loss: 28.74020355156293, val_loss: 39.58419186373552\n",
      "Epoch 57, train_loss: 26.575041347287605, val_loss: 35.23216804339845\n",
      "Epoch 58, train_loss: 28.568748542331733, val_loss: 42.587206600695595\n",
      "Epoch 59, train_loss: 30.29738065780404, val_loss: 30.83195176892556\n",
      "Epoch 60, train_loss: 27.56963099339361, val_loss: 38.7909614720151\n",
      "Epoch 61, train_loss: 27.04203959222237, val_loss: 32.09654539963629\n",
      "Epoch 62, train_loss: 29.64011080264865, val_loss: 34.427729439276916\n",
      "Epoch 63, train_loss: 26.577762766212253, val_loss: 30.547878219212734\n",
      "Epoch 64, train_loss: 28.4838118572222, val_loss: 36.57658807283793\n",
      "Epoch 65, train_loss: 29.17581890689351, val_loss: 41.01743482448098\n",
      "Epoch 66, train_loss: 27.527480242994894, val_loss: 39.68404262901372\n",
      "Epoch 67, train_loss: 31.41941450426515, val_loss: 30.528693223419868\n",
      "Epoch 68, train_loss: 28.307645332024133, val_loss: 50.70062839437245\n",
      "Epoch 69, train_loss: 26.75266524525507, val_loss: 37.15756026776428\n",
      "Epoch 70, train_loss: 28.691313252612726, val_loss: 35.248224480921394\n",
      "Epoch 71, train_loss: 29.3751956492693, val_loss: 31.603429343328518\n",
      "Epoch 72, train_loss: 28.15886564154359, val_loss: 38.247933330571556\n",
      "Epoch 73, train_loss: 25.686673040104985, val_loss: 34.7217782230204\n",
      "Epoch 74, train_loss: 27.602117108556282, val_loss: 29.99217257903427\n",
      "Epoch 75, train_loss: 27.623401221379282, val_loss: 33.42387330391978\n",
      "Epoch 76, train_loss: 25.9819347647316, val_loss: 39.522579747260124\n",
      "Epoch 77, train_loss: 26.885301058149967, val_loss: 32.46457464579079\n",
      "Epoch 78, train_loss: 26.21374322037052, val_loss: 29.774195627269577\n",
      "Epoch 79, train_loss: 26.18858134759363, val_loss: 35.29188777022382\n",
      "Epoch 80, train_loss: 26.065307735556583, val_loss: 34.53378691568844\n",
      "Epoch 81, train_loss: 24.88463369287134, val_loss: 26.99460903969077\n",
      "Epoch 82, train_loss: 27.107507040418522, val_loss: 41.36931259618102\n",
      "Epoch 83, train_loss: 25.60690869770682, val_loss: 38.16440268128347\n",
      "Epoch 84, train_loss: 24.438836826351196, val_loss: 45.6127574765402\n",
      "Epoch 85, train_loss: 22.767571970558162, val_loss: 47.88367725195538\n",
      "Epoch 86, train_loss: 24.389911998440216, val_loss: 25.217661783099178\n",
      "Epoch 87, train_loss: 28.59680788721475, val_loss: 41.02462097607617\n",
      "Epoch 88, train_loss: 26.746800103366688, val_loss: 37.02420923394016\n",
      "Epoch 89, train_loss: 26.756689770882534, val_loss: 33.00611430190058\n",
      "Epoch 90, train_loss: 27.32248212720014, val_loss: 30.544093502637672\n",
      "Epoch 91, train_loss: 27.797688179297282, val_loss: 33.16373388386435\n",
      "Epoch 92, train_loss: 24.038089675661475, val_loss: 32.777100963597626\n",
      "Epoch 93, train_loss: 27.151107791827503, val_loss: 25.407523655038105\n",
      "Epoch 94, train_loss: 25.663903211411327, val_loss: 45.306142622716415\n",
      "Epoch 95, train_loss: 24.236758544642694, val_loss: 34.88609181153469\n",
      "Epoch 96, train_loss: 26.487232840121532, val_loss: 31.76760043203831\n",
      "Epoch 97, train_loss: 23.306155325666616, val_loss: 37.62801979997984\n",
      "Epoch 98, train_loss: 28.130418023749872, val_loss: 37.96157051317203\n",
      "Epoch 99, train_loss: 22.188557999291994, val_loss: 26.665691008297813\n",
      "Epoch 100, train_loss: 24.93926211939371, val_loss: 33.266839595623\n",
      "Epoch 101, train_loss: 24.46677703066543, val_loss: 32.738616927184616\n",
      "Epoch 102, train_loss: 24.001336968027136, val_loss: 32.11158694441502\n",
      "Epoch 103, train_loss: 24.753976094297297, val_loss: 34.09591263647263\n",
      "Epoch 104, train_loss: 24.801997051389506, val_loss: 50.819213899027595\n",
      "Epoch 105, train_loss: 23.681582286459513, val_loss: 30.274877391691902\n",
      "Epoch 106, train_loss: 24.28041228504323, val_loss: 29.20414857668245\n",
      "Epoch 107, train_loss: 26.093361801096137, val_loss: 34.54522975534201\n",
      "Epoch 108, train_loss: 24.732972555145086, val_loss: 23.968917359271625\n",
      "Epoch 109, train_loss: 22.828118979177706, val_loss: 42.71446084492228\n",
      "Epoch 110, train_loss: 23.01632060111932, val_loss: 32.107544711130295\n",
      "Epoch 111, train_loss: 21.95808498625538, val_loss: 39.380046940476475\n",
      "Epoch 112, train_loss: 23.949920269391946, val_loss: 48.97772574622407\n",
      "Epoch 113, train_loss: 22.02040903540567, val_loss: 31.40434484897007\n",
      "Epoch 114, train_loss: 23.655585523794414, val_loss: 35.08925687706369\n",
      "Epoch 115, train_loss: 23.087418330165477, val_loss: 33.67564525448869\n",
      "Epoch 116, train_loss: 22.1017044873333, val_loss: 30.00574687034147\n",
      "Epoch 117, train_loss: 22.06414544028139, val_loss: 32.633899986160614\n",
      "Epoch 118, train_loss: 21.25207775998237, val_loss: 31.49391570585406\n",
      "Epoch 119, train_loss: 23.58700199608335, val_loss: 30.960418616731964\n",
      "Epoch 120, train_loss: 25.450424667064986, val_loss: 33.143346939649845\n",
      "Epoch 121, train_loss: 22.120464327681333, val_loss: 22.37125841610962\n",
      "Epoch 122, train_loss: 20.80277473379157, val_loss: 31.89452497864891\n",
      "Epoch 123, train_loss: 22.654137769266423, val_loss: 30.251589553287396\n",
      "Epoch 124, train_loss: 24.006331476738428, val_loss: 28.636009883613163\n",
      "Epoch 125, train_loss: 21.474039133896458, val_loss: 41.16764922423749\n",
      "Epoch 126, train_loss: 20.572245409568808, val_loss: 30.564535461557224\n",
      "Epoch 127, train_loss: 24.335206874885046, val_loss: 25.997969448849176\n",
      "Epoch 128, train_loss: 21.57441683225031, val_loss: 31.8833622161904\n"
     ]
    }
   ],
   "source": [
    "epochs = 128\n",
    "\n",
    "model = Net()\n",
    "\n",
    "optimizer = optim.SGD(model.parameters(), lr=0.0001, momentum=0.9)\n",
    "\n",
    "list_train_loss = []\n",
    "list_val_loss = []\n",
    "\n",
    "for epoch in range(epochs):\n",
    "    train_loss = train(train_dataloader, model, optimizer)\n",
    "    list_train_loss.append(train_loss)\n",
    "    val_loss = validation(val_dataloader, model)\n",
    "    list_val_loss.append(val_loss)\n",
    "    print(f'Epoch {epoch + 1}, train_loss: {train_loss}, val_loss: {val_loss}')\n"
   ]
  },
  {
   "cell_type": "code",
   "execution_count": 46,
   "metadata": {},
   "outputs": [
    {
     "data": {
      "image/png": "[encoded data removed]",
      "text/plain": [
       "<Figure size 432x288 with 1 Axes>"
      ]
     },
     "metadata": {
      "needs_background": "light"
     },
     "output_type": "display_data"
    },
    {
     "data": {
      "text/plain": [
       "<Figure size 432x288 with 0 Axes>"
      ]
     },
     "metadata": {},
     "output_type": "display_data"
    }
   ],
   "source": [
    "plt.plot(list_train_loss, label='Training Loss')\n",
    "plt.plot(list_val_loss, label='Validation Loss')\n",
    "plt.xlabel(\"Epochs\")\n",
    "plt.ylabel(\"Loss\")\n",
    "plt.legend(loc='upper right')\n",
    "plt.title('Training and Validation Loss average per batch')\n",
    "# plt.savefig(os.path.join(os.path.dirname(__file__), 'loss3.jpg'))\n",
    "plt.show()\n",
    "plt.clf()"
   ]
  },
  {
   "cell_type": "code",
   "execution_count": 47,
   "metadata": {},
   "outputs": [
    {
     "name": "stdout",
     "output_type": "stream",
     "text": [
      "Test dataloader\n",
      "torch.Size([4, 3, 32, 32])\n",
      "=============\n",
      "pred: tensor([[0., 0., 0., 0., 0., 0., 0.],\n",
      "        [0., 0., 0., 0., 0., -0., 0.],\n",
      "        [1., 0., 0., 1., 1., 1., 1.],\n",
      "        [3., 3., 3., 3., 3., 3., 3.]], grad_fn=<RoundBackward>)\n",
      "y: tensor([[6, 2, 0, 5, 3, 4],\n",
      "        [6, 0, 5, 3, 4, 2],\n",
      "        [5, 6, 0, 3, 2, 4],\n",
      "        [5, 1, 0, 6, 4, 3]], dtype=torch.int32)\n",
      "Train dataloader\n",
      "torch.Size([4, 3, 32, 32])\n",
      "=============\n",
      "pred: tensor([[1., 0., 0., 0., 0., 0., 0.],\n",
      "        [3., 3., 3., 3., 3., 3., 3.],\n",
      "        [2., 2., 2., 2., 3., 2., 2.],\n",
      "        [2., 2., 2., 2., 2., 2., 2.]], grad_fn=<RoundBackward>)\n",
      "y: tensor([[6, 0, 5, 3, 2, 4],\n",
      "        [2, 0, 5, 1, 6, 3],\n",
      "        [5, 1, 0, 4, 6, 3],\n",
      "        [1, 4, 6, 5, 0, 3]], dtype=torch.int32)\n"
     ]
    }
   ],
   "source": [
    "print(\"Test dataloader\")\n",
    "for x, y in val_dataloader:\n",
    "  print(x.shape)\n",
    "  pred = model(x).round()\n",
    "  print(\"=============\")\n",
    "  print('pred:', pred)\n",
    "  print('y:', y[:,1:])\n",
    "  break\n",
    "print(\"Train dataloader\")\n",
    "for x, y in train_dataloader:\n",
    "  print(x.shape)\n",
    "  pred = model(x).round()\n",
    "  print(\"=============\")\n",
    "  print('pred:', pred)\n",
    "  print('y:', y[:,1:])\n",
    "  break\n",
    "# load the last checkpoint with the best model\n",
    "# model.load_state_dict(torch.load('checkpoint.pt'))"
   ]
  }
 ],
 "metadata": {
  "interpreter": {
   "hash": "6c5b3efaa918d9f28db231eb82daaaf5f44447677f2df3439a28b7e91ebffcf4"
  },
  "kernelspec": {
   "display_name": "Python 3.9.6 64-bit",
   "language": "python",
   "name": "python3"
  },
  "language_info": {
   "codemirror_mode": {
    "name": "ipython",
    "version": 3
   },
   "file_extension": ".py",
   "mimetype": "text/x-python",
   "name": "python",
   "nbconvert_exporter": "python",
   "pygments_lexer": "ipython3",
   "version": "3.9.6"
  },
  "orig_nbformat": 4
 },
 "nbformat": 4,
 "nbformat_minor": 2
}
