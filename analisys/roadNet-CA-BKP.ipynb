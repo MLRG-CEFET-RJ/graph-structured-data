{
 "cells": [
  {
   "cell_type": "code",
   "execution_count": 1,
   "metadata": {},
   "outputs": [],
   "source": [
    "import networkx as nx\n",
    "import numpy as np\n",
    "import matplotlib.pyplot as plt\n",
    "\n",
    "from Timer import Timer\n",
    "from file_utils import read_lines_tsv"
   ]
  },
  {
   "cell_type": "code",
   "execution_count": 2,
   "metadata": {},
   "outputs": [
    {
     "name": "stdout",
     "output_type": "stream",
     "text": [
      "Name: \n",
      "Type: Graph\n",
      "Number of nodes: 1965206\n",
      "Number of edges: 2766607\n",
      "Average degree:   2.8156\n",
      "elapsed time: 21.587979\n"
     ]
    }
   ],
   "source": [
    "# Loading dataset from file\n",
    "    # source: https://graphchallenge.mit.edu/data-sets\n",
    "    # file_source: https://graphchallenge.s3.amazonaws.com/snap/roadNet-CA/roadNet-CA_adj.tsv\n",
    "    # file_format: Adjacency TSV (Tab-Separated Values)\n",
    "        # <dataset-name>_adj.tsv\n",
    "        # (Row, Col, Value) tuple describing the adjacency matrix of the graph in tab separated format.\n",
    "        # Adjacency matrix is of size Num_vertices x Num_vertices\n",
    "    # file: roadNet-CA_adj.tsv (Road network of California)\n",
    "    # num of nodes:     1.965.206\n",
    "    # num of edges:     5.533.214\n",
    "    # num of triangles:   120.676\n",
    "    \n",
    "Timer.start()\n",
    "    \n",
    "G = nx.read_edgelist('../datasets/roadNet-CA_adj.tsv', data=(('ajd_value',float),))\n",
    "print(nx.info(G))\n",
    "\n",
    "Timer.finish()"
   ]
  },
  {
   "cell_type": "code",
   "execution_count": 3,
   "metadata": {},
   "outputs": [
    {
     "name": "stdout",
     "output_type": "stream",
     "text": [
      "elapsed time to read file: 1.131467\n",
      "elapsed time to build graph in memory: 18.495002\n",
      "Name: \n",
      "Type: Graph\n",
      "Number of nodes: 1965206\n",
      "Number of edges: 2766607\n",
      "Average degree:   2.8156\n",
      "elapsed time to print info: 1.094151\n",
      "Number of lines: 5533214\n",
      "elapsed time to calculate length of list in memory: 0.000047\n"
     ]
    }
   ],
   "source": [
    "# Alternative way to build graphs from file\n",
    "# This will allow to generate random samples of graphs from a list of edges in memory\n",
    "\n",
    "Timer.start()\n",
    "lines = read_lines_tsv('../datasets/roadNet-CA_adj.tsv')\n",
    "elapsed = Timer.get_elapsed()\n",
    "print ('elapsed time to read file: %f' % elapsed)\n",
    "\n",
    "Timer.start()\n",
    "G = nx.parse_edgelist(lines, nodetype = int, data=(('ajd_value',float),))\n",
    "elapsed = Timer.get_elapsed()\n",
    "print ('elapsed time to build graph in memory: %f' % elapsed)\n",
    "\n",
    "Timer.start()\n",
    "print(nx.info(G))\n",
    "elapsed = Timer.get_elapsed()\n",
    "print ('elapsed time to print info: %f' % elapsed)\n",
    "\n",
    "Timer.start()\n",
    "print(('Number of lines: %s') % len(lines))\n",
    "elapsed = Timer.get_elapsed()\n",
    "print ('elapsed time to calculate length of list in memory: %f' % elapsed)"
   ]
  },
  {
   "cell_type": "code",
   "execution_count": 4,
   "metadata": {},
   "outputs": [
    {
     "name": "stdout",
     "output_type": "stream",
     "text": [
      "Number of nodes:  1965206\n",
      "elapsed time: 0.000144\n",
      "Number of edges:  2766607\n",
      "elapsed time: 0.526503\n",
      "Number of triangles:  120676\n",
      "elapsed time: 18.242413\n",
      "Clustering coefficient of G:  0.04637027007475698\n",
      "elapsed time: 18.453052\n"
     ]
    }
   ],
   "source": [
    "Timer.start()\n",
    "print('Number of nodes: ', G.number_of_nodes())\n",
    "Timer.finish()\n",
    "\n",
    "Timer.start()\n",
    "print('Number of edges: ', G.number_of_edges())\n",
    "Timer.finish()\n",
    "\n",
    "Timer.start()\n",
    "# each triangle is counted 3 times then divided by 3\n",
    "print('Number of triangles: ', int(sum(list(nx.triangles(G).values()))/3))\n",
    "Timer.finish()\n",
    "\n",
    "Timer.start()\n",
    "# clustering coefficient of G\n",
    "cc = nx.average_clustering(G)\n",
    "print('Clustering coefficient of G: ', cc)\n",
    "Timer.finish()"
   ]
  },
  {
   "cell_type": "code",
   "execution_count": 5,
   "metadata": {},
   "outputs": [
    {
     "name": "stdout",
     "output_type": "stream",
     "text": [
      "Elapsed time for 220000 lines : 14.089077, nnSampleG: 396379, nnSubG: 396379\n",
      "Elapsed time for 440000 lines : 22.048126, nnSampleG: 714988, nnSubG: 714988\n",
      "Elapsed time for 660000 lines : 30.520270, nnSampleG: 970944, nnSubG: 970944\n",
      "Elapsed time for 880000 lines : 38.951093, nnSampleG: 1176151, nnSubG: 1176151\n",
      "Elapsed time for 1100000 lines : 45.505554, nnSampleG: 1339348, nnSubG: 1339348\n",
      "Elapsed time for 1320000 lines : 52.753007, nnSampleG: 1469028, nnSubG: 1469028\n",
      "Elapsed time for 1540000 lines : 57.717195, nnSampleG: 1572129, nnSubG: 1572129\n",
      "Elapsed time for 1760000 lines : 62.248269, nnSampleG: 1651955, nnSubG: 1651955\n",
      "Elapsed time for 1980000 lines : 65.676182, nnSampleG: 1716579, nnSubG: 1716579\n",
      "Elapsed time for 2200000 lines : 71.673502, nnSampleG: 1767501, nnSubG: 1767501\n",
      "Elapsed time for 2420000 lines : 72.069369, nnSampleG: 1807875, nnSubG: 1807875\n",
      "Elapsed time for 2640000 lines : 76.967489, nnSampleG: 1840105, nnSubG: 1840105\n",
      "Elapsed time for 2860000 lines : 78.966571, nnSampleG: 1865018, nnSubG: 1865018\n",
      "Elapsed time for 3080000 lines : 79.891010, nnSampleG: 1886440, nnSubG: 1886440\n",
      "Elapsed time for 3300000 lines : 80.673200, nnSampleG: 1903211, nnSubG: 1903211\n",
      "Elapsed time for 3520000 lines : 85.279528, nnSampleG: 1916841, nnSubG: 1916841\n",
      "Elapsed time for 3740000 lines : 86.517352, nnSampleG: 1927957, nnSubG: 1927957\n",
      "Elapsed time for 3960000 lines : 88.083776, nnSampleG: 1937500, nnSubG: 1937500\n",
      "Elapsed time for 4180000 lines : 89.737970, nnSampleG: 1945042, nnSubG: 1945042\n",
      "Elapsed time for 4400000 lines : 89.029146, nnSampleG: 1951377, nnSubG: 1951377\n",
      "Elapsed time for 4620000 lines : 93.061854, nnSampleG: 1956211, nnSubG: 1956211\n",
      "Elapsed time for 4840000 lines : 93.684473, nnSampleG: 1960069, nnSubG: 1960069\n",
      "Elapsed time for 5060000 lines : 93.757951, nnSampleG: 1962829, nnSubG: 1962829\n",
      "Elapsed time for 5280000 lines : 95.825239, nnSampleG: 1964488, nnSubG: 1964488\n",
      "Elapsed time for 5500000 lines : 97.900190, nnSampleG: 1965195, nnSubG: 1965195\n"
     ]
    }
   ],
   "source": [
    "# Using samples to build graphs and to calculate \n",
    "\n",
    "m, ccGraph, ccSample, ccSubG = [], [], [], []\n",
    "sampleG, subG = nx.Graph(), nx.Graph()\n",
    "\n",
    "for i in range(220000, len(lines)+1, 220000):\n",
    "    Timer.start()\n",
    "    \n",
    "    sampleG.clear() # our sample graph\n",
    "    subG.clear()    # a subgraph from complete graph\n",
    "    sample = np.random.choice(lines, i, replace=False) # getting edges from list with random choice\n",
    "    sampleG = nx.parse_edgelist(sample, nodetype = int, data=(('ajd_value',float),))\n",
    "    # creating a subgraph of G using nodes of the sample graph\n",
    "    subG = G.subgraph(sampleG.nodes).copy()\n",
    "    nnSampleG = sampleG.number_of_nodes()\n",
    "    nnSubG = subG.number_of_nodes()\n",
    "    m.append(nnSampleG)\n",
    "    ccGraph.append(cc) # clustering coefficient of entire graph G\n",
    "    ccSample.append(nx.average_clustering(sampleG))\n",
    "    ccSubG.append(nx.average_clustering(subG))\n",
    "    \n",
    "    elapsed = Timer.get_elapsed()\n",
    "    print('Elapsed time for %d lines : %f, nnSampleG: %d, nnSubG: %d' % (i, elapsed, nnSampleG, nnSubG))"
   ]
  },
  {
   "cell_type": "code",
   "execution_count": 6,
   "metadata": {},
   "outputs": [
    {
     "data": {
      "image/png": "[encoded data removed]",
      "text/plain": [
       "<matplotlib.figure.Figure at 0x7f0503a440b8>"
      ]
     },
     "metadata": {},
     "output_type": "display_data"
    }
   ],
   "source": [
    "plt.plot(m, ccGraph, label='CC of Graph')\n",
    "plt.plot(m, ccSample, label='CC of Sample')\n",
    "plt.plot(m, ccSubG, label='CC of SubG')\n",
    "plt.legend()\n",
    "plt.title('Comparison of clustering coefficient between graphs')\n",
    "plt.xlabel('Number of nodes')\n",
    "plt.ylabel('Clustering coefficient')\n",
    "plt.show()"
   ]
  },
  {
   "cell_type": "markdown",
   "metadata": {},
   "source": [
    "# Random Walk"
   ]
  },
  {
   "cell_type": "code",
   "execution_count": 7,
   "metadata": {},
   "outputs": [
    {
     "name": "stdout",
     "output_type": "stream",
     "text": [
      "Number of nodes in 220000 steps: 26115\n",
      "Number of nodes in 440000 steps: 48039\n",
      "Number of nodes in 660000 steps: 66930\n",
      "Number of nodes in 880000 steps: 86013\n",
      "Number of nodes in 1100000 steps: 106452\n",
      "Number of nodes in 1320000 steps: 124603\n",
      "Number of nodes in 1540000 steps: 130794\n",
      "Number of nodes in 1760000 steps: 153027\n",
      "Number of nodes in 1980000 steps: 159709\n",
      "Number of nodes in 2200000 steps: 168648\n",
      "Number of nodes in 2420000 steps: 176341\n",
      "Number of nodes in 2640000 steps: 188765\n",
      "Number of nodes in 2860000 steps: 216775\n",
      "Number of nodes in 3080000 steps: 240411\n",
      "Number of nodes in 3300000 steps: 263748\n",
      "Number of nodes in 3520000 steps: 284417\n",
      "Number of nodes in 3740000 steps: 287913\n",
      "Number of nodes in 3960000 steps: 300895\n",
      "Number of nodes in 4180000 steps: 309181\n",
      "Number of nodes in 4400000 steps: 314640\n",
      "Number of nodes in 4620000 steps: 321584\n",
      "Number of nodes in 4840000 steps: 337143\n",
      "Number of nodes in 5060000 steps: 358672\n",
      "Number of nodes in 5280000 steps: 384230\n",
      "Number of nodes in 5500000 steps: 411360\n",
      "Number of nodes in 5720000 steps: 426105\n",
      "Number of nodes in 5940000 steps: 450691\n",
      "Number of nodes in 6160000 steps: 467549\n",
      "Number of nodes in 6380000 steps: 474071\n",
      "Number of nodes in 6600000 steps: 487918\n",
      "Number of nodes in 6820000 steps: 492858\n",
      "Number of nodes in 7040000 steps: 504504\n",
      "Number of nodes in 7260000 steps: 532521\n",
      "Number of nodes in 7480000 steps: 559624\n",
      "Number of nodes in 7700000 steps: 575861\n",
      "Number of nodes in 7920000 steps: 598645\n",
      "Number of nodes in 8140000 steps: 622775\n",
      "Number of nodes in 8360000 steps: 630982\n",
      "Number of nodes in 8580000 steps: 644680\n",
      "Number of nodes in 8800000 steps: 659058\n",
      "Number of nodes in 9020000 steps: 676658\n",
      "Number of nodes in 9240000 steps: 687324\n",
      "Number of nodes in 9460000 steps: 700448\n",
      "Number of nodes in 9680000 steps: 710282\n",
      "Number of nodes in 9900000 steps: 717065\n",
      "Number of nodes in 10120000 steps: 721071\n",
      "Number of nodes in 10340000 steps: 726662\n",
      "Number of nodes in 10560000 steps: 730687\n",
      "Number of nodes in 10780000 steps: 744804\n",
      "Number of nodes in 11000000 steps: 761953\n",
      "Number of nodes in 11220000 steps: 775737\n",
      "Number of nodes in 11440000 steps: 783954\n",
      "Number of nodes in 11660000 steps: 789763\n"
     ]
    }
   ],
   "source": [
    "# initializing\n",
    "step, ccGraph, ccSubG = [], [], []\n",
    "subG = nx.Graph()\n",
    "visited = set()\n",
    "\n",
    "# Let's walk k steps\n",
    "k = G.number_of_nodes() * 6\n",
    "\n",
    "# To control the point of plotting\n",
    "j = 0\n",
    "checkpoint = 220000\n",
    "\n",
    "# starting random\n",
    "idNode = np.random.choice(G.nodes, 1)[0]\n",
    "visited.add(idNode)\n",
    "\n",
    "for i in range(k):\n",
    "    neighbors = [n for n in G.neighbors(idNode)]\n",
    "    idNode = np.random.choice(neighbors, 1)[0]\n",
    "    visited.add(idNode)\n",
    "    j = j + 1\n",
    "    if(j == checkpoint):\n",
    "        j = 0\n",
    "        subG.clear()\n",
    "        subG = G.subgraph(visited).copy()\n",
    "        nnSubG = subG.number_of_nodes()\n",
    "        step.append(i)\n",
    "        ccGraph.append(cc) # clustering coefficient of entire graph G\n",
    "        ccSubG.append(nx.average_clustering(subG))\n",
    "        print('Number of nodes in %d steps: %d' % (i+1, nnSubG))"
   ]
  },
  {
   "cell_type": "code",
   "execution_count": 8,
   "metadata": {},
   "outputs": [
    {
     "data": {
      "image/png": "[encoded data removed]",
      "text/plain": [
       "<matplotlib.figure.Figure at 0x7f05098b22b0>"
      ]
     },
     "metadata": {},
     "output_type": "display_data"
    }
   ],
   "source": [
    "# plot\n",
    "plt.plot(step, ccGraph, label='CC of Graph')\n",
    "plt.plot(step, ccSubG, label='CC of SubG')\n",
    "plt.legend()\n",
    "plt.title('Comparison of clustering coefficient between graphs')\n",
    "plt.xlabel('Number of steps')\n",
    "plt.ylabel('Clustering coefficient')\n",
    "plt.show()"
   ]
  },
  {
   "cell_type": "code",
   "execution_count": null,
   "metadata": {},
   "outputs": [],
   "source": []
  }
 ],
 "metadata": {
  "kernelspec": {
   "display_name": "Python 3",
   "language": "python",
   "name": "python3"
  },
  "language_info": {
   "codemirror_mode": {
    "name": "ipython",
    "version": 3
   },
   "file_extension": ".py",
   "mimetype": "text/x-python",
   "name": "python",
   "nbconvert_exporter": "python",
   "pygments_lexer": "ipython3",
   "version": "3.6.4"
  }
 },
 "nbformat": 4,
 "nbformat_minor": 2
}
