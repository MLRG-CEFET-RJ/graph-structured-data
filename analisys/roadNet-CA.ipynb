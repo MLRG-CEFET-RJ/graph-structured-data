{
 "cells": [
  {
   "cell_type": "code",
   "execution_count": 1,
   "metadata": {},
   "outputs": [],
   "source": [
    "import networkx as nx\n",
    "import time\n",
    "import timeit\n",
    "import numpy as np\n",
    "import matplotlib.pyplot as plt\n",
    "\n",
    "from file_utils import read_lines_tsv"
   ]
  },
  {
   "cell_type": "code",
   "execution_count": 2,
   "metadata": {},
   "outputs": [
    {
     "name": "stdout",
     "output_type": "stream",
     "text": [
      "Name: \n",
      "Type: Graph\n",
      "Number of nodes: 1965206\n",
      "Number of edges: 2766607\n",
      "Average degree:   2.8156\n",
      "elapsed time: 86.938774\n"
     ]
    }
   ],
   "source": [
    "# Loading dataset from file\n",
    "    # source: https://graphchallenge.mit.edu/data-sets\n",
    "    # file_source: https://graphchallenge.s3.amazonaws.com/snap/roadNet-CA/roadNet-CA_adj.tsv\n",
    "    # file_format: Adjacency TSV (Tab-Separated Values)\n",
    "        # <dataset-name>_adj.tsv\n",
    "        # (Row, Col, Value) tuple describing the adjacency matrix of the graph in tab separated format.\n",
    "        # Adjacency matrix is of size Num_vertices x Num_vertices\n",
    "    # file: roadNet-CA_adj.tsv (Road network of California)\n",
    "    # num of nodes:     1.965.206\n",
    "    # num of edges:     5.533.214\n",
    "    # num of triangles:   120.676\n",
    "    \n",
    "start = timeit.default_timer()\n",
    "    \n",
    "G = nx.read_edgelist('../datasets/roadNet-CA_adj.tsv', data=(('ajd_value',float),))\n",
    "print(nx.info(G))\n",
    "\n",
    "end = timeit.default_timer()\n",
    "print ('elapsed time: %f' % (end - start))"
   ]
  },
  {
   "cell_type": "code",
   "execution_count": 2,
   "metadata": {},
   "outputs": [
    {
     "name": "stdout",
     "output_type": "stream",
     "text": [
      "elapsed time to read file: 3.917263\n",
      "elapsed time to build graph in memory: 83.453853\n",
      "Name: \n",
      "Type: Graph\n",
      "Number of nodes: 1965206\n",
      "Number of edges: 2766607\n",
      "Average degree:   2.8156\n",
      "elapsed time to print info: 12.796999\n",
      "Number of lines: 5533214\n",
      "elapsed time to calculate length of list in memory: 0.000122\n"
     ]
    }
   ],
   "source": [
    "# Alternative way to build graphs from file\n",
    "# This will allow to generate random samples of graphs from a list of edges in memory\n",
    "\n",
    "start = timeit.default_timer()\n",
    "lines = read_lines_tsv('../datasets/roadNet-CA_adj.tsv')\n",
    "end = timeit.default_timer()\n",
    "print ('elapsed time to read file: %f' % (end - start))\n",
    "\n",
    "start = timeit.default_timer()\n",
    "G = nx.parse_edgelist(lines, nodetype = int, data=(('ajd_value',float),))\n",
    "end = timeit.default_timer()\n",
    "print ('elapsed time to build graph in memory: %f' % (end - start))\n",
    "\n",
    "start = timeit.default_timer()\n",
    "print(nx.info(G))\n",
    "end = timeit.default_timer()\n",
    "print ('elapsed time to print info: %f' % (end - start))\n",
    "\n",
    "start = timeit.default_timer()\n",
    "print(('Number of lines: %s') % len(lines))\n",
    "end = timeit.default_timer()\n",
    "print ('elapsed time to calculate length of list in memory: %f' % (end - start))"
   ]
  },
  {
   "cell_type": "code",
   "execution_count": 4,
   "metadata": {},
   "outputs": [
    {
     "name": "stdout",
     "output_type": "stream",
     "text": [
      "Number of nodes:  1965206\n",
      "elapsed time: 0.000666\n",
      "Number of edges:  2766607\n",
      "elapsed time: 1.594899\n",
      "Number of triangles:  120676\n",
      "elapsed time: 64.171292\n",
      "Clustering coefficient of G:  0.04637027007475698\n",
      "elapsed time: 63.512121\n"
     ]
    }
   ],
   "source": [
    "start = timeit.default_timer()\n",
    "print('Number of nodes: ', G.number_of_nodes())\n",
    "end = timeit.default_timer()\n",
    "print ('elapsed time: %f' % (end - start))\n",
    "\n",
    "start = timeit.default_timer()\n",
    "print('Number of edges: ', G.number_of_edges())\n",
    "end = timeit.default_timer()\n",
    "print ('elapsed time: %f' % (end - start))\n",
    "\n",
    "start = timeit.default_timer()\n",
    "# each triangle is counted 3 times then divided by 3\n",
    "print('Number of triangles: ', int(sum(list(nx.triangles(G).values()))/3))\n",
    "end = timeit.default_timer()\n",
    "print ('elapsed time: %f' % (end - start))\n",
    "\n",
    "start = timeit.default_timer()\n",
    "# clustering coefficient of G\n",
    "cc = nx.average_clustering(G)\n",
    "print('Clustering coefficient of G: ', cc)\n",
    "end = timeit.default_timer()\n",
    "print ('elapsed time: %f' % (end - start))"
   ]
  },
  {
   "cell_type": "code",
   "execution_count": 5,
   "metadata": {},
   "outputs": [
    {
     "name": "stdout",
     "output_type": "stream",
     "text": [
      "Elapsed time for 220000 lines: 26.174857\n",
      "Elapsed time for 440000 lines: 27.696836\n",
      "Elapsed time for 660000 lines: 38.495607\n",
      "Elapsed time for 880000 lines: 48.023648\n",
      "Elapsed time for 1100000 lines: 57.412189\n",
      "Elapsed time for 1320000 lines: 66.579704\n",
      "Elapsed time for 1540000 lines: 76.891464\n",
      "Elapsed time for 1760000 lines: 94.828853\n",
      "Elapsed time for 1980000 lines: 107.530873\n",
      "Elapsed time for 2200000 lines: 118.523539\n",
      "Elapsed time for 2420000 lines: 167.157511\n",
      "Elapsed time for 2640000 lines: 137.856529\n",
      "Elapsed time for 2860000 lines: 229.864025\n",
      "Elapsed time for 3080000 lines: 183.785370\n",
      "Elapsed time for 3300000 lines: 785.808988\n",
      "Elapsed time for 3520000 lines: 803.456922\n",
      "Elapsed time for 3740000 lines: 389.326330\n",
      "Elapsed time for 3960000 lines: 958.693468\n",
      "Elapsed time for 4180000 lines: 954.595436\n",
      "Elapsed time for 4400000 lines: 642.027064\n",
      "Elapsed time for 4620000 lines: 1604.563395\n",
      "Elapsed time for 4840000 lines: 566.368215\n",
      "Elapsed time for 5060000 lines: 1673.961632\n",
      "Elapsed time for 5280000 lines: 628.246726\n",
      "Elapsed time for 5500000 lines: 834.610251\n"
     ]
    }
   ],
   "source": [
    "# Using samples to build graphs and to calculate \n",
    "\n",
    "m, ccGraph, ccSample = [], [], []\n",
    "\n",
    "for i in range(220000, len(lines)+1, 220000):\n",
    "    start = timeit.default_timer()\n",
    "    G.clear()\n",
    "    sample = np.random.choice(lines, i, replace=False)\n",
    "    G = nx.parse_edgelist(sample, nodetype = int, data=(('ajd_value',float),))\n",
    "    m.append(i)\n",
    "    ccGraph.append(cc)\n",
    "    ccSample.append(nx.average_clustering(G))\n",
    "    end = timeit.default_timer()\n",
    "    print('Elapsed time for %d lines: %f' % (i, (end-start)) )"
   ]
  },
  {
   "cell_type": "code",
   "execution_count": 6,
   "metadata": {},
   "outputs": [
    {
     "data": {
      "text/plain": [
       "Text(0,0.5,'Clustering coefficient')"
      ]
     },
     "execution_count": 6,
     "metadata": {},
     "output_type": "execute_result"
    },
    {
     "data": {
      "image/png": "[encoded data removed]",
      "text/plain": [
       "<matplotlib.figure.Figure at 0x7fdd6e48c400>"
      ]
     },
     "metadata": {},
     "output_type": "display_data"
    }
   ],
   "source": [
    "# 11209 minutes\n",
    "plt.plot(m, ccGraph, label='CC of Graph')\n",
    "plt.plot(m, ccSample, label='CC of Sample')\n",
    "plt.legend()\n",
    "plt.title('Comparison of clustering coefficient between graphs')\n",
    "plt.xlabel('Number of edges')\n",
    "plt.ylabel('Clustering coefficient')"
   ]
  }
 ],
 "metadata": {
  "kernelspec": {
   "display_name": "Python 3",
   "language": "python",
   "name": "python3"
  },
  "language_info": {
   "codemirror_mode": {
    "name": "ipython",
    "version": 3
   },
   "file_extension": ".py",
   "mimetype": "text/x-python",
   "name": "python",
   "nbconvert_exporter": "python",
   "pygments_lexer": "ipython3",
   "version": "3.6.4"
  }
 },
 "nbformat": 4,
 "nbformat_minor": 2
}
