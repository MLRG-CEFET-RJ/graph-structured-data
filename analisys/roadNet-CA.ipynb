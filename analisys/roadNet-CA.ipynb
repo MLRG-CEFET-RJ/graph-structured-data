{
 "cells": [
  {
   "cell_type": "code",
   "execution_count": 1,
   "metadata": {},
   "outputs": [],
   "source": [
    "import networkx as nx\n",
    "import numpy as np\n",
    "import matplotlib.pyplot as plt\n",
    "\n",
    "from Timer import Timer\n",
    "from file_utils import read_lines_tsv"
   ]
  },
  {
   "cell_type": "code",
   "execution_count": 2,
   "metadata": {},
   "outputs": [
    {
     "name": "stdout",
     "output_type": "stream",
     "text": [
      "Name: \n",
      "Type: Graph\n",
      "Number of nodes: 1965206\n",
      "Number of edges: 2766607\n",
      "Average degree:   2.8156\n",
      "elapsed time: 22.098654\n"
     ]
    }
   ],
   "source": [
    "# Loading dataset from file\n",
    "    # source: https://graphchallenge.mit.edu/data-sets\n",
    "    # file_source: https://graphchallenge.s3.amazonaws.com/snap/roadNet-CA/roadNet-CA_adj.tsv\n",
    "    # file_format: Adjacency TSV (Tab-Separated Values)\n",
    "        # <dataset-name>_adj.tsv\n",
    "        # (Row, Col, Value) tuple describing the adjacency matrix of the graph in tab separated format.\n",
    "        # Adjacency matrix is of size Num_vertices x Num_vertices\n",
    "    # file: roadNet-CA_adj.tsv (Road network of California)\n",
    "    # num of nodes:     1.965.206\n",
    "    # num of edges:     5.533.214\n",
    "    # num of triangles:   120.676\n",
    "    \n",
    "Timer.start()\n",
    "    \n",
    "G = nx.read_edgelist('../datasets/roadNet-CA_adj.tsv', data=(('ajd_value',float),))\n",
    "print(nx.info(G))\n",
    "\n",
    "Timer.finish()"
   ]
  },
  {
   "cell_type": "code",
   "execution_count": 3,
   "metadata": {},
   "outputs": [
    {
     "name": "stdout",
     "output_type": "stream",
     "text": [
      "elapsed time to read file: 1.208710\n",
      "elapsed time to build graph in memory: 18.651306\n",
      "Name: \n",
      "Type: Graph\n",
      "Number of nodes: 1965206\n",
      "Number of edges: 2766607\n",
      "Average degree:   2.8156\n",
      "elapsed time to print info: 1.117556\n",
      "Number of lines: 5533214\n",
      "elapsed time to calculate length of list in memory: 0.000042\n"
     ]
    }
   ],
   "source": [
    "# Alternative way to build graphs from file\n",
    "# This will allow to generate random samples of graphs from a list of edges in memory\n",
    "\n",
    "Timer.start()\n",
    "lines = read_lines_tsv('../datasets/roadNet-CA_adj.tsv')\n",
    "elapsed = Timer.get_elapsed()\n",
    "print ('elapsed time to read file: %f' % elapsed)\n",
    "\n",
    "Timer.start()\n",
    "G = nx.parse_edgelist(lines, nodetype = int, data=(('ajd_value',float),))\n",
    "elapsed = Timer.get_elapsed()\n",
    "print ('elapsed time to build graph in memory: %f' % elapsed)\n",
    "\n",
    "Timer.start()\n",
    "print(nx.info(G))\n",
    "elapsed = Timer.get_elapsed()\n",
    "print ('elapsed time to print info: %f' % elapsed)\n",
    "\n",
    "Timer.start()\n",
    "print(('Number of lines: %s') % len(lines))\n",
    "elapsed = Timer.get_elapsed()\n",
    "print ('elapsed time to calculate length of list in memory: %f' % elapsed)"
   ]
  },
  {
   "cell_type": "code",
   "execution_count": 4,
   "metadata": {},
   "outputs": [
    {
     "name": "stdout",
     "output_type": "stream",
     "text": [
      "Number of nodes:  1965206\n",
      "elapsed time: 0.000382\n",
      "Number of edges:  2766607\n",
      "elapsed time: 0.526158\n",
      "Number of triangles:  120676\n",
      "elapsed time: 18.575590\n",
      "Clustering coefficient of G:  0.04637027007475698\n",
      "elapsed time: 18.177386\n"
     ]
    }
   ],
   "source": [
    "Timer.start()\n",
    "print('Number of nodes: ', G.number_of_nodes())\n",
    "Timer.finish()\n",
    "\n",
    "Timer.start()\n",
    "print('Number of edges: ', G.number_of_edges())\n",
    "Timer.finish()\n",
    "\n",
    "Timer.start()\n",
    "# each triangle is counted 3 times then divided by 3\n",
    "print('Number of triangles: ', int(sum(list(nx.triangles(G).values()))/3))\n",
    "Timer.finish()\n",
    "\n",
    "Timer.start()\n",
    "# clustering coefficient of G\n",
    "cc = nx.average_clustering(G)\n",
    "print('Clustering coefficient of G: ', cc)\n",
    "Timer.finish()"
   ]
  },
  {
   "cell_type": "code",
   "execution_count": 5,
   "metadata": {},
   "outputs": [
    {
     "name": "stdout",
     "output_type": "stream",
     "text": [
      "Elapsed time for 220000 lines : 14.043991, nnSampleG: 396281, nnSubG: 396281\n",
      "Elapsed time for 440000 lines : 22.572071, nnSampleG: 715454, nnSubG: 715454\n",
      "Elapsed time for 660000 lines : 30.591948, nnSampleG: 972000, nnSubG: 972000\n",
      "Elapsed time for 880000 lines : 39.340654, nnSampleG: 1176049, nnSubG: 1176049\n",
      "Elapsed time for 1100000 lines : 46.372893, nnSampleG: 1338885, nnSubG: 1338885\n",
      "Elapsed time for 1320000 lines : 52.832518, nnSampleG: 1468537, nnSubG: 1468537\n",
      "Elapsed time for 1540000 lines : 58.027150, nnSampleG: 1571709, nnSubG: 1571709\n",
      "Elapsed time for 1760000 lines : 65.005861, nnSampleG: 1652238, nnSubG: 1652238\n",
      "Elapsed time for 1980000 lines : 66.412184, nnSampleG: 1717220, nnSubG: 1717220\n",
      "Elapsed time for 2200000 lines : 70.860813, nnSampleG: 1767277, nnSubG: 1767277\n",
      "Elapsed time for 2420000 lines : 72.024289, nnSampleG: 1808253, nnSubG: 1808253\n",
      "Elapsed time for 2640000 lines : 76.261008, nnSampleG: 1840130, nnSubG: 1840130\n",
      "Elapsed time for 2860000 lines : 81.368593, nnSampleG: 1865592, nnSubG: 1865592\n",
      "Elapsed time for 3080000 lines : 81.747022, nnSampleG: 1886211, nnSubG: 1886211\n",
      "Elapsed time for 3300000 lines : 81.481498, nnSampleG: 1902890, nnSubG: 1902890\n",
      "Elapsed time for 3520000 lines : 85.804482, nnSampleG: 1916866, nnSubG: 1916866\n",
      "Elapsed time for 3740000 lines : 86.919154, nnSampleG: 1928047, nnSubG: 1928047\n",
      "Elapsed time for 3960000 lines : 88.739179, nnSampleG: 1937514, nnSubG: 1937514\n",
      "Elapsed time for 4180000 lines : 90.352494, nnSampleG: 1944911, nnSubG: 1944911\n",
      "Elapsed time for 4400000 lines : 90.513647, nnSampleG: 1951316, nnSubG: 1951316\n",
      "Elapsed time for 4620000 lines : 95.419459, nnSampleG: 1956393, nnSubG: 1956393\n",
      "Elapsed time for 4840000 lines : 94.774087, nnSampleG: 1960073, nnSubG: 1960073\n",
      "Elapsed time for 5060000 lines : 98.747765, nnSampleG: 1962835, nnSubG: 1962835\n",
      "Elapsed time for 5280000 lines : 99.626746, nnSampleG: 1964593, nnSubG: 1964593\n",
      "Elapsed time for 5500000 lines : 95.700386, nnSampleG: 1965198, nnSubG: 1965198\n"
     ]
    }
   ],
   "source": [
    "# Using samples to build graphs and to calculate \n",
    "\n",
    "m, ccGraph, ccSample, ccSubG = [], [], [], []\n",
    "sampleG, subG = nx.Graph(), nx.Graph()\n",
    "\n",
    "for i in range(220000, len(lines)+1, 220000):\n",
    "    Timer.start()\n",
    "    \n",
    "    sampleG.clear() # our sample graph\n",
    "    subG.clear()    # a subgraph from complete graph\n",
    "    sample = np.random.choice(lines, i, replace=False) # getting edges from list with random choice\n",
    "    sampleG = nx.parse_edgelist(sample, nodetype = int, data=(('ajd_value',float),))\n",
    "    # creating a subgraph of G using nodes of the sample graph\n",
    "    subG = G.subgraph(sampleG.nodes).copy()\n",
    "    nnSampleG = sampleG.number_of_nodes()\n",
    "    nnSubG = subG.number_of_nodes()\n",
    "    m.append(nnSampleG)\n",
    "    ccGraph.append(cc) # clustering coefficient of entire graph G\n",
    "    ccSample.append(nx.average_clustering(sampleG))\n",
    "    ccSubG.append(nx.average_clustering(subG))\n",
    "    \n",
    "    elapsed = Timer.get_elapsed()\n",
    "    print('Elapsed time for %d lines : %f, nnSampleG: %d, nnSubG: %d' % (i, elapsed, nnSampleG, nnSubG))"
   ]
  },
  {
   "cell_type": "code",
   "execution_count": 6,
   "metadata": {},
   "outputs": [
    {
     "data": {
      "image/png": "[encoded data removed]",
      "text/plain": [
       "<matplotlib.figure.Figure at 0x7f037c6f21d0>"
      ]
     },
     "metadata": {},
     "output_type": "display_data"
    }
   ],
   "source": [
    "plt.plot(m, ccGraph, label='CC of Graph')\n",
    "plt.plot(m, ccSample, label='CC of Sample')\n",
    "plt.plot(m, ccSubG, label='CC of SubG')\n",
    "plt.legend()\n",
    "plt.title('Comparison of clustering coefficient between graphs')\n",
    "plt.xlabel('Number of nodes')\n",
    "plt.ylabel('Clustering coefficient')\n",
    "plt.show()"
   ]
  },
  {
   "cell_type": "markdown",
   "metadata": {},
   "source": [
    "# Random Walk"
   ]
  },
  {
   "cell_type": "code",
   "execution_count": null,
   "metadata": {},
   "outputs": [],
   "source": [
    "# initializing\n",
    "step, ccGraph, ccSubG = [], [], []\n",
    "subG = nx.Graph()\n",
    "visited = set()\n",
    "\n",
    "# Let's walk k steps\n",
    "k = G.number_of_nodes() * 6\n",
    "\n",
    "# To control the point of plotting\n",
    "j = 0\n",
    "checkpoint = 220000\n",
    "\n",
    "# starting random\n",
    "idNode = np.random.choice(G.nodes, 1)[0]\n",
    "visited.add(idNode)\n",
    "\n",
    "for i in range(k):\n",
    "    neighbors = [n for n in G.neighbors(idNode)]\n",
    "    idNode = np.random.choice(neighbors, 1)[0]\n",
    "    visited.add(idNode)\n",
    "    j = j + 1\n",
    "    if(j == checkpoint):\n",
    "        j = 0\n",
    "        subG.clear()\n",
    "        subG = G.subgraph(visited).copy()\n",
    "        nnSubG = subG.number_of_nodes()\n",
    "        step.append(i)\n",
    "        ccGraph.append(cc) # clustering coefficient of entire graph G\n",
    "        ccSubG.append(nx.average_clustering(subG))\n",
    "        print('Number of nodes in %d steps: %d' % (i+1, nnSubG))"
   ]
  },
  {
   "cell_type": "code",
   "execution_count": null,
   "metadata": {},
   "outputs": [],
   "source": [
    "# plot\n",
    "plt.plot(step, ccGraph, label='CC of Graph')\n",
    "plt.plot(step, ccSubG, label='CC of SubG')\n",
    "plt.legend()\n",
    "plt.title('Comparison of clustering coefficient between graphs')\n",
    "plt.xlabel('Number of steps')\n",
    "plt.ylabel('Clustering coefficient')\n",
    "plt.show()"
   ]
  }
 ],
 "metadata": {
  "kernelspec": {
   "display_name": "Python 3",
   "language": "python",
   "name": "python3"
  },
  "language_info": {
   "codemirror_mode": {
    "name": "ipython",
    "version": 3
   },
   "file_extension": ".py",
   "mimetype": "text/x-python",
   "name": "python",
   "nbconvert_exporter": "python",
   "pygments_lexer": "ipython3",
   "version": "3.6.4"
  }
 },
 "nbformat": 4,
 "nbformat_minor": 2
}
