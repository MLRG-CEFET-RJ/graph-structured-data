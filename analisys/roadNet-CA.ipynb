{
 "cells": [
  {
   "cell_type": "code",
   "execution_count": 1,
   "metadata": {},
   "outputs": [],
   "source": [
    "import networkx as nx\n",
    "import time\n",
    "import timeit\n",
    "\n",
    "from file_utils import read_lines_tsv"
   ]
  },
  {
   "cell_type": "code",
   "execution_count": 2,
   "metadata": {},
   "outputs": [
    {
     "name": "stdout",
     "output_type": "stream",
     "text": [
      "Name: \n",
      "Type: Graph\n",
      "Number of nodes: 1965206\n",
      "Number of edges: 2766607\n",
      "Average degree:   2.8156\n",
      "elapsed time: 86.938774\n"
     ]
    }
   ],
   "source": [
    "# Loading dataset from file\n",
    "    # source: https://graphchallenge.mit.edu/data-sets\n",
    "    # file_source: https://graphchallenge.s3.amazonaws.com/snap/roadNet-CA/roadNet-CA_adj.tsv\n",
    "    # file_format: Adjacency TSV (Tab-Separated Values)\n",
    "        # <dataset-name>_adj.tsv\n",
    "        # (Row, Col, Value) tuple describing the adjacency matrix of the graph in tab separated format.\n",
    "        # Adjacency matrix is of size Num_vertices x Num_vertices\n",
    "    # file: roadNet-CA_adj.tsv (Road network of California)\n",
    "    # num of nodes:     1.965.206\n",
    "    # num of edges:     5.533.214\n",
    "    # num of triangles:   120.676\n",
    "    \n",
    "start = timeit.default_timer()\n",
    "    \n",
    "G = nx.read_edgelist('../datasets/roadNet-CA_adj.tsv', data=(('ajd_value',float),))\n",
    "print(nx.info(G))\n",
    "\n",
    "end = timeit.default_timer()\n",
    "print ('elapsed time: %f' % (end - start))"
   ]
  },
  {
   "cell_type": "code",
   "execution_count": null,
   "metadata": {},
   "outputs": [
    {
     "name": "stdout",
     "output_type": "stream",
     "text": [
      "elapsed time to read file: 3.666405\n"
     ]
    }
   ],
   "source": [
    "# Alternative way to build graphs from file\n",
    "# This will allow to generate random samples of graphs from a list of edges in memory\n",
    "\n",
    "start = timeit.default_timer()\n",
    "lines = read_lines_tsv('../datasets/roadNet-CA_adj.tsv')\n",
    "end = timeit.default_timer()\n",
    "print ('elapsed time to read file: %f' % (end - start))\n",
    "\n",
    "start = timeit.default_timer()\n",
    "G = nx.parse_edgelist(lines, nodetype = int, data=(('ajd_value',float),))\n",
    "end = timeit.default_timer()\n",
    "print ('elapsed time to build graph in memory: %f' % (end - start))\n",
    "\n",
    "start = timeit.default_timer()\n",
    "print(nx.info(G))\n",
    "end = timeit.default_timer()\n",
    "print ('elapsed time to print info: %f' % (end - start))\n",
    "\n",
    "start = timeit.default_timer()\n",
    "print(('Number of lines: %s') % len(lines))\n",
    "end = timeit.default_timer()\n",
    "print ('elapsed time to calculate length of list in memory: %f' % (end - start))"
   ]
  },
  {
   "cell_type": "code",
   "execution_count": 3,
   "metadata": {},
   "outputs": [
    {
     "name": "stdout",
     "output_type": "stream",
     "text": [
      "Number of nodes:  1965206\n",
      "elapsed time: 0.109279\n",
      "Number of edges:  2766607\n",
      "elapsed time: 2.167284\n",
      "Number of triangles:  120676\n",
      "elapsed time: 63.889577\n"
     ]
    }
   ],
   "source": [
    "start = timeit.default_timer()\n",
    "print('Number of nodes: ', G.number_of_nodes())\n",
    "end = timeit.default_timer()\n",
    "print ('elapsed time: %f' % (end - start))\n",
    "\n",
    "start = timeit.default_timer()\n",
    "print('Number of edges: ', G.number_of_edges())\n",
    "end = timeit.default_timer()\n",
    "print ('elapsed time: %f' % (end - start))\n",
    "\n",
    "start = timeit.default_timer()\n",
    "# each triangle is counted 3 times then divided by 3\n",
    "print('Number of triangles: ', int(sum(list(nx.triangles(G).values()))/3))\n",
    "end = timeit.default_timer()\n",
    "print ('elapsed time: %f' % (end - start))"
   ]
  }
 ],
 "metadata": {
  "kernelspec": {
   "display_name": "Python 3",
   "language": "python",
   "name": "python3"
  },
  "language_info": {
   "codemirror_mode": {
    "name": "ipython",
    "version": 3
   },
   "file_extension": ".py",
   "mimetype": "text/x-python",
   "name": "python",
   "nbconvert_exporter": "python",
   "pygments_lexer": "ipython3",
   "version": "3.6.4"
  }
 },
 "nbformat": 4,
 "nbformat_minor": 2
}
