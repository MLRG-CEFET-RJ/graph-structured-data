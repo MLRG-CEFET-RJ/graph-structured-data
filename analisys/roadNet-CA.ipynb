{
 "cells": [
  {
   "cell_type": "code",
   "execution_count": 1,
   "metadata": {},
   "outputs": [],
   "source": [
    "import sys\n",
    "sys.path.append('..')\n",
    "\n",
    "from classes.NetworkXGraph import Graph"
   ]
  },
  {
   "cell_type": "code",
   "execution_count": null,
   "metadata": {},
   "outputs": [],
   "source": [
    "# Building graph\n",
    "\n",
    "    # source: https://graphchallenge.mit.edu/data-sets\n",
    "    # file_source: https://graphchallenge.s3.amazonaws.com/snap/roadNet-CA/roadNet-CA_adj.tsv\n",
    "    # file_format: Adjacency TSV (Tab-Separated Values)\n",
    "        # <dataset-name>_adj.tsv\n",
    "        # (Row, Col, Value) tuple describing the adjacency matrix of the graph in tab separated format.\n",
    "        # Adjacency matrix is of size Num_vertices x Num_vertices\n",
    "    # file: roadNet-CA_adj.tsv (Road network of California)\n",
    "    # num of nodes:     1.965.206\n",
    "    # num of edges:     5.533.214\n",
    "    # num of triangles:   120.676    \n",
    "\n",
    "g = Graph()\n",
    "g.build_from_tsv('../datasets/roadNet-CA_adj.tsv', data=(('ajd_value',float),), show_info=False)"
   ]
  },
  {
   "cell_type": "code",
   "execution_count": null,
   "metadata": {},
   "outputs": [],
   "source": [
    "# Using samples to build graphs and to calculate\n",
    "\n",
    "g.get_analisys_from_samples(['clustering_coefficient', 'diameter', 'radius'])"
   ]
  },
  {
   "cell_type": "code",
   "execution_count": null,
   "metadata": {},
   "outputs": [],
   "source": [
    "# Ploting results\n",
    "\n",
    "g.plot_analisys(['clustering_coefficient', 'diameter', 'radius'])"
   ]
  }
 ],
 "metadata": {
  "kernelspec": {
   "display_name": "Python 3",
   "language": "python",
   "name": "python3"
  },
  "language_info": {
   "codemirror_mode": {
    "name": "ipython",
    "version": 3
   },
   "file_extension": ".py",
   "mimetype": "text/x-python",
   "name": "python",
   "nbconvert_exporter": "python",
   "pygments_lexer": "ipython3",
   "version": "3.6.4"
  }
 },
 "nbformat": 4,
 "nbformat_minor": 2
}
