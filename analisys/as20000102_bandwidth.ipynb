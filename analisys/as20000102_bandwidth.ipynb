{
 "cells": [
  {
   "cell_type": "code",
   "execution_count": 1,
   "metadata": {},
   "outputs": [],
   "source": [
    "import sys\n",
    "sys.path.append('..')\n",
    "\n",
    "from classes.NetworkXGraph import Graph"
   ]
  },
  {
   "cell_type": "code",
   "execution_count": 2,
   "metadata": {},
   "outputs": [
    {
     "name": "stdout",
     "output_type": "stream",
     "text": [
      "Number of lines read from TSV file: 25144\n",
      "Name: \n",
      "Type: Graph\n",
      "Number of nodes: 6474\n",
      "Number of edges: 12572\n",
      "Average degree:   3.8838\n",
      "Connected:  Yes\n",
      "Bandwidth:  12943\n",
      "Reduced Bandwidth:  8727\n",
      "elapsed time in seconds: 1.536594\n"
     ]
    }
   ],
   "source": [
    "# Building graph\n",
    "\n",
    "    # source: https://graphchallenge.mit.edu/data-sets\n",
    "    # file_source: https://graphchallenge.s3.amazonaws.com/snap/as20000102/as20000102_adj.tsv\n",
    "    # file_format: Adjacency TSV (Tab-Separated Values)\n",
    "        # <dataset-name>_adj.tsv\n",
    "        # (Row, Col, Value) tuple describing the adjacency matrix of the graph in tab separated format.\n",
    "        # Adjacency matrix is of size Num_vertices x Num_vertices\n",
    "    # file: as20000102_adj.tsv (Autonomous Systems graph from January 02 2000)\n",
    "    # num of nodes:      6.474\n",
    "    # num of edges:     25.144\n",
    "    # num of triangles:  6.584\n",
    "\n",
    "g = Graph()\n",
    "g.build_from_tsv('../datasets/as20000102_adj.tsv', data=(('ajd_value',float),), show_info=['bandwidth'])"
   ]
  },
  {
   "cell_type": "code",
   "execution_count": 3,
   "metadata": {},
   "outputs": [
    {
     "data": {
      "text/plain": [
       "6474"
      ]
     },
     "execution_count": 3,
     "metadata": {},
     "output_type": "execute_result"
    }
   ],
   "source": [
    "# Calcular a redução de banda do grafo original.\n",
    "original_bandwidth = g._means['bandwidth']\n",
    "original_reduced_bandwidth = g._means['reduced_bandwidth']\n",
    "graph = g._graph\n",
    "\n",
    "len(graph.nodes)"
   ]
  },
  {
   "cell_type": "code",
   "execution_count": 4,
   "metadata": {},
   "outputs": [],
   "source": [
    "import numpy as np\n",
    "from queue import Queue\n",
    "\n",
    "import networkx as nx\n",
    "from networkx.utils import reverse_cuthill_mckee_ordering\n",
    "\n",
    "def get_bandwidth(G):\n",
    "    L = nx.laplacian_matrix(G, nodelist=sorted(G.nodes())) # Laplacian Matrix\n",
    "    x,y = np.nonzero(L)\n",
    "    return (y-x).max()+(x-y).max()+1\n",
    "\n",
    "def print_nodes_info(G):\n",
    "    print(\"------------------------------------------\")\n",
    "    for n in sorted(G.nodes()):\n",
    "        print('Node %d -> id: %s / degree: %d' % (n, G.nodes[n]['id'], G.degree(n)) )\n",
    "    print(\"------------------------------------------\")\n",
    "    \n",
    "def get_sample_nodes_list(G):\n",
    "    sample = list()\n",
    "    q = Queue()\n",
    "    max_len = int(len(graph.nodes) * 0.1) # amostra com tamanho de 10 por cento do original\n",
    "    #max_len = 8\n",
    "\n",
    "    initial_node = np.random.choice(graph.nodes, 1)[0]\n",
    "    #initial_node = 2338\n",
    "    q.put(initial_node)\n",
    "\n",
    "    while len(sample) < max_len:\n",
    "        node = q.get()\n",
    "        sample.append(node)\n",
    "        neighbors = [n for n in graph.neighbors(node) if n not in sample and n not in q.queue]\n",
    "        for n in neighbors:\n",
    "            q.put(n)\n",
    "    return sample\n"
   ]
  },
  {
   "cell_type": "code",
   "execution_count": 5,
   "metadata": {},
   "outputs": [
    {
     "name": "stdout",
     "output_type": "stream",
     "text": [
      "-------------------------------------------------------\n",
      "Bandwidth of graph: 12943\n",
      "Reduced bandwidth of graph: 12783\n",
      "-------------------------------------------------------\n",
      "Bandwidth of graph: 12783\n",
      "Reduced bandwidth of graph: 12719\n",
      "-------------------------------------------------------\n",
      "Bandwidth of graph: 12719\n",
      "Reduced bandwidth of graph: 12815\n",
      "-------------------------------------------------------\n",
      "Bandwidth of graph: 12815\n",
      "Reduced bandwidth of graph: 12707\n",
      "-------------------------------------------------------\n",
      "Bandwidth of graph: 12707\n",
      "Reduced bandwidth of graph: 12725\n",
      "-------------------------------------------------------\n",
      "Bandwidth of graph: 12725\n",
      "Reduced bandwidth of graph: 12707\n",
      "-------------------------------------------------------\n",
      "Bandwidth of graph: 12707\n",
      "Reduced bandwidth of graph: 12707\n",
      "-------------------------------------------------------\n",
      "Bandwidth of graph: 12707\n",
      "Reduced bandwidth of graph: 12707\n",
      "-------------------------------------------------------\n",
      "Bandwidth of graph: 12707\n",
      "Reduced bandwidth of graph: 12707\n",
      "-------------------------------------------------------\n",
      "Bandwidth of graph: 12707\n",
      "Reduced bandwidth of graph: 12707\n"
     ]
    }
   ],
   "source": [
    "reduced_bandwidth = list()\n",
    "\n",
    "for i in range(10):\n",
    "    #1) Obter amostras do grafo original: a partir de um nó aleatório n1, realizar uma busca em grafo até uma quantidade K\n",
    "    sample = get_sample_nodes_list(graph)\n",
    "    #print('sample with %d nodes' % len(sample))\n",
    "\n",
    "    #2) Aplicar a redução de banda nessa amostra e obter os novos rótulos dos nós.\n",
    "    sample_graph = graph.subgraph(sample).copy()\n",
    "    #print('Bandwidth of original sample: %d' % get_bandwidth(sample_graph))\n",
    "    rcm = list(reverse_cuthill_mckee_ordering(sample_graph))\n",
    "    mapping = dict(zip(rcm, sample_graph.nodes))\n",
    "    #sample_graph = nx.relabel_nodes(sample_graph, mapping)\n",
    "    #print('Reduced bandwidth of sample: %d' % get_bandwidth(sample_graph))\n",
    "\n",
    "    #3) Aplicar no grafo original os novos rótulos obtidos\n",
    "    #4) Recalcular a redução de banda do grafo original.\n",
    "    print('-------------------------------------------------------')\n",
    "    print('Bandwidth of graph: %d' % get_bandwidth(graph))\n",
    "    graph = nx.relabel_nodes(graph, mapping)\n",
    "    reduced_bandwidth.append(get_bandwidth(graph))\n",
    "    print('Reduced bandwidth of graph: %d' % reduced_bandwidth[i])\n",
    "    "
   ]
  },
  {
   "cell_type": "code",
   "execution_count": 6,
   "metadata": {},
   "outputs": [],
   "source": [
    "#5) Obter um novo nó (distante de n1) e repetir o processo.\n",
    "#6) Ao final de x passos, plotar a redução de banda obtida em cada passo em relação a redução original."
   ]
  },
  {
   "cell_type": "code",
   "execution_count": 7,
   "metadata": {},
   "outputs": [],
   "source": [
    "# Using samples to build graphs and to calculate\n",
    "\n",
    "#g.get_analisys_from_samples(['reduced_bandwidth'])"
   ]
  },
  {
   "cell_type": "code",
   "execution_count": 8,
   "metadata": {},
   "outputs": [],
   "source": [
    "# Ploting results\n",
    "\n",
    "#g.plot_analisys(['reduced_bandwidth'])"
   ]
  }
 ],
 "metadata": {
  "kernelspec": {
   "display_name": "Python 3",
   "language": "python",
   "name": "python3"
  },
  "language_info": {
   "codemirror_mode": {
    "name": "ipython",
    "version": 3
   },
   "file_extension": ".py",
   "mimetype": "text/x-python",
   "name": "python",
   "nbconvert_exporter": "python",
   "pygments_lexer": "ipython3",
   "version": "3.6.4"
  }
 },
 "nbformat": 4,
 "nbformat_minor": 2
}
