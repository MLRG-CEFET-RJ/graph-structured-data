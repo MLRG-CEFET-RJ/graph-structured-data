{
 "cells": [
  {
   "cell_type": "code",
   "execution_count": 1,
   "metadata": {},
   "outputs": [],
   "source": [
    "import sys\n",
    "sys.path.append('..')\n",
    "\n",
    "from classes.NetworkXGraph import Graph"
   ]
  },
  {
   "cell_type": "code",
   "execution_count": 2,
   "metadata": {},
   "outputs": [
    {
     "name": "stdout",
     "output_type": "stream",
     "text": [
      "Number of lines read from TSV file: 14\n",
      "Name: \n",
      "Type: Graph\n",
      "Number of nodes: 6\n",
      "Number of edges: 7\n",
      "Average degree:   2.3333\n",
      "Connected:  Yes\n",
      "Bandwidth:  11\n",
      "Reduced Bandwidth:  5\n",
      "elapsed time in seconds: 0.008448\n"
     ]
    }
   ],
   "source": [
    "# Building graph\n",
    "\n",
    "    # file_format: Adjacency TSV (Tab-Separated Values)\n",
    "        # (Row, Col, Value) tuple describing the adjacency matrix of the graph in tab separated format.\n",
    "        # Adjacency matrix is of size Num_vertices x Num_vertices\n",
    "    # file: test.tsv (just a test)\n",
    "    # num of nodes:      6\n",
    "    # num of edges:      7\n",
    "    # num of triangles:  1\n",
    "\n",
    "g = Graph()\n",
    "g.build_from_tsv('../datasets/test.tsv', data=(('ajd_value',float),), show_info=['bandwidth'])"
   ]
  },
  {
   "cell_type": "code",
   "execution_count": 3,
   "metadata": {},
   "outputs": [
    {
     "name": "stdout",
     "output_type": "stream",
     "text": [
      "----------------------------------------\n",
      "Analysing by random edge sample strategy\n",
      "----------------------------------------\n",
      "Elapsed time for 1 edges: 0.004410, total nodes processed: 2\n",
      "Elapsed time for 2 edges: 0.004284, total nodes processed: 4\n",
      "Elapsed time for 3 edges: 0.004896, total nodes processed: 5\n",
      "Elapsed time for 4 edges: 0.002576, total nodes processed: 4\n",
      "Elapsed time for 5 edges: 0.002779, total nodes processed: 4\n",
      "Elapsed time for 6 edges: 0.002788, total nodes processed: 6\n",
      "Elapsed time for 7 edges: 0.002559, total nodes processed: 6\n",
      "Elapsed time for 8 edges: 0.002621, total nodes processed: 6\n",
      "Elapsed time for 9 edges: 0.002791, total nodes processed: 5\n",
      "Elapsed time for 10 edges: 0.002741, total nodes processed: 6\n",
      "Elapsed time for 11 edges: 0.002748, total nodes processed: 6\n",
      "Elapsed time for 12 edges: 0.002883, total nodes processed: 6\n",
      "Elapsed time for 13 edges: 0.002604, total nodes processed: 6\n",
      "Elapsed time for 14 edges: 0.002732, total nodes processed: 6\n",
      "----------------------------------------\n",
      "Analysing by random node sample strategy\n",
      "----------------------------------------\n",
      "Elapsed time for 1 nodes: 0.000226, total nodes processed: 1\n",
      "Elapsed time for 2 nodes: 0.002084, total nodes processed: 2\n",
      "Elapsed time for 3 nodes: 0.002210, total nodes processed: 3\n",
      "Elapsed time for 4 nodes: 0.002495, total nodes processed: 4\n",
      "Elapsed time for 5 nodes: 0.002658, total nodes processed: 5\n",
      "Elapsed time for 6 nodes: 0.002830, total nodes processed: 6\n",
      "----------------------------------------\n",
      "Analysing by random walk sample strategy\n",
      "----------------------------------------\n",
      "Elapsed time for 1 steps: 0.002014, total nodes processed: 2\n",
      "Elapsed time for 2 steps: 0.002210, total nodes processed: 3\n",
      "Elapsed time for 3 steps: 0.003102, total nodes processed: 4\n",
      "Elapsed time for 4 steps: 0.002705, total nodes processed: 4\n",
      "Elapsed time for 5 steps: 0.002605, total nodes processed: 5\n",
      "Elapsed time for 6 steps: 0.002640, total nodes processed: 5\n",
      "Elapsed time for 7 steps: 0.002607, total nodes processed: 5\n",
      "Elapsed time for 8 steps: 0.002716, total nodes processed: 5\n",
      "Elapsed time for 9 steps: 0.002738, total nodes processed: 5\n",
      "Elapsed time for 10 steps: 0.002760, total nodes processed: 5\n",
      "Elapsed time for 11 steps: 0.002669, total nodes processed: 5\n",
      "Elapsed time for 12 steps: 0.002609, total nodes processed: 5\n",
      "Elapsed time for 13 steps: 0.002615, total nodes processed: 5\n",
      "Elapsed time for 14 steps: 0.002830, total nodes processed: 5\n",
      "Elapsed time for 15 steps: 0.002782, total nodes processed: 5\n",
      "Elapsed time for 16 steps: 0.002831, total nodes processed: 5\n",
      "Elapsed time for 17 steps: 0.002654, total nodes processed: 5\n",
      "Elapsed time for 18 steps: 0.002678, total nodes processed: 5\n",
      "Elapsed time for 19 steps: 0.002770, total nodes processed: 5\n",
      "Elapsed time for 20 steps: 0.002833, total nodes processed: 5\n",
      "Elapsed time for 21 steps: 0.002950, total nodes processed: 6\n",
      "Elapsed time for 22 steps: 0.003209, total nodes processed: 6\n",
      "Elapsed time for 23 steps: 0.002895, total nodes processed: 6\n",
      "Elapsed time for 24 steps: 0.002894, total nodes processed: 6\n",
      "Elapsed time for 25 steps: 0.002975, total nodes processed: 6\n",
      "Elapsed time for 26 steps: 0.002924, total nodes processed: 6\n",
      "Elapsed time for 27 steps: 0.002765, total nodes processed: 6\n",
      "Elapsed time for 28 steps: 0.002761, total nodes processed: 6\n",
      "Elapsed time for 29 steps: 0.002880, total nodes processed: 6\n",
      "Elapsed time for 30 steps: 0.004360, total nodes processed: 6\n",
      "Elapsed time for 31 steps: 0.003041, total nodes processed: 6\n",
      "Elapsed time for 32 steps: 0.003793, total nodes processed: 6\n",
      "Elapsed time for 33 steps: 0.005158, total nodes processed: 6\n",
      "Elapsed time for 34 steps: 0.003633, total nodes processed: 6\n",
      "Elapsed time for 35 steps: 0.003329, total nodes processed: 6\n",
      "Elapsed time for 36 steps: 0.003555, total nodes processed: 6\n",
      "\n",
      "Analisys from samples finished. Call plot_analsys() to view results\n"
     ]
    }
   ],
   "source": [
    "# Using samples to build graphs and to calculate\n",
    "\n",
    "g.get_analisys_from_samples(['reduced_bandwidth'])"
   ]
  },
  {
   "cell_type": "code",
   "execution_count": 4,
   "metadata": {},
   "outputs": [
    {
     "data": {
      "image/png": "[encoded data removed]",
      "text/plain": [
       "<matplotlib.figure.Figure at 0x7f89f0054978>"
      ]
     },
     "metadata": {},
     "output_type": "display_data"
    }
   ],
   "source": [
    "# Ploting results\n",
    "\n",
    "g.plot_analisys(['reduced_bandwidth'])"
   ]
  }
 ],
 "metadata": {
  "kernelspec": {
   "display_name": "Python 3",
   "language": "python",
   "name": "python3"
  },
  "language_info": {
   "codemirror_mode": {
    "name": "ipython",
    "version": 3
   },
   "file_extension": ".py",
   "mimetype": "text/x-python",
   "name": "python",
   "nbconvert_exporter": "python",
   "pygments_lexer": "ipython3",
   "version": "3.6.4"
  }
 },
 "nbformat": 4,
 "nbformat_minor": 2
}
