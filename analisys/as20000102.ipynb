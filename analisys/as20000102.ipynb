{
 "cells": [
  {
   "cell_type": "code",
   "execution_count": 1,
   "metadata": {},
   "outputs": [],
   "source": [
    "import networkx as nx\n",
    "import numpy as np\n",
    "import matplotlib.pyplot as plt\n",
    "\n",
    "from Timer import Timer\n",
    "from file_utils import read_lines_tsv"
   ]
  },
  {
   "cell_type": "code",
   "execution_count": 2,
   "metadata": {},
   "outputs": [
    {
     "name": "stdout",
     "output_type": "stream",
     "text": [
      "Name: \n",
      "Type: Graph\n",
      "Number of nodes: 6474\n",
      "Number of edges: 12572\n",
      "Average degree:   3.8838\n",
      "elapsed time: 0.406457\n"
     ]
    }
   ],
   "source": [
    "# Loading dataset from file\n",
    "    # source: https://graphchallenge.mit.edu/data-sets\n",
    "    # file_source: https://graphchallenge.s3.amazonaws.com/snap/as20000102/as20000102_adj.tsv\n",
    "    # file_format: Adjacency TSV (Tab-Separated Values)\n",
    "        # <dataset-name>_adj.tsv\n",
    "        # (Row, Col, Value) tuple describing the adjacency matrix of the graph in tab separated format.\n",
    "        # Adjacency matrix is of size Num_vertices x Num_vertices\n",
    "    # file: as20000102_adj.tsv (Autonomous Systems graph from January 02 2000)\n",
    "    # num of nodes:      6.474\n",
    "    # num of edges:     25.144\n",
    "    # num of triangles:  6.584\n",
    "\n",
    "Timer.start()\n",
    "\n",
    "G = nx.read_edgelist('../datasets/as20000102_adj.tsv', data=(('ajd_value',float),))\n",
    "print(nx.info(G))\n",
    "\n",
    "Timer.finish()"
   ]
  },
  {
   "cell_type": "code",
   "execution_count": 3,
   "metadata": {},
   "outputs": [
    {
     "name": "stdout",
     "output_type": "stream",
     "text": [
      "Name: \n",
      "Type: Graph\n",
      "Number of nodes: 6474\n",
      "Number of edges: 12572\n",
      "Average degree:   3.8838\n",
      "Number of lines: 25144\n",
      "elapsed time: 0.365965\n"
     ]
    }
   ],
   "source": [
    "# Alternative way to build graphs from file\n",
    "# This will allow to generate random samples of graphs from a list of edges in memory\n",
    "\n",
    "Timer.start()\n",
    "\n",
    "lines = read_lines_tsv('../datasets/as20000102_adj.tsv')\n",
    "G = nx.parse_edgelist(lines, nodetype = int, data=(('ajd_value',float),))\n",
    "print(nx.info(G))\n",
    "print(('Number of lines: %s') % len(lines))\n",
    "\n",
    "Timer.finish()"
   ]
  },
  {
   "cell_type": "code",
   "execution_count": 4,
   "metadata": {},
   "outputs": [
    {
     "name": "stdout",
     "output_type": "stream",
     "text": [
      "Number of nodes:  6474\n",
      "Number of edges:  12572\n",
      "Number of triangles:  6584\n",
      "Clustering coefficient of G:  0.2522224351161442\n",
      "elapsed time: 1.404763\n"
     ]
    }
   ],
   "source": [
    "Timer.start()\n",
    "\n",
    "print('Number of nodes: ', G.number_of_nodes())\n",
    "print('Number of edges: ', G.number_of_edges())\n",
    "# each triangle is counted 3 times then divided by 3\n",
    "print('Number of triangles: ', int(sum(list(nx.triangles(G).values()))/3))\n",
    "# clustering coefficient of G\n",
    "cc = nx.average_clustering(G)\n",
    "print('Clustering coefficient of G: ', cc)\n",
    "\n",
    "Timer.finish()"
   ]
  },
  {
   "cell_type": "code",
   "execution_count": 5,
   "metadata": {},
   "outputs": [
    {
     "name": "stdout",
     "output_type": "stream",
     "text": [
      "Elapsed time for 1000 lines : 0.274977, nnSampleG: 1119, nnSubG: 1119\n",
      "Elapsed time for 2000 lines : 0.404084, nnSampleG: 1962, nnSubG: 1962\n",
      "Elapsed time for 3000 lines : 0.573299, nnSampleG: 2613, nnSubG: 2613\n",
      "Elapsed time for 4000 lines : 0.698411, nnSampleG: 3208, nnSubG: 3208\n",
      "Elapsed time for 5000 lines : 0.823494, nnSampleG: 3703, nnSubG: 3703\n",
      "Elapsed time for 6000 lines : 0.990979, nnSampleG: 4094, nnSubG: 4094\n",
      "Elapsed time for 7000 lines : 1.042238, nnSampleG: 4438, nnSubG: 4438\n",
      "Elapsed time for 8000 lines : 1.147183, nnSampleG: 4788, nnSubG: 4788\n",
      "Elapsed time for 9000 lines : 1.229647, nnSampleG: 5016, nnSubG: 5016\n",
      "Elapsed time for 10000 lines : 1.387670, nnSampleG: 5256, nnSubG: 5256\n",
      "Elapsed time for 11000 lines : 1.380869, nnSampleG: 5415, nnSubG: 5415\n",
      "Elapsed time for 12000 lines : 1.499234, nnSampleG: 5661, nnSubG: 5661\n",
      "Elapsed time for 13000 lines : 1.759860, nnSampleG: 5759, nnSubG: 5759\n",
      "Elapsed time for 14000 lines : 1.806644, nnSampleG: 5905, nnSubG: 5905\n",
      "Elapsed time for 15000 lines : 1.795315, nnSampleG: 6045, nnSubG: 6045\n",
      "Elapsed time for 16000 lines : 1.747258, nnSampleG: 6093, nnSubG: 6093\n",
      "Elapsed time for 17000 lines : 1.809691, nnSampleG: 6208, nnSubG: 6208\n",
      "Elapsed time for 18000 lines : 1.923198, nnSampleG: 6249, nnSubG: 6249\n",
      "Elapsed time for 19000 lines : 1.940870, nnSampleG: 6328, nnSubG: 6328\n",
      "Elapsed time for 20000 lines : 2.197338, nnSampleG: 6364, nnSubG: 6364\n",
      "Elapsed time for 21000 lines : 2.644401, nnSampleG: 6412, nnSubG: 6412\n",
      "Elapsed time for 22000 lines : 2.219981, nnSampleG: 6439, nnSubG: 6439\n",
      "Elapsed time for 23000 lines : 2.066085, nnSampleG: 6462, nnSubG: 6462\n",
      "Elapsed time for 24000 lines : 2.167761, nnSampleG: 6471, nnSubG: 6471\n",
      "Elapsed time for 25000 lines : 2.113156, nnSampleG: 6474, nnSubG: 6474\n"
     ]
    }
   ],
   "source": [
    "# Using samples to build graphs and to calculate \n",
    "\n",
    "m, ccGraph, ccSample, ccSubG = [], [], [], []\n",
    "sampleG, subG = nx.Graph(), nx.Graph()\n",
    "\n",
    "for i in range(1000, len(lines)+1, 1000):\n",
    "    Timer.start()\n",
    "    \n",
    "    sampleG.clear() # our sample graph\n",
    "    subG.clear()    # a subgraph from complete graph\n",
    "    sample = np.random.choice(lines, i, replace=False) # getting edges from list with random choice\n",
    "    sampleG = nx.parse_edgelist(sample, nodetype = int, data=(('ajd_value',float),))\n",
    "    # creating a subgraph of G using nodes of the sample graph\n",
    "    subG = G.subgraph(sampleG.nodes).copy()\n",
    "    nnSampleG = sampleG.number_of_nodes()\n",
    "    nnSubG = subG.number_of_nodes()\n",
    "    m.append(nnSampleG)\n",
    "    ccGraph.append(cc) # clustering coefficient of entire graph G\n",
    "    ccSample.append(nx.average_clustering(sampleG))\n",
    "    ccSubG.append(nx.average_clustering(subG))\n",
    "    \n",
    "    elapsed = Timer.get_elapsed()\n",
    "    print('Elapsed time for %d lines : %f, nnSampleG: %d, nnSubG: %d' % (i, elapsed, nnSampleG, nnSubG))\n",
    "    \n",
    "#print('Graph builded with %s lines:' % i)\n",
    "#print(nx.info(G))\n",
    "#print('Number of triangles: ', int(sum(list(nx.triangles(G).values()))/3))\n",
    "#print('---------------------------------------')"
   ]
  },
  {
   "cell_type": "code",
   "execution_count": 6,
   "metadata": {},
   "outputs": [
    {
     "data": {
      "image/png": "[encoded data removed]",
      "text/plain": [
       "<matplotlib.figure.Figure at 0x7ff1bfdcb9b0>"
      ]
     },
     "metadata": {},
     "output_type": "display_data"
    }
   ],
   "source": [
    "plt.plot(m, ccGraph, label='CC of Graph')\n",
    "plt.plot(m, ccSample, label='CC of Sample')\n",
    "plt.plot(m, ccSubG, label='CC of SubG')\n",
    "plt.legend()\n",
    "plt.title('Comparison of clustering coefficient between graphs')\n",
    "plt.xlabel('Number of nodes')\n",
    "plt.ylabel('Clustering coefficient')\n",
    "plt.show()"
   ]
  },
  {
   "cell_type": "markdown",
   "metadata": {},
   "source": [
    "# Random Walk"
   ]
  },
  {
   "cell_type": "code",
   "execution_count": 41,
   "metadata": {},
   "outputs": [
    {
     "name": "stdout",
     "output_type": "stream",
     "text": [
      "Number of nodes in 1000 steps: 522\n",
      "Number of nodes in 2000 steps: 961\n",
      "Number of nodes in 3000 steps: 1332\n",
      "Number of nodes in 4000 steps: 1670\n",
      "Number of nodes in 5000 steps: 1976\n",
      "Number of nodes in 6000 steps: 2267\n",
      "Number of nodes in 7000 steps: 2540\n",
      "Number of nodes in 8000 steps: 2772\n",
      "Number of nodes in 9000 steps: 2982\n",
      "Number of nodes in 10000 steps: 3187\n",
      "Number of nodes in 11000 steps: 3371\n",
      "Number of nodes in 12000 steps: 3548\n",
      "Number of nodes in 13000 steps: 3689\n",
      "Number of nodes in 14000 steps: 3836\n",
      "Number of nodes in 15000 steps: 3971\n",
      "Number of nodes in 16000 steps: 4105\n",
      "Number of nodes in 17000 steps: 4242\n",
      "Number of nodes in 18000 steps: 4355\n",
      "Number of nodes in 19000 steps: 4462\n",
      "Number of nodes in 20000 steps: 4563\n",
      "Number of nodes in 21000 steps: 4657\n",
      "Number of nodes in 22000 steps: 4735\n",
      "Number of nodes in 23000 steps: 4819\n",
      "Number of nodes in 24000 steps: 4915\n",
      "Number of nodes in 25000 steps: 4991\n",
      "Number of nodes in 26000 steps: 5041\n",
      "Number of nodes in 27000 steps: 5116\n",
      "Number of nodes in 28000 steps: 5185\n",
      "Number of nodes in 29000 steps: 5242\n",
      "Number of nodes in 30000 steps: 5296\n",
      "Number of nodes in 31000 steps: 5344\n",
      "Number of nodes in 32000 steps: 5388\n",
      "Number of nodes in 33000 steps: 5443\n",
      "Number of nodes in 34000 steps: 5486\n",
      "Number of nodes in 35000 steps: 5509\n",
      "Number of nodes in 36000 steps: 5550\n",
      "Number of nodes in 37000 steps: 5601\n",
      "Number of nodes in 38000 steps: 5636\n"
     ]
    }
   ],
   "source": [
    "# initializing\n",
    "step, ccGraph, ccSubG = [], [], []\n",
    "subG = nx.Graph()\n",
    "visited = set()\n",
    "\n",
    "# Let's walk k steps\n",
    "k = G.number_of_nodes() * 6\n",
    "\n",
    "# To control the point of plotting\n",
    "j = 0\n",
    "checkpoint = 1000\n",
    "\n",
    "# starting random\n",
    "idNode = np.random.choice(G.nodes, 1)[0]\n",
    "visited.add(idNode)\n",
    "\n",
    "for i in range(k):\n",
    "    neighbors = [n for n in G.neighbors(idNode)]\n",
    "    idNode = np.random.choice(neighbors, 1)[0]\n",
    "    visited.add(idNode)\n",
    "    j = j + 1\n",
    "    if(j == checkpoint):\n",
    "        j = 0\n",
    "        subG.clear()\n",
    "        subG = G.subgraph(visited).copy()\n",
    "        nnSubG = subG.number_of_nodes()\n",
    "        step.append(i)\n",
    "        ccGraph.append(cc) # clustering coefficient of entire graph G\n",
    "        ccSubG.append(nx.average_clustering(subG))\n",
    "        print('Number of nodes in %d steps: %d' % (i+1, nnSubG))"
   ]
  },
  {
   "cell_type": "code",
   "execution_count": 42,
   "metadata": {},
   "outputs": [
    {
     "data": {
      "image/png": "[encoded data removed]",
      "text/plain": [
       "<matplotlib.figure.Figure at 0x7ff1bf646dd8>"
      ]
     },
     "metadata": {},
     "output_type": "display_data"
    }
   ],
   "source": [
    "# plot\n",
    "plt.plot(step, ccGraph, label='CC of Graph')\n",
    "plt.plot(step, ccSubG, label='CC of SubG')\n",
    "plt.legend()\n",
    "plt.title('Comparison of clustering coefficient between graphs')\n",
    "plt.xlabel('Number of steps')\n",
    "plt.ylabel('Clustering coefficient')\n",
    "plt.show()"
   ]
  }
 ],
 "metadata": {
  "kernelspec": {
   "display_name": "Python 3",
   "language": "python",
   "name": "python3"
  },
  "language_info": {
   "codemirror_mode": {
    "name": "ipython",
    "version": 3
   },
   "file_extension": ".py",
   "mimetype": "text/x-python",
   "name": "python",
   "nbconvert_exporter": "python",
   "pygments_lexer": "ipython3",
   "version": "3.6.4"
  }
 },
 "nbformat": 4,
 "nbformat_minor": 2
}
