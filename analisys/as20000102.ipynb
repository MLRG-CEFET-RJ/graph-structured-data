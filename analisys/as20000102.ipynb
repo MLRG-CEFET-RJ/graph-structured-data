{
 "cells": [
  {
   "cell_type": "code",
   "execution_count": 1,
   "metadata": {},
   "outputs": [],
   "source": [
    "import networkx as nx\n",
    "import time\n",
    "import timeit"
   ]
  },
  {
   "cell_type": "code",
   "execution_count": 2,
   "metadata": {},
   "outputs": [
    {
     "name": "stdout",
     "output_type": "stream",
     "text": [
      "Name: \n",
      "Type: Graph\n",
      "Number of nodes: 6474\n",
      "Number of edges: 12572\n",
      "Average degree:   3.8838\n",
      "elapsed time: 0.452857\n"
     ]
    }
   ],
   "source": [
    "# Loading dataset from file\n",
    "    # source: https://graphchallenge.mit.edu/data-sets\n",
    "    # file_source: https://graphchallenge.s3.amazonaws.com/snap/as20000102/as20000102_adj.tsv\n",
    "    # file_format: Adjacency TSV (Tab-Separated Values)\n",
    "        # <dataset-name>_adj.tsv\n",
    "        # (Row, Col, Value) tuple describing the adjacency matrix of the graph in tab separated format.\n",
    "        # Adjacency matrix is of size Num_vertices x Num_vertices\n",
    "    # file: as20000102_adj.tsv (Autonomous Systems graph from January 02 2000)\n",
    "    # num of nodes:      6.474\n",
    "    # num of edges:     25.144\n",
    "    # num of triangles:  6.584\n",
    "\n",
    "start = timeit.default_timer()\n",
    "\n",
    "G = nx.read_edgelist('../datasets/as20000102_adj.tsv', data=(('ajd_value',float),))\n",
    "print(nx.info(G))\n",
    "\n",
    "end = timeit.default_timer()\n",
    "print ('elapsed time: %f' % (end - start))"
   ]
  },
  {
   "cell_type": "code",
   "execution_count": 3,
   "metadata": {},
   "outputs": [
    {
     "name": "stdout",
     "output_type": "stream",
     "text": [
      "Number of nodes:  6474\n",
      "Number of edges:  12572\n",
      "Number of triangles:  6584\n",
      "elapsed time: 0.845710\n"
     ]
    }
   ],
   "source": [
    "start = timeit.default_timer()\n",
    "print('Number of nodes: ', G.number_of_nodes())\n",
    "print('Number of edges: ', G.number_of_edges())\n",
    "# each triangle is counted 3 times then divided by 3\n",
    "print('Number of triangles: ', int(sum(list(nx.triangles(G).values()))/3))\n",
    "end = timeit.default_timer()\n",
    "print ('elapsed time: %f' % (end - start))"
   ]
  }
 ],
 "metadata": {
  "kernelspec": {
   "display_name": "Python 3",
   "language": "python",
   "name": "python3"
  },
  "language_info": {
   "codemirror_mode": {
    "name": "ipython",
    "version": 3
   },
   "file_extension": ".py",
   "mimetype": "text/x-python",
   "name": "python",
   "nbconvert_exporter": "python",
   "pygments_lexer": "ipython3",
   "version": "3.6.4"
  }
 },
 "nbformat": 4,
 "nbformat_minor": 2
}
