{
 "cells": [
  {
   "cell_type": "code",
   "execution_count": 13,
   "metadata": {},
   "outputs": [],
   "source": [
    "import networkx as nx\n",
    "import numpy as np\n",
    "import matplotlib.pyplot as plt\n",
    "\n",
    "from Timer import Timer\n",
    "from file_utils import read_lines_tsv"
   ]
  },
  {
   "cell_type": "code",
   "execution_count": 14,
   "metadata": {},
   "outputs": [
    {
     "name": "stdout",
     "output_type": "stream",
     "text": [
      "Name: \n",
      "Type: Graph\n",
      "Number of nodes: 6474\n",
      "Number of edges: 12572\n",
      "Average degree:   3.8838\n",
      "elapsed time: 0.116400\n"
     ]
    }
   ],
   "source": [
    "# Loading dataset from file\n",
    "    # source: https://graphchallenge.mit.edu/data-sets\n",
    "    # file_source: https://graphchallenge.s3.amazonaws.com/snap/as20000102/as20000102_adj.tsv\n",
    "    # file_format: Adjacency TSV (Tab-Separated Values)\n",
    "        # <dataset-name>_adj.tsv\n",
    "        # (Row, Col, Value) tuple describing the adjacency matrix of the graph in tab separated format.\n",
    "        # Adjacency matrix is of size Num_vertices x Num_vertices\n",
    "    # file: as20000102_adj.tsv (Autonomous Systems graph from January 02 2000)\n",
    "    # num of nodes:      6.474\n",
    "    # num of edges:     25.144\n",
    "    # num of triangles:  6.584\n",
    "\n",
    "Timer.start()\n",
    "\n",
    "G = nx.read_edgelist('../datasets/as20000102_adj.tsv', data=(('ajd_value',float),))\n",
    "print(nx.info(G))\n",
    "\n",
    "Timer.finish()"
   ]
  },
  {
   "cell_type": "code",
   "execution_count": 15,
   "metadata": {},
   "outputs": [
    {
     "name": "stdout",
     "output_type": "stream",
     "text": [
      "Name: \n",
      "Type: Graph\n",
      "Number of nodes: 6474\n",
      "Number of edges: 12572\n",
      "Average degree:   3.8838\n",
      "Number of lines: 25144\n",
      "elapsed time: 0.107171\n"
     ]
    }
   ],
   "source": [
    "# Alternative way to build graphs from file\n",
    "# This will allow to generate random samples of graphs from a list of edges in memory\n",
    "\n",
    "Timer.start()\n",
    "\n",
    "lines = read_lines_tsv('../datasets/as20000102_adj.tsv')\n",
    "G = nx.parse_edgelist(lines, nodetype = int, data=(('ajd_value',float),))\n",
    "print(nx.info(G))\n",
    "print(('Number of lines: %s') % len(lines))\n",
    "\n",
    "Timer.finish()"
   ]
  },
  {
   "cell_type": "code",
   "execution_count": 16,
   "metadata": {},
   "outputs": [
    {
     "name": "stdout",
     "output_type": "stream",
     "text": [
      "Number of nodes:  6474\n",
      "Number of edges:  12572\n",
      "Number of triangles:  6584\n",
      "Clustering coefficient of G:  0.2522224351161442\n",
      "elapsed time: 0.473544\n"
     ]
    }
   ],
   "source": [
    "Timer.start()\n",
    "\n",
    "print('Number of nodes: ', G.number_of_nodes())\n",
    "print('Number of edges: ', G.number_of_edges())\n",
    "# each triangle is counted 3 times then divided by 3\n",
    "print('Number of triangles: ', int(sum(list(nx.triangles(G).values()))/3))\n",
    "# clustering coefficient of G\n",
    "cc = nx.average_clustering(G)\n",
    "print('Clustering coefficient of G: ', cc)\n",
    "\n",
    "Timer.finish()"
   ]
  },
  {
   "cell_type": "code",
   "execution_count": 17,
   "metadata": {},
   "outputs": [
    {
     "name": "stdout",
     "output_type": "stream",
     "text": [
      "Elapsed time for 1000 lines : 0.083637, nnSampleG: 1157, nnSubG: 1157\n",
      "Elapsed time for 2000 lines : 0.125148, nnSampleG: 1951, nnSubG: 1951\n",
      "Elapsed time for 3000 lines : 0.196792, nnSampleG: 2629, nnSubG: 2629\n",
      "Elapsed time for 4000 lines : 0.227536, nnSampleG: 3188, nnSubG: 3188\n",
      "Elapsed time for 5000 lines : 0.271817, nnSampleG: 3703, nnSubG: 3703\n",
      "Elapsed time for 6000 lines : 0.357465, nnSampleG: 4083, nnSubG: 4083\n",
      "Elapsed time for 7000 lines : 0.339260, nnSampleG: 4446, nnSubG: 4446\n",
      "Elapsed time for 8000 lines : 0.378774, nnSampleG: 4778, nnSubG: 4778\n",
      "Elapsed time for 9000 lines : 0.405103, nnSampleG: 5040, nnSubG: 5040\n",
      "Elapsed time for 10000 lines : 0.452275, nnSampleG: 5282, nnSubG: 5282\n",
      "Elapsed time for 11000 lines : 0.454416, nnSampleG: 5399, nnSubG: 5399\n",
      "Elapsed time for 12000 lines : 0.475213, nnSampleG: 5589, nnSubG: 5589\n",
      "Elapsed time for 13000 lines : 0.525474, nnSampleG: 5785, nnSubG: 5785\n",
      "Elapsed time for 14000 lines : 0.563043, nnSampleG: 5936, nnSubG: 5936\n",
      "Elapsed time for 15000 lines : 0.606675, nnSampleG: 6011, nnSubG: 6011\n",
      "Elapsed time for 16000 lines : 0.599665, nnSampleG: 6106, nnSubG: 6106\n",
      "Elapsed time for 17000 lines : 0.622655, nnSampleG: 6191, nnSubG: 6191\n",
      "Elapsed time for 18000 lines : 0.677817, nnSampleG: 6269, nnSubG: 6269\n",
      "Elapsed time for 19000 lines : 0.637111, nnSampleG: 6329, nnSubG: 6329\n",
      "Elapsed time for 20000 lines : 0.644915, nnSampleG: 6361, nnSubG: 6361\n",
      "Elapsed time for 21000 lines : 0.684925, nnSampleG: 6395, nnSubG: 6395\n",
      "Elapsed time for 22000 lines : 0.665661, nnSampleG: 6425, nnSubG: 6425\n",
      "Elapsed time for 23000 lines : 0.677060, nnSampleG: 6458, nnSubG: 6458\n",
      "Elapsed time for 24000 lines : 0.677389, nnSampleG: 6467, nnSubG: 6467\n",
      "Elapsed time for 25000 lines : 0.707670, nnSampleG: 6474, nnSubG: 6474\n"
     ]
    }
   ],
   "source": [
    "# Using samples to build graphs and to calculate \n",
    "\n",
    "m, ccGraph, ccSample, ccSubG = [], [], [], []\n",
    "sampleG, subG = nx.Graph(), nx.Graph()\n",
    "\n",
    "for i in range(1000, len(lines)+1, 1000):\n",
    "    Timer.start()\n",
    "    \n",
    "    sampleG.clear() # our sample graph\n",
    "    subG.clear()    # a subgraph from complete graph\n",
    "    sample = np.random.choice(lines, i, replace=False) # getting edges from list with random choice\n",
    "    sampleG = nx.parse_edgelist(sample, nodetype = int, data=(('ajd_value',float),))\n",
    "    # creating a subgraph of G using nodes of the sample graph\n",
    "    subG = G.subgraph(sampleG.nodes).copy()\n",
    "    nnSampleG = sampleG.number_of_nodes()\n",
    "    nnSubG = subG.number_of_nodes()\n",
    "    m.append(nnSampleG)\n",
    "    ccGraph.append(cc) # clustering coefficient of entire graph G\n",
    "    ccSample.append(nx.average_clustering(sampleG))\n",
    "    ccSubG.append(nx.average_clustering(subG))\n",
    "    \n",
    "    elapsed = Timer.get_elapsed()\n",
    "    print('Elapsed time for %d lines : %f, nnSampleG: %d, nnSubG: %d' % (i, elapsed, nnSampleG, nnSubG))\n",
    "    \n",
    "#print('Graph builded with %s lines:' % i)\n",
    "#print(nx.info(G))\n",
    "#print('Number of triangles: ', int(sum(list(nx.triangles(G).values()))/3))\n",
    "#print('---------------------------------------')"
   ]
  },
  {
   "cell_type": "code",
   "execution_count": 18,
   "metadata": {},
   "outputs": [
    {
     "data": {
      "image/png": "[encoded data removed]",
      "text/plain": [
       "<matplotlib.figure.Figure at 0x7febbfcfa5c0>"
      ]
     },
     "metadata": {},
     "output_type": "display_data"
    }
   ],
   "source": [
    "plt.plot(m, ccGraph, label='CC of Graph')\n",
    "plt.plot(m, ccSample, label='CC of Sample')\n",
    "plt.plot(m, ccSubG, label='CC of SubG')\n",
    "plt.legend()\n",
    "plt.title('Comparison of clustering coefficient between graphs')\n",
    "plt.xlabel('Number of nodes')\n",
    "plt.ylabel('Clustering coefficient')\n",
    "plt.show()"
   ]
  }
 ],
 "metadata": {
  "kernelspec": {
   "display_name": "Python 3",
   "language": "python",
   "name": "python3"
  },
  "language_info": {
   "codemirror_mode": {
    "name": "ipython",
    "version": 3
   },
   "file_extension": ".py",
   "mimetype": "text/x-python",
   "name": "python",
   "nbconvert_exporter": "python",
   "pygments_lexer": "ipython3",
   "version": "3.6.4"
  }
 },
 "nbformat": 4,
 "nbformat_minor": 2
}
