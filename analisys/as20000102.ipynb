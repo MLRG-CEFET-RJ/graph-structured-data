{
 "cells": [
  {
   "cell_type": "code",
   "execution_count": 1,
   "metadata": {},
   "outputs": [],
   "source": [
    "import networkx as nx\n",
    "import time\n",
    "import timeit\n",
    "import numpy as np\n",
    "import matplotlib.pyplot as plt\n",
    "\n",
    "from file_utils import read_lines_tsv"
   ]
  },
  {
   "cell_type": "code",
   "execution_count": 2,
   "metadata": {},
   "outputs": [
    {
     "name": "stdout",
     "output_type": "stream",
     "text": [
      "Name: \n",
      "Type: Graph\n",
      "Number of nodes: 6474\n",
      "Number of edges: 12572\n",
      "Average degree:   3.8838\n",
      "elapsed time: 0.298409\n"
     ]
    }
   ],
   "source": [
    "# Loading dataset from file\n",
    "    # source: https://graphchallenge.mit.edu/data-sets\n",
    "    # file_source: https://graphchallenge.s3.amazonaws.com/snap/as20000102/as20000102_adj.tsv\n",
    "    # file_format: Adjacency TSV (Tab-Separated Values)\n",
    "        # <dataset-name>_adj.tsv\n",
    "        # (Row, Col, Value) tuple describing the adjacency matrix of the graph in tab separated format.\n",
    "        # Adjacency matrix is of size Num_vertices x Num_vertices\n",
    "    # file: as20000102_adj.tsv (Autonomous Systems graph from January 02 2000)\n",
    "    # num of nodes:      6.474\n",
    "    # num of edges:     25.144\n",
    "    # num of triangles:  6.584\n",
    "\n",
    "start = timeit.default_timer()\n",
    "\n",
    "G = nx.read_edgelist('../datasets/as20000102_adj.tsv', data=(('ajd_value',float),))\n",
    "print(nx.info(G))\n",
    "\n",
    "end = timeit.default_timer()\n",
    "print ('elapsed time: %f' % (end - start))"
   ]
  },
  {
   "cell_type": "code",
   "execution_count": 3,
   "metadata": {},
   "outputs": [
    {
     "name": "stdout",
     "output_type": "stream",
     "text": [
      "Name: \n",
      "Type: Graph\n",
      "Number of nodes: 6474\n",
      "Number of edges: 12572\n",
      "Average degree:   3.8838\n",
      "Number of lines: 25144\n",
      "elapsed time: 0.373471\n"
     ]
    }
   ],
   "source": [
    "# Alternative way to build graphs from file\n",
    "# This will allow to generate random samples of graphs from a list of edges in memory\n",
    "\n",
    "start = timeit.default_timer()\n",
    "\n",
    "lines = read_lines_tsv('../datasets/as20000102_adj.tsv')\n",
    "G = nx.parse_edgelist(lines, nodetype = int, data=(('ajd_value',float),))\n",
    "print(nx.info(G))\n",
    "print(('Number of lines: %s') % len(lines))\n",
    "\n",
    "end = timeit.default_timer()\n",
    "print ('elapsed time: %f' % (end - start))"
   ]
  },
  {
   "cell_type": "code",
   "execution_count": 4,
   "metadata": {},
   "outputs": [
    {
     "name": "stdout",
     "output_type": "stream",
     "text": [
      "Number of nodes:  6474\n",
      "Number of edges:  12572\n",
      "Number of triangles:  6584\n",
      "Clustering coefficient of G:  0.2522224351161442\n",
      "elapsed time: 1.392919\n"
     ]
    }
   ],
   "source": [
    "start = timeit.default_timer()\n",
    "\n",
    "print('Number of nodes: ', G.number_of_nodes())\n",
    "print('Number of edges: ', G.number_of_edges())\n",
    "# each triangle is counted 3 times then divided by 3\n",
    "print('Number of triangles: ', int(sum(list(nx.triangles(G).values()))/3))\n",
    "# clustering coefficient of G\n",
    "cc = nx.average_clustering(G)\n",
    "print('Clustering coefficient of G: ', cc)\n",
    "\n",
    "end = timeit.default_timer()\n",
    "print ('elapsed time: %f' % (end - start))"
   ]
  },
  {
   "cell_type": "code",
   "execution_count": 5,
   "metadata": {},
   "outputs": [
    {
     "name": "stdout",
     "output_type": "stream",
     "text": [
      "Elapsed time for 1000 lines : 0.061159, number of nodes processed: 1153\n",
      "Elapsed time for 2000 lines : 0.095795, number of nodes processed: 1948\n",
      "Elapsed time for 3000 lines : 0.169005, number of nodes processed: 2643\n",
      "Elapsed time for 4000 lines : 0.216127, number of nodes processed: 3178\n",
      "Elapsed time for 5000 lines : 0.254384, number of nodes processed: 3657\n",
      "Elapsed time for 6000 lines : 0.308581, number of nodes processed: 4059\n",
      "Elapsed time for 7000 lines : 0.378707, number of nodes processed: 4440\n",
      "Elapsed time for 8000 lines : 0.425189, number of nodes processed: 4778\n",
      "Elapsed time for 9000 lines : 0.475733, number of nodes processed: 5017\n",
      "Elapsed time for 10000 lines : 0.591078, number of nodes processed: 5241\n",
      "Elapsed time for 11000 lines : 0.608818, number of nodes processed: 5474\n",
      "Elapsed time for 12000 lines : 0.648687, number of nodes processed: 5608\n",
      "Elapsed time for 13000 lines : 0.711685, number of nodes processed: 5762\n",
      "Elapsed time for 14000 lines : 0.754984, number of nodes processed: 5908\n",
      "Elapsed time for 15000 lines : 0.826936, number of nodes processed: 5999\n",
      "Elapsed time for 16000 lines : 0.798745, number of nodes processed: 6121\n",
      "Elapsed time for 17000 lines : 0.853659, number of nodes processed: 6209\n",
      "Elapsed time for 18000 lines : 0.909182, number of nodes processed: 6281\n",
      "Elapsed time for 19000 lines : 0.916111, number of nodes processed: 6325\n",
      "Elapsed time for 20000 lines : 1.052796, number of nodes processed: 6385\n",
      "Elapsed time for 21000 lines : 1.018365, number of nodes processed: 6415\n",
      "Elapsed time for 22000 lines : 1.050841, number of nodes processed: 6434\n",
      "Elapsed time for 23000 lines : 1.071324, number of nodes processed: 6466\n",
      "Elapsed time for 24000 lines : 1.079367, number of nodes processed: 6469\n",
      "Elapsed time for 25000 lines : 1.159532, number of nodes processed: 6474\n"
     ]
    }
   ],
   "source": [
    "# Using samples to build graphs and to calculate \n",
    "\n",
    "m, ccGraph, ccSample = [], [], []\n",
    "\n",
    "for i in range(1000, len(lines)+1, 1000):\n",
    "    start = timeit.default_timer()\n",
    "    G.clear()\n",
    "    sample = np.random.choice(lines, i, replace=False)\n",
    "    G = nx.parse_edgelist(sample, nodetype = int, data=(('ajd_value',float),))\n",
    "    current_number_nodes = G.number_of_nodes()\n",
    "    m.append(current_number_nodes)\n",
    "    ccGraph.append(cc)\n",
    "    ccSample.append(nx.average_clustering(G))\n",
    "    end = timeit.default_timer()\n",
    "    print('Elapsed time for %d lines : %f, number of nodes processed: %d' % (i, (end-start), current_number_nodes))\n",
    "    \n",
    "#print('Graph builded with %s lines:' % i)\n",
    "#print(nx.info(G))\n",
    "#print('Number of triangles: ', int(sum(list(nx.triangles(G).values()))/3))\n",
    "#print('---------------------------------------')"
   ]
  },
  {
   "cell_type": "code",
   "execution_count": 6,
   "metadata": {},
   "outputs": [
    {
     "data": {
      "text/plain": [
       "Text(0,0.5,'Clustering coefficient')"
      ]
     },
     "execution_count": 6,
     "metadata": {},
     "output_type": "execute_result"
    },
    {
     "data": {
      "image/png": "[encoded data removed]",
      "text/plain": [
       "<matplotlib.figure.Figure at 0x7f0007f2a668>"
      ]
     },
     "metadata": {},
     "output_type": "display_data"
    }
   ],
   "source": [
    "plt.plot(m, ccGraph, label='CC of Graph')\n",
    "plt.plot(m, ccSample, label='CC of Sample')\n",
    "plt.legend()\n",
    "plt.title('Comparison of clustering coefficient between graphs')\n",
    "plt.xlabel('Number of nodes')\n",
    "plt.ylabel('Clustering coefficient')"
   ]
  }
 ],
 "metadata": {
  "kernelspec": {
   "display_name": "Python 3",
   "language": "python",
   "name": "python3"
  },
  "language_info": {
   "codemirror_mode": {
    "name": "ipython",
    "version": 3
   },
   "file_extension": ".py",
   "mimetype": "text/x-python",
   "name": "python",
   "nbconvert_exporter": "python",
   "pygments_lexer": "ipython3",
   "version": "3.6.4"
  }
 },
 "nbformat": 4,
 "nbformat_minor": 2
}
