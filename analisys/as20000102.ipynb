{
 "cells": [
  {
   "cell_type": "code",
   "execution_count": 1,
   "metadata": {},
   "outputs": [],
   "source": [
    "import networkx as nx\n",
    "import numpy as np\n",
    "import matplotlib.pyplot as plt\n",
    "from Timer import Timer\n",
    "\n",
    "from file_utils import read_lines_tsv"
   ]
  },
  {
   "cell_type": "code",
   "execution_count": 2,
   "metadata": {},
   "outputs": [
    {
     "name": "stdout",
     "output_type": "stream",
     "text": [
      "Name: \n",
      "Type: Graph\n",
      "Number of nodes: 6474\n",
      "Number of edges: 12572\n",
      "Average degree:   3.8838\n",
      "elapsed time: 0.310787\n"
     ]
    }
   ],
   "source": [
    "# Loading dataset from file\n",
    "    # source: https://graphchallenge.mit.edu/data-sets\n",
    "    # file_source: https://graphchallenge.s3.amazonaws.com/snap/as20000102/as20000102_adj.tsv\n",
    "    # file_format: Adjacency TSV (Tab-Separated Values)\n",
    "        # <dataset-name>_adj.tsv\n",
    "        # (Row, Col, Value) tuple describing the adjacency matrix of the graph in tab separated format.\n",
    "        # Adjacency matrix is of size Num_vertices x Num_vertices\n",
    "    # file: as20000102_adj.tsv (Autonomous Systems graph from January 02 2000)\n",
    "    # num of nodes:      6.474\n",
    "    # num of edges:     25.144\n",
    "    # num of triangles:  6.584\n",
    "\n",
    "Timer.start()\n",
    "\n",
    "G = nx.read_edgelist('../datasets/as20000102_adj.tsv', data=(('ajd_value',float),))\n",
    "print(nx.info(G))\n",
    "\n",
    "Timer.finish()"
   ]
  },
  {
   "cell_type": "code",
   "execution_count": 3,
   "metadata": {},
   "outputs": [
    {
     "name": "stdout",
     "output_type": "stream",
     "text": [
      "Name: \n",
      "Type: Graph\n",
      "Number of nodes: 6474\n",
      "Number of edges: 12572\n",
      "Average degree:   3.8838\n",
      "Number of lines: 25144\n",
      "elapsed time: 0.395771\n"
     ]
    }
   ],
   "source": [
    "# Alternative way to build graphs from file\n",
    "# This will allow to generate random samples of graphs from a list of edges in memory\n",
    "\n",
    "Timer.start()\n",
    "\n",
    "lines = read_lines_tsv('../datasets/as20000102_adj.tsv')\n",
    "G = nx.parse_edgelist(lines, nodetype = int, data=(('ajd_value',float),))\n",
    "print(nx.info(G))\n",
    "print(('Number of lines: %s') % len(lines))\n",
    "\n",
    "Timer.finish()"
   ]
  },
  {
   "cell_type": "code",
   "execution_count": 4,
   "metadata": {},
   "outputs": [
    {
     "name": "stdout",
     "output_type": "stream",
     "text": [
      "Number of nodes:  6474\n",
      "Number of edges:  12572\n",
      "Number of triangles:  6584\n",
      "Clustering coefficient of G:  0.2522224351161442\n",
      "elapsed time: 1.441706\n"
     ]
    }
   ],
   "source": [
    "Timer.start()\n",
    "\n",
    "print('Number of nodes: ', G.number_of_nodes())\n",
    "print('Number of edges: ', G.number_of_edges())\n",
    "# each triangle is counted 3 times then divided by 3\n",
    "print('Number of triangles: ', int(sum(list(nx.triangles(G).values()))/3))\n",
    "# clustering coefficient of G\n",
    "cc = nx.average_clustering(G)\n",
    "print('Clustering coefficient of G: ', cc)\n",
    "\n",
    "Timer.finish()"
   ]
  },
  {
   "cell_type": "code",
   "execution_count": 5,
   "metadata": {},
   "outputs": [
    {
     "name": "stdout",
     "output_type": "stream",
     "text": [
      "Elapsed time for 1000 lines : 0.236625, nnSampleG: 1170, nnSubG: 1170\n",
      "Elapsed time for 2000 lines : 0.403277, nnSampleG: 2004, nnSubG: 2004\n",
      "Elapsed time for 3000 lines : 0.576156, nnSampleG: 2677, nnSubG: 2677\n",
      "Elapsed time for 4000 lines : 0.701731, nnSampleG: 3219, nnSubG: 3219\n",
      "Elapsed time for 5000 lines : 0.836489, nnSampleG: 3661, nnSubG: 3661\n",
      "Elapsed time for 6000 lines : 1.021355, nnSampleG: 4119, nnSubG: 4119\n",
      "Elapsed time for 7000 lines : 1.050671, nnSampleG: 4462, nnSubG: 4462\n",
      "Elapsed time for 8000 lines : 1.163088, nnSampleG: 4750, nnSubG: 4750\n",
      "Elapsed time for 9000 lines : 1.342233, nnSampleG: 5005, nnSubG: 5005\n",
      "Elapsed time for 10000 lines : 1.363042, nnSampleG: 5278, nnSubG: 5278\n",
      "Elapsed time for 11000 lines : 1.446665, nnSampleG: 5450, nnSubG: 5450\n",
      "Elapsed time for 12000 lines : 1.660662, nnSampleG: 5627, nnSubG: 5627\n",
      "Elapsed time for 13000 lines : 1.551701, nnSampleG: 5780, nnSubG: 5780\n",
      "Elapsed time for 14000 lines : 1.686894, nnSampleG: 5925, nnSubG: 5925\n",
      "Elapsed time for 15000 lines : 1.804020, nnSampleG: 6020, nnSubG: 6020\n",
      "Elapsed time for 16000 lines : 1.788873, nnSampleG: 6152, nnSubG: 6152\n",
      "Elapsed time for 17000 lines : 1.793363, nnSampleG: 6199, nnSubG: 6199\n",
      "Elapsed time for 18000 lines : 1.942618, nnSampleG: 6285, nnSubG: 6285\n",
      "Elapsed time for 19000 lines : 1.924833, nnSampleG: 6309, nnSubG: 6309\n",
      "Elapsed time for 20000 lines : 2.005790, nnSampleG: 6377, nnSubG: 6377\n",
      "Elapsed time for 21000 lines : 2.123551, nnSampleG: 6398, nnSubG: 6398\n",
      "Elapsed time for 22000 lines : 2.108945, nnSampleG: 6437, nnSubG: 6437\n",
      "Elapsed time for 23000 lines : 2.148528, nnSampleG: 6451, nnSubG: 6451\n",
      "Elapsed time for 24000 lines : 2.220886, nnSampleG: 6468, nnSubG: 6468\n",
      "Elapsed time for 25000 lines : 2.088910, nnSampleG: 6474, nnSubG: 6474\n"
     ]
    }
   ],
   "source": [
    "# Using samples to build graphs and to calculate \n",
    "\n",
    "m, ccGraph, ccSample, ccSubG = [], [], [], []\n",
    "sampleG, subG = nx.Graph(), nx.Graph()\n",
    "\n",
    "for i in range(1000, len(lines)+1, 1000):\n",
    "    Timer.start()\n",
    "    \n",
    "    sampleG.clear() # our sample graph\n",
    "    subG.clear()    # a subgraph from complete graph\n",
    "    sample = np.random.choice(lines, i, replace=False) # getting edges from list with random choice\n",
    "    sampleG = nx.parse_edgelist(sample, nodetype = int, data=(('ajd_value',float),))\n",
    "    # creating a subgraph of G using nodes of the sample graph\n",
    "    subG = G.subgraph(sampleG.nodes).copy()\n",
    "    nnSampleG = sampleG.number_of_nodes()\n",
    "    nnSubG = subG.number_of_nodes()\n",
    "    m.append(nnSampleG)\n",
    "    ccGraph.append(cc) # clustering coefficient of entire graph G\n",
    "    ccSample.append(nx.average_clustering(sampleG))\n",
    "    ccSubG.append(nx.average_clustering(subG))\n",
    "    \n",
    "    elapsed = Timer.get_elapsed()\n",
    "    print('Elapsed time for %d lines : %f, nnSampleG: %d, nnSubG: %d' % (i, elapsed, nnSampleG, nnSubG))\n",
    "    \n",
    "#print('Graph builded with %s lines:' % i)\n",
    "#print(nx.info(G))\n",
    "#print('Number of triangles: ', int(sum(list(nx.triangles(G).values()))/3))\n",
    "#print('---------------------------------------')"
   ]
  },
  {
   "cell_type": "code",
   "execution_count": 6,
   "metadata": {},
   "outputs": [
    {
     "data": {
      "image/png": "[encoded data removed]",
      "text/plain": [
       "<matplotlib.figure.Figure at 0x7efe1d2cca20>"
      ]
     },
     "metadata": {},
     "output_type": "display_data"
    }
   ],
   "source": [
    "plt.plot(m, ccGraph, label='CC of Graph')\n",
    "plt.plot(m, ccSample, label='CC of Sample')\n",
    "plt.plot(m, ccSubG, label='CC of SubG')\n",
    "plt.legend()\n",
    "plt.title('Comparison of clustering coefficient between graphs')\n",
    "plt.xlabel('Number of nodes')\n",
    "plt.ylabel('Clustering coefficient')\n",
    "plt.show()"
   ]
  }
 ],
 "metadata": {
  "kernelspec": {
   "display_name": "Python 3",
   "language": "python",
   "name": "python3"
  },
  "language_info": {
   "codemirror_mode": {
    "name": "ipython",
    "version": 3
   },
   "file_extension": ".py",
   "mimetype": "text/x-python",
   "name": "python",
   "nbconvert_exporter": "python",
   "pygments_lexer": "ipython3",
   "version": "3.6.4"
  }
 },
 "nbformat": 4,
 "nbformat_minor": 2
}
