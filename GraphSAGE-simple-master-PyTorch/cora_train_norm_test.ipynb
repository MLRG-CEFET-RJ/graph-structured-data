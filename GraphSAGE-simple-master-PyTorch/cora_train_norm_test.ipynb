{
 "cells": [
  {
   "cell_type": "code",
   "execution_count": 1,
   "metadata": {},
   "outputs": [],
   "source": [
    "from graphsage import model_ori_norm\n",
    "from graphsage import model_ori\n",
    "import matplotlib.pyplot as plt\n",
    "import torch"
   ]
  },
  {
   "cell_type": "code",
   "execution_count": 2,
   "metadata": {},
   "outputs": [
    {
     "name": "stderr",
     "output_type": "stream",
     "text": [
      "graphsage/encoders.py:31: UserWarning: nn.init.xavier_uniform is now deprecated in favor of nn.init.xavier_uniform_.\n",
      "  init.xavier_uniform(self.weight)\n",
      "graphsage/model_ori_norm.py:30: UserWarning: nn.init.xavier_uniform is now deprecated in favor of nn.init.xavier_uniform_.\n",
      "  init.xavier_uniform(self.weight)\n",
      "graphsage/model_ori_norm.py:132: UserWarning: invalid index of a 0-dim tensor. This will be an error in PyTorch 0.5. Use tensor.item() to convert a 0-dim tensor to a Python number\n",
      "  train_loss.append(loss.data[0])    # armazena o erro\n",
      "graphsage/model_ori_norm.py:133: UserWarning: invalid index of a 0-dim tensor. This will be an error in PyTorch 0.5. Use tensor.item() to convert a 0-dim tensor to a Python number\n",
      "  print batch, loss.data[0]\n"
     ]
    },
    {
     "name": "stdout",
     "output_type": "stream",
     "text": [
      "0 tensor(1.9692)\n",
      "1 tensor(1.7830)\n",
      "2 tensor(1.7022)\n",
      "3 tensor(1.1394)\n",
      "4 tensor(1.0318)\n",
      "5 tensor(0.7585)\n",
      "6 tensor(0.5793)\n",
      "7 tensor(0.5468)\n",
      "8 tensor(0.4074)\n",
      "9 tensor(0.3568)\n",
      "10 tensor(0.3112)\n",
      "11 tensor(0.2956)\n",
      "12 tensor(0.2696)\n",
      "13 tensor(0.2367)\n",
      "14 tensor(0.2782)\n",
      "15 tensor(0.2071)\n",
      "16 tensor(0.1551)\n",
      "17 tensor(0.2067)\n",
      "18 tensor(0.1639)\n",
      "19 tensor(0.1972)\n",
      "20 tensor(0.1542)\n",
      "21 tensor(0.1573)\n",
      "22 tensor(0.1426)\n",
      "23 tensor(0.1297)\n",
      "24 tensor(0.1615)\n",
      "25 tensor(0.1003)\n",
      "26 tensor(0.1511)\n",
      "27 tensor(0.1198)\n",
      "28 tensor(0.1356)\n",
      "29 tensor(0.1743)\n",
      "30 tensor(0.1259)\n",
      "31 tensor(0.1043)\n",
      "32 tensor(0.0837)\n",
      "33 tensor(0.1274)\n",
      "34 tensor(0.1311)\n",
      "35 tensor(0.0712)\n",
      "36 tensor(0.0747)\n",
      "37 tensor(0.1036)\n",
      "38 tensor(0.1248)\n",
      "39 tensor(0.0679)\n",
      "40 tensor(0.0580)\n",
      "41 tensor(0.0964)\n",
      "42 tensor(0.0808)\n",
      "43 tensor(0.0680)\n",
      "44 tensor(0.0500)\n",
      "45 tensor(0.1032)\n",
      "46 tensor(0.0687)\n",
      "47 tensor(0.0708)\n",
      "48 tensor(0.0802)\n",
      "49 tensor(0.0579)\n",
      "50 tensor(0.0782)\n",
      "51 tensor(0.0748)\n",
      "52 tensor(0.0590)\n",
      "53 tensor(0.0383)\n",
      "54 tensor(0.0327)\n",
      "55 tensor(0.0407)\n",
      "56 tensor(0.0421)\n",
      "57 tensor(0.0693)\n",
      "58 tensor(0.0599)\n",
      "59 tensor(0.0296)\n",
      "60 tensor(0.0558)\n",
      "61 tensor(0.0523)\n",
      "62 tensor(0.0312)\n",
      "63 tensor(0.0680)\n",
      "64 tensor(0.0292)\n",
      "65 tensor(0.0884)\n",
      "66 tensor(0.0439)\n",
      "67 tensor(0.0437)\n",
      "68 tensor(0.0414)\n",
      "69 tensor(0.0341)\n",
      "70 tensor(0.0336)\n",
      "71 tensor(0.0207)\n",
      "72 tensor(0.0593)\n",
      "73 tensor(0.0247)\n",
      "74 tensor(0.0317)\n",
      "75 tensor(0.0372)\n",
      "76 tensor(0.0519)\n",
      "77 tensor(0.0276)\n",
      "78 tensor(0.0558)\n",
      "79 tensor(0.0917)\n",
      "80 tensor(0.0276)\n",
      "81 tensor(0.0324)\n",
      "82 tensor(0.0381)\n",
      "83 tensor(0.0274)\n",
      "84 tensor(0.0485)\n",
      "85 tensor(0.0562)\n",
      "86 tensor(0.0191)\n",
      "87 tensor(0.0272)\n",
      "88 tensor(0.0265)\n",
      "89 tensor(0.0357)\n",
      "90 tensor(0.0217)\n",
      "91 tensor(0.0376)\n",
      "92 tensor(0.0258)\n",
      "93 tensor(0.0345)\n",
      "94 tensor(0.0337)\n",
      "95 tensor(0.0185)\n",
      "96 tensor(0.0312)\n",
      "97 tensor(0.0378)\n",
      "98 tensor(0.0279)\n",
      "99 tensor(0.0211)\n",
      "Validation F1: 0.85\n",
      "Average batch time: 0.2847638821601868\n",
      "0.85\n"
     ]
    }
   ],
   "source": [
    "train_loss, score = model_ori_norm.run_cora()\n",
    "print score"
   ]
  },
  {
   "cell_type": "code",
   "execution_count": 3,
   "metadata": {},
   "outputs": [
    {
     "name": "stderr",
     "output_type": "stream",
     "text": [
      "graphsage/model_ori.py:28: UserWarning: nn.init.xavier_uniform is now deprecated in favor of nn.init.xavier_uniform_.\n",
      "  init.xavier_uniform(self.weight)\n",
      "graphsage/model_ori.py:121: UserWarning: invalid index of a 0-dim tensor. This will be an error in PyTorch 0.5. Use tensor.item() to convert a 0-dim tensor to a Python number\n",
      "  train_loss.append(loss.data[0])    # armazena o erro\n",
      "graphsage/model_ori.py:122: UserWarning: invalid index of a 0-dim tensor. This will be an error in PyTorch 0.5. Use tensor.item() to convert a 0-dim tensor to a Python number\n",
      "  print batch, loss.data[0]\n"
     ]
    },
    {
     "name": "stdout",
     "output_type": "stream",
     "text": [
      "0 tensor(1.9321)\n",
      "1 tensor(1.9079)\n",
      "2 tensor(1.8802)\n",
      "3 tensor(1.8358)\n",
      "4 tensor(1.8223)\n",
      "5 tensor(1.7713)\n",
      "6 tensor(1.7251)\n",
      "7 tensor(1.6784)\n",
      "8 tensor(1.6612)\n",
      "9 tensor(1.6256)\n",
      "10 tensor(1.5352)\n",
      "11 tensor(1.4683)\n",
      "12 tensor(1.4686)\n",
      "13 tensor(1.3907)\n",
      "14 tensor(1.3301)\n",
      "15 tensor(1.3065)\n",
      "16 tensor(1.2252)\n",
      "17 tensor(1.0795)\n",
      "18 tensor(1.1431)\n",
      "19 tensor(1.0664)\n",
      "20 tensor(0.9352)\n",
      "21 tensor(0.9676)\n",
      "22 tensor(0.8821)\n",
      "23 tensor(0.8680)\n",
      "24 tensor(0.7966)\n",
      "25 tensor(0.7514)\n",
      "26 tensor(0.7078)\n",
      "27 tensor(0.7336)\n",
      "28 tensor(0.6683)\n",
      "29 tensor(0.7324)\n",
      "30 tensor(0.6627)\n",
      "31 tensor(0.7338)\n",
      "32 tensor(1.0063)\n",
      "33 tensor(1.6614)\n",
      "34 tensor(0.6329)\n",
      "35 tensor(0.5060)\n",
      "36 tensor(0.4739)\n",
      "37 tensor(0.5574)\n",
      "38 tensor(0.5197)\n",
      "39 tensor(0.4296)\n",
      "40 tensor(0.4317)\n",
      "41 tensor(0.4547)\n",
      "42 tensor(0.4539)\n",
      "43 tensor(0.3738)\n",
      "44 tensor(0.3209)\n",
      "45 tensor(0.4135)\n",
      "46 tensor(0.3897)\n",
      "47 tensor(0.3630)\n",
      "48 tensor(0.3586)\n",
      "49 tensor(0.3761)\n",
      "50 tensor(0.3370)\n",
      "51 tensor(0.4285)\n",
      "52 tensor(0.3031)\n",
      "53 tensor(0.2799)\n",
      "54 tensor(0.2748)\n",
      "55 tensor(0.2417)\n",
      "56 tensor(0.2859)\n",
      "57 tensor(0.3148)\n",
      "58 tensor(0.2998)\n",
      "59 tensor(0.2423)\n",
      "60 tensor(0.3186)\n",
      "61 tensor(0.2698)\n",
      "62 tensor(0.2396)\n",
      "63 tensor(0.2893)\n",
      "64 tensor(0.2242)\n",
      "65 tensor(0.3359)\n",
      "66 tensor(0.2004)\n",
      "67 tensor(0.2465)\n",
      "68 tensor(0.2542)\n",
      "69 tensor(0.2124)\n",
      "70 tensor(0.2356)\n",
      "71 tensor(0.2257)\n",
      "72 tensor(0.2942)\n",
      "73 tensor(0.2956)\n",
      "74 tensor(0.3290)\n",
      "75 tensor(0.2617)\n",
      "76 tensor(0.2928)\n",
      "77 tensor(0.2379)\n",
      "78 tensor(0.2432)\n",
      "79 tensor(0.3111)\n",
      "80 tensor(0.2203)\n",
      "81 tensor(0.1915)\n",
      "82 tensor(0.2860)\n",
      "83 tensor(0.2019)\n",
      "84 tensor(0.2323)\n",
      "85 tensor(0.2304)\n",
      "86 tensor(0.1934)\n",
      "87 tensor(0.2021)\n",
      "88 tensor(0.2113)\n",
      "89 tensor(0.1984)\n",
      "90 tensor(0.2053)\n",
      "91 tensor(0.2276)\n",
      "92 tensor(0.2012)\n",
      "93 tensor(0.2463)\n",
      "94 tensor(0.2277)\n",
      "95 tensor(0.1519)\n",
      "96 tensor(0.2027)\n",
      "97 tensor(0.2014)\n",
      "98 tensor(0.2035)\n",
      "99 tensor(0.1670)\n",
      "Validation F1: 0.8459999999999999\n",
      "Average batch time: 0.29217904806137085\n",
      "0.8459999999999999\n"
     ]
    }
   ],
   "source": [
    "train_loss_ori, score_ori = model_ori.run_cora()\n",
    "print score_ori"
   ]
  },
  {
   "cell_type": "code",
   "execution_count": 4,
   "metadata": {},
   "outputs": [
    {
     "name": "stdout",
     "output_type": "stream",
     "text": [
      "<type 'list'> [1.969244360923767, 1.7829777002334595]\n",
      "<type 'list'> [1.932108759880066, 1.9078691005706787]\n"
     ]
    }
   ],
   "source": [
    "loss = [t.item() for t in train_loss]\n",
    "print type(loss), loss[:2]\n",
    "\n",
    "loss_ori = [t.item() for t in train_loss_ori]\n",
    "print type(loss_ori), loss_ori[:2]"
   ]
  },
  {
   "cell_type": "code",
   "execution_count": 5,
   "metadata": {},
   "outputs": [
    {
     "data": {
      "image/png": "[encoded data removed]",
      "text/plain": [
       "<Figure size 432x288 with 1 Axes>"
      ]
     },
     "metadata": {
      "needs_background": "light"
     },
     "output_type": "display_data"
    },
    {
     "name": "stdout",
     "output_type": "stream",
     "text": [
      "Original score: 0.846000 - Custom score: 0.850000\n"
     ]
    }
   ],
   "source": [
    "x = range(100)\n",
    "plt.plot(x, loss, 'b', label='original norm')\n",
    "plt.plot(x,loss_ori, 'C1', label='original denorm')\n",
    "plt.title('Convergence of the gradient')\n",
    "plt.xlabel('batchs')\n",
    "plt.ylabel('error')\n",
    "plt.legend()\n",
    "plt.show()\n",
    "\n",
    "print 'Original score: %f - Custom score: %f' % (score_ori, score)"
   ]
  }
 ],
 "metadata": {
  "kernelspec": {
   "display_name": "Python 2",
   "language": "python",
   "name": "python2"
  },
  "language_info": {
   "codemirror_mode": {
    "name": "ipython",
    "version": 2
   },
   "file_extension": ".py",
   "mimetype": "text/x-python",
   "name": "python",
   "nbconvert_exporter": "python",
   "pygments_lexer": "ipython2",
   "version": "2.7.15"
  }
 },
 "nbformat": 4,
 "nbformat_minor": 2
}
