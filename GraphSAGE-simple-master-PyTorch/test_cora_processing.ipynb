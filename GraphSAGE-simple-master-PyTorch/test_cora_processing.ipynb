{
 "cells": [
  {
   "cell_type": "code",
   "execution_count": 1,
   "metadata": {},
   "outputs": [],
   "source": [
    "from graphsage import model\n",
    "import numpy as np\n",
    "import collections as clc\n",
    "import random"
   ]
  },
  {
   "cell_type": "code",
   "execution_count": 2,
   "metadata": {},
   "outputs": [
    {
     "name": "stdout",
     "output_type": "stream",
     "text": [
      "2 3876460.3128538528\n",
      "3 3871223.362335633\n",
      "4 3867313.553957591\n",
      "5 3859687.555604438\n",
      "6 3857362.4822889576\n",
      "7 3846892.205506608\n",
      "8 3852616.0417774073\n",
      "9 3847825.098115413\n",
      "10 3845777.4806732005\n"
     ]
    },
    {
     "data": {
      "image/png": "[encoded data removed]",
      "text/plain": [
       "<Figure size 432x288 with 1 Axes>"
      ]
     },
     "metadata": {
      "needs_background": "light"
     },
     "output_type": "display_data"
    },
    {
     "name": "stdout",
     "output_type": "stream",
     "text": [
      "<type 'numpy.ndarray'> <type 'numpy.ndarray'>\n"
     ]
    }
   ],
   "source": [
    "#model.run_cora()\n",
    "labels, klabels = model.run_cora()\n",
    "print type(labels), type(klabels)"
   ]
  },
  {
   "cell_type": "code",
   "execution_count": 3,
   "metadata": {},
   "outputs": [
    {
     "name": "stdout",
     "output_type": "stream",
     "text": [
      "Counter({0: 818, 3: 426, 5: 418, 4: 351, 6: 298, 2: 217, 1: 180})\n"
     ]
    }
   ],
   "source": [
    "print clc.Counter(labels.flatten())"
   ]
  },
  {
   "cell_type": "code",
   "execution_count": 4,
   "metadata": {},
   "outputs": [
    {
     "name": "stdout",
     "output_type": "stream",
     "text": [
      "0 818\n",
      "1 180\n",
      "2 217\n",
      "3 426\n",
      "4 351\n",
      "5 418\n",
      "6 298\n"
     ]
    }
   ],
   "source": [
    "# validando\n",
    "for j in range(7):\n",
    "    print j, len(np.array([labels[i] for i in labels if i == j]))"
   ]
  },
  {
   "cell_type": "code",
   "execution_count": 5,
   "metadata": {},
   "outputs": [
    {
     "name": "stdout",
     "output_type": "stream",
     "text": [
      "Counter({5: 1648, 3: 668, 1: 154, 6: 109, 2: 102, 0: 22, 4: 5})\n",
      "7\n"
     ]
    }
   ],
   "source": [
    "klabels_count = clc.Counter(klabels)\n",
    "print klabels_count\n",
    "print len(klabels_count)"
   ]
  },
  {
   "cell_type": "code",
   "execution_count": 6,
   "metadata": {},
   "outputs": [
    {
     "name": "stdout",
     "output_type": "stream",
     "text": [
      "0 22\n",
      "1 154\n",
      "2 102\n",
      "3 668\n",
      "4 5\n",
      "5 1648\n",
      "6 109\n"
     ]
    }
   ],
   "source": [
    "# validando\n",
    "for j in range(7):\n",
    "    print j, len(np.array([klabels[i] for i in klabels if i == j]))"
   ]
  },
  {
   "cell_type": "code",
   "execution_count": 7,
   "metadata": {},
   "outputs": [
    {
     "name": "stdout",
     "output_type": "stream",
     "text": [
      "0 22\n",
      "1 154\n",
      "2 102\n",
      "3 668\n",
      "4 5\n",
      "5 1648\n",
      "6 109\n",
      "2708\n"
     ]
    }
   ],
   "source": [
    "# separa os índices por cluster\n",
    "klabels_map = dict()\n",
    "\n",
    "for i in range(7):\n",
    "    klabels_map[i] = list()\n",
    "\n",
    "for i, label in enumerate(klabels):\n",
    "    klabels_map[label].append(i)\n",
    "\n",
    "total = 0\n",
    "for i in range(7):\n",
    "    print i, len(klabels_map[i])\n",
    "    total += len(klabels_map[i])\n",
    "\n",
    "print total"
   ]
  },
  {
   "cell_type": "code",
   "execution_count": 8,
   "metadata": {},
   "outputs": [
    {
     "name": "stdout",
     "output_type": "stream",
     "text": [
      "[10, 12, 31, 41, 48, 51, 71, 74, 76, 78, 84, 99, 113, 115, 125, 137, 138, 155, 161, 182, 192, 193, 246, 258, 280, 292, 325, 345, 352, 388, 416, 420, 452, 468, 491, 498, 499, 513, 519, 525, 533, 641, 642, 645, 684, 697, 708, 715, 725, 736, 742, 748, 751, 768, 777, 802, 841, 855, 863, 888, 889, 896, 897, 904, 917, 920, 950, 973, 993, 996, 1013, 1015, 1133, 1158, 1162, 1255, 1338, 1347, 1372, 1419, 1427, 1452, 1546, 1593, 1614, 1654, 1666, 1682, 1713, 1716, 1733, 1742, 1773, 1783, 1803, 1829, 1856, 1857, 1874, 1910, 1913, 1920, 1922, 1924, 1926, 1941, 1972, 1982, 1991, 1992, 2002, 2008, 2013, 2022, 2081, 2095, 2138, 2153, 2159, 2227, 2235, 2242, 2266, 2287, 2305, 2311, 2318, 2327, 2348, 2362, 2366, 2374, 2375, 2377, 2382, 2389, 2416, 2421, 2448, 2456, 2458, 2488, 2506, 2510, 2532, 2559, 2575, 2590, 2620, 2654, 2681, 2682, 2693, 2699]\n",
      "[10, 12, 31, 41, 48, 51, 71, 74, 76, 78, 84, 99, 113, 115, 125, 137, 138, 155, 161, 182, 192, 193, 246, 258, 280, 292, 325, 345, 352, 388, 416, 420, 452, 468, 491, 498, 499, 513, 519, 525, 533, 641, 642, 645, 684, 697, 708, 715, 725, 736, 742, 748, 751, 768, 777, 802, 841, 855, 863, 888, 889, 896, 897, 904, 917, 920, 950, 973, 993, 996, 1013, 1015, 1133, 1158, 1162, 1255, 1338, 1347, 1372, 1419, 1427, 1452, 1546, 1593, 1614, 1654, 1666, 1682, 1713, 1716, 1733, 1742, 1773, 1783, 1803, 1829, 1856, 1857, 1874, 1910, 1913, 1920, 1922, 1924, 1926, 1941, 1972, 1982, 1991, 1992, 2002, 2008, 2013, 2022, 2081, 2095, 2138, 2153, 2159, 2227, 2235, 2242, 2266, 2287, 2305, 2311, 2318, 2327, 2348, 2362, 2366, 2374, 2375, 2377, 2382, 2389, 2416, 2421, 2448, 2456, 2458, 2488, 2506, 2510, 2532, 2559, 2575, 2590, 2620, 2654, 2681, 2682, 2693, 2699]\n"
     ]
    }
   ],
   "source": [
    "# validando\n",
    "print klabels_map[1]\n",
    "\n",
    "labels_1 = [i for i,label in enumerate(klabels) if label == 1]\n",
    "\n",
    "print labels_1\n",
    "        "
   ]
  },
  {
   "cell_type": "code",
   "execution_count": 9,
   "metadata": {},
   "outputs": [
    {
     "name": "stdout",
     "output_type": "stream",
     "text": [
      "[10, 12, 31, 41, 48, 51, 71, 74, 76, 78, 84, 99, 113, 115, 125, 137, 138, 155, 161, 182, 192, 193, 246, 258, 280, 292, 325, 345, 352, 388, 416, 420, 452, 468, 491, 498, 499, 513, 519, 525, 533, 641, 642, 645, 684, 697, 708, 715, 725, 736, 742, 748, 751, 768, 777, 802, 841, 855, 863, 888, 889, 896, 897, 904, 917, 920, 950, 973, 993, 996, 1013, 1015, 1133, 1158, 1162, 1255, 1338, 1347, 1372, 1419, 1427, 1452, 1546, 1593, 1614, 1654, 1666, 1682, 1713, 1716, 1733, 1742, 1773, 1783, 1803, 1829, 1856, 1857, 1874, 1910, 1913, 1920, 1922, 1924, 1926, 1941, 1972, 1982, 1991, 1992, 2002, 2008, 2013, 2022, 2081, 2095, 2138, 2153, 2159, 2227, 2235, 2242, 2266, 2287, 2305, 2311, 2318, 2327, 2348, 2362, 2366, 2374, 2375, 2377, 2382, 2389, 2416, 2421, 2448, 2456, 2458, 2488, 2506, 2510, 2532, 2559, 2575, 2590, 2620, 2654, 2681, 2682, 2693, 2699]\n",
      "[76, 2081, 2506, 1372, 1829, 2022, 1982, 751, 161, 1874, 1713, 2008, 31, 74, 950, 2389, 192, 78, 113, 768, 1546, 684, 416, 993, 491, 1742, 1857, 2682, 2327, 325, 2421, 1347, 996, 115, 736, 1856, 1716, 155, 345, 889, 642, 246, 71, 2242, 137, 2153, 51, 99, 2305, 863, 2699, 1162, 2013, 1972, 2348, 841, 697, 1733, 2448, 2227, 84, 2362, 12, 388, 525, 2287, 499, 1666, 280, 2693, 498, 125, 2318, 2575, 1922, 2590, 2374, 2416, 2654, 1913, 1920, 973, 2488, 10, 1452, 715, 258, 2458, 1926, 1654, 708, 193, 1427, 742, 1158, 2366, 1992, 2375, 519, 888, 1910, 1015, 2159, 2456, 748, 2002, 2266, 2311, 802, 2382, 641, 1255, 1419, 897, 182, 725, 1783, 352, 2620, 1013, 896, 1924, 1991, 2559, 513, 1614, 1941, 777, 2235, 1773, 1803, 645, 138, 2095, 2377, 292, 1682, 1338, 2138, 41, 533, 920, 420, 2532, 468, 1133, 917, 2681, 48, 904, 452, 855, 2510, 1593]\n"
     ]
    }
   ],
   "source": [
    "# embaralhando os indices\n",
    "print klabels_map[1]\n",
    "\n",
    "for i in range(7):\n",
    "    random.shuffle(klabels_map[i])\n",
    "    \n",
    "print klabels_map[1]"
   ]
  },
  {
   "cell_type": "code",
   "execution_count": 10,
   "metadata": {},
   "outputs": [
    {
     "name": "stdout",
     "output_type": "stream",
     "text": [
      "[0, 1, 2, 3, 4, 5, 6]\n"
     ]
    }
   ],
   "source": [
    "print [key for key in klabels_map]"
   ]
  },
  {
   "cell_type": "code",
   "execution_count": 11,
   "metadata": {},
   "outputs": [
    {
     "name": "stdout",
     "output_type": "stream",
     "text": [
      "[[  9   4   8]\n",
      " [ 68  28  56]\n",
      " [ 45  18  37]\n",
      " [297 123 246]\n",
      " [  2   0   1]\n",
      " [735 304 608]\n",
      " [ 48  20  40]]\n",
      "2697\n"
     ]
    }
   ],
   "source": [
    "# separar os conjuntos\n",
    "\n",
    "# calcula a razao\n",
    "ratio = np.array([len(klabels_map[key]) / float(2708) for key in klabels_map])\n",
    "\n",
    "# quantidade proporcional dos conjuntos: treino(0), val(1), teste(2)\n",
    "quantity = np.empty((7,3), dtype=int)\n",
    "quantity[:,0] = ratio * 1208\n",
    "quantity[:,1] = ratio * 500\n",
    "quantity[:,2] = ratio * 1000\n",
    "\n",
    "print quantity\n",
    "print np.sum(quantity)"
   ]
  },
  {
   "cell_type": "code",
   "execution_count": 12,
   "metadata": {},
   "outputs": [
    {
     "name": "stdout",
     "output_type": "stream",
     "text": [
      "[76, 2081, 2506, 1372, 1829, 2022, 1982, 751, 161, 1874, 1713, 2008, 31, 74, 950, 2389, 192, 78, 113, 768, 1546, 684, 416, 993, 491, 1742, 1857, 2682, 2327, 325, 2421, 1347, 996, 115, 736, 1856, 1716, 155, 345, 889, 642, 246, 71, 2242, 137, 2153, 51, 99, 2305, 863, 2699, 1162, 2013, 1972, 2348, 841, 697, 1733, 2448, 2227, 84, 2362, 12, 388, 525, 2287, 499, 1666]\n",
      "0 9\n",
      "1 68\n",
      "2 45\n",
      "3 297\n",
      "4 2\n",
      "5 735\n",
      "6 48\n"
     ]
    }
   ],
   "source": [
    "# separa \n",
    "train = dict()\n",
    "for i in range(7):\n",
    "    train[i] = list()\n",
    "\n",
    "val = list()\n",
    "test = list()\n",
    "    \n",
    "for key in klabels_map:\n",
    "    limit_train_quantity = quantity[key,0]\n",
    "    train[key] = klabels_map[key][:limit_train_quantity]\n",
    "    limit_val_quantity = limit_train_quantity + quantity[key,1]\n",
    "    val.extend(klabels_map[key][limit_train_quantity:limit_val_quantity])\n",
    "    test.extend(klabels_map[key][limit_val_quantity:])\n",
    "    \n",
    "print train[1]\n",
    "    \n",
    "for key in train:\n",
    "    print key, len(train[key])"
   ]
  },
  {
   "cell_type": "code",
   "execution_count": 13,
   "metadata": {},
   "outputs": [
    {
     "name": "stdout",
     "output_type": "stream",
     "text": [
      "total train: 1204\n",
      "total val: 497\n",
      "total test: 1007\n",
      "total: 2708\n"
     ]
    }
   ],
   "source": [
    "# conferindo o total\n",
    "total_train = 0\n",
    "for key in train:\n",
    "    total_train += len(train[key])\n",
    "\n",
    "print 'total train:', total_train\n",
    "print 'total val:', len(val)\n",
    "print 'total test:', len(test)\n",
    "print 'total:', total_train + len(val) + len(test)"
   ]
  },
  {
   "cell_type": "code",
   "execution_count": 14,
   "metadata": {},
   "outputs": [
    {
     "name": "stdout",
     "output_type": "stream",
     "text": [
      "<type 'list'>\n",
      "[2, 14, 9, 63, 0, 155, 10]\n",
      "253\n"
     ]
    }
   ],
   "source": [
    "# montar os batch nodes\n",
    "\n",
    "# quantidade proporcional do batch\n",
    "quantity = np.empty((7,1), dtype=int)\n",
    "quantity[:,0] = ratio * 256\n",
    "quantity = list(quantity.flatten())\n",
    "print type(quantity)\n",
    "print quantity\n",
    "print sum(quantity)"
   ]
  },
  {
   "cell_type": "code",
   "execution_count": 17,
   "metadata": {},
   "outputs": [
    {
     "name": "stdout",
     "output_type": "stream",
     "text": [
      "[2008, 863, 2153, 684, 345, 950, 1982, 642, 768, 1347, 993, 161, 1857, 2506, 416, 71, 31, 1546, 113, 1372, 1733, 697, 491, 51, 996, 1742, 325, 889, 1972, 74, 192, 2699, 499, 137, 525, 76, 736, 2682, 2227, 1829, 1856, 2287, 2348, 841, 751, 2081, 84, 155, 2013, 115, 2421, 2362, 2327, 78, 2242, 2448, 1162, 2022, 99, 1666, 2389, 1716, 1874, 246, 12, 388, 2305, 1713]\n",
      "[345, 1347, 2305, 161, 2362, 2242, 1874, 113, 155, 491, 2022, 2227, 246, 2448, 863, 115, 2153, 192, 2287, 31, 2699, 1162, 2682, 1372, 2506, 51, 1829, 1546, 2348, 996, 2013, 388, 1666, 12, 137, 84, 1716, 74, 99, 736, 325, 751, 2389, 1713, 2327, 78, 71, 76, 1972, 416, 1742, 1982, 499, 1856, 1733, 697, 950, 889, 642, 2081, 684, 525, 1857, 768, 2008, 841, 993, 2421]\n",
      "[1829, 2362, 1856, 115, 1666, 1713, 1347, 2153, 2287, 2327, 31, 345, 1857, 841, 325, 192, 2348, 76, 499, 950, 996, 2421, 2682, 51, 1874, 78, 2008, 863, 1972, 2013, 2389, 2022, 1733, 889, 246, 113, 491, 2242, 2699, 993, 74, 12, 697, 84, 642, 1716, 1982, 2081, 416, 1546, 2506, 71, 1742, 1372, 768, 1162, 684, 736, 2227, 137, 155, 2448, 2305, 751, 161, 525, 99, 388]\n",
      "------------------------------------------------------------------\n",
      "253\n",
      "[1964, 1918, 345, 1347, 2305, 161, 2362, 2242, 1874, 113, 155, 491, 2022, 2227, 246, 2448, 992, 146, 2616, 1864, 2037, 799, 580, 2656, 2131, 1025, 341, 1517, 2207, 1336, 658, 2494, 1312, 456, 2610, 2073, 2229, 429, 1492, 2483, 2347, 963, 911, 1825, 1011, 2454, 1356, 1490, 1778, 1092, 1259, 2428, 1784, 542, 181, 1729, 877, 1745, 264, 762, 979, 1705, 1786, 2036, 2087, 365, 1591, 1328, 932, 43, 426, 2291, 1637, 1166, 714, 1495, 936, 861, 1307, 1237, 2680, 2033, 366, 654, 309, 431, 789, 864, 2529, 2498, 1440, 434, 1885, 892, 190, 1958, 1544, 2626, 1903, 2035, 2109, 2317, 1780, 1507, 47, 2504, 1717, 1137, 1793, 2224, 588, 898, 2259, 482, 1667, 527, 363, 2672, 1029, 1118, 2536, 2554, 1178, 2640, 1242, 1176, 464, 1072, 1252, 2470, 1794, 257, 2444, 116, 1630, 769, 760, 67, 1523, 1589, 1623, 678, 1258, 1450, 346, 827, 2007, 2516, 1801, 1671, 1800, 2265, 1443, 596, 2071, 1391, 2030, 2605, 807, 158, 1576, 1467, 2041, 2043, 1738, 1033, 2196, 2303, 1687, 1325, 1256, 110, 733, 154, 2237, 681, 1995, 582, 243, 1756, 2105, 251, 1873, 477, 879, 594, 1316, 669, 455, 691, 1974, 1957, 2363, 1206, 2600, 1028, 2461, 2603, 2128, 2233, 1973, 1350, 1264, 1519, 471, 552, 743, 2631, 908, 566, 604, 674, 663, 1660, 92, 310, 2276, 609, 2534, 493, 303, 1610, 2493, 1243, 1901, 2193, 425, 1522, 1279, 2638, 1397, 1706, 2530, 1585, 54, 1551, 1676, 174, 2538, 1414, 695, 17, 666, 104, 1374, 2496, 771, 1555, 1091, 1871, 1659, 1251, 359]\n",
      "------------------------------------------------------------------\n",
      "[743, 2305, 911, 341, 1356, 2444, 181, 1176, 1995, 580, 1637, 2276, 2347, 1242, 2640, 2610, 1137, 365, 1251, 2362, 2007, 695, 2030, 1778, 879, 1793, 2605, 1756, 431, 1873, 2291, 464, 1029, 2448, 1443, 1178, 1347, 588, 789, 1450, 482, 366, 1780, 1864, 2303, 2193, 1659, 47, 1467, 2656, 1252, 1312, 1729, 609, 769, 2035, 1118, 2530, 1350, 1507, 2536, 1800, 303, 110, 113, 1576, 2626, 1523, 1440, 1974, 363, 2638, 542, 864, 1544, 2461, 1256, 264, 936, 932, 2616, 491, 827, 155, 566, 2470, 246, 1517, 429, 2131, 1374, 908, 1786, 681, 1794, 2496, 67, 2600, 2534, 1825, 54, 2227, 1325, 2554, 2259, 2022, 2043, 1328, 1874, 425, 604, 807, 2224, 1973, 2363, 654, 992, 1391, 1745, 1630, 116, 2529, 146, 1091, 43, 161, 1957, 2036, 1336, 2037, 104, 760, 2033, 1660, 158, 892, 1011, 762, 426, 596, 434, 1495, 1316, 1279, 359, 174, 1585, 2073, 1610, 17, 898, 2483, 1551, 666, 2504, 1667, 2454, 257, 1671, 1964, 979, 1623, 456, 1958, 1589, 2672, 1687, 1676, 477, 733, 1307, 2087, 594, 1903, 877, 861, 2498, 2317, 714, 154, 582, 2229, 2233, 1025, 1397, 2493, 1033, 1258, 455, 2105, 2207, 1871, 471, 1801, 1414, 1166, 2196, 527, 2680, 1072, 2237, 92, 2128, 663, 251, 345, 346, 1717, 1522, 771, 2265, 963, 2242, 678, 1028, 691, 2603, 658, 1490, 1738, 669, 1901, 310, 1259, 243, 1706, 1885, 552, 1264, 1555, 799, 2631, 2109, 309, 1492, 1784, 1591, 2071, 1519, 1705, 493, 2538, 2041, 190, 2494, 674, 1243, 1237, 1918, 1092, 2428, 2516, 1206]\n"
     ]
    }
   ],
   "source": [
    "print train[1]\n",
    "for batch in range(2):\n",
    "    batch_nodes = list()\n",
    "    for key in train:\n",
    "        batch_nodes.extend(train[key][:quantity[key]])\n",
    "        random.shuffle(train[key])\n",
    "    print train[1]\n",
    "    \n",
    "print '------------------------------------------------------------------'\n",
    "print len(batch_nodes)\n",
    "print batch_nodes\n",
    "print '------------------------------------------------------------------'\n",
    "random.shuffle(batch_nodes)\n",
    "print batch_nodes"
   ]
  },
  {
   "cell_type": "code",
   "execution_count": null,
   "metadata": {},
   "outputs": [],
   "source": []
  }
 ],
 "metadata": {
  "kernelspec": {
   "display_name": "Python 2",
   "language": "python",
   "name": "python2"
  },
  "language_info": {
   "codemirror_mode": {
    "name": "ipython",
    "version": 2
   },
   "file_extension": ".py",
   "mimetype": "text/x-python",
   "name": "python",
   "nbconvert_exporter": "python",
   "pygments_lexer": "ipython2",
   "version": "2.7.15"
  }
 },
 "nbformat": 4,
 "nbformat_minor": 2
}
