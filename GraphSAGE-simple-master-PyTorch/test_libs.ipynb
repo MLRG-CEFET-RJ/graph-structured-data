{
 "cells": [
  {
   "cell_type": "code",
   "execution_count": 5,
   "metadata": {},
   "outputs": [
    {
     "name": "stdout",
     "output_type": "stream",
     "text": [
      "[6 8 4 2 5 7 0 1 9 3]\n",
      "[6 8 4 2 5]\n",
      "[7, 0, 1, 9, 3]\n",
      "[7, 0, 1]\n",
      "[7, 1, 0, 9, 3]\n",
      "[7, 1, 0]\n",
      "[ 0 10 20 30 40 50]\n"
     ]
    }
   ],
   "source": [
    "import numpy as np\n",
    "import random\n",
    "\n",
    "rand_indices = np.random.permutation(10) # len(rand_indices) = 2708\n",
    "print(rand_indices)\n",
    "\n",
    "test = rand_indices[:5]\n",
    "print(test)\n",
    "train = list(rand_indices[5:])\n",
    "print(train)\n",
    "\n",
    "print(train[:3])\n",
    "random.shuffle(train)\n",
    "print(train)\n",
    "print(train[:3])\n"
   ]
  },
  {
   "cell_type": "code",
   "execution_count": 2,
   "metadata": {},
   "outputs": [
    {
     "data": {
      "text/plain": [
       "array([[    35,    168,     12,      0],\n",
       "       [  1033,      5,     13,      0],\n",
       "       [103482,      6,     13,      0],\n",
       "       ...,\n",
       "       [853155,      4,     14,      0],\n",
       "       [853115,      4,     13,      0],\n",
       "       [853118,      2,     13,      0]])"
      ]
     },
     "execution_count": 2,
     "metadata": {},
     "output_type": "execute_result"
    }
   ],
   "source": [
    "graph_data = np.loadtxt('cora/cora_graph.feat', np.int64)\n",
    "graph_data\n",
    "\n",
    "#print(np.min(graph_data, axis=0))\n",
    "#print(np.max(graph_data, axis=0))"
   ]
  },
  {
   "cell_type": "code",
   "execution_count": 1,
   "metadata": {},
   "outputs": [
    {
     "data": {
      "text/plain": [
       "array([[ 0.        , -1.22474487,  1.33630621],\n",
       "       [ 1.22474487,  0.        , -0.26726124],\n",
       "       [-1.22474487,  1.22474487, -1.06904497]])"
      ]
     },
     "execution_count": 1,
     "metadata": {},
     "output_type": "execute_result"
    }
   ],
   "source": [
    "from sklearn import preprocessing\n",
    "import numpy as np\n",
    "X_train = np.array([[ 1., -1.,  2.],\n",
    "                    [ 2.,  0.,  0.],\n",
    "                    [ 0.,  1., -1.]])\n",
    "\n",
    "scaler = preprocessing.StandardScaler().fit(X_train)\n"
   ]
  },
  {
   "cell_type": "code",
   "execution_count": 5,
   "metadata": {},
   "outputs": [
    {
     "name": "stdout",
     "output_type": "stream",
     "text": [
      "[[ 1. -1.  2.]\n",
      " [ 2.  0.  0.]\n",
      " [ 0.  1. -1.]]\n"
     ]
    },
    {
     "data": {
      "text/plain": [
       "array([[ 0.        , -1.22474487,  1.33630621],\n",
       "       [ 1.22474487,  0.        , -0.26726124],\n",
       "       [-1.22474487,  1.22474487, -1.06904497]])"
      ]
     },
     "execution_count": 5,
     "metadata": {},
     "output_type": "execute_result"
    }
   ],
   "source": [
    "print(X_train)\n",
    "X_norm = scaler.transform(X_train)\n",
    "X_norm"
   ]
  },
  {
   "cell_type": "code",
   "execution_count": 4,
   "metadata": {},
   "outputs": [
    {
     "name": "stdout",
     "output_type": "stream",
     "text": [
      "Original Array:\n",
      "[[0.89372503 0.99865458 0.77120044]\n",
      " [0.67632984 0.99990084 0.64110391]\n",
      " [0.34845794 0.66557903 0.29031742]]\n",
      "After normalization:\n",
      "[[0.85036881 0.99824367 0.67769766]\n",
      " [0.54399865 1.         0.49435553]\n",
      " [0.08193613 0.52884777 0.        ]]\n",
      "[[2.6923152  4.50287118 2.36778485]\n",
      " [1.72233013 4.5107936  1.72721203]\n",
      " [0.25941437 2.38552314 0.        ]]\n"
     ]
    },
    {
     "name": "stderr",
     "output_type": "stream",
     "text": [
      "/opt/conda/lib/python2.7/site-packages/sklearn/utils/validation.py:475: DataConversionWarning: Data with input dtype int64 was converted to float64 by StandardScaler.\n",
      "  warnings.warn(msg, DataConversionWarning)\n"
     ]
    },
    {
     "data": {
      "text/plain": [
       "array([[531.89739239,   4.5107936 ,   6.98773215]])"
      ]
     },
     "execution_count": 4,
     "metadata": {},
     "output_type": "execute_result"
    }
   ],
   "source": [
    "\n",
    "\n",
    "#x= np.random.random((3,3))\n",
    "x = np.array([[0.89372503, 0.99865458, 0.77120044],\n",
    "              [0.67632984, 0.99990084, 0.64110391],\n",
    "              [0.34845794, 0.66557903, 0.29031742]])\n",
    "print(\"Original Array:\")\n",
    "print(x)\n",
    "xmax, xmin = x.max(), x.min()\n",
    "x = (x - xmin)/(xmax - xmin)\n",
    "print(\"After normalization:\")\n",
    "print(x)\n",
    "\n",
    "\n",
    "from sklearn import preprocessing\n",
    "#min_max_scaler = preprocessing.MinMaxScaler()\n",
    "min_max_scaler = preprocessing.StandardScaler(with_mean=False)\n",
    "X_train_minmax = min_max_scaler.fit_transform(x)\n",
    "print(X_train_minmax)\n",
    "\n",
    "teste = np.array([[168, 1, 2]]) \n",
    "teste_scale = min_max_scaler.transform(teste)\n",
    "teste_scale\n"
   ]
  }
 ],
 "metadata": {
  "kernelspec": {
   "display_name": "Python 2",
   "language": "python",
   "name": "python2"
  },
  "language_info": {
   "codemirror_mode": {
    "name": "ipython",
    "version": 2
   },
   "file_extension": ".py",
   "mimetype": "text/x-python",
   "name": "python",
   "nbconvert_exporter": "python",
   "pygments_lexer": "ipython2",
   "version": "2.7.15"
  }
 },
 "nbformat": 4,
 "nbformat_minor": 2
}
