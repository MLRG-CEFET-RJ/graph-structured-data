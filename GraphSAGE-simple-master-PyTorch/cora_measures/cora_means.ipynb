{
 "cells": [
  {
   "cell_type": "code",
   "execution_count": 1,
   "metadata": {},
   "outputs": [],
   "source": [
    "import numpy as np"
   ]
  },
  {
   "cell_type": "code",
   "execution_count": 2,
   "metadata": {},
   "outputs": [],
   "source": [
    "def load_means(file_path):\n",
    "    data = np.loadtxt(file_path)\n",
    "    return data"
   ]
  },
  {
   "cell_type": "code",
   "execution_count": 3,
   "metadata": {},
   "outputs": [],
   "source": [
    "means = dict()\n",
    "\n",
    "# ori\n",
    "data = load_means(\"ori_measures.txt\")\n",
    "means[\"ori\"] = np.mean(data, axis=0)\n",
    "\n",
    "# ori_norm\n",
    "data = load_means(\"ori_norm_measures.txt\")\n",
    "means[\"ori_norm\"] = np.mean(data, axis=0)\n",
    "\n",
    "# ori_sample\n",
    "data = load_means(\"ori_sample_measures.txt\")\n",
    "means[\"ori_sample\"] = np.mean(data, axis=0)\n",
    "\n",
    "# ori_sample_norm\n",
    "data = load_means(\"ori_sample_norm_measures.txt\")\n",
    "means[\"ori_sample_norm\"] = np.mean(data, axis=0)\n",
    "\n",
    "# kmeans\n",
    "data = load_means(\"kmeans_measures.txt\")\n",
    "means[\"kmeans\"] = np.mean(data, axis=0)\n",
    "\n",
    "# kmeans_norm\n",
    "data = load_means(\"kmeans_norm_measures.txt\")\n",
    "means[\"kmeans_norm\"] = np.mean(data, axis=0)\n",
    "\n",
    "# kmeans_sample\n",
    "data = load_means(\"kmeans_sample_measures.txt\")\n",
    "means[\"kmeans_sample\"] = np.mean(data, axis=0)\n",
    "\n",
    "# kmeans_sample_norm\n",
    "data = load_means(\"kmeans_sample_norm_measures.txt\")\n",
    "means[\"kmeans_sample_norm\"] = np.mean(data, axis=0)\n"
   ]
  },
  {
   "cell_type": "code",
   "execution_count": 4,
   "metadata": {},
   "outputs": [
    {
     "name": "stdout",
     "output_type": "stream",
     "text": [
      "\t\t\t score \t\t\t time\n",
      "kmeans\t\t\t 0.850121\t\t 72.914228\n",
      "kmeans_norm\t\t 0.819839\t\t 74.366360\n",
      "kmeans_sample\t\t 0.804355\t\t 46.133084\n",
      "kmeans_sample_norm\t 0.804395\t\t 46.308555\n",
      "ori\t\t\t 0.857200\t\t 29.956475\n",
      "ori_norm\t\t 0.842690\t\t 30.955774\n",
      "ori_sample\t\t 0.813840\t\t 3.547582\n",
      "ori_sample_norm\t\t 0.801200\t\t 3.663019\n"
     ]
    }
   ],
   "source": [
    "print \"\\t\\t\\t score \\t\\t\\t time\"\n",
    "for k in sorted(means.keys()):\n",
    "    if len(k) < 7:\n",
    "        print \"%s\\t\\t\\t %f\\t\\t %f\" %(k, means[k][0], means[k][1])\n",
    "    elif len(k) < 18:\n",
    "        print \"%s\\t\\t %f\\t\\t %f\" %(k, means[k][0], means[k][1])\n",
    "    else:\n",
    "        print \"%s\\t %f\\t\\t %f\" %(k, means[k][0], means[k][1])\n"
   ]
  }
 ],
 "metadata": {
  "kernelspec": {
   "display_name": "Python 2",
   "language": "python",
   "name": "python2"
  },
  "language_info": {
   "codemirror_mode": {
    "name": "ipython",
    "version": 2
   },
   "file_extension": ".py",
   "mimetype": "text/x-python",
   "name": "python",
   "nbconvert_exporter": "python",
   "pygments_lexer": "ipython2",
   "version": "2.7.15"
  }
 },
 "nbformat": 4,
 "nbformat_minor": 2
}
