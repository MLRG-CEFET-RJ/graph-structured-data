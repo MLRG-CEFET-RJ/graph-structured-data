{
 "cells": [
  {
   "cell_type": "code",
   "execution_count": 1,
   "metadata": {},
   "outputs": [],
   "source": [
    "from graphsage import model_kmeans\n",
    "from graphsage import model_ori\n",
    "import matplotlib.pyplot as plt\n",
    "import torch"
   ]
  },
  {
   "cell_type": "code",
   "execution_count": 2,
   "metadata": {},
   "outputs": [
    {
     "name": "stderr",
     "output_type": "stream",
     "text": [
      "graphsage/encoders.py:31: UserWarning: nn.init.xavier_uniform is now deprecated in favor of nn.init.xavier_uniform_.\n",
      "  init.xavier_uniform(self.weight)\n",
      "graphsage/model_kmeans.py:33: UserWarning: nn.init.xavier_uniform is now deprecated in favor of nn.init.xavier_uniform_.\n",
      "  init.xavier_uniform(self.weight)\n",
      "graphsage/model_kmeans.py:222: UserWarning: invalid index of a 0-dim tensor. This will be an error in PyTorch 0.5. Use tensor.item() to convert a 0-dim tensor to a Python number\n",
      "  train_loss.append(loss.data[0])    # armazena o erro\n",
      "graphsage/model_kmeans.py:223: UserWarning: invalid index of a 0-dim tensor. This will be an error in PyTorch 0.5. Use tensor.item() to convert a 0-dim tensor to a Python number\n",
      "  print batch, loss.data[0]\n"
     ]
    },
    {
     "name": "stdout",
     "output_type": "stream",
     "text": [
      "0 tensor(2.1403)\n",
      "1 tensor(1.8521)\n",
      "2 tensor(1.8277)\n",
      "3 tensor(1.2282)\n",
      "4 tensor(1.0132)\n",
      "5 tensor(0.8014)\n",
      "6 tensor(0.7117)\n",
      "7 tensor(0.6385)\n",
      "8 tensor(0.5656)\n",
      "9 tensor(0.4514)\n",
      "10 tensor(0.3824)\n",
      "11 tensor(0.2916)\n",
      "12 tensor(0.2464)\n",
      "13 tensor(0.2946)\n",
      "14 tensor(0.2705)\n",
      "15 tensor(0.2495)\n",
      "16 tensor(0.1724)\n",
      "17 tensor(0.1615)\n",
      "18 tensor(0.1818)\n",
      "19 tensor(0.1634)\n",
      "20 tensor(0.1872)\n",
      "21 tensor(0.1606)\n",
      "22 tensor(0.1772)\n",
      "23 tensor(0.1455)\n",
      "24 tensor(0.1670)\n",
      "25 tensor(0.1395)\n",
      "26 tensor(0.1431)\n",
      "27 tensor(0.1139)\n",
      "28 tensor(0.1554)\n",
      "29 tensor(0.1472)\n",
      "30 tensor(0.0967)\n",
      "31 tensor(0.0879)\n",
      "32 tensor(0.1029)\n",
      "33 tensor(0.2002)\n",
      "34 tensor(0.0974)\n",
      "35 tensor(0.0809)\n",
      "36 tensor(0.0615)\n",
      "37 tensor(0.1022)\n",
      "38 tensor(0.0596)\n",
      "39 tensor(0.0626)\n",
      "40 tensor(0.0880)\n",
      "41 tensor(0.0961)\n",
      "42 tensor(0.0834)\n",
      "43 tensor(0.0859)\n",
      "44 tensor(0.0702)\n",
      "45 tensor(0.0802)\n",
      "46 tensor(0.0508)\n",
      "47 tensor(0.0517)\n",
      "48 tensor(0.0315)\n",
      "49 tensor(0.0749)\n",
      "50 tensor(0.0998)\n",
      "51 tensor(0.0709)\n",
      "52 tensor(0.0832)\n",
      "53 tensor(0.0553)\n",
      "54 tensor(0.0625)\n",
      "55 tensor(0.0572)\n",
      "56 tensor(0.0415)\n",
      "57 tensor(0.0857)\n",
      "58 tensor(0.0600)\n",
      "59 tensor(0.0397)\n",
      "60 tensor(0.0417)\n",
      "61 tensor(0.0367)\n",
      "62 tensor(0.0328)\n",
      "63 tensor(0.0477)\n",
      "64 tensor(0.0684)\n",
      "65 tensor(0.0324)\n",
      "66 tensor(0.0340)\n",
      "67 tensor(0.0375)\n",
      "68 tensor(0.0384)\n",
      "69 tensor(0.0466)\n",
      "70 tensor(0.0430)\n",
      "71 tensor(0.0549)\n",
      "72 tensor(0.0306)\n",
      "73 tensor(0.0397)\n",
      "74 tensor(0.0499)\n",
      "75 tensor(0.0395)\n",
      "76 tensor(0.0586)\n",
      "77 tensor(0.0632)\n",
      "78 tensor(0.0291)\n",
      "79 tensor(0.0431)\n",
      "80 tensor(0.0425)\n",
      "81 tensor(0.0565)\n",
      "82 tensor(0.0418)\n",
      "83 tensor(0.0317)\n",
      "84 tensor(0.0357)\n",
      "85 tensor(0.0599)\n",
      "86 tensor(0.0460)\n",
      "87 tensor(0.0640)\n",
      "88 tensor(0.0546)\n",
      "89 tensor(0.0200)\n",
      "90 tensor(0.0408)\n",
      "91 tensor(0.0233)\n",
      "92 tensor(0.0382)\n",
      "93 tensor(0.0389)\n",
      "94 tensor(0.0209)\n",
      "95 tensor(0.0308)\n",
      "96 tensor(0.0239)\n",
      "97 tensor(0.0229)\n",
      "98 tensor(0.0292)\n",
      "99 tensor(0.0343)\n",
      "Validation F1: 0.8410462776659958\n",
      "Average batch time: 0.4232126235961914\n",
      "0.8410462776659958\n"
     ]
    }
   ],
   "source": [
    "train_loss, score = model_kmeans.run_cora()\n",
    "print score"
   ]
  },
  {
   "cell_type": "code",
   "execution_count": 3,
   "metadata": {},
   "outputs": [
    {
     "name": "stderr",
     "output_type": "stream",
     "text": [
      "graphsage/model_ori.py:28: UserWarning: nn.init.xavier_uniform is now deprecated in favor of nn.init.xavier_uniform_.\n",
      "  init.xavier_uniform(self.weight)\n",
      "graphsage/model_ori.py:121: UserWarning: invalid index of a 0-dim tensor. This will be an error in PyTorch 0.5. Use tensor.item() to convert a 0-dim tensor to a Python number\n",
      "  train_loss.append(loss.data[0])    # armazena o erro\n",
      "graphsage/model_ori.py:122: UserWarning: invalid index of a 0-dim tensor. This will be an error in PyTorch 0.5. Use tensor.item() to convert a 0-dim tensor to a Python number\n",
      "  print batch, loss.data[0]\n"
     ]
    },
    {
     "name": "stdout",
     "output_type": "stream",
     "text": [
      "0 tensor(1.9613)\n",
      "1 tensor(1.9329)\n",
      "2 tensor(1.8999)\n",
      "3 tensor(1.8669)\n",
      "4 tensor(1.8427)\n",
      "5 tensor(1.8036)\n",
      "6 tensor(1.7566)\n",
      "7 tensor(1.7142)\n",
      "8 tensor(1.7032)\n",
      "9 tensor(1.6515)\n",
      "10 tensor(1.5589)\n",
      "11 tensor(1.5021)\n",
      "12 tensor(1.4916)\n",
      "13 tensor(1.4076)\n",
      "14 tensor(1.3386)\n",
      "15 tensor(1.3193)\n",
      "16 tensor(1.2265)\n",
      "17 tensor(1.0797)\n",
      "18 tensor(1.1373)\n",
      "19 tensor(1.0601)\n",
      "20 tensor(0.9134)\n",
      "21 tensor(0.9408)\n",
      "22 tensor(0.8397)\n",
      "23 tensor(0.8467)\n",
      "24 tensor(0.7609)\n",
      "25 tensor(0.7176)\n",
      "26 tensor(0.7257)\n",
      "27 tensor(0.7716)\n",
      "28 tensor(0.7923)\n",
      "29 tensor(0.8684)\n",
      "30 tensor(0.8351)\n",
      "31 tensor(0.5831)\n",
      "32 tensor(0.5164)\n",
      "33 tensor(0.5434)\n",
      "34 tensor(0.4902)\n",
      "35 tensor(0.4600)\n",
      "36 tensor(0.4377)\n",
      "37 tensor(0.5194)\n",
      "38 tensor(0.5042)\n",
      "39 tensor(0.4227)\n",
      "40 tensor(0.4211)\n",
      "41 tensor(0.4406)\n",
      "42 tensor(0.4461)\n",
      "43 tensor(0.3642)\n",
      "44 tensor(0.3292)\n",
      "45 tensor(0.4545)\n",
      "46 tensor(0.4686)\n",
      "47 tensor(0.4515)\n",
      "48 tensor(0.4952)\n",
      "49 tensor(0.4492)\n",
      "50 tensor(0.3283)\n",
      "51 tensor(0.3988)\n",
      "52 tensor(0.2725)\n",
      "53 tensor(0.2527)\n",
      "54 tensor(0.2644)\n",
      "55 tensor(0.2235)\n",
      "56 tensor(0.2837)\n",
      "57 tensor(0.3164)\n",
      "58 tensor(0.2929)\n",
      "59 tensor(0.2449)\n",
      "60 tensor(0.3165)\n",
      "61 tensor(0.2690)\n",
      "62 tensor(0.2409)\n",
      "63 tensor(0.2764)\n",
      "64 tensor(0.2291)\n",
      "65 tensor(0.3389)\n",
      "66 tensor(0.2001)\n",
      "67 tensor(0.2454)\n",
      "68 tensor(0.2371)\n",
      "69 tensor(0.2063)\n",
      "70 tensor(0.2395)\n",
      "71 tensor(0.2193)\n",
      "72 tensor(0.3035)\n",
      "73 tensor(0.3114)\n",
      "74 tensor(0.4015)\n",
      "75 tensor(0.3177)\n",
      "76 tensor(0.3396)\n",
      "77 tensor(0.2483)\n",
      "78 tensor(0.2523)\n",
      "79 tensor(0.3216)\n",
      "80 tensor(0.2257)\n",
      "81 tensor(0.2017)\n",
      "82 tensor(0.2935)\n",
      "83 tensor(0.2124)\n",
      "84 tensor(0.2436)\n",
      "85 tensor(0.2289)\n",
      "86 tensor(0.1794)\n",
      "87 tensor(0.1906)\n",
      "88 tensor(0.2020)\n",
      "89 tensor(0.1886)\n",
      "90 tensor(0.2083)\n",
      "91 tensor(0.2285)\n",
      "92 tensor(0.2011)\n",
      "93 tensor(0.2469)\n",
      "94 tensor(0.2219)\n",
      "95 tensor(0.1516)\n",
      "96 tensor(0.2003)\n",
      "97 tensor(0.1975)\n",
      "98 tensor(0.2006)\n",
      "99 tensor(0.1683)\n",
      "Validation F1: 0.856\n",
      "Average batch time: 0.40292537450790405\n",
      "0.856\n"
     ]
    }
   ],
   "source": [
    "train_loss_ori, score_ori = model_ori.run_cora()\n",
    "print score_ori"
   ]
  },
  {
   "cell_type": "code",
   "execution_count": 4,
   "metadata": {},
   "outputs": [
    {
     "name": "stdout",
     "output_type": "stream",
     "text": [
      "<type 'list'> [2.1403281688690186, 1.8521138429641724]\n",
      "<type 'list'> [1.9613133668899536, 1.9328619241714478]\n"
     ]
    }
   ],
   "source": [
    "loss = [t.item() for t in train_loss]\n",
    "print type(loss), loss[:2]\n",
    "\n",
    "loss_ori = [t.item() for t in train_loss_ori]\n",
    "print type(loss_ori), loss_ori[:2]"
   ]
  },
  {
   "cell_type": "code",
   "execution_count": 5,
   "metadata": {},
   "outputs": [
    {
     "data": {
      "image/png": "[encoded data removed]",
      "text/plain": [
       "<Figure size 432x288 with 1 Axes>"
      ]
     },
     "metadata": {
      "needs_background": "light"
     },
     "output_type": "display_data"
    },
    {
     "name": "stdout",
     "output_type": "stream",
     "text": [
      "Original score: 0.856000 - Custom score: 0.841046\n"
     ]
    }
   ],
   "source": [
    "x = range(100)\n",
    "plt.plot(x, loss)\n",
    "plt.plot(x,loss_ori)\n",
    "plt.title('Convergence of the gradient')\n",
    "plt.xlabel('batchs')\n",
    "plt.ylabel('error')\n",
    "plt.show()\n",
    "\n",
    "print 'Original score: %f - Custom score: %f' % (score_ori, score)"
   ]
  }
 ],
 "metadata": {
  "kernelspec": {
   "display_name": "Python 2",
   "language": "python",
   "name": "python2"
  },
  "language_info": {
   "codemirror_mode": {
    "name": "ipython",
    "version": 2
   },
   "file_extension": ".py",
   "mimetype": "text/x-python",
   "name": "python",
   "nbconvert_exporter": "python",
   "pygments_lexer": "ipython2",
   "version": "2.7.15"
  }
 },
 "nbformat": 4,
 "nbformat_minor": 2
}
