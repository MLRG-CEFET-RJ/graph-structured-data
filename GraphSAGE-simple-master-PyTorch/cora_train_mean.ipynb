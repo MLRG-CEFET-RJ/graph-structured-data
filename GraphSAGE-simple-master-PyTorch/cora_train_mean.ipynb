{
 "cells": [
  {
   "cell_type": "code",
   "execution_count": 1,
   "metadata": {},
   "outputs": [],
   "source": [
    "from graphsage import model_ori\n",
    "from graphsage import model_ori_norm\n",
    "from graphsage import model_kmeans\n",
    "from graphsage import model_kmeans_norm\n",
    "\n",
    "from graphsage import model_ori_sample\n",
    "from graphsage import model_ori_sample_norm\n",
    "from graphsage import model_kmeans_sample\n",
    "from graphsage import model_kmeans_sample_norm\n",
    "\n",
    "import smtplib\n",
    "import torch\n",
    "import time\n",
    "import timeit"
   ]
  },
  {
   "cell_type": "code",
   "execution_count": 2,
   "metadata": {},
   "outputs": [],
   "source": [
    "def send_mail(message):\n",
    " \n",
    "    # Credenciais\n",
    "    remetente    = 'ajosemf@gmail.com'\n",
    "    senha        = 'Staros_73'\n",
    "\n",
    "    # Informações da mensagem\n",
    "    destinatario = 'ajosemf@gmail.com'\n",
    "    assunto      = 'Processamento Cora Train'\n",
    "    texto        = message\n",
    "\n",
    "    # Preparando a mensagem\n",
    "    msg = '\\r\\n'.join([\n",
    "      'From: %s' % remetente,\n",
    "      'To: %s' % destinatario,\n",
    "      'Subject: %s' % assunto,\n",
    "      '',\n",
    "      '%s' % texto\n",
    "      ])\n",
    "\n",
    "    # Enviando o email\n",
    "    server = smtplib.SMTP('smtp.gmail.com:587')\n",
    "    server.starttls()\n",
    "    server.login(remetente,senha)\n",
    "    server.sendmail(remetente, destinatario, msg)\n",
    "    server.quit()"
   ]
  },
  {
   "cell_type": "code",
   "execution_count": 3,
   "metadata": {},
   "outputs": [],
   "source": [
    "def store_measures(t_loss, score, time, path1, path2):\n",
    "    \n",
    "    with open(path1, 'a+') as arq:\n",
    "        for t in t_loss:\n",
    "            arq.write(str(t.item()))\n",
    "            arq.write('\\t')\n",
    "        arq.write('\\n')\n",
    "        \n",
    "    with open(path2, 'a+') as arq:\n",
    "        arq.write(str(score))\n",
    "        arq.write('\\t')\n",
    "        arq.write(str(time))\n",
    "        arq.write('\\n')"
   ]
  },
  {
   "cell_type": "code",
   "execution_count": 4,
   "metadata": {},
   "outputs": [],
   "source": [
    "interval = range(1,51)"
   ]
  },
  {
   "cell_type": "code",
   "execution_count": 5,
   "metadata": {},
   "outputs": [
    {
     "name": "stderr",
     "output_type": "stream",
     "text": [
      "graphsage/encoders.py:31: UserWarning: nn.init.xavier_uniform is now deprecated in favor of nn.init.xavier_uniform_.\n",
      "  init.xavier_uniform(self.weight)\n",
      "graphsage/model_ori.py:30: UserWarning: nn.init.xavier_uniform is now deprecated in favor of nn.init.xavier_uniform_.\n",
      "  init.xavier_uniform(self.weight)\n",
      "graphsage/model_ori.py:126: UserWarning: invalid index of a 0-dim tensor. This will be an error in PyTorch 0.5. Use tensor.item() to convert a 0-dim tensor to a Python number\n",
      "  train_loss.append(loss.data[0])    # armazena o erro\n"
     ]
    },
    {
     "name": "stdout",
     "output_type": "stream",
     "text": [
      "10 iters processed\n",
      "20 iters processed\n",
      "30 iters processed\n",
      "40 iters processed\n",
      "50 iters processed\n",
      "ori successfully processed in 25 minutes\n"
     ]
    }
   ],
   "source": [
    "begin = timeit.default_timer()\n",
    "\n",
    "for i in interval:\n",
    "    \n",
    "    t_ori_loss, ori_score, ori_time = model_ori.run_cora(printout = False)\n",
    "    store_measures(t_ori_loss, ori_score, ori_time, 'cora_measures/ori_loss.txt', 'cora_measures/ori_measures.txt')\n",
    "    if i % 10 == 0:\n",
    "        print '%d iters processed' % i\n",
    "        \n",
    "end = timeit.default_timer()\n",
    "elapsed = int((end - begin)/60) \n",
    "\n",
    "message = 'ori successfully processed in %d minutes' % elapsed\n",
    "print message\n",
    "\n",
    "send_mail(message)    "
   ]
  },
  {
   "cell_type": "code",
   "execution_count": 6,
   "metadata": {},
   "outputs": [
    {
     "name": "stderr",
     "output_type": "stream",
     "text": [
      "graphsage/model_ori_norm.py:32: UserWarning: nn.init.xavier_uniform is now deprecated in favor of nn.init.xavier_uniform_.\n",
      "  init.xavier_uniform(self.weight)\n",
      "graphsage/model_ori_norm.py:139: UserWarning: invalid index of a 0-dim tensor. This will be an error in PyTorch 0.5. Use tensor.item() to convert a 0-dim tensor to a Python number\n",
      "  train_loss.append(loss.data[0])    # armazena o erro\n"
     ]
    },
    {
     "name": "stdout",
     "output_type": "stream",
     "text": [
      "10 iters processed\n",
      "20 iters processed\n",
      "30 iters processed\n",
      "40 iters processed\n",
      "50 iters processed\n",
      "ori_norm successfully processed in 26 minutes\n"
     ]
    }
   ],
   "source": [
    "begin = timeit.default_timer()\n",
    "\n",
    "for i in interval:\n",
    "    \n",
    "    t_ori_norm_loss, ori_norm_score, ori_norm_time = model_ori_norm.run_cora(printout = False)\n",
    "    store_measures(t_ori_norm_loss, ori_norm_score, ori_norm_time, 'cora_measures/ori_norm_loss.txt', 'cora_measures/ori_norm_measures.txt')\n",
    "    if i % 10 == 0:\n",
    "        print '%d iters processed' % i\n",
    "\n",
    "end = timeit.default_timer()\n",
    "elapsed = int((end - begin)/60) \n",
    "\n",
    "message = 'ori_norm successfully processed in %d minutes' % elapsed\n",
    "print message\n",
    "\n",
    "send_mail(message) "
   ]
  },
  {
   "cell_type": "code",
   "execution_count": 7,
   "metadata": {},
   "outputs": [
    {
     "name": "stderr",
     "output_type": "stream",
     "text": [
      "graphsage/model_ori_sample.py:30: UserWarning: nn.init.xavier_uniform is now deprecated in favor of nn.init.xavier_uniform_.\n",
      "  init.xavier_uniform(self.weight)\n",
      "graphsage/model_ori_sample.py:128: UserWarning: invalid index of a 0-dim tensor. This will be an error in PyTorch 0.5. Use tensor.item() to convert a 0-dim tensor to a Python number\n",
      "  train_loss.append(loss.data[0])    # armazena o erro\n"
     ]
    },
    {
     "name": "stdout",
     "output_type": "stream",
     "text": [
      "10 iters processed\n",
      "20 iters processed\n",
      "30 iters processed\n",
      "40 iters processed\n",
      "50 iters processed\n",
      "ori_sample successfully processed in 3 minutes\n"
     ]
    }
   ],
   "source": [
    "begin = timeit.default_timer()\n",
    "\n",
    "for i in interval:\n",
    "    \n",
    "    t_ori_sample_loss, ori_sample_score, ori_sample_time = model_ori_sample.run_cora(printout = False)\n",
    "    store_measures(t_ori_sample_loss, ori_sample_score, ori_sample_time, 'cora_measures/ori_sample_loss.txt', 'cora_measures/ori_sample_measures.txt')\n",
    "    if i % 10 == 0:\n",
    "        print '%d iters processed' % i\n",
    "\n",
    "end = timeit.default_timer()\n",
    "elapsed = int((end - begin)/60) \n",
    "\n",
    "message = 'ori_sample successfully processed in %d minutes' % elapsed\n",
    "print message\n",
    "\n",
    "send_mail(message) "
   ]
  },
  {
   "cell_type": "code",
   "execution_count": 8,
   "metadata": {},
   "outputs": [
    {
     "name": "stderr",
     "output_type": "stream",
     "text": [
      "graphsage/model_ori_sample_norm.py:32: UserWarning: nn.init.xavier_uniform is now deprecated in favor of nn.init.xavier_uniform_.\n",
      "  init.xavier_uniform(self.weight)\n",
      "graphsage/model_ori_sample_norm.py:141: UserWarning: invalid index of a 0-dim tensor. This will be an error in PyTorch 0.5. Use tensor.item() to convert a 0-dim tensor to a Python number\n",
      "  train_loss.append(loss.data[0])    # armazena o erro\n"
     ]
    },
    {
     "name": "stdout",
     "output_type": "stream",
     "text": [
      "10 iters processed\n",
      "20 iters processed\n",
      "30 iters processed\n",
      "40 iters processed\n",
      "50 iters processed\n",
      "ori_sample_norm successfully processed in 3 minutes\n"
     ]
    }
   ],
   "source": [
    "begin = timeit.default_timer()\n",
    "\n",
    "for i in interval:\n",
    "    \n",
    "    t_ori_sample_norm_loss, ori_sample_norm_score, ori_sample_norm_time = model_ori_sample_norm.run_cora(printout = False)\n",
    "    store_measures(t_ori_sample_norm_loss, ori_sample_norm_score, ori_sample_norm_time, 'cora_measures/ori_sample_norm_loss.txt', 'cora_measures/ori_sample_norm_measures.txt')\n",
    "    if i % 10 == 0:\n",
    "        print '%d iters processed' % i\n",
    "\n",
    "end = timeit.default_timer()\n",
    "elapsed = int((end - begin)/60) \n",
    "\n",
    "message = 'ori_sample_norm successfully processed in %d minutes' % elapsed\n",
    "print message\n",
    "\n",
    "send_mail(message) "
   ]
  },
  {
   "cell_type": "code",
   "execution_count": 9,
   "metadata": {},
   "outputs": [
    {
     "name": "stderr",
     "output_type": "stream",
     "text": [
      "graphsage/model_kmeans.py:35: UserWarning: nn.init.xavier_uniform is now deprecated in favor of nn.init.xavier_uniform_.\n",
      "  init.xavier_uniform(self.weight)\n",
      "graphsage/model_kmeans.py:199: UserWarning: invalid index of a 0-dim tensor. This will be an error in PyTorch 0.5. Use tensor.item() to convert a 0-dim tensor to a Python number\n",
      "  train_loss.append(loss.data[0])    # armazena o erro\n"
     ]
    },
    {
     "name": "stdout",
     "output_type": "stream",
     "text": [
      "10 iters processed\n",
      "20 iters processed\n",
      "30 iters processed\n",
      "40 iters processed\n",
      "50 iters processed\n",
      "kmeans successfully processed in 61 minutes\n"
     ]
    }
   ],
   "source": [
    "begin = timeit.default_timer()\n",
    "\n",
    "for i in interval:\n",
    "    \n",
    "    t_kmeans_loss, kmeans_score, kmeans_time = model_kmeans.run_cora(printout = False)\n",
    "    store_measures(t_kmeans_loss, kmeans_score, kmeans_time, 'cora_measures/kmeans_loss.txt', 'cora_measures/kmeans_measures.txt')\n",
    "    if i % 10 == 0:\n",
    "        print '%d iters processed' % i\n",
    "\n",
    "end = timeit.default_timer()\n",
    "elapsed = int((end - begin)/60) \n",
    "\n",
    "message = 'kmeans successfully processed in %d minutes' % elapsed\n",
    "print message\n",
    "\n",
    "send_mail(message) "
   ]
  },
  {
   "cell_type": "code",
   "execution_count": 10,
   "metadata": {},
   "outputs": [
    {
     "name": "stderr",
     "output_type": "stream",
     "text": [
      "graphsage/model_kmeans_norm.py:35: UserWarning: nn.init.xavier_uniform is now deprecated in favor of nn.init.xavier_uniform_.\n",
      "  init.xavier_uniform(self.weight)\n",
      "graphsage/model_kmeans_norm.py:206: UserWarning: invalid index of a 0-dim tensor. This will be an error in PyTorch 0.5. Use tensor.item() to convert a 0-dim tensor to a Python number\n",
      "  train_loss.append(loss.data[0])    # armazena o erro\n"
     ]
    },
    {
     "name": "stdout",
     "output_type": "stream",
     "text": [
      "10 iters processed\n",
      "20 iters processed\n",
      "30 iters processed\n",
      "40 iters processed\n",
      "50 iters processed\n",
      "kmeans_norm successfully processed in 62 minutes\n"
     ]
    }
   ],
   "source": [
    "begin = timeit.default_timer()\n",
    "\n",
    "for i in interval:\n",
    "    \n",
    "    t_kmeans_norm_loss, kmeans_norm_score, kmeans_norm_time = model_kmeans_norm.run_cora(printout = False)\n",
    "    store_measures(t_kmeans_norm_loss, kmeans_norm_score, kmeans_norm_time, 'cora_measures/kmeans_norm_loss.txt', 'cora_measures/kmeans_norm_measures.txt')\n",
    "    if i % 10 == 0:\n",
    "        print '%d iters processed' % i\n",
    "\n",
    "end = timeit.default_timer()\n",
    "elapsed = int((end - begin)/60) \n",
    "\n",
    "message = 'kmeans_norm successfully processed in %d minutes' % elapsed\n",
    "print message\n",
    "\n",
    "send_mail(message) "
   ]
  },
  {
   "cell_type": "code",
   "execution_count": 11,
   "metadata": {},
   "outputs": [
    {
     "name": "stderr",
     "output_type": "stream",
     "text": [
      "graphsage/model_kmeans_sample.py:35: UserWarning: nn.init.xavier_uniform is now deprecated in favor of nn.init.xavier_uniform_.\n",
      "  init.xavier_uniform(self.weight)\n",
      "graphsage/model_kmeans_sample.py:208: UserWarning: invalid index of a 0-dim tensor. This will be an error in PyTorch 0.5. Use tensor.item() to convert a 0-dim tensor to a Python number\n",
      "  train_loss.append(loss.data[0])    # armazena o erro\n"
     ]
    },
    {
     "name": "stdout",
     "output_type": "stream",
     "text": [
      "10 iters processed\n",
      "20 iters processed\n",
      "30 iters processed\n",
      "40 iters processed\n",
      "50 iters processed\n",
      "kmeans_sample successfully processed in 38 minutes\n"
     ]
    }
   ],
   "source": [
    "begin = timeit.default_timer()\n",
    "\n",
    "for i in interval:\n",
    "    \n",
    "    t_kmeans_sample_loss, kmeans_sample_score, kmeans_sample_time = model_kmeans_sample.run_cora(printout = False)\n",
    "    store_measures(t_kmeans_sample_loss, kmeans_sample_score, kmeans_sample_time, 'cora_measures/kmeans_sample_loss.txt', 'cora_measures/kmeans_sample_measures.txt')\n",
    "    if i % 10 == 0:\n",
    "        print '%d iters processed' % i\n",
    "\n",
    "end = timeit.default_timer()\n",
    "elapsed = int((end - begin)/60) \n",
    "\n",
    "message = 'kmeans_sample successfully processed in %d minutes' % elapsed\n",
    "print message\n",
    "\n",
    "send_mail(message) "
   ]
  },
  {
   "cell_type": "code",
   "execution_count": 12,
   "metadata": {},
   "outputs": [
    {
     "name": "stderr",
     "output_type": "stream",
     "text": [
      "graphsage/model_kmeans_sample_norm.py:35: UserWarning: nn.init.xavier_uniform is now deprecated in favor of nn.init.xavier_uniform_.\n",
      "  init.xavier_uniform(self.weight)\n",
      "graphsage/model_kmeans_sample_norm.py:211: UserWarning: invalid index of a 0-dim tensor. This will be an error in PyTorch 0.5. Use tensor.item() to convert a 0-dim tensor to a Python number\n",
      "  train_loss.append(loss.data[0])    # armazena o erro\n"
     ]
    },
    {
     "name": "stdout",
     "output_type": "stream",
     "text": [
      "10 iters processed\n",
      "20 iters processed\n",
      "30 iters processed\n",
      "40 iters processed\n",
      "50 iters processed\n",
      "kmeans_sample_norm successfully processed in 38 minutes\n"
     ]
    }
   ],
   "source": [
    "begin = timeit.default_timer()\n",
    "\n",
    "for i in interval:\n",
    "    \n",
    "    t_kmeans_sample_norm_loss, kmeans_sample_norm_score, kmeans_sample_norm_time = model_kmeans_sample_norm.run_cora(printout = False)\n",
    "    store_measures(t_kmeans_sample_norm_loss, kmeans_sample_norm_score, kmeans_sample_norm_time, 'cora_measures/kmeans_sample_norm_loss.txt', 'cora_measures/kmeans_sample_norm_measures.txt')\n",
    "    if i % 10 == 0:\n",
    "        print '%d iters processed' % i\n",
    "        \n",
    "end = timeit.default_timer()\n",
    "elapsed = int((end - begin)/60) \n",
    "\n",
    "message = 'kmeans_sample_norm successfully processed in %d minutes' % elapsed\n",
    "print message\n",
    "\n",
    "send_mail(message) "
   ]
  }
 ],
 "metadata": {
  "kernelspec": {
   "display_name": "Python 2",
   "language": "python",
   "name": "python2"
  },
  "language_info": {
   "codemirror_mode": {
    "name": "ipython",
    "version": 2
   },
   "file_extension": ".py",
   "mimetype": "text/x-python",
   "name": "python",
   "nbconvert_exporter": "python",
   "pygments_lexer": "ipython2",
   "version": "2.7.15"
  }
 },
 "nbformat": 4,
 "nbformat_minor": 2
}
