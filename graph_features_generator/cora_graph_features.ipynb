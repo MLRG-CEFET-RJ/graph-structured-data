{
 "cells": [
  {
   "cell_type": "code",
   "execution_count": 1,
   "metadata": {},
   "outputs": [],
   "source": [
    "import numpy as np\n",
    "import sys\n",
    "\n",
    "sys.path.append('..')\n",
    "from classes.NetworkXGraph import Graph"
   ]
  },
  {
   "cell_type": "code",
   "execution_count": 2,
   "metadata": {},
   "outputs": [
    {
     "name": "stdout",
     "output_type": "stream",
     "text": [
      "elapsed time in seconds: 0.210339\n"
     ]
    }
   ],
   "source": [
    "# Building graph\n",
    "\n",
    "    # file_format: Adjacency TSV (Tab-Separated Values)\n",
    "        # (Row, Col, Value) tuple describing the adjacency matrix of the graph in tab separated format.\n",
    "        # Adjacency matrix is of size Num_vertices x Num_vertices\n",
    "    # file: cora.cites\n",
    "    # num of nodes:      2708\n",
    "    # num of edges:      5278\n",
    "    # num of triangles:  1630\n",
    "\n",
    "g = Graph()\n",
    "g.build_from_tsv('../datasets/cora.cites')"
   ]
  },
  {
   "cell_type": "code",
   "execution_count": 3,
   "metadata": {},
   "outputs": [
    {
     "name": "stdout",
     "output_type": "stream",
     "text": [
      "Degree calculated to 2708 nodes, max degree: 35\n"
     ]
    }
   ],
   "source": [
    "# calculating degree of nodes\n",
    "\n",
    "degree = g.get_degree()\n",
    "max_degree = max(degree, key=degree.get)\n",
    "print('Degree calculated to %d nodes, max degree: %d' % (len(degree), max_degree))"
   ]
  },
  {
   "cell_type": "code",
   "execution_count": 4,
   "metadata": {},
   "outputs": [
    {
     "name": "stdout",
     "output_type": "stream",
     "text": [
      "Original graph deleted.\n",
      "78 subgraphs created.\n"
     ]
    }
   ],
   "source": [
    "# Transform in subgraph list if disconnected\n",
    "if not g._is_connected:\n",
    "    g.transform_subgraph_list(delete_original= True)"
   ]
  },
  {
   "cell_type": "code",
   "execution_count": 5,
   "metadata": {},
   "outputs": [
    {
     "name": "stdout",
     "output_type": "stream",
     "text": [
      "2708\n"
     ]
    }
   ],
   "source": [
    "# calculating eccentricity of nodes\n",
    "ecc = g.get_eccentricity()\n",
    "print(len(ecc))\n",
    "#ecc"
   ]
  },
  {
   "cell_type": "code",
   "execution_count": 6,
   "metadata": {},
   "outputs": [
    {
     "name": "stdout",
     "output_type": "stream",
     "text": [
      "211\n"
     ]
    }
   ],
   "source": [
    "# calculating position of nodes\n",
    "\n",
    "pos = g.get_position()\n",
    "print(len(pos))\n",
    "#pos"
   ]
  },
  {
   "cell_type": "code",
   "execution_count": 72,
   "metadata": {},
   "outputs": [
    {
     "name": "stdout",
     "output_type": "stream",
     "text": [
      "40 10 1\n",
      "1 19 2\n",
      "1 19 2\n",
      "[4330   40   10    1]\n",
      "[312409      1     19      2]\n",
      "[1154074       1      19       2]\n"
     ]
    }
   ],
   "source": [
    "# transform dicts in numpy array\n",
    "\n",
    "feat = np.zeros((2708,4), dtype='int')\n",
    "count = 0\n",
    "for key in degree.keys():\n",
    "    feat[count,0] = key\n",
    "    feat[count,1] = degree[key]\n",
    "    feat[count,2] = ecc[key]\n",
    "    feat[count,3] = pos[key] if key in pos else 0\n",
    "    count = count + 1\n",
    "\n",
    "# validating\n",
    "print(degree[4330], ecc[4330], pos[4330])\n",
    "print(degree[312409], ecc[312409], pos[312409])\n",
    "print(degree[1154074], ecc[1154074], pos[1154074])\n",
    "    \n",
    "print(np.select(feat[:,0] == 4330, feat))\n",
    "print(np.select(feat[:,0] == 312409, feat))\n",
    "print(np.select(feat[:,0] == 1154074, feat))"
   ]
  },
  {
   "cell_type": "code",
   "execution_count": 30,
   "metadata": {
    "scrolled": false
   },
   "outputs": [],
   "source": [
    "# generating file with features\n"
   ]
  }
 ],
 "metadata": {
  "kernelspec": {
   "display_name": "Python 3",
   "language": "python",
   "name": "python3"
  },
  "language_info": {
   "codemirror_mode": {
    "name": "ipython",
    "version": 3
   },
   "file_extension": ".py",
   "mimetype": "text/x-python",
   "name": "python",
   "nbconvert_exporter": "python",
   "pygments_lexer": "ipython3",
   "version": "3.6.4"
  }
 },
 "nbformat": 4,
 "nbformat_minor": 2
}
