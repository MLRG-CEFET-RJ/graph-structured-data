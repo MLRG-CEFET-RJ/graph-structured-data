{
 "cells": [
  {
   "cell_type": "code",
   "execution_count": 1,
   "source": [
    "import copy\r\n",
    "import pandas as pd\r\n",
    "import numpy as np\r\n",
    "import torch\r\n",
    "import torch.nn as nn\r\n",
    "import torch.optim as optim\r\n",
    "import matplotlib.pyplot as plt"
   ],
   "outputs": [],
   "metadata": {}
  },
  {
   "cell_type": "code",
   "execution_count": 2,
   "source": [
    "# paths\r\n",
    "G6_GRAPH_PATH = '../datasets/graph6/n10_blocks_toy/'\r\n",
    "#G6_GRAPH_NUM_FILES = len([name for name in os.listdir(G6_GRAPH_PATH) if os.path.isfile(os.path.join(G6_GRAPH_PATH, name))])\r\n",
    "G6_GRAPH_NUM_FILES = 10\r\n",
    "RESULT_DATA_PATH = 'opt_results/n10_blocks_toy/'\r\n",
    "#BUFFER = 300\r\n",
    "#NUM_NODES = 10"
   ],
   "outputs": [],
   "metadata": {}
  },
  {
   "cell_type": "code",
   "execution_count": 3,
   "source": [
    "# functions\r\n",
    "def load_data():\r\n",
    "    dataset = np.load('../datasets/opt_band_10_nodes_graph.npy')\r\n",
    "    np.random.shuffle(dataset)\r\n",
    "    len_train = int(dataset.shape[0]*0.6)\r\n",
    "    len_val = int(dataset.shape[0]*0.2)\r\n",
    "    len_test = dataset.shape[0]-len_train-len_val\r\n",
    "    #X_train, Y_train = dataset[:len_train,:100], dataset[:len_train,100:]\r\n",
    "    data_train = dataset[:len_train]\r\n",
    "    X_val, Y_val = dataset[len_train:len_train+len_val,:100], dataset[len_train:len_train+len_val,100:]\r\n",
    "    X_test, Y_test = dataset[len_train+len_val:,:100], dataset[len_train+len_val:,100:]\r\n",
    "    #return X_train,Y_train,X_val,Y_val,X_test,Y_test\r\n",
    "    return data_train,X_val,Y_val,X_test,Y_test"
   ],
   "outputs": [],
   "metadata": {}
  },
  {
   "cell_type": "code",
   "execution_count": 4,
   "source": [
    "#X_train, Y_train, X_val, Y_val, X_test, Y_test = load_data()\r\n",
    "data_train, X_val, Y_val, X_test, Y_test = load_data()\r\n",
    "print(data_train.shape)\r\n",
    "print(X_val.shape, Y_val.shape)\r\n",
    "print(X_test.shape, Y_test.shape)"
   ],
   "outputs": [
    {
     "output_type": "stream",
     "name": "stdout",
     "text": [
      "(7206, 110)\n",
      "(2402, 100) (2402, 10)\n",
      "(2402, 100) (2402, 10)\n"
     ]
    }
   ],
   "metadata": {}
  },
  {
   "cell_type": "code",
   "execution_count": 5,
   "source": [
    "data_train = torch.tensor(data_train,dtype=torch.float)\r\n",
    "X_val = torch.tensor(X_val,dtype=torch.float)\r\n",
    "Y_val = torch.tensor(Y_val,dtype=torch.float)\r\n",
    "X_test = torch.tensor(X_test,dtype=torch.float)\r\n",
    "Y_test = torch.tensor(Y_test,dtype=torch.float)"
   ],
   "outputs": [],
   "metadata": {}
  },
  {
   "cell_type": "code",
   "execution_count": 6,
   "source": [
    "# hiperparams\r\n",
    "opt_params = [(0.9,0.0), (0.4,0.0), (0.1,0.0), (0.9,0.4), (0.1,0.4)] # (learning_rate, momentum)\r\n",
    "\r\n",
    "# train params\r\n",
    "#epochs = 10000\r\n",
    "epochs = 1000\r\n",
    "goal = 0.5e-3\r\n",
    "#show = 100\r\n",
    "show = 20"
   ],
   "outputs": [],
   "metadata": {}
  },
  {
   "cell_type": "code",
   "execution_count": 7,
   "source": [
    "# neural network\r\n",
    "class Net(nn.Module):\r\n",
    "    def __init__(self):\r\n",
    "        super(Net, self).__init__()\r\n",
    "        self.fc1 = nn.Linear(45, 200)\r\n",
    "        self.fc2 = nn.Linear(200,10)\r\n",
    "\r\n",
    "    def forward(self, x):\r\n",
    "        x = torch.relu(self.fc1(x))\r\n",
    "        x = self.fc2(x)\r\n",
    "        return x"
   ],
   "outputs": [],
   "metadata": {}
  },
  {
   "cell_type": "code",
   "execution_count": 8,
   "source": [
    "class CustomLoss(nn.Module):\r\n",
    "    \r\n",
    "    def __init__(self):\r\n",
    "        super().__init__()\r\n",
    "        \r\n",
    "    def forward(self,output,target):\r\n",
    "        #return ((output-target)**2).mean() + (output % 1).sum(dim=1).mean()\r\n",
    "        return ((output-target)**2).mean()\r\n",
    "        #return ((output-target)**2).sum(dim=1).mean()\r\n",
    "    \r\n",
    "criterion = CustomLoss()"
   ],
   "outputs": [],
   "metadata": {}
  },
  {
   "cell_type": "code",
   "execution_count": 9,
   "source": [
    "# train\r\n",
    "\r\n",
    "# net instance\r\n",
    "net = Net()\r\n",
    "# optimizer\r\n",
    "#optimizer = optim.SGD(net.parameters(), lr=0.001, momentum=mm)\r\n",
    "optimizer = optim.SGD(net.parameters(), lr=0.001)\r\n",
    "\r\n",
    "train_loss = list()\r\n",
    "valid_loss = list()\r\n",
    "train_size = data_train.size()[0]\r\n",
    "batch_size = 30\r\n",
    "batchs = train_size // batch_size\r\n",
    "        \r\n",
    "print('\\nTrainning')\r\n",
    "for epoch in range(epochs): # loop over the dataset multiple times\r\n",
    "    \r\n",
    "    data_train = data_train[torch.randperm(train_size)] # shuffle\r\n",
    "    X_train, Y_train = data_train[:,:100], data_train[:,100:] # split\r\n",
    "    \r\n",
    "    start = 0\r\n",
    "    end = batch_size\r\n",
    "    \r\n",
    "    for _ in range(batchs):\r\n",
    "        batch = X_train[start:end]\r\n",
    "\r\n",
    "        # zero the parameter gradients\r\n",
    "        optimizer.zero_grad()\r\n",
    "\r\n",
    "        # forward + backward + optimize\r\n",
    "        outputs = net(batch)\r\n",
    "        loss = criterion(outputs, Y_train[start:end])\r\n",
    "        loss.backward()\r\n",
    "        optimizer.step()\r\n",
    "        \r\n",
    "        start += batch_size\r\n",
    "        end += batch_size\r\n",
    "\r\n",
    "        # goal\r\n",
    "        if loss.item() <= goal:\r\n",
    "            print('The goal of learning is reached')\r\n",
    "            print('{} Loss: {}'.format(epoch+1, loss.item()))\r\n",
    "            break\r\n",
    "            \r\n",
    "    # store error\r\n",
    "    train_loss.append(loss.item())\r\n",
    "    out = net(X_val)\r\n",
    "    val_loss = criterion(out,Y_val)\r\n",
    "    valid_loss.append(val_loss.item())\r\n",
    "            \r\n",
    "    # print statistics\r\n",
    "    if epoch % show == show-1: # print every show epochs\r\n",
    "        print('{} Loss: {}'.format(epoch+1, loss.item()))\r\n",
    "            \r\n",
    "    if loss.item() <= goal:\r\n",
    "        break\r\n",
    "        \r\n",
    "print('Finished Training')"
   ],
   "outputs": [
    {
     "output_type": "stream",
     "name": "stdout",
     "text": [
      "\n",
      "Trainning\n",
      "20 Loss: 5.988676071166992\n",
      "40 Loss: 5.497799396514893\n",
      "60 Loss: 5.418017387390137\n",
      "80 Loss: 5.853803634643555\n",
      "100 Loss: 6.3499436378479\n",
      "120 Loss: 7.0006256103515625\n",
      "140 Loss: 4.719515323638916\n",
      "160 Loss: 6.185303211212158\n",
      "180 Loss: 5.181384086608887\n",
      "200 Loss: 5.430373668670654\n",
      "220 Loss: 6.27240514755249\n",
      "240 Loss: 5.916441917419434\n",
      "260 Loss: 5.932056903839111\n",
      "280 Loss: 5.233405590057373\n",
      "300 Loss: 5.532390594482422\n",
      "320 Loss: 5.809094429016113\n",
      "340 Loss: 4.27669620513916\n",
      "360 Loss: 6.180533409118652\n",
      "380 Loss: 5.529397964477539\n",
      "400 Loss: 4.613333702087402\n",
      "420 Loss: 4.803040981292725\n",
      "440 Loss: 5.458315372467041\n",
      "460 Loss: 6.171590328216553\n",
      "480 Loss: 5.040018081665039\n",
      "500 Loss: 5.563745021820068\n",
      "520 Loss: 5.705639839172363\n",
      "540 Loss: 5.359729290008545\n",
      "560 Loss: 5.581821441650391\n",
      "580 Loss: 5.571043014526367\n",
      "600 Loss: 4.139194965362549\n",
      "620 Loss: 6.563718318939209\n",
      "640 Loss: 3.969479560852051\n",
      "660 Loss: 5.426319122314453\n",
      "680 Loss: 5.760090351104736\n",
      "700 Loss: 5.57887077331543\n",
      "720 Loss: 6.209649085998535\n",
      "740 Loss: 5.584207057952881\n",
      "760 Loss: 4.467132568359375\n",
      "780 Loss: 5.774901390075684\n",
      "800 Loss: 5.6500244140625\n",
      "820 Loss: 5.52117919921875\n",
      "840 Loss: 5.017228603363037\n",
      "860 Loss: 5.1092305183410645\n",
      "880 Loss: 4.850296497344971\n",
      "900 Loss: 5.908945083618164\n",
      "920 Loss: 2.957103967666626\n",
      "940 Loss: 4.595277786254883\n",
      "960 Loss: 4.988360404968262\n",
      "980 Loss: 6.082552909851074\n",
      "1000 Loss: 4.346462726593018\n",
      "Finished Training\n"
     ]
    }
   ],
   "metadata": {}
  },
  {
   "cell_type": "code",
   "execution_count": 10,
   "source": [
    "x = list(range(len(train_loss)))\n",
    "\n",
    "# consolidate\n",
    "fig, ax = plt.subplots()\n",
    "ax.plot(x, train_loss, label='train_error')\n",
    "ax.plot(x, valid_loss, label='valid_error')\n",
    "ax.set(xlabel='epochs', ylabel='error', title='loss')\n",
    "\n",
    "plt.legend()\n",
    "#plt.savefig('loss.png')\n",
    "plt.show()"
   ],
   "outputs": [
    {
     "output_type": "display_data",
     "data": {
      "text/plain": [
       "<Figure size 432x288 with 1 Axes>"
      ],
      "image/png": "[encoded data removed]"
     },
     "metadata": {}
    }
   ],
   "metadata": {}
  },
  {
   "cell_type": "code",
   "execution_count": 13,
   "source": [
    "out = net(X_val)\n",
    "error = criterion(out,Y_val)\n",
    "error"
   ],
   "outputs": [
    {
     "output_type": "execute_result",
     "data": {
      "text/plain": [
       "tensor(5.4135, grad_fn=<MeanBackward0>)"
      ]
     },
     "metadata": {},
     "execution_count": 13
    }
   ],
   "metadata": {}
  },
  {
   "cell_type": "code",
   "execution_count": 18,
   "source": [
    "out = net(X_val[0])\n",
    "print(out.round())\n",
    "print(Y_val[0])"
   ],
   "outputs": [
    {
     "output_type": "stream",
     "name": "stdout",
     "text": [
      "tensor([7., 5., 2., 3., 5., 4., 5., 6., 3., 4.], grad_fn=<RoundBackward>)\n",
      "tensor([9., 5., 1., 2., 7., 0., 6., 8., 4., 3.])\n"
     ]
    }
   ],
   "metadata": {}
  },
  {
   "cell_type": "markdown",
   "source": [
    "# A partir daqui são apenas tentativas que não deram certo.\n",
    "# Abaixo o senhor verá classes e funções que tentei implementar"
   ],
   "metadata": {}
  },
  {
   "cell_type": "code",
   "execution_count": null,
   "source": [],
   "outputs": [],
   "metadata": {}
  },
  {
   "cell_type": "code",
   "execution_count": 11,
   "source": [
    "(outputs % 1).sum(dim=1).mean()"
   ],
   "outputs": [
    {
     "output_type": "execute_result",
     "data": {
      "text/plain": [
       "tensor(4.8743, grad_fn=<MeanBackward0>)"
      ]
     },
     "metadata": {},
     "execution_count": 11
    }
   ],
   "metadata": {}
  },
  {
   "cell_type": "code",
   "execution_count": 25,
   "source": [
    "x = torch.randn(3,2)\n",
    "x_perm = x[torch.randperm(3)]\n",
    "x"
   ],
   "outputs": [
    {
     "output_type": "execute_result",
     "data": {
      "text/plain": [
       "tensor([[-0.8532, -2.3568],\n",
       "        [ 0.1840, -0.7984],\n",
       "        [ 0.1156,  0.3890]])"
      ]
     },
     "metadata": {},
     "execution_count": 25
    }
   ],
   "metadata": {}
  },
  {
   "cell_type": "code",
   "execution_count": 6,
   "source": [
    "# criterion\n",
    "class BandwidthLoss(torch.nn.Module):\n",
    "    \n",
    "    def __init__(self):\n",
    "        super(BandwidthLoss,self).__init__()\n",
    "        \n",
    "    def forward(self,X,OUT,Y):\n",
    "        diff = torch.sum((OUT - Y)**2,1)\n",
    "        return torch.mean(diff)\n",
    "\n",
    "criterion = BandwidthLoss()"
   ],
   "outputs": [],
   "metadata": {}
  },
  {
   "cell_type": "code",
   "execution_count": 14,
   "source": [
    "# criterion\n",
    "class BandwidthLoss(torch.nn.Module):\n",
    "    \n",
    "    def __init__(self):\n",
    "        super(BandwidthLoss,self).__init__()\n",
    "        \n",
    "    def forward(self,X,OUT,Y):\n",
    "        \n",
    "        worst_band = torch.tensor(9) # edge between node 1 and node 10\n",
    "    \n",
    "        # p1, distance between bands\n",
    "        # p2, repeated nums in sequence\n",
    "        # p3, sum of decimals\n",
    "        p1 = p2 = p3 = torch.tensor(0)\n",
    "\n",
    "        for x,out,y in list(zip(X,OUT,Y)):\n",
    "\n",
    "            ### p1\n",
    "            #print(out)\n",
    "            p = set()\n",
    "            out_list = list(map(round,out.clone().tolist()))\n",
    "            for item in out_list:\n",
    "                #print(item, end=' ')\n",
    "                p.add(item)\n",
    "            #print(p)\n",
    "            if len(p) < 10:\n",
    "                p1 = torch.add(p1,worst_band)\n",
    "            else:\n",
    "                graph = nx.from_numpy_array(x.numpy().reshape(10,10))\n",
    "                print('achou seq valido: ', out.clone().tolist())\n",
    "                out_band = get_bandwidth(graph,out_list)\n",
    "                y_band = get_bandwidth(graph,list(map(round,y.clone().tolist())))\n",
    "                print(out_band,y_band,out_band-y_band)\n",
    "                break\n",
    "\n",
    "            ### p2\n",
    "            #p2 += 10 - len(p)\n",
    "            p2 = torch.add(p2,10-len(p))\n",
    "\n",
    "            ### p3\n",
    "\n",
    "        # J = (p1+p2) * (p3+1)\n",
    "        J = torch.tensor((torch.mul((p1/len(OUT)), (p2+1))), dtype=torch.float) \n",
    "        J.requires_grad = True\n",
    "        #J.grad_fn = BandwidthLoss()\n",
    "        return J\n",
    "        \n",
    "        \n",
    "        #y_shape = y.size()[1]\n",
    "        #x_added_dim = x.unsqueeze(1)\n",
    "        #x_stacked_along_dimension1 = x_added_dim.repeat(1,NUM_WORDS,1)\n",
    "        #diff = torch.sum((y - x_stacked_along_dimension1)**2,2)\n",
    "        #totloss = torch.sum(torch.sum(torch.sum(diff)))\n",
    "        #return totloss\n",
    "\n",
    "\n",
    "\n",
    "\n",
    "def bandwidth_loss(X,OUT,Y):\n",
    "    \n",
    "    worst_band = 9 # edge between node 1 and node 10\n",
    "    \n",
    "    # p1, distance between bands\n",
    "    # p2, repeated nums in sequence\n",
    "    # p3, sum of decimals\n",
    "    p1 = p2 = p3 = 0\n",
    "    \n",
    "    for x,out,y in list(zip(X,OUT,Y)):\n",
    "        \n",
    "        ### p1\n",
    "        #print(out)\n",
    "        p = set()\n",
    "        out_list = list(map(round,out.clone().tolist()))\n",
    "        for item in out_list:\n",
    "            #print(item, end=' ')\n",
    "            p.add(item)\n",
    "        #print(p)\n",
    "        if len(p) < 10:\n",
    "            p1 += worst_band\n",
    "        else:\n",
    "            graph = nx.from_numpy_array(x.numpy().reshape(10,10))\n",
    "            print('achou seq valido: ', out.clone().tolist())\n",
    "            out_band = get_bandwidth(graph,out_list)\n",
    "            y_band = get_bandwidth(graph,list(map(round,y.clone().tolist())))\n",
    "            print(out_band,y_band,out_band-y_band)\n",
    "            break\n",
    "    \n",
    "        ### p2\n",
    "        #p2 += 10 - len(p)\n",
    "        \n",
    "        ### p3\n",
    "    \n",
    "    # J = (p1+p2) * (p3+1)\n",
    "    #return torch.mul((p1/len(OUT)), (p2+1))\n",
    "    return p1\n",
    "\n",
    "\n",
    "def criterion_teste(y_pred, y):\n",
    "    return (y_pred - y).pow(2).sum()\n",
    "\n",
    "#criterion = nn.MSELoss()\n",
    "#criterion = bandwidth_loss\n",
    "criterion = criterion_teste\n",
    "#criterion = BandwidthLoss()"
   ],
   "outputs": [],
   "metadata": {}
  },
  {
   "cell_type": "code",
   "execution_count": 12,
   "source": [
    "def my_loss(output, target):\n",
    "    loss = torch.mean((output - target)**2)\n",
    "    return loss\n",
    "\n",
    "model = nn.Linear(2, 2)\n",
    "x = torch.randn(1, 2)\n",
    "target = torch.randn(1, 2)\n",
    "output = model(x)\n",
    "loss = my_loss(output, target)\n",
    "loss.backward()\n",
    "print(model.weight.grad)"
   ],
   "outputs": [
    {
     "output_type": "stream",
     "name": "stdout",
     "text": [
      "tensor([[-0.4783,  0.2935],\n",
      "        [ 0.7380, -0.4529]])\n"
     ]
    }
   ],
   "metadata": {}
  },
  {
   "cell_type": "code",
   "execution_count": 37,
   "source": [
    "w = torch.randint(9,(3,3))\n",
    "z = torch.randint(9,(3,3))\n",
    "print(w)\n",
    "print(z)\n",
    "print((w - z)**2)\n",
    "diff = torch.sum((w - z)**2,1)\n",
    "print(diff)\n",
    "torch.mean(diff)"
   ],
   "outputs": [
    {
     "output_type": "stream",
     "name": "stdout",
     "text": [
      "tensor([[2, 3, 6],\n",
      "        [3, 3, 8],\n",
      "        [8, 4, 1]])\n",
      "tensor([[1, 2, 5],\n",
      "        [3, 7, 0],\n",
      "        [6, 4, 4]])\n",
      "tensor([[ 1,  1,  1],\n",
      "        [ 0, 16, 64],\n",
      "        [ 4,  0,  9]])\n",
      "tensor([ 3, 80, 13])\n"
     ]
    },
    {
     "output_type": "error",
     "ename": "RuntimeError",
     "evalue": "Can only calculate the mean of floating types. Got Long instead.",
     "traceback": [
      "\u001b[0;31m---------------------------------------------------------------------------\u001b[0m",
      "\u001b[0;31mRuntimeError\u001b[0m                              Traceback (most recent call last)",
      "\u001b[0;32m<ipython-input-37-a859fc64f841>\u001b[0m in \u001b[0;36m<module>\u001b[0;34m()\u001b[0m\n\u001b[1;32m      6\u001b[0m \u001b[0mdiff\u001b[0m \u001b[0;34m=\u001b[0m \u001b[0mtorch\u001b[0m\u001b[0;34m.\u001b[0m\u001b[0msum\u001b[0m\u001b[0;34m(\u001b[0m\u001b[0;34m(\u001b[0m\u001b[0mw\u001b[0m \u001b[0;34m-\u001b[0m \u001b[0mz\u001b[0m\u001b[0;34m)\u001b[0m\u001b[0;34m**\u001b[0m\u001b[0;36m2\u001b[0m\u001b[0;34m,\u001b[0m\u001b[0;36m1\u001b[0m\u001b[0;34m)\u001b[0m\u001b[0;34m\u001b[0m\u001b[0;34m\u001b[0m\u001b[0m\n\u001b[1;32m      7\u001b[0m \u001b[0mprint\u001b[0m\u001b[0;34m(\u001b[0m\u001b[0mdiff\u001b[0m\u001b[0;34m)\u001b[0m\u001b[0;34m\u001b[0m\u001b[0;34m\u001b[0m\u001b[0m\n\u001b[0;32m----> 8\u001b[0;31m \u001b[0mtorch\u001b[0m\u001b[0;34m.\u001b[0m\u001b[0mmean\u001b[0m\u001b[0;34m(\u001b[0m\u001b[0mdiff\u001b[0m\u001b[0;34m)\u001b[0m\u001b[0;34m\u001b[0m\u001b[0;34m\u001b[0m\u001b[0m\n\u001b[0m",
      "\u001b[0;31mRuntimeError\u001b[0m: Can only calculate the mean of floating types. Got Long instead."
     ]
    }
   ],
   "metadata": {}
  },
  {
   "cell_type": "code",
   "execution_count": null,
   "source": [
    "def calcula_banda(sequence):\n",
    "    # calculos\n",
    "    return banda # int\n",
    "\n",
    "\n",
    "def criterion(OUT,TARGET):\n",
    "    J = 0\n",
    "    for out,target in list(zip(OUT,TARGET)):\n",
    "        banda_out = calcula_banda(out)\n",
    "        banda_target = calcula_banda(target)\n",
    "        distancia = banda_out - banda_target\n",
    "        J += distancia\n",
    "    return J"
   ],
   "outputs": [],
   "metadata": {}
  }
 ],
 "metadata": {
  "kernelspec": {
   "display_name": "Python 3",
   "language": "python",
   "name": "python3"
  },
  "language_info": {
   "codemirror_mode": {
    "name": "ipython",
    "version": 3
   },
   "file_extension": ".py",
   "mimetype": "text/x-python",
   "name": "python",
   "nbconvert_exporter": "python",
   "pygments_lexer": "ipython3",
   "version": "3.6.8"
  }
 },
 "nbformat": 4,
 "nbformat_minor": 2
}