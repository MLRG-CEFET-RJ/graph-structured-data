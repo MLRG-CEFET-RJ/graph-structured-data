{
 "cells": [
  {
   "cell_type": "code",
   "execution_count": 1,
   "metadata": {},
   "outputs": [
    {
     "name": "stdout",
     "output_type": "stream",
     "text": [
      "*****matriz Laplace sem ordenação*****\n",
      "largura da banda da matriz: 17\n",
      "---------------------\n",
      "ordenando: [7, 3, 2, 6, 1, 5, 4, 0, 8]\n",
      "---------------------\n",
      "****Matriz Laplace com ordenação****\n",
      "bandwidth: 7\n"
     ]
    }
   ],
   "source": [
    "import networkx as nx\n",
    "import matplotlib.pyplot as plt\n",
    "import numpy as np\n",
    "from networkx.utils import reverse_cuthill_mckee_ordering\n",
    "G = nx.Graph()\n",
    "G.add_edges_from([(0,1),(1,2),(2,3),(0,4),(0,5),(6,7),(3,6), (0,8),(6,4),(6,5),(1,3)])   #grafo criado por mim para testes\n",
    "\n",
    "#print(\"---------------------\")\n",
    "#print(nx.nodes(G))                                    #printando os nós do grafo\n",
    "#print(\"---------------------\")\n",
    "#print (\"****informações do grafo***\\n\",nx.info(G))          #printando as insformações do grafo\n",
    "#print(\"---------------------\")\n",
    "\n",
    "\n",
    "print(\"*****matriz Laplace sem ordenação*****\")\n",
    "A=nx.laplacian_matrix(G)                           #Matriz laplaciana\n",
    "\n",
    "x,y=np.nonzero(A)                                  #(numpy) números diferentes de 0 (nós vizinhos + o própio nó em questão)\n",
    "\n",
    "print (\"largura da banda da matriz: %d\"%((y-x).max()+(x-y).max()+1))  #banda da matriz sem reorganizçaõ da matriz esparsa\n",
    "\n",
    "\n",
    "rcm=list(reverse_cuthill_mckee_ordering(G))        #transforma o grafo em uma \"Sparse matrix\"\n",
    "print(\"---------------------\")\n",
    "\n",
    "print (\"ordenando:\",rcm)\n",
    "print(\"---------------------\")\n",
    "#R=nx.Graph()\n",
    "#R.add_nodes_from(nodelist=rcm)\n",
    "#print(R)\n",
    "B = nx.laplacian_matrix(G,nodelist=rcm)             #Matriz laplaciana feita com a reorganização da matriz esparsa\n",
    "print(\"****Matriz Laplace com ordenação****\")\n",
    "x,y = np.nonzero(B)\n",
    "\n",
    "print(\"bandwidth: %d\"%((y-x).max()+(x-y).max()+1))       ##banda da \"nova matriz\"\n",
    "\n",
    "\n",
    "R=nx.Graph()\n",
    "R.add_edges_from([(7,3),(3,2),(2,6),(1,7),(5,4),(0,4),(7,8),(7,5),(3,6),(6,4),(4,1)])\n",
    "\n",
    "\n",
    "#pos1 = nx.spring_layout(R)                                   #PLOTANDO COM RCM\n",
    "#nx.draw(R, pos1)\n",
    "#nx.draw_networkx_labels(R, pos1, font_size=20)\n",
    "\n",
    "\n",
    "pos = nx.spring_layout(G)\n"
   ]
  },
  {
   "cell_type": "code",
   "execution_count": 3,
   "metadata": {},
   "outputs": [
    {
     "data": {
      "image/png": "[encoded data removed]",
      "text/plain": [
       "<matplotlib.figure.Figure at 0x7f771c0fe358>"
      ]
     },
     "metadata": {},
     "output_type": "display_data"
    }
   ],
   "source": [
    "#printando o grafo\n",
    "nx.draw(G, pos)\n",
    "nx.draw_networkx_labels(G, pos, font_size=12)\n",
    "\n",
    "#nx.draw(G)                                       #printando o grafo\n",
    "plt.show()                                   "
   ]
  },
  {
   "cell_type": "code",
   "execution_count": null,
   "metadata": {},
   "outputs": [],
   "source": []
  }
 ],
 "metadata": {
  "kernelspec": {
   "display_name": "Python 3",
   "language": "python",
   "name": "python3"
  },
  "language_info": {
   "codemirror_mode": {
    "name": "ipython",
    "version": 3
   },
   "file_extension": ".py",
   "mimetype": "text/x-python",
   "name": "python",
   "nbconvert_exporter": "python",
   "pygments_lexer": "ipython3",
   "version": "3.6.4"
  }
 },
 "nbformat": 4,
 "nbformat_minor": 2
}
