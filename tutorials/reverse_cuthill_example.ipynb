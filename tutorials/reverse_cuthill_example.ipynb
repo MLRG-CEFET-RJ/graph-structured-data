{
 "cells": [
  {
   "cell_type": "code",
   "execution_count": 50,
   "source": [
    "import networkx as nx\r\n",
    "import matplotlib.pyplot as plt\r\n",
    "import numpy as np\r\n",
    "from networkx.utils import reverse_cuthill_mckee_ordering"
   ],
   "outputs": [],
   "metadata": {}
  },
  {
   "cell_type": "code",
   "execution_count": 51,
   "source": [
    "def get_bandwidth(G):\r\n",
    "    L = nx.laplacian_matrix(G, nodelist=sorted(G.nodes)) # Laplacian Matrix\r\n",
    "    x,y = np.nonzero(L)\r\n",
    "    print(type(x))\r\n",
    "    print(type(y))\r\n",
    "    print(x)\r\n",
    "    print(y)\r\n",
    "    # return (y-x).max()+(x-y).max()+1 # What should be?\r\n",
    "    return (x-y).max()\r\n",
    "    \r\n",
    "\r\n",
    "def print_nodes_info(G):\r\n",
    "    print(\"------------------------------------------\")\r\n",
    "    for n in sorted(G.nodes()):\r\n",
    "        print('Id node {} has label {} / degree: {}'.format(G.nodes[n]['id'], n, G.degree(n)))\r\n",
    "    print(\"------------------------------------------\")\r\n",
    "\r\n",
    "\r\n",
    "def plot_graph(G):\r\n",
    "    pos = nx.spring_layout(G)\r\n",
    "    nx.draw(G, pos)\r\n",
    "    nx.draw_networkx_labels(G, pos, font_size=12)\r\n",
    "    plt.show()"
   ],
   "outputs": [],
   "metadata": {}
  },
  {
   "cell_type": "code",
   "execution_count": 52,
   "source": [
    "# building graph\r\n",
    "G = nx.Graph()\r\n",
    "G.add_edges_from([(0,1),(6,7),(1,2),(0,8),(2,3),(0,4),(0,5),(3,6),(6,4),(6,5),(1,3)])\r\n",
    "\r\n",
    "# add ids to nodes\r\n",
    "attrs = dict()\r\n",
    "for i in range(9):\r\n",
    "    attrs[i] = {'id': i}\r\n",
    "nx.set_node_attributes(G, attrs)\r\n",
    "\r\n",
    "print_nodes_info(G)"
   ],
   "outputs": [
    {
     "output_type": "stream",
     "name": "stdout",
     "text": [
      "------------------------------------------\n",
      "Id node 0 has label 0 / degree: 4\n",
      "Id node 1 has label 1 / degree: 3\n",
      "Id node 2 has label 2 / degree: 2\n",
      "Id node 3 has label 3 / degree: 3\n",
      "Id node 4 has label 4 / degree: 2\n",
      "Id node 5 has label 5 / degree: 2\n",
      "Id node 6 has label 6 / degree: 4\n",
      "Id node 7 has label 7 / degree: 1\n",
      "Id node 8 has label 8 / degree: 1\n",
      "------------------------------------------\n"
     ]
    }
   ],
   "metadata": {}
  },
  {
   "cell_type": "code",
   "execution_count": 53,
   "source": [
    "print('Bandwidth of G: %d' % get_bandwidth(G))\r\n",
    "plot_graph(G)"
   ],
   "outputs": [
    {
     "output_type": "stream",
     "name": "stdout",
     "text": [
      "ppp\n",
      "  (0, 0)\t4\n",
      "  (0, 1)\t-1\n",
      "  (0, 4)\t-1\n",
      "  (0, 5)\t-1\n",
      "  (0, 8)\t-1\n",
      "  (1, 0)\t-1\n",
      "  (1, 1)\t3\n",
      "  (1, 2)\t-1\n",
      "  (1, 3)\t-1\n",
      "  (2, 1)\t-1\n",
      "  (2, 2)\t2\n",
      "  (2, 3)\t-1\n",
      "  (3, 1)\t-1\n",
      "  (3, 2)\t-1\n",
      "  (3, 3)\t3\n",
      "  (3, 6)\t-1\n",
      "  (4, 0)\t-1\n",
      "  (4, 4)\t2\n",
      "  (4, 6)\t-1\n",
      "  (5, 0)\t-1\n",
      "  (5, 5)\t2\n",
      "  (5, 6)\t-1\n",
      "  (6, 3)\t-1\n",
      "  (6, 4)\t-1\n",
      "  (6, 5)\t-1\n",
      "  (6, 6)\t4\n",
      "  (6, 7)\t-1\n",
      "  (7, 6)\t-1\n",
      "  (7, 7)\t1\n",
      "  (8, 0)\t-1\n",
      "  (8, 8)\t1\n",
      "<class 'scipy.sparse.csr.csr_matrix'>\n",
      "ppp1\n",
      "  (0, 0)\t4\n",
      "  (0, 1)\t-1\n",
      "  (0, 4)\t-1\n",
      "  (0, 5)\t-1\n",
      "  (0, 8)\t-1\n",
      "ppp2\n",
      "  (0, 0)\t-1\n",
      "  (0, 1)\t3\n",
      "  (0, 2)\t-1\n",
      "  (0, 3)\t-1\n",
      "ppp3\n",
      "  (0, 1)\t-1\n",
      "  (0, 2)\t2\n",
      "  (0, 3)\t-1\n",
      "Bandwidth of G: 8\n"
     ]
    },
    {
     "output_type": "display_data",
     "data": {
      "text/plain": [
       "<Figure size 432x288 with 1 Axes>"
      ],
      "image/png": "[encoded data removed]"
     },
     "metadata": {}
    }
   ],
   "metadata": {}
  },
  {
   "cell_type": "code",
   "execution_count": 54,
   "source": [
    "# relabel nodes using rcm\r\n",
    "# rcm = list(reverse_cuthill_mckee_ordering(G))\r\n",
    "# mapping = dict(zip(rcm, sorted(G.nodes)))\r\n",
    "# G = nx.relabel_nodes(G, mapping)\r\n",
    "# Or:\r\n",
    "rcm = list(reverse_cuthill_mckee_ordering(G))\r\n",
    "G = nx.adjacency_matrix(G, nodelist=rcm)\r\n",
    "G = nx.Graph(G)\r\n",
    "attrs2 = dict()\r\n",
    "for i in G.nodes:\r\n",
    "    attrs2[i] = {'id': rcm[i]}\r\n",
    "nx.set_node_attributes(G, attrs2)\r\n",
    "\r\n",
    "print('Bandwidth of G: %d' % get_bandwidth(G))\r\n",
    "plot_graph(G)\r\n",
    "print_nodes_info(G)"
   ],
   "outputs": [
    {
     "output_type": "stream",
     "name": "stdout",
     "text": [
      "ppp\n",
      "  (0, 0)\t1\n",
      "  (0, 3)\t-1\n",
      "  (1, 1)\t3\n",
      "  (1, 2)\t-1\n",
      "  (1, 3)\t-1\n",
      "  (1, 4)\t-1\n",
      "  (2, 1)\t-1\n",
      "  (2, 2)\t2\n",
      "  (2, 4)\t-1\n",
      "  (3, 0)\t-1\n",
      "  (3, 1)\t-1\n",
      "  (3, 3)\t4\n",
      "  (3, 5)\t-1\n",
      "  (3, 6)\t-1\n",
      "  (4, 1)\t-1\n",
      "  (4, 2)\t-1\n",
      "  (4, 4)\t3\n",
      "  (4, 7)\t-1\n",
      "  (5, 3)\t-1\n",
      "  (5, 5)\t2\n",
      "  (5, 7)\t-1\n",
      "  (6, 3)\t-1\n",
      "  (6, 6)\t2\n",
      "  (6, 7)\t-1\n",
      "  (7, 4)\t-1\n",
      "  (7, 5)\t-1\n",
      "  (7, 6)\t-1\n",
      "  (7, 7)\t4\n",
      "  (7, 8)\t-1\n",
      "  (8, 7)\t-1\n",
      "  (8, 8)\t1\n",
      "<class 'scipy.sparse.csr.csr_matrix'>\n",
      "ppp1\n",
      "  (0, 0)\t1\n",
      "  (0, 3)\t-1\n",
      "ppp2\n",
      "  (0, 1)\t3\n",
      "  (0, 2)\t-1\n",
      "  (0, 3)\t-1\n",
      "  (0, 4)\t-1\n",
      "ppp3\n",
      "  (0, 1)\t-1\n",
      "  (0, 2)\t2\n",
      "  (0, 4)\t-1\n",
      "Bandwidth of G: 3\n"
     ]
    },
    {
     "output_type": "display_data",
     "data": {
      "text/plain": [
       "<Figure size 432x288 with 1 Axes>"
      ],
      "image/png": "[encoded data removed]"
     },
     "metadata": {}
    },
    {
     "output_type": "stream",
     "name": "stdout",
     "text": [
      "------------------------------------------\n",
      "Id node 7 has label 0 / degree: 1\n",
      "Id node 3 has label 1 / degree: 3\n",
      "Id node 2 has label 2 / degree: 2\n",
      "Id node 6 has label 3 / degree: 4\n",
      "Id node 1 has label 4 / degree: 3\n",
      "Id node 5 has label 5 / degree: 2\n",
      "Id node 4 has label 6 / degree: 2\n",
      "Id node 0 has label 7 / degree: 4\n",
      "Id node 8 has label 8 / degree: 1\n",
      "------------------------------------------\n"
     ]
    }
   ],
   "metadata": {}
  }
 ],
 "metadata": {
  "kernelspec": {
   "name": "python3",
   "display_name": "Python 3.9.1 64-bit"
  },
  "language_info": {
   "codemirror_mode": {
    "name": "ipython",
    "version": 3
   },
   "file_extension": ".py",
   "mimetype": "text/x-python",
   "name": "python",
   "nbconvert_exporter": "python",
   "pygments_lexer": "ipython3",
   "version": "3.9.1"
  },
  "interpreter": {
   "hash": "63fd5069d213b44bf678585dea6b12cceca9941eaf7f819626cde1f2670de90d"
  }
 },
 "nbformat": 4,
 "nbformat_minor": 2
}