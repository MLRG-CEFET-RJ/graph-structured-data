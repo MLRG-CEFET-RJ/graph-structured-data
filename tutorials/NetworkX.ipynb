{
 "cells": [
  {
   "cell_type": "code",
   "execution_count": 1,
   "metadata": {},
   "outputs": [],
   "source": [
    "import networkx as nx\n",
    "# nx.test() \n",
    "\n",
    "import matplotlib.pyplot as plt # this is necessary to drawing graphs..."
   ]
  },
  {
   "cell_type": "code",
   "execution_count": 2,
   "metadata": {},
   "outputs": [],
   "source": [
    "def print_nodes_and_edges(G):\n",
    "    for g in G:\n",
    "        print(g.graph['id'], '.nodes: ', g.nodes, sep=\"\")\n",
    "        print(g.graph['id'], '.edges: ', g.edges, sep=\"\")\n",
    "    print('----------------------------------------')"
   ]
  },
  {
   "cell_type": "code",
   "execution_count": 3,
   "metadata": {},
   "outputs": [
    {
     "name": "stdout",
     "output_type": "stream",
     "text": [
      "G.nodes: []\n",
      "G.edges: []\n",
      "H.nodes: [0, 1, 2, 3, 4, 5, 6, 7, 8, 9]\n",
      "H.edges: [(0, 1), (1, 2), (2, 3), (3, 4), (4, 5), (5, 6), (6, 7), (7, 8), (8, 9)]\n",
      "----------------------------------------\n",
      "G.nodes: [0, 1, 2, 3, 4, 5, 6, 7, 8, 9]\n",
      "G.edges: [(0, 1), (1, 2), (2, 3), (3, 4), (4, 5), (5, 6), (6, 7), (7, 8), (8, 9)]\n",
      "----------------------------------------\n",
      "G.nodes: [0, 1, 2, 3, 4, 5, 6, 7, 8, 9]\n",
      "G.edges: [(0, 1), (1, 2), (2, 3), (3, 4), (4, 5), (5, 6), (6, 7), (7, 8), (8, 9)]\n",
      "H.nodes: []\n",
      "H.edges: []\n",
      "----------------------------------------\n"
     ]
    }
   ],
   "source": [
    "# creating a graph and adding nodes and edges\n",
    "G = nx.Graph(id='G')\n",
    "H = nx.path_graph(10)\n",
    "H.graph['id'] = 'H'\n",
    "print_nodes_and_edges([G,H])\n",
    "\n",
    "# populating G with H nodes and edges\n",
    "G.add_nodes_from(H.nodes)\n",
    "G.add_edges_from(H.edges)\n",
    "print_nodes_and_edges([G])\n",
    "\n",
    "# Deleting all edges and nodes from H\n",
    "H.clear()\n",
    "H.graph['id'] = 'H' # we need to reassing because clear() excludes attributes as well\n",
    "\n",
    "# G still keep edges and nodes. add_nodes_from() and add_edges_from() make a copy by value and not by reference\n",
    "print_nodes_and_edges([G,H])"
   ]
  },
  {
   "cell_type": "code",
   "execution_count": 4,
   "metadata": {},
   "outputs": [
    {
     "name": "stdout",
     "output_type": "stream",
     "text": [
      "T.nodes: [0, 1, 2, 3, 4, 5, 6, 7, 8, 9]\n",
      "T.edges: [(0, 1), (1, 2), (2, 3), (3, 4), (4, 5), (5, 6), (6, 7), (7, 8), (8, 9)]\n",
      "----------------------------------------\n"
     ]
    }
   ],
   "source": [
    "# If edges are copied, nodes come together\n",
    "\n",
    "T = nx.Graph(id='T')\n",
    "T.add_edges_from(G.edges)\n",
    "print_nodes_and_edges([T])"
   ]
  },
  {
   "cell_type": "code",
   "execution_count": 5,
   "metadata": {},
   "outputs": [
    {
     "name": "stdout",
     "output_type": "stream",
     "text": [
      "{0: {}, 2: {}}\n",
      "2\n",
      "{0: {}, 2: {}}\n",
      "2\n"
     ]
    }
   ],
   "source": [
    "# Finding neighbors\n",
    "\n",
    "print(G.adj[1])    # or list(G.neighbors(1))\n",
    "print(G.degree[1]) # the number of edges incident to 1\n",
    "\n",
    "G.add_edge(1,2)    # edge already exists so nothing will be made\n",
    "\n",
    "print(G.adj[1])    # or list(G.neighbors(1))\n",
    "print(G.degree[1]) # the number of edges incident to 1"
   ]
  },
  {
   "cell_type": "code",
   "execution_count": 6,
   "metadata": {},
   "outputs": [
    {
     "name": "stdout",
     "output_type": "stream",
     "text": [
      "1\n",
      "{2: {'weight': 0.125}, 3: {'weight': 0.75}}\n",
      "(1, 2, 0.125)\n",
      "2\n",
      "{1: {'weight': 0.125}, 4: {'weight': 1.2}}\n",
      "(2, 1, 0.125)\n",
      "3\n",
      "{1: {'weight': 0.75}, 4: {'weight': 0.375}}\n",
      "(3, 4, 0.375)\n",
      "4\n",
      "{2: {'weight': 1.2}, 3: {'weight': 0.375}}\n",
      "(4, 3, 0.375)\n"
     ]
    }
   ],
   "source": [
    "# Fast examination of all (node, adjacency) pairs\n",
    "# Undirected graphs will see adjacencys twice for same pair\n",
    "\n",
    "FG = nx.Graph()\n",
    "FG.add_weighted_edges_from([(1, 2, 0.125), (1, 3, 0.75), (2, 4, 1.2), (3, 4, 0.375)])\n",
    "for n, nbrs in FG.adj.items(): # or FG.adjacency()\n",
    "    print(n)\n",
    "    print(nbrs)\n",
    "    for nbr, eattr in nbrs.items():\n",
    "        wt = eattr['weight']\n",
    "        if wt < 0.5: print('(%d, %d, %.3f)' % (n, nbr, wt))"
   ]
  },
  {
   "cell_type": "code",
   "execution_count": 7,
   "metadata": {},
   "outputs": [
    {
     "name": "stdout",
     "output_type": "stream",
     "text": [
      "weigth of sucessors nodes of 1\n",
      "0.5\n",
      "weigth of predecessors nodes of 1\n",
      "0.75\n",
      "sum of weigth of all sucessors and predecessors nodes of 1\n",
      "1.25\n",
      "neighbors() is equivalent to sucessors() in directed graphs\n",
      "[2]\n",
      "[2]\n"
     ]
    }
   ],
   "source": [
    "# Example of directed graph\n",
    "\n",
    "DG = nx.DiGraph()\n",
    "DG.add_weighted_edges_from([(1, 2, 0.5), (3, 1, 0.75)])\n",
    "\n",
    "print('weigth of sucessors nodes of 1')\n",
    "print(DG.out_degree(1, weight='weight'))\n",
    "\n",
    "print('weigth of predecessors nodes of 1')\n",
    "print(DG.in_degree(1, weight='weight'))\n",
    "\n",
    "print('sum of weigth of all sucessors and predecessors nodes of 1')\n",
    "print(DG.degree(1, weight='weight'))\n",
    "\n",
    "print('neighbors() is equivalent to sucessors() in directed graphs')\n",
    "print(list(DG.successors(1)))\n",
    "print(list(DG.neighbors(1)))"
   ]
  },
  {
   "cell_type": "code",
   "execution_count": 8,
   "metadata": {},
   "outputs": [
    {
     "name": "stdout",
     "output_type": "stream",
     "text": [
      "(1, {2: {'weight': 0.5}})\n",
      "(2, {})\n",
      "(3, {1: {'weight': 0.75}})\n",
      "---------------------\n",
      "(1, {2: {'weight': 0.5}, 3: {'weight': 0.75}})\n",
      "(2, {1: {'weight': 0.5}})\n",
      "(3, {1: {'weight': 0.75}})\n"
     ]
    }
   ],
   "source": [
    "# Converting a directed to undirected graph\n",
    "\n",
    "UG = nx.Graph(DG) # or DG.to_undirected(). This will overwrite de graph DG\n",
    "\n",
    "for item in DG.adjacency():\n",
    "    print(item)\n",
    "    \n",
    "print('---------------------')\n",
    "    \n",
    "for item in UG.adjacency():\n",
    "    print(item)"
   ]
  },
  {
   "cell_type": "code",
   "execution_count": 9,
   "metadata": {},
   "outputs": [
    {
     "name": "stdout",
     "output_type": "stream",
     "text": [
      "Name: \n",
      "Type: Graph\n",
      "Number of nodes: 6\n",
      "Number of edges: 10\n",
      "Average degree:   3.3333\n"
     ]
    }
   ],
   "source": [
    "# Loading a dataset from file\n",
    "    # file: roadNet-CA (Road network of California)\n",
    "    # num of nodes:     1.965.206\n",
    "    # num of edges:     5.533.214\n",
    "    # num of triangles:   120.676\n",
    "    \n",
    "\n",
    "G = nx.read_adjlist(\"../datasets/test.tsv\")\n",
    "print(nx.info(G))"
   ]
  },
  {
   "cell_type": "code",
   "execution_count": 10,
   "metadata": {},
   "outputs": [
    {
     "data": {
      "image/png": "[encoded data removed]",
      "text/plain": [
       "<matplotlib.figure.Figure at 0x7f2302e61b00>"
      ]
     },
     "metadata": {},
     "output_type": "display_data"
    }
   ],
   "source": [
    "# Drawing a graph\n",
    "nx.draw(G, with_labels=True)"
   ]
  },
  {
   "cell_type": "code",
   "execution_count": 11,
   "metadata": {},
   "outputs": [
    {
     "name": "stdout",
     "output_type": "stream",
     "text": [
      "Is graph connected?  True\n",
      "Creating a not connected graph...\n",
      "Is graph connected?  False\n",
      "connected components\n",
      "{0, 1, 2, 3}\n",
      "{10, 11, 12}\n",
      "lengths of graph connected components:  [4, 3]\n",
      "max length:  4\n"
     ]
    },
    {
     "data": {
      "image/png": "[encoded data removed]",
      "text/plain": [
       "<matplotlib.figure.Figure at 0x7f22fb6039b0>"
      ]
     },
     "metadata": {},
     "output_type": "display_data"
    }
   ],
   "source": [
    "# Connected and not connected graphs\n",
    "\n",
    "print('Is graph connected? ', nx.is_connected(G))\n",
    "\n",
    "print('Creating a not connected graph...')\n",
    "G = nx.path_graph(4)\n",
    "G.add_path([10, 11, 12])\n",
    "nx.draw(G, with_labels=True)\n",
    "\n",
    "print('Is graph connected? ', nx.is_connected(G))\n",
    "\n",
    "print('connected components')\n",
    "for cc in nx.connected_components(G):\n",
    "    print(cc)\n",
    "print('lengths of graph connected components: ' ,[len(c) for c in sorted(nx.connected_components(G), key=len, reverse=True)])\n",
    "print('max length: ', len(max(nx.connected_components(G), key=len)))\n",
    "\n"
   ]
  },
  {
   "cell_type": "markdown",
   "metadata": {},
   "source": [
    "# Measures\n",
    "\n",
    "ECCENTRICITY\n",
    "The eccentricity of a node v is the maximum distance from v to all other nodes in G.\n",
    "\n",
    "DIAMETER\n",
    "maximum eccentricity.\n",
    "\n",
    "RADIUS\n",
    "minimum eccentricity.\n",
    "\n",
    "CENTER\n",
    "Set of nodes with eccentricity equal to radius.\n",
    "\n",
    "PERIPHERY\n",
    "The periphery is the set of nodes with eccentricity equal to the diameter."
   ]
  },
  {
   "cell_type": "code",
   "execution_count": 22,
   "metadata": {},
   "outputs": [
    {
     "name": "stdout",
     "output_type": "stream",
     "text": [
      "lengths of graph connected components:  [5, 4]\n",
      "max length:  5\n"
     ]
    },
    {
     "data": {
      "image/png": "[encoded data removed]",
      "text/plain": [
       "<matplotlib.figure.Figure at 0x7f22fb2c2eb8>"
      ]
     },
     "metadata": {},
     "output_type": "display_data"
    }
   ],
   "source": [
    "# BE CAREFUL, a max length graph component not necessarily has a max diameter (maybe other measures too)\n",
    "G = nx.Graph()\n",
    "G.add_nodes_from(range(1,10))\n",
    "G.add_edges_from([(1,2), (1,3), (1,4), (1,5), (6,7), (7,8), (8,9)])\n",
    "nx.draw(G, with_labels=True)\n",
    "\n",
    "print('lengths of graph connected components: ' ,[len(c) for c in sorted(nx.connected_components(G), key=len, reverse=True)])\n",
    "print('max length: ', len(max(nx.connected_components(G), key=len)))\n"
   ]
  },
  {
   "cell_type": "code",
   "execution_count": 26,
   "metadata": {},
   "outputs": [
    {
     "name": "stdout",
     "output_type": "stream",
     "text": [
      "Length of component:  5\n",
      "Diameter: 2, Radius: 1\n",
      "Center:  [1]\n",
      "Periphery:  [2, 3, 4, 5]\n"
     ]
    },
    {
     "data": {
      "image/png": "[encoded data removed]",
      "text/plain": [
       "<matplotlib.figure.Figure at 0x7f22fb4be128>"
      ]
     },
     "metadata": {},
     "output_type": "display_data"
    }
   ],
   "source": [
    "sg = []\n",
    "for c in nx.connected_components(G):\n",
    "    sg.append(G.subgraph(c).copy())\n",
    "\n",
    "# This component has a larger number of nodes, but smaller diameter and radius\n",
    "i = 0\n",
    "print('Length of component: ', sg[i].number_of_nodes())\n",
    "print('Diameter: %d, Radius: %d' % (nx.diameter(sg[i]), nx.radius(sg[i])))\n",
    "print('Center: ', nx.center(sg[i]))\n",
    "print('Periphery: ', nx.periphery(sg[i]))\n",
    "nx.draw(sg[i], with_labels=True)"
   ]
  },
  {
   "cell_type": "code",
   "execution_count": 27,
   "metadata": {},
   "outputs": [
    {
     "name": "stdout",
     "output_type": "stream",
     "text": [
      "Length of component:  4\n",
      "Diameter: 3, Radius: 2\n",
      "Center:  [8, 7]\n",
      "Periphery:  [9, 6]\n"
     ]
    },
    {
     "data": {
      "image/png": "[encoded data removed]",
      "text/plain": [
       "<matplotlib.figure.Figure at 0x7f22fb221da0>"
      ]
     },
     "metadata": {},
     "output_type": "display_data"
    }
   ],
   "source": [
    "# This component has a smaller number of nodes, but larger diameter and radius\n",
    "i = 1\n",
    "print('Length of component: ', sg[i].number_of_nodes())\n",
    "print('Diameter: %d, Radius: %d' % (nx.diameter(sg[i]), nx.radius(sg[i])))\n",
    "print('Center: ', nx.center(sg[i]))\n",
    "print('Periphery: ', nx.periphery(sg[i]))\n",
    "nx.draw(sg[i], with_labels=True)"
   ]
  },
  {
   "cell_type": "code",
   "execution_count": 29,
   "metadata": {},
   "outputs": [
    {
     "name": "stdout",
     "output_type": "stream",
     "text": [
      "Max diameter: 3, Max radius: 2\n"
     ]
    }
   ],
   "source": [
    "# Taking the maximum diameter and radius in not connected graphs\n",
    "\n",
    "max_diameter, max_radius = 0, 0\n",
    "\n",
    "for c in nx.connected_components(G):\n",
    "    sg = G.subgraph(c).copy()\n",
    "    max_diameter = max(max_diameter, nx.diameter(sg))\n",
    "    max_radius = max(max_radius, nx.radius(sg))\n",
    "    \n",
    "print('Max diameter: %d, Max radius: %d' % (max_diameter, max_radius))"
   ]
  }
 ],
 "metadata": {
  "kernelspec": {
   "display_name": "Python 3",
   "language": "python",
   "name": "python3"
  },
  "language_info": {
   "codemirror_mode": {
    "name": "ipython",
    "version": 3
   },
   "file_extension": ".py",
   "mimetype": "text/x-python",
   "name": "python",
   "nbconvert_exporter": "python",
   "pygments_lexer": "ipython3",
   "version": "3.6.4"
  }
 },
 "nbformat": 4,
 "nbformat_minor": 2
}
