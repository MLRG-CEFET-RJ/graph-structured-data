{
 "cells": [
  {
   "cell_type": "code",
   "execution_count": 1,
   "metadata": {},
   "outputs": [],
   "source": [
    "import networkx as nx\n",
    "# nx.test() "
   ]
  },
  {
   "cell_type": "code",
   "execution_count": 2,
   "metadata": {},
   "outputs": [
    {
     "name": "stdout",
     "output_type": "stream",
     "text": [
      "G.nodes: []\n",
      "G.edges: []\n",
      "H.nodes: [0, 1, 2, 3, 4, 5, 6, 7, 8, 9]\n",
      "H.edges: [(0, 1), (1, 2), (2, 3), (3, 4), (4, 5), (5, 6), (6, 7), (7, 8), (8, 9)]\n",
      "----------------------------------------\n",
      "G.nodes: [0, 1, 2, 3, 4, 5, 6, 7, 8, 9]\n",
      "G.edges: [(0, 1), (1, 2), (2, 3), (3, 4), (4, 5), (5, 6), (6, 7), (7, 8), (8, 9)]\n",
      "----------------------------------------\n",
      "G.nodes: [0, 1, 2, 3, 4, 5, 6, 7, 8, 9]\n",
      "G.edges: [(0, 1), (1, 2), (2, 3), (3, 4), (4, 5), (5, 6), (6, 7), (7, 8), (8, 9)]\n",
      "H.nodes: []\n",
      "H.edges: []\n",
      "----------------------------------------\n"
     ]
    }
   ],
   "source": [
    "def print_nodes_and_edges(G):\n",
    "    for g in G:\n",
    "        print(g.graph['id'], '.nodes: ', g.nodes, sep=\"\")\n",
    "        print(g.graph['id'], '.edges: ', g.edges, sep=\"\")\n",
    "    print('----------------------------------------')\n",
    "\n",
    "# creating a graph and adding nodes and edges\n",
    "G = nx.Graph(id='G')\n",
    "H = nx.path_graph(10)\n",
    "H.graph['id'] = 'H'\n",
    "print_nodes_and_edges([G,H])\n",
    "\n",
    "# populating G with H nodes and edges\n",
    "G.add_nodes_from(H.nodes)\n",
    "G.add_edges_from(H.edges)\n",
    "print_nodes_and_edges([G])\n",
    "\n",
    "# Deleting all edges and nodes from H\n",
    "H.clear()\n",
    "H.graph['id'] = 'H' # we need to reassing because clear() excludes attributes as well\n",
    "\n",
    "# G still keep edges and nodes. add_nodes_from() and add_edges_from() make a copy by value and not by reference\n",
    "print_nodes_and_edges([G,H])"
   ]
  },
  {
   "cell_type": "code",
   "execution_count": 4,
   "metadata": {},
   "outputs": [
    {
     "name": "stdout",
     "output_type": "stream",
     "text": [
      "T.nodes: [0, 1, 2, 3, 4, 5, 6, 7, 8, 9]\n",
      "T.edges: [(0, 1), (1, 2), (2, 3), (3, 4), (4, 5), (5, 6), (6, 7), (7, 8), (8, 9)]\n",
      "----------------------------------------\n"
     ]
    }
   ],
   "source": [
    "# If edges are copied, nodes come together\n",
    "\n",
    "T = nx.Graph(id='T')\n",
    "T.add_edges_from(G.edges)\n",
    "print_nodes_and_edges([T])"
   ]
  },
  {
   "cell_type": "code",
   "execution_count": 79,
   "metadata": {},
   "outputs": [
    {
     "name": "stdout",
     "output_type": "stream",
     "text": [
      "{0: {}, 2: {}}\n",
      "2\n",
      "{0: {}, 2: {}}\n",
      "2\n"
     ]
    }
   ],
   "source": [
    "# Finding neighbors\n",
    "\n",
    "print(G.adj[1])    # or list(G.neighbors(1))\n",
    "print(G.degree[1]) # the number of edges incident to 1\n",
    "\n",
    "G.add_edge(1,2)    # edge already exists so nothing will be made\n",
    "\n",
    "print(G.adj[1])    # or list(G.neighbors(1))\n",
    "print(G.degree[1]) # the number of edges incident to 1"
   ]
  },
  {
   "cell_type": "code",
   "execution_count": 80,
   "metadata": {},
   "outputs": [
    {
     "name": "stdout",
     "output_type": "stream",
     "text": [
      "1\n",
      "{2: {'weight': 0.125}, 3: {'weight': 0.75}}\n",
      "(1, 2, 0.125)\n",
      "2\n",
      "{1: {'weight': 0.125}, 4: {'weight': 1.2}}\n",
      "(2, 1, 0.125)\n",
      "3\n",
      "{1: {'weight': 0.75}, 4: {'weight': 0.375}}\n",
      "(3, 4, 0.375)\n",
      "4\n",
      "{2: {'weight': 1.2}, 3: {'weight': 0.375}}\n",
      "(4, 3, 0.375)\n"
     ]
    }
   ],
   "source": [
    "# Fast examination of all (node, adjacency) pairs\n",
    "# Undirected graphs will see adjacencys twice for same pair\n",
    "\n",
    "FG = nx.Graph()\n",
    "FG.add_weighted_edges_from([(1, 2, 0.125), (1, 3, 0.75), (2, 4, 1.2), (3, 4, 0.375)])\n",
    "for n, nbrs in FG.adj.items(): # or FG.adjacency()\n",
    "    print(n)\n",
    "    print(nbrs)\n",
    "    for nbr, eattr in nbrs.items():\n",
    "        wt = eattr['weight']\n",
    "        if wt < 0.5: print('(%d, %d, %.3f)' % (n, nbr, wt))"
   ]
  },
  {
   "cell_type": "code",
   "execution_count": 81,
   "metadata": {},
   "outputs": [
    {
     "name": "stdout",
     "output_type": "stream",
     "text": [
      "weigth of sucessors nodes of 1\n",
      "0.5\n",
      "weigth of predecessors nodes of 1\n",
      "0.75\n",
      "sum of weigth of all sucessors and predecessors nodes of 1\n",
      "1.25\n",
      "neighbors() is equivalent to sucessors() in directed graphs\n",
      "[2]\n",
      "[2]\n"
     ]
    }
   ],
   "source": [
    "# Example of directed graph\n",
    "\n",
    "DG = nx.DiGraph()\n",
    "DG.add_weighted_edges_from([(1, 2, 0.5), (3, 1, 0.75)])\n",
    "\n",
    "print('weigth of sucessors nodes of 1')\n",
    "print(DG.out_degree(1, weight='weight'))\n",
    "\n",
    "print('weigth of predecessors nodes of 1')\n",
    "print(DG.in_degree(1, weight='weight'))\n",
    "\n",
    "print('sum of weigth of all sucessors and predecessors nodes of 1')\n",
    "print(DG.degree(1, weight='weight'))\n",
    "\n",
    "print('neighbors() is equivalent to sucessors() in directed graphs')\n",
    "print(list(DG.successors(1)))\n",
    "print(list(DG.neighbors(1)))"
   ]
  },
  {
   "cell_type": "code",
   "execution_count": 82,
   "metadata": {},
   "outputs": [
    {
     "name": "stdout",
     "output_type": "stream",
     "text": [
      "(1, {2: {'weight': 0.5}})\n",
      "(2, {})\n",
      "(3, {1: {'weight': 0.75}})\n",
      "---------------------\n",
      "(1, {2: {'weight': 0.5}, 3: {'weight': 0.75}})\n",
      "(2, {1: {'weight': 0.5}})\n",
      "(3, {1: {'weight': 0.75}})\n"
     ]
    }
   ],
   "source": [
    "# Converting a directed to undirected graph\n",
    "\n",
    "UG = nx.Graph(DG) # or DG.to_undirected(). This will overwrite de graph DG\n",
    "\n",
    "for item in DG.adjacency():\n",
    "    print(item)\n",
    "    \n",
    "print('---------------------')\n",
    "    \n",
    "for item in UG.adjacency():\n",
    "    print(item)"
   ]
  },
  {
   "cell_type": "code",
   "execution_count": null,
   "metadata": {},
   "outputs": [],
   "source": [
    "# Loading a dataset from file\n",
    "    # file: roadNet-CA (Road network of California)\n",
    "    # num of nodes:     1.965.206\n",
    "    # num of edges:     5.533.214\n",
    "    # num of triangles:   120.676\n",
    "    \n",
    "\n",
    "G = nx.read_adjlist(\"graph-structured-data/datasets/roadNet-CA_adj.tsv\")"
   ]
  }
 ],
 "metadata": {
  "kernelspec": {
   "display_name": "Python 3",
   "language": "python",
   "name": "python3"
  },
  "language_info": {
   "codemirror_mode": {
    "name": "ipython",
    "version": 3
   },
   "file_extension": ".py",
   "mimetype": "text/x-python",
   "name": "python",
   "nbconvert_exporter": "python",
   "pygments_lexer": "ipython3",
   "version": "3.6.4"
  }
 },
 "nbformat": 4,
 "nbformat_minor": 2
}
