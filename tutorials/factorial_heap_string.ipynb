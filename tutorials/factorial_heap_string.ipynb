{
 "cells": [
  {
   "cell_type": "code",
   "execution_count": 1,
   "metadata": {},
   "outputs": [],
   "source": [
    "import time\n",
    "from sys import getsizeof"
   ]
  },
  {
   "cell_type": "code",
   "execution_count": 2,
   "metadata": {},
   "outputs": [],
   "source": [
    "def start_generate(n):\n",
    "    global result,count,total\n",
    "    a = [str(i) for i in range(n)]\n",
    "    start = time.time()\n",
    "    generate(n,a)\n",
    "    append_to_file('teste.txt')\n",
    "    end = time.time()\n",
    "    total = total + count\n",
    "    result = list()\n",
    "    print('Total of permutations: {}'.format(total))\n",
    "    print('Time to process: {}'.format(end-start))\n",
    "\n",
    "\n",
    "def generate(n,a):\n",
    "    global result,count,total\n",
    "    if n == 1:\n",
    "        result.append(';'.join(s for s in a) + '\\n')\n",
    "        count = count + 1\n",
    "        if getsizeof(result) >= 50000000:\n",
    "            append_to_file('teste.txt')\n",
    "            total = total + count\n",
    "            count = 0\n",
    "            print('#Size of result: {}, total: {}'.format(getsizeof(result), total))\n",
    "            result = list()\n",
    "    else:\n",
    "        for i in range(n):\n",
    "            generate(n-1,a)\n",
    "            t = a[n-1]\n",
    "            if n % 2 == 0:\n",
    "                a[n-1] = a[i]\n",
    "                a[i] = t\n",
    "            else:\n",
    "                a[n-1] = a[0]\n",
    "                a[0] = t\n",
    "\n",
    "\n",
    "def append_to_file(path):\n",
    "    global result\n",
    "    with open(path,'a') as f:\n",
    "        for record in result:\n",
    "            f.write(record)"
   ]
  },
  {
   "cell_type": "code",
   "execution_count": 3,
   "metadata": {},
   "outputs": [
    {
     "name": "stdout",
     "output_type": "stream",
     "text": [
      "Total of permutations: 6\n",
      "Time to process: 0.0005524158477783203\n"
     ]
    }
   ],
   "source": [
    "# calculo base ---> 19.607.843 de registros de 51 bytes =    999.999.993 bytes  (1,00GB RAM)\n",
    "\n",
    "#                                                                                                       TIME\n",
    "#                                                                                              notebook      aquarii\n",
    "\n",
    "# TESTE DE TEMPO FAZENDO LOOP E MONTANDO LISTA PARA ESCRITA\n",
    "# fatorial de 11 =  39.916.800 de registros de 51 bytes =  2.035.756.800 bytes  (1,89GB RAM) -  3,54min\n",
    "# fatorial de 12 = 479.001.600 de registros de 51 bytes = 24.429.081.600 bytes (22,75GB RAM) - min \n",
    "\n",
    "# TESTE DE TEMPO FAZENDO LOOP, MONTANDO LISTA PARA ESCRITA E ESCREVENDO NO DISCO\n",
    "# fatorial de 11 =  39.916.800 de registros de 51 bytes =  2.035.756.800 bytes  (1,89GB RAM) - 38,83min\n",
    "# fatorial de 12 = 479.001.600 de registros de 51 bytes = 24.429.081.600 bytes (22,75GB RAM) - min\n",
    "result = list()\n",
    "count,total = 0,0\n",
    "start_generate(3)"
   ]
  }
 ],
 "metadata": {
  "kernelspec": {
   "display_name": "Python 3",
   "language": "python",
   "name": "python3"
  },
  "language_info": {
   "codemirror_mode": {
    "name": "ipython",
    "version": 3
   },
   "file_extension": ".py",
   "mimetype": "text/x-python",
   "name": "python",
   "nbconvert_exporter": "python",
   "pygments_lexer": "ipython3",
   "version": "3.6.4"
  }
 },
 "nbformat": 4,
 "nbformat_minor": 2
}
